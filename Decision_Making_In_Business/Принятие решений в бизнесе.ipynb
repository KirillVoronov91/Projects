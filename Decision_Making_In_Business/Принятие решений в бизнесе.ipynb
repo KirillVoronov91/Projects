{
 "cells": [
  {
   "cell_type": "markdown",
   "metadata": {},
   "source": [
    "# Принятие решений в бизнесе\n",
    "\n",
    "**Описание проекта:**  \n",
    "Отдел маркетинга крупного интернет-магазина  подготовил список гипотез для увеличения выручки. Необходимо приоритизировать гипотезы, запустить A/B-тест и проанализировать результаты.\n",
    "\n",
    "**В процессе исследования мы:**  \n",
    "- Приоритизируем гипотезы об увеличении выручки при помощи разных техник:\n",
    "    - ICE (показатели - влияние на ключевой показатель,  трудозатраты, уверенность в оценках показателей)\n",
    "    - RICE (показатели - охват, влияние, трудозатраты, уверенность в оценках)\n",
    "- Проанализируем результаты A/B-теста:\n",
    "    - Построим график кумулятивных выручки, среднего чека и среднего количества заказов по группам. \n",
    "    - Построим график относительного изменения кумулятивных среднего количества заказов и среднего чека группы B к группе A. \n",
    "    - Построим точечный график количества заказов по пользователям.\n",
    "    - Выберем границу для определения аномальных пользователей.\n",
    "    - Построим точечный график стоимостей заказов. Сделайте выводы и предположения.\n",
    "    - Посчитаем статистическую значимость различий в среднем количестве заказов и среднем чеке между группами по «сырым» данным. \n",
    "    - Посчитаем статистическую значимость различий в среднем количестве заказов и среднем чеке между группами по «очищенным» данным. \n",
    "    - Примем решение по результатам теста.\n",
    " \n",
    " \n",
    "**Цель исследования:**  \n",
    "    Выявить наиболее приоритетные гипотезы об увеличении выручки.  \n",
    "    Проанализровать результаты А/В теста и принять решение по его итогам."
   ]
  },
  {
   "cell_type": "markdown",
   "metadata": {},
   "source": [
    "## Приоритизация гипотез"
   ]
  },
  {
   "cell_type": "markdown",
   "metadata": {},
   "source": [
    "**Способ приоритизации ICE**  \n",
    "ICE =  (от англ. impact, confidence, effort / ease «влияние, уверенность, усилия / простота»).  \n",
    "ICE SCORE = (impact*confidence) / efforts"
   ]
  },
  {
   "cell_type": "code",
   "execution_count": 2,
   "metadata": {},
   "outputs": [],
   "source": [
    "import pandas as pd"
   ]
  },
  {
   "cell_type": "code",
   "execution_count": 3,
   "metadata": {},
   "outputs": [
    {
     "ename": "FileNotFoundError",
     "evalue": "[Errno 2] No such file or directory: '/datasets/hypothesis.csv'",
     "output_type": "error",
     "traceback": [
      "\u001b[1;31m---------------------------------------------------------------------------\u001b[0m",
      "\u001b[1;31mFileNotFoundError\u001b[0m                         Traceback (most recent call last)",
      "Input \u001b[1;32mIn [3]\u001b[0m, in \u001b[0;36m<cell line: 1>\u001b[1;34m()\u001b[0m\n\u001b[1;32m----> 1\u001b[0m data \u001b[38;5;241m=\u001b[39m \u001b[43mpd\u001b[49m\u001b[38;5;241;43m.\u001b[39;49m\u001b[43mread_csv\u001b[49m\u001b[43m(\u001b[49m\u001b[38;5;124;43m'\u001b[39;49m\u001b[38;5;124;43m/datasets/hypothesis.csv\u001b[39;49m\u001b[38;5;124;43m'\u001b[39;49m\u001b[43m,\u001b[49m\u001b[43m \u001b[49m\u001b[43msep\u001b[49m\u001b[38;5;241;43m=\u001b[39;49m\u001b[38;5;124;43m'\u001b[39;49m\u001b[38;5;124;43m,\u001b[39;49m\u001b[38;5;124;43m'\u001b[39;49m\u001b[43m)\u001b[49m \u001b[38;5;66;03m#читаем датасет с гипотезами \u001b[39;00m\n\u001b[0;32m      2\u001b[0m data\n",
      "File \u001b[1;32m~\\anaconda3\\lib\\site-packages\\pandas\\util\\_decorators.py:311\u001b[0m, in \u001b[0;36mdeprecate_nonkeyword_arguments.<locals>.decorate.<locals>.wrapper\u001b[1;34m(*args, **kwargs)\u001b[0m\n\u001b[0;32m    305\u001b[0m \u001b[38;5;28;01mif\u001b[39;00m \u001b[38;5;28mlen\u001b[39m(args) \u001b[38;5;241m>\u001b[39m num_allow_args:\n\u001b[0;32m    306\u001b[0m     warnings\u001b[38;5;241m.\u001b[39mwarn(\n\u001b[0;32m    307\u001b[0m         msg\u001b[38;5;241m.\u001b[39mformat(arguments\u001b[38;5;241m=\u001b[39marguments),\n\u001b[0;32m    308\u001b[0m         \u001b[38;5;167;01mFutureWarning\u001b[39;00m,\n\u001b[0;32m    309\u001b[0m         stacklevel\u001b[38;5;241m=\u001b[39mstacklevel,\n\u001b[0;32m    310\u001b[0m     )\n\u001b[1;32m--> 311\u001b[0m \u001b[38;5;28;01mreturn\u001b[39;00m func(\u001b[38;5;241m*\u001b[39margs, \u001b[38;5;241m*\u001b[39m\u001b[38;5;241m*\u001b[39mkwargs)\n",
      "File \u001b[1;32m~\\anaconda3\\lib\\site-packages\\pandas\\io\\parsers\\readers.py:680\u001b[0m, in \u001b[0;36mread_csv\u001b[1;34m(filepath_or_buffer, sep, delimiter, header, names, index_col, usecols, squeeze, prefix, mangle_dupe_cols, dtype, engine, converters, true_values, false_values, skipinitialspace, skiprows, skipfooter, nrows, na_values, keep_default_na, na_filter, verbose, skip_blank_lines, parse_dates, infer_datetime_format, keep_date_col, date_parser, dayfirst, cache_dates, iterator, chunksize, compression, thousands, decimal, lineterminator, quotechar, quoting, doublequote, escapechar, comment, encoding, encoding_errors, dialect, error_bad_lines, warn_bad_lines, on_bad_lines, delim_whitespace, low_memory, memory_map, float_precision, storage_options)\u001b[0m\n\u001b[0;32m    665\u001b[0m kwds_defaults \u001b[38;5;241m=\u001b[39m _refine_defaults_read(\n\u001b[0;32m    666\u001b[0m     dialect,\n\u001b[0;32m    667\u001b[0m     delimiter,\n\u001b[1;32m   (...)\u001b[0m\n\u001b[0;32m    676\u001b[0m     defaults\u001b[38;5;241m=\u001b[39m{\u001b[38;5;124m\"\u001b[39m\u001b[38;5;124mdelimiter\u001b[39m\u001b[38;5;124m\"\u001b[39m: \u001b[38;5;124m\"\u001b[39m\u001b[38;5;124m,\u001b[39m\u001b[38;5;124m\"\u001b[39m},\n\u001b[0;32m    677\u001b[0m )\n\u001b[0;32m    678\u001b[0m kwds\u001b[38;5;241m.\u001b[39mupdate(kwds_defaults)\n\u001b[1;32m--> 680\u001b[0m \u001b[38;5;28;01mreturn\u001b[39;00m \u001b[43m_read\u001b[49m\u001b[43m(\u001b[49m\u001b[43mfilepath_or_buffer\u001b[49m\u001b[43m,\u001b[49m\u001b[43m \u001b[49m\u001b[43mkwds\u001b[49m\u001b[43m)\u001b[49m\n",
      "File \u001b[1;32m~\\anaconda3\\lib\\site-packages\\pandas\\io\\parsers\\readers.py:575\u001b[0m, in \u001b[0;36m_read\u001b[1;34m(filepath_or_buffer, kwds)\u001b[0m\n\u001b[0;32m    572\u001b[0m _validate_names(kwds\u001b[38;5;241m.\u001b[39mget(\u001b[38;5;124m\"\u001b[39m\u001b[38;5;124mnames\u001b[39m\u001b[38;5;124m\"\u001b[39m, \u001b[38;5;28;01mNone\u001b[39;00m))\n\u001b[0;32m    574\u001b[0m \u001b[38;5;66;03m# Create the parser.\u001b[39;00m\n\u001b[1;32m--> 575\u001b[0m parser \u001b[38;5;241m=\u001b[39m TextFileReader(filepath_or_buffer, \u001b[38;5;241m*\u001b[39m\u001b[38;5;241m*\u001b[39mkwds)\n\u001b[0;32m    577\u001b[0m \u001b[38;5;28;01mif\u001b[39;00m chunksize \u001b[38;5;129;01mor\u001b[39;00m iterator:\n\u001b[0;32m    578\u001b[0m     \u001b[38;5;28;01mreturn\u001b[39;00m parser\n",
      "File \u001b[1;32m~\\anaconda3\\lib\\site-packages\\pandas\\io\\parsers\\readers.py:933\u001b[0m, in \u001b[0;36mTextFileReader.__init__\u001b[1;34m(self, f, engine, **kwds)\u001b[0m\n\u001b[0;32m    930\u001b[0m     \u001b[38;5;28mself\u001b[39m\u001b[38;5;241m.\u001b[39moptions[\u001b[38;5;124m\"\u001b[39m\u001b[38;5;124mhas_index_names\u001b[39m\u001b[38;5;124m\"\u001b[39m] \u001b[38;5;241m=\u001b[39m kwds[\u001b[38;5;124m\"\u001b[39m\u001b[38;5;124mhas_index_names\u001b[39m\u001b[38;5;124m\"\u001b[39m]\n\u001b[0;32m    932\u001b[0m \u001b[38;5;28mself\u001b[39m\u001b[38;5;241m.\u001b[39mhandles: IOHandles \u001b[38;5;241m|\u001b[39m \u001b[38;5;28;01mNone\u001b[39;00m \u001b[38;5;241m=\u001b[39m \u001b[38;5;28;01mNone\u001b[39;00m\n\u001b[1;32m--> 933\u001b[0m \u001b[38;5;28mself\u001b[39m\u001b[38;5;241m.\u001b[39m_engine \u001b[38;5;241m=\u001b[39m \u001b[38;5;28;43mself\u001b[39;49m\u001b[38;5;241;43m.\u001b[39;49m\u001b[43m_make_engine\u001b[49m\u001b[43m(\u001b[49m\u001b[43mf\u001b[49m\u001b[43m,\u001b[49m\u001b[43m \u001b[49m\u001b[38;5;28;43mself\u001b[39;49m\u001b[38;5;241;43m.\u001b[39;49m\u001b[43mengine\u001b[49m\u001b[43m)\u001b[49m\n",
      "File \u001b[1;32m~\\anaconda3\\lib\\site-packages\\pandas\\io\\parsers\\readers.py:1217\u001b[0m, in \u001b[0;36mTextFileReader._make_engine\u001b[1;34m(self, f, engine)\u001b[0m\n\u001b[0;32m   1213\u001b[0m     mode \u001b[38;5;241m=\u001b[39m \u001b[38;5;124m\"\u001b[39m\u001b[38;5;124mrb\u001b[39m\u001b[38;5;124m\"\u001b[39m\n\u001b[0;32m   1214\u001b[0m \u001b[38;5;66;03m# error: No overload variant of \"get_handle\" matches argument types\u001b[39;00m\n\u001b[0;32m   1215\u001b[0m \u001b[38;5;66;03m# \"Union[str, PathLike[str], ReadCsvBuffer[bytes], ReadCsvBuffer[str]]\"\u001b[39;00m\n\u001b[0;32m   1216\u001b[0m \u001b[38;5;66;03m# , \"str\", \"bool\", \"Any\", \"Any\", \"Any\", \"Any\", \"Any\"\u001b[39;00m\n\u001b[1;32m-> 1217\u001b[0m \u001b[38;5;28mself\u001b[39m\u001b[38;5;241m.\u001b[39mhandles \u001b[38;5;241m=\u001b[39m \u001b[43mget_handle\u001b[49m\u001b[43m(\u001b[49m\u001b[43m  \u001b[49m\u001b[38;5;66;43;03m# type: ignore[call-overload]\u001b[39;49;00m\n\u001b[0;32m   1218\u001b[0m \u001b[43m    \u001b[49m\u001b[43mf\u001b[49m\u001b[43m,\u001b[49m\n\u001b[0;32m   1219\u001b[0m \u001b[43m    \u001b[49m\u001b[43mmode\u001b[49m\u001b[43m,\u001b[49m\n\u001b[0;32m   1220\u001b[0m \u001b[43m    \u001b[49m\u001b[43mencoding\u001b[49m\u001b[38;5;241;43m=\u001b[39;49m\u001b[38;5;28;43mself\u001b[39;49m\u001b[38;5;241;43m.\u001b[39;49m\u001b[43moptions\u001b[49m\u001b[38;5;241;43m.\u001b[39;49m\u001b[43mget\u001b[49m\u001b[43m(\u001b[49m\u001b[38;5;124;43m\"\u001b[39;49m\u001b[38;5;124;43mencoding\u001b[39;49m\u001b[38;5;124;43m\"\u001b[39;49m\u001b[43m,\u001b[49m\u001b[43m \u001b[49m\u001b[38;5;28;43;01mNone\u001b[39;49;00m\u001b[43m)\u001b[49m\u001b[43m,\u001b[49m\n\u001b[0;32m   1221\u001b[0m \u001b[43m    \u001b[49m\u001b[43mcompression\u001b[49m\u001b[38;5;241;43m=\u001b[39;49m\u001b[38;5;28;43mself\u001b[39;49m\u001b[38;5;241;43m.\u001b[39;49m\u001b[43moptions\u001b[49m\u001b[38;5;241;43m.\u001b[39;49m\u001b[43mget\u001b[49m\u001b[43m(\u001b[49m\u001b[38;5;124;43m\"\u001b[39;49m\u001b[38;5;124;43mcompression\u001b[39;49m\u001b[38;5;124;43m\"\u001b[39;49m\u001b[43m,\u001b[49m\u001b[43m \u001b[49m\u001b[38;5;28;43;01mNone\u001b[39;49;00m\u001b[43m)\u001b[49m\u001b[43m,\u001b[49m\n\u001b[0;32m   1222\u001b[0m \u001b[43m    \u001b[49m\u001b[43mmemory_map\u001b[49m\u001b[38;5;241;43m=\u001b[39;49m\u001b[38;5;28;43mself\u001b[39;49m\u001b[38;5;241;43m.\u001b[39;49m\u001b[43moptions\u001b[49m\u001b[38;5;241;43m.\u001b[39;49m\u001b[43mget\u001b[49m\u001b[43m(\u001b[49m\u001b[38;5;124;43m\"\u001b[39;49m\u001b[38;5;124;43mmemory_map\u001b[39;49m\u001b[38;5;124;43m\"\u001b[39;49m\u001b[43m,\u001b[49m\u001b[43m \u001b[49m\u001b[38;5;28;43;01mFalse\u001b[39;49;00m\u001b[43m)\u001b[49m\u001b[43m,\u001b[49m\n\u001b[0;32m   1223\u001b[0m \u001b[43m    \u001b[49m\u001b[43mis_text\u001b[49m\u001b[38;5;241;43m=\u001b[39;49m\u001b[43mis_text\u001b[49m\u001b[43m,\u001b[49m\n\u001b[0;32m   1224\u001b[0m \u001b[43m    \u001b[49m\u001b[43merrors\u001b[49m\u001b[38;5;241;43m=\u001b[39;49m\u001b[38;5;28;43mself\u001b[39;49m\u001b[38;5;241;43m.\u001b[39;49m\u001b[43moptions\u001b[49m\u001b[38;5;241;43m.\u001b[39;49m\u001b[43mget\u001b[49m\u001b[43m(\u001b[49m\u001b[38;5;124;43m\"\u001b[39;49m\u001b[38;5;124;43mencoding_errors\u001b[39;49m\u001b[38;5;124;43m\"\u001b[39;49m\u001b[43m,\u001b[49m\u001b[43m \u001b[49m\u001b[38;5;124;43m\"\u001b[39;49m\u001b[38;5;124;43mstrict\u001b[39;49m\u001b[38;5;124;43m\"\u001b[39;49m\u001b[43m)\u001b[49m\u001b[43m,\u001b[49m\n\u001b[0;32m   1225\u001b[0m \u001b[43m    \u001b[49m\u001b[43mstorage_options\u001b[49m\u001b[38;5;241;43m=\u001b[39;49m\u001b[38;5;28;43mself\u001b[39;49m\u001b[38;5;241;43m.\u001b[39;49m\u001b[43moptions\u001b[49m\u001b[38;5;241;43m.\u001b[39;49m\u001b[43mget\u001b[49m\u001b[43m(\u001b[49m\u001b[38;5;124;43m\"\u001b[39;49m\u001b[38;5;124;43mstorage_options\u001b[39;49m\u001b[38;5;124;43m\"\u001b[39;49m\u001b[43m,\u001b[49m\u001b[43m \u001b[49m\u001b[38;5;28;43;01mNone\u001b[39;49;00m\u001b[43m)\u001b[49m\u001b[43m,\u001b[49m\n\u001b[0;32m   1226\u001b[0m \u001b[43m\u001b[49m\u001b[43m)\u001b[49m\n\u001b[0;32m   1227\u001b[0m \u001b[38;5;28;01massert\u001b[39;00m \u001b[38;5;28mself\u001b[39m\u001b[38;5;241m.\u001b[39mhandles \u001b[38;5;129;01mis\u001b[39;00m \u001b[38;5;129;01mnot\u001b[39;00m \u001b[38;5;28;01mNone\u001b[39;00m\n\u001b[0;32m   1228\u001b[0m f \u001b[38;5;241m=\u001b[39m \u001b[38;5;28mself\u001b[39m\u001b[38;5;241m.\u001b[39mhandles\u001b[38;5;241m.\u001b[39mhandle\n",
      "File \u001b[1;32m~\\anaconda3\\lib\\site-packages\\pandas\\io\\common.py:789\u001b[0m, in \u001b[0;36mget_handle\u001b[1;34m(path_or_buf, mode, encoding, compression, memory_map, is_text, errors, storage_options)\u001b[0m\n\u001b[0;32m    784\u001b[0m \u001b[38;5;28;01melif\u001b[39;00m \u001b[38;5;28misinstance\u001b[39m(handle, \u001b[38;5;28mstr\u001b[39m):\n\u001b[0;32m    785\u001b[0m     \u001b[38;5;66;03m# Check whether the filename is to be opened in binary mode.\u001b[39;00m\n\u001b[0;32m    786\u001b[0m     \u001b[38;5;66;03m# Binary mode does not support 'encoding' and 'newline'.\u001b[39;00m\n\u001b[0;32m    787\u001b[0m     \u001b[38;5;28;01mif\u001b[39;00m ioargs\u001b[38;5;241m.\u001b[39mencoding \u001b[38;5;129;01mand\u001b[39;00m \u001b[38;5;124m\"\u001b[39m\u001b[38;5;124mb\u001b[39m\u001b[38;5;124m\"\u001b[39m \u001b[38;5;129;01mnot\u001b[39;00m \u001b[38;5;129;01min\u001b[39;00m ioargs\u001b[38;5;241m.\u001b[39mmode:\n\u001b[0;32m    788\u001b[0m         \u001b[38;5;66;03m# Encoding\u001b[39;00m\n\u001b[1;32m--> 789\u001b[0m         handle \u001b[38;5;241m=\u001b[39m \u001b[38;5;28;43mopen\u001b[39;49m\u001b[43m(\u001b[49m\n\u001b[0;32m    790\u001b[0m \u001b[43m            \u001b[49m\u001b[43mhandle\u001b[49m\u001b[43m,\u001b[49m\n\u001b[0;32m    791\u001b[0m \u001b[43m            \u001b[49m\u001b[43mioargs\u001b[49m\u001b[38;5;241;43m.\u001b[39;49m\u001b[43mmode\u001b[49m\u001b[43m,\u001b[49m\n\u001b[0;32m    792\u001b[0m \u001b[43m            \u001b[49m\u001b[43mencoding\u001b[49m\u001b[38;5;241;43m=\u001b[39;49m\u001b[43mioargs\u001b[49m\u001b[38;5;241;43m.\u001b[39;49m\u001b[43mencoding\u001b[49m\u001b[43m,\u001b[49m\n\u001b[0;32m    793\u001b[0m \u001b[43m            \u001b[49m\u001b[43merrors\u001b[49m\u001b[38;5;241;43m=\u001b[39;49m\u001b[43merrors\u001b[49m\u001b[43m,\u001b[49m\n\u001b[0;32m    794\u001b[0m \u001b[43m            \u001b[49m\u001b[43mnewline\u001b[49m\u001b[38;5;241;43m=\u001b[39;49m\u001b[38;5;124;43m\"\u001b[39;49m\u001b[38;5;124;43m\"\u001b[39;49m\u001b[43m,\u001b[49m\n\u001b[0;32m    795\u001b[0m \u001b[43m        \u001b[49m\u001b[43m)\u001b[49m\n\u001b[0;32m    796\u001b[0m     \u001b[38;5;28;01melse\u001b[39;00m:\n\u001b[0;32m    797\u001b[0m         \u001b[38;5;66;03m# Binary mode\u001b[39;00m\n\u001b[0;32m    798\u001b[0m         handle \u001b[38;5;241m=\u001b[39m \u001b[38;5;28mopen\u001b[39m(handle, ioargs\u001b[38;5;241m.\u001b[39mmode)\n",
      "\u001b[1;31mFileNotFoundError\u001b[0m: [Errno 2] No such file or directory: '/datasets/hypothesis.csv'"
     ]
    }
   ],
   "source": [
    "data = pd.read_csv('/datasets/hypothesis.csv', sep=',') #читаем датасет с гипотезами \n",
    "try:\n",
    "    data = pd.read_csv('/datasets/hypothesis.csv', sep=',') # ÃÂ²ÃÂ¸ÃÂ·ÃÂ¸Ã‘Â‚Ã‘Â‹\n",
    "    orders = pd.read_csv('orders_info_short.csv') # ÃÂ·ÃÂ°ÃÂºÃÂ°ÃÂ·Ã‘Â‹\n",
    "    costs = pd.read_csv('costs_info_short.csv') # Ã‘Â€ÃÂ°Ã‘ÂÃ‘Â…ÃÂ¾ÃÂ´Ã‘Â‹ ÃÂ½ÃÂ° Ã‘Â€ÃÂµÃÂºÃÂ»ÃÂ°ÃÂ¼Ã‘Âƒ\n",
    "except:\n",
    "    visits = pd.read_csv('/datasets/visits_info_short.csv')\n",
    "    orders = pd.read_csv('/datasets/orders_info_short.csv')\n",
    "    costs = pd.read_csv('/datasets/costs_info_short.csv')\n",
    "data #Ознакомимся с содержимым файла (всего в датасете 9 гипотез, можно посмотреть сразу на все, не только на первые 5)"
   ]
  },
  {
   "cell_type": "code",
   "execution_count": null,
   "metadata": {},
   "outputs": [],
   "source": [
    "#Посмотрим на формулировки гипотез целиком\n",
    "pd.set_option('display.max_colwidth')\n",
    "data['Hypothesis']"
   ]
  },
  {
   "cell_type": "code",
   "execution_count": 4,
   "metadata": {},
   "outputs": [
    {
     "data": {
      "text/html": [
       "<div>\n",
       "<style scoped>\n",
       "    .dataframe tbody tr th:only-of-type {\n",
       "        vertical-align: middle;\n",
       "    }\n",
       "\n",
       "    .dataframe tbody tr th {\n",
       "        vertical-align: top;\n",
       "    }\n",
       "\n",
       "    .dataframe thead th {\n",
       "        text-align: right;\n",
       "    }\n",
       "</style>\n",
       "<table border=\"1\" class=\"dataframe\">\n",
       "  <thead>\n",
       "    <tr style=\"text-align: right;\">\n",
       "      <th></th>\n",
       "      <th>Hypothesis</th>\n",
       "      <th>ICE</th>\n",
       "    </tr>\n",
       "  </thead>\n",
       "  <tbody>\n",
       "    <tr>\n",
       "      <th>8</th>\n",
       "      <td>Запустить акцию, дающую скидку на товар в день рождения</td>\n",
       "      <td>16.20</td>\n",
       "    </tr>\n",
       "    <tr>\n",
       "      <th>0</th>\n",
       "      <td>Добавить два новых канала привлечения трафика, что позволит привлекать на 30% больше пользователей</td>\n",
       "      <td>13.33</td>\n",
       "    </tr>\n",
       "    <tr>\n",
       "      <th>7</th>\n",
       "      <td>Добавить форму подписки на все основные страницы, чтобы собрать базу клиентов для email-рассылок</td>\n",
       "      <td>11.20</td>\n",
       "    </tr>\n",
       "    <tr>\n",
       "      <th>6</th>\n",
       "      <td>Показать на главной странице баннеры с актуальными акциями и распродажами, чтобы увеличить конверсию</td>\n",
       "      <td>8.00</td>\n",
       "    </tr>\n",
       "    <tr>\n",
       "      <th>2</th>\n",
       "      <td>Добавить блоки рекомендаций товаров на сайт интернет магазина, чтобы повысить конверсию и средний чек заказа</td>\n",
       "      <td>7.00</td>\n",
       "    </tr>\n",
       "    <tr>\n",
       "      <th>1</th>\n",
       "      <td>Запустить собственную службу доставки, что сократит срок доставки заказов</td>\n",
       "      <td>2.00</td>\n",
       "    </tr>\n",
       "    <tr>\n",
       "      <th>5</th>\n",
       "      <td>Добавить страницу отзывов клиентов о магазине, что позволит увеличить количество заказов</td>\n",
       "      <td>1.33</td>\n",
       "    </tr>\n",
       "    <tr>\n",
       "      <th>3</th>\n",
       "      <td>Изменить структура категорий, что увеличит конверсию, т.к. пользователи быстрее найдут нужный товар</td>\n",
       "      <td>1.12</td>\n",
       "    </tr>\n",
       "    <tr>\n",
       "      <th>4</th>\n",
       "      <td>Изменить цвет фона главной страницы, чтобы увеличить вовлеченность пользователей</td>\n",
       "      <td>1.00</td>\n",
       "    </tr>\n",
       "  </tbody>\n",
       "</table>\n",
       "</div>"
      ],
      "text/plain": [
       "                                                                                                     Hypothesis  \\\n",
       "8                                                       Запустить акцию, дающую скидку на товар в день рождения   \n",
       "0            Добавить два новых канала привлечения трафика, что позволит привлекать на 30% больше пользователей   \n",
       "7              Добавить форму подписки на все основные страницы, чтобы собрать базу клиентов для email-рассылок   \n",
       "6          Показать на главной странице баннеры с актуальными акциями и распродажами, чтобы увеличить конверсию   \n",
       "2  Добавить блоки рекомендаций товаров на сайт интернет магазина, чтобы повысить конверсию и средний чек заказа   \n",
       "1                                     Запустить собственную службу доставки, что сократит срок доставки заказов   \n",
       "5                      Добавить страницу отзывов клиентов о магазине, что позволит увеличить количество заказов   \n",
       "3           Изменить структура категорий, что увеличит конверсию, т.к. пользователи быстрее найдут нужный товар   \n",
       "4                              Изменить цвет фона главной страницы, чтобы увеличить вовлеченность пользователей   \n",
       "\n",
       "     ICE  \n",
       "8  16.20  \n",
       "0  13.33  \n",
       "7  11.20  \n",
       "6   8.00  \n",
       "2   7.00  \n",
       "1   2.00  \n",
       "5   1.33  \n",
       "3   1.12  \n",
       "4   1.00  "
      ]
     },
     "execution_count": 4,
     "metadata": {},
     "output_type": "execute_result"
    }
   ],
   "source": [
    "data = pd.read_csv('/datasets/hypothesis.csv', sep=',') #читаем датасет с гипотезами \n",
    "data['ICE'] = data['Impact']*data['Confidence']/data['Efforts'] #добавляем столбец с фреймворком ICE\n",
    "round(data[['Hypothesis', 'ICE']].sort_values(by='ICE', ascending = False), 2) #сортируем гипотезы по убыванию их приоритетности "
   ]
  },
  {
   "cell_type": "markdown",
   "metadata": {},
   "source": [
    "Итак, согласно данной техники приоритизации гипотез можно категоризировать их:\n",
    "- Высокий приоритет:\n",
    "    - 8 (Запустить акцию, дающую скидку на товар в день рождения),\n",
    "    - 0 (Добавить два новых канала привлечения трафика, что позволит привлекать на 30% больше пользователей),\n",
    "    - 7 (Добавить форму подписки на все основные страницы, чтобы собрать базу клиентов для email-рассылок)\n",
    "\n",
    "- Средний приоритет:\n",
    "    - 6 (Показать на главной странице баннеры с актуальными акциями и распродажами, чтобы увеличить конверсию),\n",
    "    - 2 (Добавить блоки рекомендаций товаров на сайт интернет магазина, чтобы повысить конверсию и средний чек заказа)\n",
    "\n",
    "- Низкий приоритет:\n",
    "    - 1 (Запустить собственную службу доставки, что сократит срок доставки заказов),\n",
    "    - 5\t(Добавить страницу отзывов клиентов о магазине, что позволит увеличить количество заказов)\n",
    "    - 3\t(Изменить структуру категорий, что увеличит конверсию, т.к. пользователи быстрее найдут нужный товар)\n",
    "    - 4\t(Изменить цвет фона главной страницы, чтобы увеличить вовлеченность пользователей)\t"
   ]
  },
  {
   "cell_type": "markdown",
   "metadata": {},
   "source": [
    "**Способ приоритизации RICE**  \n",
    "RICE =  (от англ. reach, impact, confidence, effort / ease «охват, влияние, уверенность, усилия / простота»).  \n",
    "RICE SCORE = (reach* impact* confidence) / efforts"
   ]
  },
  {
   "cell_type": "code",
   "execution_count": 5,
   "metadata": {},
   "outputs": [
    {
     "data": {
      "text/html": [
       "<div>\n",
       "<style scoped>\n",
       "    .dataframe tbody tr th:only-of-type {\n",
       "        vertical-align: middle;\n",
       "    }\n",
       "\n",
       "    .dataframe tbody tr th {\n",
       "        vertical-align: top;\n",
       "    }\n",
       "\n",
       "    .dataframe thead th {\n",
       "        text-align: right;\n",
       "    }\n",
       "</style>\n",
       "<table border=\"1\" class=\"dataframe\">\n",
       "  <thead>\n",
       "    <tr style=\"text-align: right;\">\n",
       "      <th></th>\n",
       "      <th>Hypothesis</th>\n",
       "      <th>RICE</th>\n",
       "    </tr>\n",
       "  </thead>\n",
       "  <tbody>\n",
       "    <tr>\n",
       "      <th>7</th>\n",
       "      <td>Добавить форму подписки на все основные страницы, чтобы собрать базу клиентов для email-рассылок</td>\n",
       "      <td>112.0</td>\n",
       "    </tr>\n",
       "    <tr>\n",
       "      <th>2</th>\n",
       "      <td>Добавить блоки рекомендаций товаров на сайт интернет магазина, чтобы повысить конверсию и средний чек заказа</td>\n",
       "      <td>56.0</td>\n",
       "    </tr>\n",
       "    <tr>\n",
       "      <th>0</th>\n",
       "      <td>Добавить два новых канала привлечения трафика, что позволит привлекать на 30% больше пользователей</td>\n",
       "      <td>40.0</td>\n",
       "    </tr>\n",
       "    <tr>\n",
       "      <th>6</th>\n",
       "      <td>Показать на главной странице баннеры с актуальными акциями и распродажами, чтобы увеличить конверсию</td>\n",
       "      <td>40.0</td>\n",
       "    </tr>\n",
       "    <tr>\n",
       "      <th>8</th>\n",
       "      <td>Запустить акцию, дающую скидку на товар в день рождения</td>\n",
       "      <td>16.2</td>\n",
       "    </tr>\n",
       "    <tr>\n",
       "      <th>3</th>\n",
       "      <td>Изменить структура категорий, что увеличит конверсию, т.к. пользователи быстрее найдут нужный товар</td>\n",
       "      <td>9.0</td>\n",
       "    </tr>\n",
       "    <tr>\n",
       "      <th>1</th>\n",
       "      <td>Запустить собственную службу доставки, что сократит срок доставки заказов</td>\n",
       "      <td>4.0</td>\n",
       "    </tr>\n",
       "    <tr>\n",
       "      <th>5</th>\n",
       "      <td>Добавить страницу отзывов клиентов о магазине, что позволит увеличить количество заказов</td>\n",
       "      <td>4.0</td>\n",
       "    </tr>\n",
       "    <tr>\n",
       "      <th>4</th>\n",
       "      <td>Изменить цвет фона главной страницы, чтобы увеличить вовлеченность пользователей</td>\n",
       "      <td>3.0</td>\n",
       "    </tr>\n",
       "  </tbody>\n",
       "</table>\n",
       "</div>"
      ],
      "text/plain": [
       "                                                                                                     Hypothesis  \\\n",
       "7              Добавить форму подписки на все основные страницы, чтобы собрать базу клиентов для email-рассылок   \n",
       "2  Добавить блоки рекомендаций товаров на сайт интернет магазина, чтобы повысить конверсию и средний чек заказа   \n",
       "0            Добавить два новых канала привлечения трафика, что позволит привлекать на 30% больше пользователей   \n",
       "6          Показать на главной странице баннеры с актуальными акциями и распродажами, чтобы увеличить конверсию   \n",
       "8                                                       Запустить акцию, дающую скидку на товар в день рождения   \n",
       "3           Изменить структура категорий, что увеличит конверсию, т.к. пользователи быстрее найдут нужный товар   \n",
       "1                                     Запустить собственную службу доставки, что сократит срок доставки заказов   \n",
       "5                      Добавить страницу отзывов клиентов о магазине, что позволит увеличить количество заказов   \n",
       "4                              Изменить цвет фона главной страницы, чтобы увеличить вовлеченность пользователей   \n",
       "\n",
       "    RICE  \n",
       "7  112.0  \n",
       "2   56.0  \n",
       "0   40.0  \n",
       "6   40.0  \n",
       "8   16.2  \n",
       "3    9.0  \n",
       "1    4.0  \n",
       "5    4.0  \n",
       "4    3.0  "
      ]
     },
     "execution_count": 5,
     "metadata": {},
     "output_type": "execute_result"
    }
   ],
   "source": [
    "data['RICE'] = data['Reach']*data['Impact']*data['Confidence']/data['Efforts'] #добавляем столбец с фреймворком RICE\n",
    "data[['Hypothesis', 'RICE']].sort_values(by='RICE', ascending = False) #сортируем гипотезы по убыванию их приоритетности "
   ]
  },
  {
   "cell_type": "markdown",
   "metadata": {},
   "source": [
    "Наиболее приоритетной для исследования гипотезой становится 7-я (Добавить форму подписки на все основные страницы, чтобы собрать базу клиентов для email-рассылок).\n",
    "\n",
    "Средний приоритет у гипотез:\n",
    "- 2 (Добавить блоки рекомендаций товаров на сайт интернет магазина, чтобы повысить конверсию и средний чек заказа)\n",
    "- 0\t(Добавить два новых канала привлечения трафика, что позволит привлекать на 30% больше пользователей)\n",
    "- 6\t(Показать на главной странице баннеры с актуальными акциями и распродажами, чтобы увеличить конверсию)  \n",
    "\n",
    "Низкий приоритет у гипотез:\n",
    "- 3 (Изменить структуру категорий, что увеличит конверсию, т.к. пользователи быстрее найдут нужный товар)\n",
    "- 1\t(Запустить собственную службу доставки, что сократит срок доставки заказов)\n",
    "- 5\t(Добавить страницу отзывов клиентов о магазине, что позволит увеличить количество заказов)\n",
    "- 4\t(Изменить цвет фона главной страницы, чтобы увеличить вовлеченность пользователей)"
   ]
  },
  {
   "cell_type": "markdown",
   "metadata": {},
   "source": [
    "**Отличия в приоритизации между фреймворками ICE и RICE:**  \n",
    "Отличия возникают потому, что RICE учитывает такой показатель как Reach (охват).\n",
    "Поэтому, гипотеза об акции \"скидка в день рождения\" (8-я) обладает невысоким приоритетом, учитывая, что охват пользователей, затронутых этой акцией не так высок.  \n",
    "В то же время, гипотеза о добавлении формы подписки на все основные страницы укрепила свои позиции, так как она очевидно обладает максимальным охватом.  "
   ]
  },
  {
   "cell_type": "markdown",
   "metadata": {},
   "source": [
    "**Выводы по приоритизации гипотез:**  \n",
    "По итогам можно выделить гипотезы, проверка которых обладает самым высоким приоритетом:  \n",
    "7. Добавить форму подписки на все основные страницы, чтобы собрать базу клиентов для email-рассылок.  \n",
    "0. Добавить два новых канала привлечения трафика, что позволит привлекать на 30% больше пользователей.  \n",
    "Две эти гипотезы можно считать приоритетными как с учетом их охвата, так и без.  \n",
    "\n",
    "Если же говорить об охвате аудитории, то также необходимо упомянуть следующие гипотезы, обладающие высоким приоритетом по RICE:  \n",
    "2. Добавить блоки рекомендаций товаров на сайт интернет магазина, чтобы повысить конверсию и средний чек заказа.  \n",
    "6. Показать на главной странице баннеры с актуальными акциями и распродажами, чтобы увеличить конверсию\t40.0."
   ]
  },
  {
   "cell_type": "markdown",
   "metadata": {},
   "source": [
    "## Анализ A/B-теста"
   ]
  },
  {
   "cell_type": "markdown",
   "metadata": {},
   "source": [
    "### Предобработка данных"
   ]
  },
  {
   "cell_type": "code",
   "execution_count": 6,
   "metadata": {},
   "outputs": [],
   "source": [
    "#Импортируем необходимые библиотеки\n",
    "import scipy.stats as stats\n",
    "import datetime as dt\n",
    "import numpy as np"
   ]
  },
  {
   "cell_type": "code",
   "execution_count": 7,
   "metadata": {},
   "outputs": [
    {
     "data": {
      "text/html": [
       "<div>\n",
       "<style scoped>\n",
       "    .dataframe tbody tr th:only-of-type {\n",
       "        vertical-align: middle;\n",
       "    }\n",
       "\n",
       "    .dataframe tbody tr th {\n",
       "        vertical-align: top;\n",
       "    }\n",
       "\n",
       "    .dataframe thead th {\n",
       "        text-align: right;\n",
       "    }\n",
       "</style>\n",
       "<table border=\"1\" class=\"dataframe\">\n",
       "  <thead>\n",
       "    <tr style=\"text-align: right;\">\n",
       "      <th></th>\n",
       "      <th>transactionId</th>\n",
       "      <th>visitorId</th>\n",
       "      <th>date</th>\n",
       "      <th>revenue</th>\n",
       "      <th>group</th>\n",
       "    </tr>\n",
       "  </thead>\n",
       "  <tbody>\n",
       "    <tr>\n",
       "      <th>0</th>\n",
       "      <td>3667963787</td>\n",
       "      <td>3312258926</td>\n",
       "      <td>2019-08-15</td>\n",
       "      <td>1650</td>\n",
       "      <td>B</td>\n",
       "    </tr>\n",
       "    <tr>\n",
       "      <th>1</th>\n",
       "      <td>2804400009</td>\n",
       "      <td>3642806036</td>\n",
       "      <td>2019-08-15</td>\n",
       "      <td>730</td>\n",
       "      <td>B</td>\n",
       "    </tr>\n",
       "    <tr>\n",
       "      <th>2</th>\n",
       "      <td>2961555356</td>\n",
       "      <td>4069496402</td>\n",
       "      <td>2019-08-15</td>\n",
       "      <td>400</td>\n",
       "      <td>A</td>\n",
       "    </tr>\n",
       "    <tr>\n",
       "      <th>3</th>\n",
       "      <td>3797467345</td>\n",
       "      <td>1196621759</td>\n",
       "      <td>2019-08-15</td>\n",
       "      <td>9759</td>\n",
       "      <td>B</td>\n",
       "    </tr>\n",
       "    <tr>\n",
       "      <th>4</th>\n",
       "      <td>2282983706</td>\n",
       "      <td>2322279887</td>\n",
       "      <td>2019-08-15</td>\n",
       "      <td>2308</td>\n",
       "      <td>B</td>\n",
       "    </tr>\n",
       "  </tbody>\n",
       "</table>\n",
       "</div>"
      ],
      "text/plain": [
       "   transactionId   visitorId        date  revenue group\n",
       "0     3667963787  3312258926  2019-08-15     1650     B\n",
       "1     2804400009  3642806036  2019-08-15      730     B\n",
       "2     2961555356  4069496402  2019-08-15      400     A\n",
       "3     3797467345  1196621759  2019-08-15     9759     B\n",
       "4     2282983706  2322279887  2019-08-15     2308     B"
      ]
     },
     "metadata": {},
     "output_type": "display_data"
    },
    {
     "name": "stdout",
     "output_type": "stream",
     "text": [
      "<class 'pandas.core.frame.DataFrame'>\n",
      "RangeIndex: 1197 entries, 0 to 1196\n",
      "Data columns (total 5 columns):\n",
      " #   Column         Non-Null Count  Dtype \n",
      "---  ------         --------------  ----- \n",
      " 0   transactionId  1197 non-null   int64 \n",
      " 1   visitorId      1197 non-null   int64 \n",
      " 2   date           1197 non-null   object\n",
      " 3   revenue        1197 non-null   int64 \n",
      " 4   group          1197 non-null   object\n",
      "dtypes: int64(3), object(2)\n",
      "memory usage: 46.9+ KB\n"
     ]
    }
   ],
   "source": [
    "#Ознакомимся с представленными датасетами по результатам А/В теста\n",
    "orders = pd.read_csv('/datasets/orders.csv', sep=',')\n",
    "display(orders.head())\n",
    "orders.info()"
   ]
  },
  {
   "cell_type": "code",
   "execution_count": 8,
   "metadata": {},
   "outputs": [
    {
     "data": {
      "text/plain": [
       "0"
      ]
     },
     "execution_count": 8,
     "metadata": {},
     "output_type": "execute_result"
    }
   ],
   "source": [
    "#Изменим тип данных в столбце с датой:\n",
    "orders['date'] = pd.to_datetime(orders['date'])\n",
    "#Переименуем столбцы, названия которых представлены не в змеином регистре:\n",
    "orders = orders.rename(columns={\"transactionId\": \"transaction_id\", \"visitorId\": \"visitor_id\"})\n",
    "#Проверим датасет на наличие дубликатов\n",
    "orders.duplicated().sum()"
   ]
  },
  {
   "cell_type": "code",
   "execution_count": 9,
   "metadata": {},
   "outputs": [
    {
     "name": "stdout",
     "output_type": "stream",
     "text": [
      "Группы А/В-теста: ['B' 'A']\n"
     ]
    }
   ],
   "source": [
    "#Посмотрим сколько групп в А/В-тесте\n",
    "print('Группы А/В-теста:', orders['group'].unique())"
   ]
  },
  {
   "cell_type": "code",
   "execution_count": 10,
   "metadata": {},
   "outputs": [
    {
     "name": "stdout",
     "output_type": "stream",
     "text": [
      "Тест проводился с 2019-08-01 00:00:00 по 2019-08-31 00:00:00\n"
     ]
    }
   ],
   "source": [
    "#Уточним даты проведения теста\n",
    "print(\"Тест проводился с\", orders['date'].min(), \"по\", orders['date'].max())"
   ]
  },
  {
   "cell_type": "code",
   "execution_count": 11,
   "metadata": {},
   "outputs": [
    {
     "data": {
      "text/plain": [
       "group\n",
       "A    503\n",
       "B    586\n",
       "Name: visitor_id, dtype: int64"
      ]
     },
     "execution_count": 11,
     "metadata": {},
     "output_type": "execute_result"
    }
   ],
   "source": [
    "#Посмотрим количество пользователей в каждой из групп\n",
    "orders.groupby('group')['visitor_id'].nunique()"
   ]
  },
  {
   "cell_type": "markdown",
   "metadata": {},
   "source": [
    "В группе В на 16,5 процентов больше пользователей. Это допустимо, но не оптимально"
   ]
  },
  {
   "cell_type": "code",
   "execution_count": 39,
   "metadata": {},
   "outputs": [
    {
     "name": "stdout",
     "output_type": "stream",
     "text": [
      "Пользователей, попавших в обе группы: 0\n",
      "Количество их заказов: 0\n",
      "Сумма заказов: 0\n"
     ]
    }
   ],
   "source": [
    "#Посмотрим, есть ли пользователи, попавшие в обе группы, число и сумму их заказов \n",
    "both_groups_users = orders.groupby(['visitor_id']).agg({'group' : 'nunique', 'transaction_id' : 'count', 'revenue' : 'sum'}).reset_index()\n",
    "print(f'Пользователей, попавших в обе группы: {both_groups_users[both_groups_users.group != 1][\"visitor_id\"].count()}')\n",
    "print(f\"Количество их заказов: {both_groups_users[both_groups_users.group != 1]['transaction_id'].sum()}\")\n",
    "print(f\"Сумма заказов: {both_groups_users[both_groups_users.group != 1]['revenue'].sum()}\")"
   ]
  },
  {
   "cell_type": "markdown",
   "metadata": {},
   "source": [
    "Итак, 58 пользователей с достаточно большим числом заказов и суммой их стоимости. Данные об этих пользователях могут повлиять на результаты теста, поэтому их лучше не учитывать при анализе."
   ]
  },
  {
   "cell_type": "code",
   "execution_count": 13,
   "metadata": {},
   "outputs": [],
   "source": [
    "#Создадим список ID пользователей, попавших в обе группы\n",
    "both_groups_users_list = list(both_groups_users[both_groups_users.group != 1]['visitor_id'])\n",
    "#Оставим в датафрейме Orders только уникальных пользователей\n",
    "orders = orders.query('visitor_id not in @both_groups_users_list')"
   ]
  },
  {
   "cell_type": "code",
   "execution_count": 14,
   "metadata": {},
   "outputs": [
    {
     "data": {
      "text/html": [
       "<div>\n",
       "<style scoped>\n",
       "    .dataframe tbody tr th:only-of-type {\n",
       "        vertical-align: middle;\n",
       "    }\n",
       "\n",
       "    .dataframe tbody tr th {\n",
       "        vertical-align: top;\n",
       "    }\n",
       "\n",
       "    .dataframe thead th {\n",
       "        text-align: right;\n",
       "    }\n",
       "</style>\n",
       "<table border=\"1\" class=\"dataframe\">\n",
       "  <thead>\n",
       "    <tr style=\"text-align: right;\">\n",
       "      <th></th>\n",
       "      <th>date</th>\n",
       "      <th>group</th>\n",
       "      <th>visitors</th>\n",
       "    </tr>\n",
       "  </thead>\n",
       "  <tbody>\n",
       "    <tr>\n",
       "      <th>0</th>\n",
       "      <td>2019-08-01</td>\n",
       "      <td>A</td>\n",
       "      <td>719</td>\n",
       "    </tr>\n",
       "    <tr>\n",
       "      <th>1</th>\n",
       "      <td>2019-08-02</td>\n",
       "      <td>A</td>\n",
       "      <td>619</td>\n",
       "    </tr>\n",
       "    <tr>\n",
       "      <th>2</th>\n",
       "      <td>2019-08-03</td>\n",
       "      <td>A</td>\n",
       "      <td>507</td>\n",
       "    </tr>\n",
       "    <tr>\n",
       "      <th>3</th>\n",
       "      <td>2019-08-04</td>\n",
       "      <td>A</td>\n",
       "      <td>717</td>\n",
       "    </tr>\n",
       "    <tr>\n",
       "      <th>4</th>\n",
       "      <td>2019-08-05</td>\n",
       "      <td>A</td>\n",
       "      <td>756</td>\n",
       "    </tr>\n",
       "  </tbody>\n",
       "</table>\n",
       "</div>"
      ],
      "text/plain": [
       "         date group  visitors\n",
       "0  2019-08-01     A       719\n",
       "1  2019-08-02     A       619\n",
       "2  2019-08-03     A       507\n",
       "3  2019-08-04     A       717\n",
       "4  2019-08-05     A       756"
      ]
     },
     "metadata": {},
     "output_type": "display_data"
    },
    {
     "name": "stdout",
     "output_type": "stream",
     "text": [
      "<class 'pandas.core.frame.DataFrame'>\n",
      "RangeIndex: 62 entries, 0 to 61\n",
      "Data columns (total 3 columns):\n",
      " #   Column    Non-Null Count  Dtype \n",
      "---  ------    --------------  ----- \n",
      " 0   date      62 non-null     object\n",
      " 1   group     62 non-null     object\n",
      " 2   visitors  62 non-null     int64 \n",
      "dtypes: int64(1), object(2)\n",
      "memory usage: 1.6+ KB\n"
     ]
    }
   ],
   "source": [
    "visitors = pd.read_csv('/datasets/visitors.csv', sep=',')\n",
    "display(visitors.head())\n",
    "visitors.info()"
   ]
  },
  {
   "cell_type": "code",
   "execution_count": 15,
   "metadata": {},
   "outputs": [
    {
     "data": {
      "text/plain": [
       "0"
      ]
     },
     "execution_count": 15,
     "metadata": {},
     "output_type": "execute_result"
    }
   ],
   "source": [
    "#Изменим тип данных в столбце с датой:\n",
    "visitors['date'] = pd.to_datetime(visitors['date'])\n",
    "#Проверим датасет на наличие дубликатов\n",
    "visitors.duplicated().sum()"
   ]
  },
  {
   "cell_type": "code",
   "execution_count": 16,
   "metadata": {},
   "outputs": [
    {
     "name": "stdout",
     "output_type": "stream",
     "text": [
      "Тест проводился с 2019-08-01 00:00:00 по 2019-08-31 00:00:00\n"
     ]
    }
   ],
   "source": [
    "#Уточним даты проведения теста, они должны совпадать со значениями из Orders\n",
    "print(\"Тест проводился с\", visitors['date'].min(), \"по\", visitors['date'].max())"
   ]
  },
  {
   "cell_type": "markdown",
   "metadata": {},
   "source": [
    "**Предобработка данных:**  \n",
    "Пропусков и дубликатов в датасетах нет.  \n",
    "Тип данных в столбцах с датой изменен на datetime.  \n",
    "Названия столбцов приведены к змеиному регистру.  "
   ]
  },
  {
   "cell_type": "markdown",
   "metadata": {},
   "source": [
    "### Аналитическая часть исследования"
   ]
  },
  {
   "cell_type": "markdown",
   "metadata": {},
   "source": [
    "#### Создание кумулятивных таблиц"
   ]
  },
  {
   "cell_type": "code",
   "execution_count": 17,
   "metadata": {},
   "outputs": [
    {
     "data": {
      "text/html": [
       "<div>\n",
       "<style scoped>\n",
       "    .dataframe tbody tr th:only-of-type {\n",
       "        vertical-align: middle;\n",
       "    }\n",
       "\n",
       "    .dataframe tbody tr th {\n",
       "        vertical-align: top;\n",
       "    }\n",
       "\n",
       "    .dataframe thead th {\n",
       "        text-align: right;\n",
       "    }\n",
       "</style>\n",
       "<table border=\"1\" class=\"dataframe\">\n",
       "  <thead>\n",
       "    <tr style=\"text-align: right;\">\n",
       "      <th></th>\n",
       "      <th>date</th>\n",
       "      <th>group</th>\n",
       "    </tr>\n",
       "  </thead>\n",
       "  <tbody>\n",
       "    <tr>\n",
       "      <th>0</th>\n",
       "      <td>2019-08-15</td>\n",
       "      <td>B</td>\n",
       "    </tr>\n",
       "    <tr>\n",
       "      <th>7</th>\n",
       "      <td>2019-08-15</td>\n",
       "      <td>A</td>\n",
       "    </tr>\n",
       "    <tr>\n",
       "      <th>45</th>\n",
       "      <td>2019-08-16</td>\n",
       "      <td>A</td>\n",
       "    </tr>\n",
       "    <tr>\n",
       "      <th>47</th>\n",
       "      <td>2019-08-16</td>\n",
       "      <td>B</td>\n",
       "    </tr>\n",
       "    <tr>\n",
       "      <th>55</th>\n",
       "      <td>2019-08-01</td>\n",
       "      <td>A</td>\n",
       "    </tr>\n",
       "    <tr>\n",
       "      <th>66</th>\n",
       "      <td>2019-08-01</td>\n",
       "      <td>B</td>\n",
       "    </tr>\n",
       "  </tbody>\n",
       "</table>\n",
       "</div>"
      ],
      "text/plain": [
       "         date group\n",
       "0  2019-08-15     B\n",
       "7  2019-08-15     A\n",
       "45 2019-08-16     A\n",
       "47 2019-08-16     B\n",
       "55 2019-08-01     A\n",
       "66 2019-08-01     B"
      ]
     },
     "execution_count": 17,
     "metadata": {},
     "output_type": "execute_result"
    }
   ],
   "source": [
    "# создаем массив уникальных пар значений дат и групп теста\n",
    "datesGroups = orders[['date','group']].drop_duplicates() \n",
    "datesGroups.head(6)"
   ]
  },
  {
   "cell_type": "code",
   "execution_count": 18,
   "metadata": {},
   "outputs": [],
   "source": [
    "#Соберём агрегированные кумулятивные по дням данные о заказах\n",
    "ordersAggregated = datesGroups.apply(\n",
    "    lambda x: orders[\n",
    "        np.logical_and(\n",
    "            orders['date'] <= x['date'], orders['group'] == x['group']\n",
    "        )\n",
    "    ].agg(\n",
    "        {\n",
    "            'date': 'max',\n",
    "            'group': 'max',\n",
    "            'transaction_id': 'nunique',\n",
    "            'visitor_id': 'nunique',\n",
    "            'revenue': 'sum',\n",
    "        }\n",
    "    ),\n",
    "    axis=1,\n",
    ").sort_values(by=['date', 'group'])\n",
    "\n",
    "#Аналогично получим агрегированные кумулятивные по дням данные о посетителях\n",
    "visitorsAggregated = datesGroups.apply(\n",
    "    lambda x: visitors[\n",
    "        np.logical_and(\n",
    "            visitors['date'] <= x['date'], visitors['group'] == x['group']\n",
    "        )\n",
    "    ].agg({'date': 'max', 'group': 'max', 'visitors': 'sum'}),\n",
    "    axis=1,\n",
    ").sort_values(by=['date', 'group'])\n",
    "\n",
    "# объединяем кумулятивные данные в одной таблице и присваиваем ее столбцам понятные названия\n",
    "cumulativeData = ordersAggregated.merge(\n",
    "    visitorsAggregated, left_on=['date', 'group'], right_on=['date', 'group'])\n",
    "cumulativeData.columns = ['date', 'group', 'orders', 'buyers', 'revenue', 'visitors']"
   ]
  },
  {
   "cell_type": "code",
   "execution_count": 19,
   "metadata": {
    "scrolled": true
   },
   "outputs": [
    {
     "data": {
      "text/html": [
       "<div>\n",
       "<style scoped>\n",
       "    .dataframe tbody tr th:only-of-type {\n",
       "        vertical-align: middle;\n",
       "    }\n",
       "\n",
       "    .dataframe tbody tr th {\n",
       "        vertical-align: top;\n",
       "    }\n",
       "\n",
       "    .dataframe thead th {\n",
       "        text-align: right;\n",
       "    }\n",
       "</style>\n",
       "<table border=\"1\" class=\"dataframe\">\n",
       "  <thead>\n",
       "    <tr style=\"text-align: right;\">\n",
       "      <th></th>\n",
       "      <th>date</th>\n",
       "      <th>group</th>\n",
       "      <th>orders</th>\n",
       "      <th>buyers</th>\n",
       "      <th>revenue</th>\n",
       "      <th>visitors</th>\n",
       "    </tr>\n",
       "  </thead>\n",
       "  <tbody>\n",
       "    <tr>\n",
       "      <th>0</th>\n",
       "      <td>2019-08-01</td>\n",
       "      <td>A</td>\n",
       "      <td>23</td>\n",
       "      <td>19</td>\n",
       "      <td>142779</td>\n",
       "      <td>719</td>\n",
       "    </tr>\n",
       "    <tr>\n",
       "      <th>1</th>\n",
       "      <td>2019-08-01</td>\n",
       "      <td>B</td>\n",
       "      <td>17</td>\n",
       "      <td>17</td>\n",
       "      <td>59758</td>\n",
       "      <td>713</td>\n",
       "    </tr>\n",
       "    <tr>\n",
       "      <th>2</th>\n",
       "      <td>2019-08-02</td>\n",
       "      <td>A</td>\n",
       "      <td>42</td>\n",
       "      <td>36</td>\n",
       "      <td>234381</td>\n",
       "      <td>1338</td>\n",
       "    </tr>\n",
       "    <tr>\n",
       "      <th>3</th>\n",
       "      <td>2019-08-02</td>\n",
       "      <td>B</td>\n",
       "      <td>40</td>\n",
       "      <td>39</td>\n",
       "      <td>221801</td>\n",
       "      <td>1294</td>\n",
       "    </tr>\n",
       "    <tr>\n",
       "      <th>4</th>\n",
       "      <td>2019-08-03</td>\n",
       "      <td>A</td>\n",
       "      <td>66</td>\n",
       "      <td>60</td>\n",
       "      <td>346854</td>\n",
       "      <td>1845</td>\n",
       "    </tr>\n",
       "  </tbody>\n",
       "</table>\n",
       "</div>"
      ],
      "text/plain": [
       "        date group  orders  buyers  revenue  visitors\n",
       "0 2019-08-01     A      23      19   142779       719\n",
       "1 2019-08-01     B      17      17    59758       713\n",
       "2 2019-08-02     A      42      36   234381      1338\n",
       "3 2019-08-02     B      40      39   221801      1294\n",
       "4 2019-08-03     A      66      60   346854      1845"
      ]
     },
     "execution_count": 19,
     "metadata": {},
     "output_type": "execute_result"
    }
   ],
   "source": [
    "cumulativeData.head()"
   ]
  },
  {
   "cell_type": "markdown",
   "metadata": {},
   "source": [
    "### График кумулятивной выручки по группам"
   ]
  },
  {
   "cell_type": "code",
   "execution_count": 20,
   "metadata": {},
   "outputs": [
    {
     "data": {
      "image/png": "[encoded data removed]",
      "text/plain": [
       "<Figure size 1008x288 with 1 Axes>"
      ]
     },
     "metadata": {
      "needs_background": "light"
     },
     "output_type": "display_data"
    }
   ],
   "source": [
    "import matplotlib.pyplot as plt\n",
    "\n",
    "# датафрейм с кумулятивным количеством заказов и кумулятивной выручкой по дням в группе А\n",
    "cumulativeRevenueA = cumulativeData[cumulativeData['group']=='A'][['date','revenue', 'orders']]\n",
    "\n",
    "# датафрейм с кумулятивным количеством заказов и кумулятивной выручкой по дням в группе B\n",
    "cumulativeRevenueB = cumulativeData[cumulativeData['group']=='B'][['date','revenue', 'orders']]\n",
    "\n",
    "\n",
    "plt.figure(figsize=(14, 4)) \n",
    "# Строим график выручки группы А\n",
    "plt.plot(cumulativeRevenueA['date'], cumulativeRevenueA['revenue'], label='A')\n",
    "\n",
    "# Строим график выручки группы B\n",
    "plt.plot(cumulativeRevenueB['date'], cumulativeRevenueB['revenue'], label='B')\n",
    "\n",
    "plt.legend()\n",
    "\n",
    "plt.title('График кумулятивной выручки по группам')\n",
    "plt.xlabel('Дата')\n",
    "plt.ylabel('Выручка')\n",
    "plt.show()\n"
   ]
  },
  {
   "cell_type": "markdown",
   "metadata": {},
   "source": [
    "Выручка растет в каждой из групп.  \n",
    "Выручка группы А растет плавно. Что касается группы B, у неё есть резкий всплеск - возможно это является следствием выброса (допустим в этой группе появился человек, сделавший аномально дорогой заказ) - это мы выясним в дальнейшем исследовании.  "
   ]
  },
  {
   "cell_type": "markdown",
   "metadata": {},
   "source": [
    "### График кумулятивного среднего чека по группам"
   ]
  },
  {
   "cell_type": "code",
   "execution_count": 21,
   "metadata": {},
   "outputs": [
    {
     "data": {
      "image/png": "[encoded data removed]",
      "text/plain": [
       "<Figure size 1008x288 with 1 Axes>"
      ]
     },
     "metadata": {
      "needs_background": "light"
     },
     "output_type": "display_data"
    }
   ],
   "source": [
    "#Построим графики среднего чека по группам — разделим кумулятивную выручку на кумулятивное число заказов:\n",
    "plt.figure(figsize=(14, 4))\n",
    "plt.plot(cumulativeRevenueA['date'], cumulativeRevenueA['revenue']/cumulativeRevenueA['orders'], label='A')\n",
    "plt.plot(cumulativeRevenueB['date'], cumulativeRevenueB['revenue']/cumulativeRevenueB['orders'], label='B')\n",
    "plt.legend() \n",
    "plt.title('График кумулятивного среднего чека по группам')\n",
    "plt.xlabel('Дата')\n",
    "plt.ylabel('Средний чек')\n",
    "plt.show()"
   ]
  },
  {
   "cell_type": "markdown",
   "metadata": {},
   "source": [
    "График кумулятивного среднего чека схож с графиком кумулятивной выручки.  \n",
    "В группе А через две недеи после начала тестирования произошел резкий подъём среднего чека, затем его значения опустились, теперь растут очень медленно. \n",
    "В группе В через примерно 20 дней после начала теста наблюдается резкое увеличение среднего чека, после чего его размер стал снижаться. Возможно это также связано с аномальными показателями некоторых пользователей. Будем разбираться в дальнейшем исследовании.  "
   ]
  },
  {
   "cell_type": "markdown",
   "metadata": {},
   "source": [
    "### График относительного изменения кумулятивного среднего чека группы B к группе A"
   ]
  },
  {
   "cell_type": "code",
   "execution_count": 22,
   "metadata": {},
   "outputs": [
    {
     "data": {
      "text/plain": [
       "<matplotlib.lines.Line2D at 0x7f3e7f503e50>"
      ]
     },
     "execution_count": 22,
     "metadata": {},
     "output_type": "execute_result"
    },
    {
     "data": {
      "image/png": "[encoded data removed]",
      "text/plain": [
       "<Figure size 1008x288 with 1 Axes>"
      ]
     },
     "metadata": {
      "needs_background": "light"
     },
     "output_type": "display_data"
    }
   ],
   "source": [
    "# собираем данные в одном датафрейме\n",
    "mergedCumulativeRevenue = cumulativeRevenueA.merge(cumulativeRevenueB, left_on='date', right_on='date', how='left', suffixes=['A', 'B'])\n",
    "\n",
    "plt.figure(figsize=(14, 4))\n",
    "# cтроим отношение средних чеков\n",
    "plt.plot(mergedCumulativeRevenue['date'], (mergedCumulativeRevenue['revenueB']/mergedCumulativeRevenue['ordersB'])/(mergedCumulativeRevenue['revenueA']/mergedCumulativeRevenue['ordersA'])-1)\n",
    "\n",
    "# добавляем горизонтальную линию поперек оси\n",
    "plt.axhline(y=0, color='black', linestyle='--') "
   ]
  },
  {
   "cell_type": "markdown",
   "metadata": {},
   "source": [
    "Есть точки, в которых наблюдаются очень резкие перепады. Скорее всего, очень крупные заказы затесались в группу А ближе к 13 августа 2019 года и в группу В через неделю после этого.   \n"
   ]
  },
  {
   "cell_type": "markdown",
   "metadata": {},
   "source": [
    "### График кумулятивного среднего количества заказов по группам"
   ]
  },
  {
   "cell_type": "code",
   "execution_count": 23,
   "metadata": {},
   "outputs": [
    {
     "data": {
      "image/png": "[encoded data removed]",
      "text/plain": [
       "<Figure size 1008x288 with 1 Axes>"
      ]
     },
     "metadata": {
      "needs_background": "light"
     },
     "output_type": "display_data"
    }
   ],
   "source": [
    "#Построим графики среднего количества заказов по группам:\n",
    "plt.figure(figsize=(14, 4)) \n",
    "# Строим график выручки группы А\n",
    "plt.plot(cumulativeRevenueA['date'], cumulativeRevenueA['orders'], label='A')\n",
    "\n",
    "# Строим график выручки группы B\n",
    "plt.plot(cumulativeRevenueB['date'], cumulativeRevenueB['orders'], label='B')\n",
    "\n",
    "plt.legend()\n",
    "\n",
    "plt.title('График кумулятивного среднего количества заказов по группам')\n",
    "plt.xlabel('Дата')\n",
    "plt.ylabel('Среднее количество заказов')\n",
    "plt.show()"
   ]
  },
  {
   "cell_type": "markdown",
   "metadata": {},
   "source": [
    "График довольно равномерный: количество заказов растёт, группа В вышла вперед через неделю после начала тестирования и выглядит более успешной по этому показателю. Аномальных скачков не наблюдается.  "
   ]
  },
  {
   "cell_type": "markdown",
   "metadata": {},
   "source": [
    "### График относительного изменения кумулятивного среднего кол-ва заказов группы B к группе A"
   ]
  },
  {
   "cell_type": "code",
   "execution_count": 24,
   "metadata": {},
   "outputs": [
    {
     "data": {
      "text/plain": [
       "<matplotlib.lines.Line2D at 0x7f3e7f3e8c10>"
      ]
     },
     "execution_count": 24,
     "metadata": {},
     "output_type": "execute_result"
    },
    {
     "data": {
      "image/png": "[encoded data removed]",
      "text/plain": [
       "<Figure size 1008x288 with 1 Axes>"
      ]
     },
     "metadata": {
      "needs_background": "light"
     },
     "output_type": "display_data"
    }
   ],
   "source": [
    "plt.figure(figsize=(14, 4))\n",
    "# cтроим отношение среднего количества заказов\n",
    "plt.plot(mergedCumulativeRevenue['date'], (mergedCumulativeRevenue['ordersB'])/(mergedCumulativeRevenue['ordersA'])-1)\n",
    "\n",
    "# добавляем горизонтальную линию поперек оси\n",
    "plt.axhline(y=0, color='black', linestyle='--') "
   ]
  },
  {
   "cell_type": "markdown",
   "metadata": {},
   "source": [
    "На этом графике видно, что в период с 5 по 9 в группе В среднее количество заказов увеличилось довольно сильно. Возможно появились пользователи, сделавшие довольно много заказов. В дальнейшем разница в среднем количестве заказов остается на стабильном уровне (в группе В их больше на 10-15) процентов."
   ]
  },
  {
   "cell_type": "markdown",
   "metadata": {},
   "source": [
    "### Точечный график количества заказов по пользователям"
   ]
  },
  {
   "cell_type": "code",
   "execution_count": 25,
   "metadata": {},
   "outputs": [
    {
     "data": {
      "text/plain": [
       "<matplotlib.collections.PathCollection at 0x7f3e7f2dfd30>"
      ]
     },
     "execution_count": 25,
     "metadata": {},
     "output_type": "execute_result"
    },
    {
     "data": {
      "image/png": "[encoded data removed]",
      "text/plain": [
       "<Figure size 432x288 with 1 Axes>"
      ]
     },
     "metadata": {
      "needs_background": "light"
     },
     "output_type": "display_data"
    }
   ],
   "source": [
    "#Создадим таблицу, в которой группируем пользователей по числу сделанных заказов\n",
    "ordersByUsers = (\n",
    "    orders.groupby('visitor_id', as_index=False)\n",
    "    .agg({'transaction_id': 'nunique'})\n",
    ")\n",
    "ordersByUsers.columns = ['visitor_id', 'orders']\n",
    "x_values = pd.Series(range(0,len(ordersByUsers)))\n",
    "\n",
    "plt.scatter(x_values, ordersByUsers['orders']) "
   ]
  },
  {
   "cell_type": "markdown",
   "metadata": {},
   "source": [
    "Точечная диаграмма показывает, что стандартное число заказов на одного пользователя - 1.  \n",
    "Встречаются пользователи с 2-мя заказами - это довольно редкие случаи, 3 заказа - еще реже.  \n",
    "Более точно можно будет сказать, посмотрев на перцентили."
   ]
  },
  {
   "cell_type": "code",
   "execution_count": 26,
   "metadata": {},
   "outputs": [
    {
     "data": {
      "text/plain": [
       "array([1., 2.])"
      ]
     },
     "execution_count": 26,
     "metadata": {},
     "output_type": "execute_result"
    }
   ],
   "source": [
    "np.percentile(ordersByUsers['orders'], [95, 99])"
   ]
  },
  {
   "cell_type": "markdown",
   "metadata": {},
   "source": [
    "Итак, не более 5% пользователей оформляли более 1 заказа, менее 1% - более 2.\n",
    "Отсеем аномальных пользователей, взяв за границу 1 заказ."
   ]
  },
  {
   "cell_type": "markdown",
   "metadata": {},
   "source": [
    "### Точечный график стоимостей заказов"
   ]
  },
  {
   "cell_type": "code",
   "execution_count": 27,
   "metadata": {},
   "outputs": [
    {
     "data": {
      "text/plain": [
       "<matplotlib.collections.PathCollection at 0x7f3e7f253a90>"
      ]
     },
     "execution_count": 27,
     "metadata": {},
     "output_type": "execute_result"
    },
    {
     "data": {
      "image/png": "[encoded data removed]",
      "text/plain": [
       "<Figure size 432x288 with 1 Axes>"
      ]
     },
     "metadata": {
      "needs_background": "light"
     },
     "output_type": "display_data"
    }
   ],
   "source": [
    "#Создадим таблицу, в которой группируем пользователей по сумме стомости их заказов\n",
    "revenueByUsers = (\n",
    "    orders.groupby('visitor_id', as_index=False)\n",
    "    .agg({'revenue': 'sum'})\n",
    ")\n",
    "revenueByUsers.columns = ['visitor_id', 'revenue']\n",
    "x_values = pd.Series(range(0,len(revenueByUsers)))\n",
    "\n",
    "plt.scatter(x_values, revenueByUsers['revenue']) "
   ]
  },
  {
   "cell_type": "markdown",
   "metadata": {},
   "source": [
    "В глаза бросаются несколько пользователей с суммой заказов свыше 100 000 и один очень щедрый клиент, потративший на свой заказ больше 1200000. Это явно выбросы, что подтвердят и перцентили."
   ]
  },
  {
   "cell_type": "code",
   "execution_count": 28,
   "metadata": {},
   "outputs": [
    {
     "data": {
      "text/html": [
       "<div>\n",
       "<style scoped>\n",
       "    .dataframe tbody tr th:only-of-type {\n",
       "        vertical-align: middle;\n",
       "    }\n",
       "\n",
       "    .dataframe tbody tr th {\n",
       "        vertical-align: top;\n",
       "    }\n",
       "\n",
       "    .dataframe thead th {\n",
       "        text-align: right;\n",
       "    }\n",
       "</style>\n",
       "<table border=\"1\" class=\"dataframe\">\n",
       "  <thead>\n",
       "    <tr style=\"text-align: right;\">\n",
       "      <th></th>\n",
       "      <th>visitor_id</th>\n",
       "      <th>revenue</th>\n",
       "    </tr>\n",
       "  </thead>\n",
       "  <tbody>\n",
       "    <tr>\n",
       "      <th>440</th>\n",
       "      <td>1920142716</td>\n",
       "      <td>1294500</td>\n",
       "    </tr>\n",
       "    <tr>\n",
       "      <th>477</th>\n",
       "      <td>2108080724</td>\n",
       "      <td>202740</td>\n",
       "    </tr>\n",
       "    <tr>\n",
       "      <th>300</th>\n",
       "      <td>1307669133</td>\n",
       "      <td>92550</td>\n",
       "    </tr>\n",
       "    <tr>\n",
       "      <th>202</th>\n",
       "      <td>888512513</td>\n",
       "      <td>86620</td>\n",
       "    </tr>\n",
       "    <tr>\n",
       "      <th>176</th>\n",
       "      <td>759473111</td>\n",
       "      <td>72000</td>\n",
       "    </tr>\n",
       "    <tr>\n",
       "      <th>938</th>\n",
       "      <td>4133034833</td>\n",
       "      <td>67990</td>\n",
       "    </tr>\n",
       "    <tr>\n",
       "      <th>687</th>\n",
       "      <td>2988190573</td>\n",
       "      <td>67190</td>\n",
       "    </tr>\n",
       "    <tr>\n",
       "      <th>267</th>\n",
       "      <td>1164614297</td>\n",
       "      <td>66350</td>\n",
       "    </tr>\n",
       "    <tr>\n",
       "      <th>25</th>\n",
       "      <td>148427295</td>\n",
       "      <td>65710</td>\n",
       "    </tr>\n",
       "    <tr>\n",
       "      <th>200</th>\n",
       "      <td>887908475</td>\n",
       "      <td>60450</td>\n",
       "    </tr>\n",
       "  </tbody>\n",
       "</table>\n",
       "</div>"
      ],
      "text/plain": [
       "     visitor_id  revenue\n",
       "440  1920142716  1294500\n",
       "477  2108080724   202740\n",
       "300  1307669133    92550\n",
       "202   888512513    86620\n",
       "176   759473111    72000\n",
       "938  4133034833    67990\n",
       "687  2988190573    67190\n",
       "267  1164614297    66350\n",
       "25    148427295    65710\n",
       "200   887908475    60450"
      ]
     },
     "execution_count": 28,
     "metadata": {},
     "output_type": "execute_result"
    }
   ],
   "source": [
    "#Страна должна знать своих героев, посмотрим на ID самых щедрых клиентов\n",
    "revenueByUsers.sort_values(by='revenue', ascending = False).head(10)"
   ]
  },
  {
   "cell_type": "code",
   "execution_count": 29,
   "metadata": {},
   "outputs": [
    {
     "data": {
      "text/plain": [
       "array([28910., 59082.])"
      ]
     },
     "execution_count": 29,
     "metadata": {},
     "output_type": "execute_result"
    }
   ],
   "source": [
    "np.percentile(revenueByUsers['revenue'], [95, 99])"
   ]
  },
  {
   "cell_type": "markdown",
   "metadata": {},
   "source": [
    "95 процентов пользователей укладываются в 28910 у.е., 99 процентов - в 59082.  \n",
    "Аномальными будем считать тех, кто тратит больше 29000 - они, конечно, важны для интернет-магазина, но для А/В теста их заказы сослужат плохую службу."
   ]
  },
  {
   "cell_type": "markdown",
   "metadata": {},
   "source": [
    "### Cтатистическая значимость различий в среднем количестве заказов между группами по «сырым» данным"
   ]
  },
  {
   "cell_type": "markdown",
   "metadata": {},
   "source": [
    "**Сырые данные** -  данные без удаления аномальных пользователей.  \n",
    "Сформируем гипотезы:  \n",
    "- Нулевая: различий в среднем количестве заказов между группами нет.  \n",
    "- Альтернативная: различия в среднем между группами есть."
   ]
  },
  {
   "cell_type": "code",
   "execution_count": 30,
   "metadata": {},
   "outputs": [
    {
     "data": {
      "text/html": [
       "<div>\n",
       "<style scoped>\n",
       "    .dataframe tbody tr th:only-of-type {\n",
       "        vertical-align: middle;\n",
       "    }\n",
       "\n",
       "    .dataframe tbody tr th {\n",
       "        vertical-align: top;\n",
       "    }\n",
       "\n",
       "    .dataframe thead th {\n",
       "        text-align: right;\n",
       "    }\n",
       "</style>\n",
       "<table border=\"1\" class=\"dataframe\">\n",
       "  <thead>\n",
       "    <tr style=\"text-align: right;\">\n",
       "      <th></th>\n",
       "      <th>date</th>\n",
       "      <th>ordersPerDateA</th>\n",
       "      <th>revenuePerDateA</th>\n",
       "      <th>ordersPerDateB</th>\n",
       "      <th>revenuePerDateB</th>\n",
       "      <th>ordersCummulativeA</th>\n",
       "      <th>revenueCummulativeA</th>\n",
       "      <th>ordersCummulativeB</th>\n",
       "      <th>revenueCummulativeB</th>\n",
       "      <th>visitorsPerDateA</th>\n",
       "      <th>visitorsPerDateB</th>\n",
       "      <th>visitorsCummulativeA</th>\n",
       "      <th>visitorsCummulativeB</th>\n",
       "    </tr>\n",
       "  </thead>\n",
       "  <tbody>\n",
       "    <tr>\n",
       "      <th>0</th>\n",
       "      <td>2019-08-01</td>\n",
       "      <td>23</td>\n",
       "      <td>142779</td>\n",
       "      <td>17</td>\n",
       "      <td>59758</td>\n",
       "      <td>23</td>\n",
       "      <td>142779</td>\n",
       "      <td>17</td>\n",
       "      <td>59758</td>\n",
       "      <td>719</td>\n",
       "      <td>713</td>\n",
       "      <td>719</td>\n",
       "      <td>713</td>\n",
       "    </tr>\n",
       "    <tr>\n",
       "      <th>1</th>\n",
       "      <td>2019-08-02</td>\n",
       "      <td>19</td>\n",
       "      <td>91602</td>\n",
       "      <td>23</td>\n",
       "      <td>162043</td>\n",
       "      <td>42</td>\n",
       "      <td>234381</td>\n",
       "      <td>40</td>\n",
       "      <td>221801</td>\n",
       "      <td>619</td>\n",
       "      <td>581</td>\n",
       "      <td>1338</td>\n",
       "      <td>1294</td>\n",
       "    </tr>\n",
       "    <tr>\n",
       "      <th>2</th>\n",
       "      <td>2019-08-03</td>\n",
       "      <td>24</td>\n",
       "      <td>112473</td>\n",
       "      <td>14</td>\n",
       "      <td>67049</td>\n",
       "      <td>66</td>\n",
       "      <td>346854</td>\n",
       "      <td>54</td>\n",
       "      <td>288850</td>\n",
       "      <td>507</td>\n",
       "      <td>509</td>\n",
       "      <td>1845</td>\n",
       "      <td>1803</td>\n",
       "    </tr>\n",
       "    <tr>\n",
       "      <th>3</th>\n",
       "      <td>2019-08-04</td>\n",
       "      <td>11</td>\n",
       "      <td>41176</td>\n",
       "      <td>14</td>\n",
       "      <td>96890</td>\n",
       "      <td>77</td>\n",
       "      <td>388030</td>\n",
       "      <td>68</td>\n",
       "      <td>385740</td>\n",
       "      <td>717</td>\n",
       "      <td>770</td>\n",
       "      <td>2562</td>\n",
       "      <td>2573</td>\n",
       "    </tr>\n",
       "    <tr>\n",
       "      <th>4</th>\n",
       "      <td>2019-08-05</td>\n",
       "      <td>22</td>\n",
       "      <td>86383</td>\n",
       "      <td>21</td>\n",
       "      <td>89908</td>\n",
       "      <td>99</td>\n",
       "      <td>474413</td>\n",
       "      <td>89</td>\n",
       "      <td>475648</td>\n",
       "      <td>756</td>\n",
       "      <td>707</td>\n",
       "      <td>3318</td>\n",
       "      <td>3280</td>\n",
       "    </tr>\n",
       "  </tbody>\n",
       "</table>\n",
       "</div>"
      ],
      "text/plain": [
       "        date  ordersPerDateA  revenuePerDateA  ordersPerDateB  \\\n",
       "0 2019-08-01              23           142779              17   \n",
       "1 2019-08-02              19            91602              23   \n",
       "2 2019-08-03              24           112473              14   \n",
       "3 2019-08-04              11            41176              14   \n",
       "4 2019-08-05              22            86383              21   \n",
       "\n",
       "   revenuePerDateB  ordersCummulativeA  revenueCummulativeA  \\\n",
       "0            59758                  23               142779   \n",
       "1           162043                  42               234381   \n",
       "2            67049                  66               346854   \n",
       "3            96890                  77               388030   \n",
       "4            89908                  99               474413   \n",
       "\n",
       "   ordersCummulativeB  revenueCummulativeB  visitorsPerDateA  \\\n",
       "0                  17                59758               719   \n",
       "1                  40               221801               619   \n",
       "2                  54               288850               507   \n",
       "3                  68               385740               717   \n",
       "4                  89               475648               756   \n",
       "\n",
       "   visitorsPerDateB  visitorsCummulativeA  visitorsCummulativeB  \n",
       "0               713                   719                   713  \n",
       "1               581                  1338                  1294  \n",
       "2               509                  1845                  1803  \n",
       "3               770                  2562                  2573  \n",
       "4               707                  3318                  3280  "
      ]
     },
     "execution_count": 30,
     "metadata": {},
     "output_type": "execute_result"
    }
   ],
   "source": [
    "#количество посетителей сайта из группы А в каждый из дней исследования:\n",
    "visitorsADaily = visitors[visitors['group'] == 'A'][['date', 'visitors']] \n",
    "visitorsADaily.columns = ['date', 'visitorsPerDateA']\n",
    "\n",
    "#кумулятивное количество посетителей сайта из группы А в каждый из дней исследования:\n",
    "visitorsACummulative = visitorsADaily.apply(\n",
    "    lambda x: visitorsADaily[visitorsADaily['date'] <= x['date']].agg(\n",
    "        {'date': 'max', 'visitorsPerDateA': 'sum'}), axis=1, )\n",
    "visitorsACummulative.columns = ['date', 'visitorsCummulativeA']\n",
    "\n",
    "#количество посетителей сайта из группы В в каждый из дней исследования:\n",
    "visitorsBDaily = visitors[visitors['group'] == 'B'][['date', 'visitors']]\n",
    "visitorsBDaily.columns = ['date', 'visitorsPerDateB']\n",
    "\n",
    "#количество посетителей сайта из группы В в каждый из дней исследования:\n",
    "visitorsBCummulative = visitorsBDaily.apply(\n",
    "    lambda x: visitorsBDaily[visitorsBDaily['date'] <= x['date']].agg(\n",
    "        {'date': 'max', 'visitorsPerDateB': 'sum'}), axis=1,)\n",
    "visitorsBCummulative.columns = ['date', 'visitorsCummulativeB']\n",
    "\n",
    "#количество заказов и их стоимость из группы А в каждый из дней исследования:\n",
    "ordersADaily = (\n",
    "    orders[orders['group'] == 'A'][['date', 'transaction_id', 'visitor_id', 'revenue']]\n",
    "    .groupby('date', as_index=False)\n",
    "    .agg({'transaction_id': pd.Series.nunique, 'revenue': 'sum'}))\n",
    "ordersADaily.columns = ['date', 'ordersPerDateA', 'revenuePerDateA']\n",
    "\n",
    "#кумулятивное количество заказов и их стоимость из группы А в каждый из дней исследования:\n",
    "ordersACummulative = ordersADaily.apply(\n",
    "    lambda x: ordersADaily[ordersADaily['date'] <= x['date']].agg(\n",
    "        {'date': 'max', 'ordersPerDateA': 'sum', 'revenuePerDateA': 'sum'}), axis=1,).sort_values(by=['date'])\n",
    "ordersACummulative.columns = [\n",
    "    'date',\n",
    "    'ordersCummulativeA',\n",
    "    'revenueCummulativeA']\n",
    "\n",
    "#количество заказов и их стоимость из группы В в каждый из дней исследования:\n",
    "ordersBDaily = (\n",
    "    orders[orders['group'] == 'B'][['date', 'transaction_id', 'visitor_id', 'revenue']]\n",
    "    .groupby('date', as_index=False)\n",
    "    .agg({'transaction_id': pd.Series.nunique, 'revenue': 'sum'}))\n",
    "ordersBDaily.columns = ['date', 'ordersPerDateB', 'revenuePerDateB']\n",
    "\n",
    "#кумулятивное количество заказов и их стоимость из группы В в каждый из дней исследования:\n",
    "ordersBCummulative = ordersBDaily.apply(\n",
    "    lambda x: ordersBDaily[ordersBDaily['date'] <= x['date']].agg(\n",
    "        {'date': 'max', 'ordersPerDateB': 'sum', 'revenuePerDateB': 'sum'}),axis=1,).sort_values(by=['date'])\n",
    "ordersBCummulative.columns = [\n",
    "    'date',\n",
    "    'ordersCummulativeB',\n",
    "    'revenueCummulativeB']\n",
    "\n",
    "# Создадим таблицу, в которой объединим все созданные ранее в этом окне кода\n",
    "ABdata = (\n",
    "    ordersADaily.merge(\n",
    "        ordersBDaily, left_on='date', right_on='date', how='left'\n",
    "    )\n",
    "    .merge(ordersACummulative, left_on='date', right_on='date', how='left')\n",
    "    .merge(ordersBCummulative, left_on='date', right_on='date', how='left')\n",
    "    .merge(visitorsADaily, left_on='date', right_on='date', how='left')\n",
    "    .merge(visitorsBDaily, left_on='date', right_on='date', how='left')\n",
    "    .merge(visitorsACummulative, left_on='date', right_on='date', how='left')\n",
    "    .merge(visitorsBCummulative, left_on='date', right_on='date', how='left')\n",
    ")\n",
    "\n",
    "ABdata.head()"
   ]
  },
  {
   "cell_type": "code",
   "execution_count": 31,
   "metadata": {},
   "outputs": [],
   "source": [
    "#Создадим переменные ordersByUsersA и ordersByUsersB со столбцами ['visitor_id', 'orders'].  \n",
    "#В них для пользователей, которые заказывали хотя бы 1 раз, укажем число совершённых заказов.\n",
    "ordersByUsersA = (\n",
    "    orders[orders['group'] == 'A']\n",
    "    .groupby('visitor_id', as_index=False)\n",
    "    .agg({'transaction_id': pd.Series.nunique})\n",
    ")\n",
    "ordersByUsersA.columns = ['visitor_id', 'orders']\n",
    "\n",
    "ordersByUsersB = (\n",
    "    orders[orders['group'] == 'B']\n",
    "    .groupby('visitor_id', as_index=False)\n",
    "    .agg({'transaction_id': pd.Series.nunique})\n",
    ")\n",
    "ordersByUsersB.columns = ['visitor_id', 'orders'] "
   ]
  },
  {
   "cell_type": "code",
   "execution_count": 32,
   "metadata": {},
   "outputs": [],
   "source": [
    "#Объявим переменные sampleA и sampleB, в которых пользователям из разных групп будет соответствовать количество заказов.\n",
    "#SampleA будет состоять из двух частей:\n",
    "#Список с количеством заказов для каждого из пользователей: ordersByUsersA['orders'].\n",
    "#Нули для пользователей, которые ничего не заказывали.\n",
    "#Их количество равно разнице между суммой посетителей и количеством записей о заказах\n",
    "sampleA = pd.concat([ordersByUsersA['orders'],pd.Series(0,\n",
    "index=np.arange(ABdata['visitorsPerDateA'].sum() - len(ordersByUsersA['orders'])), name='orders')],axis=0)\n",
    "\n",
    "#Та же схема для группы B\n",
    "sampleB = pd.concat([ordersByUsersB['orders'],pd.Series(0,\n",
    "index=np.arange(ABdata['visitorsPerDateB'].sum() - len(ordersByUsersB['orders'])), name='orders')],axis=0) "
   ]
  },
  {
   "cell_type": "markdown",
   "metadata": {},
   "source": [
    "**Определяем статистическую значимость:**  \n",
    "Выборки подвергаем проверке критерием Манна-Уитни.\n",
    "\n",
    "В sampleA сохранена выборка, где каждый элемент — число заказов определённого пользователя, в том числе ноль.  \n",
    "Значит, число элементов sampleA — это количество пользователей, сумма всех элементов — количество заказов.  \n",
    "Чтобы получить среднее число заказов на пользователя, поделим сумму заказов на число пользователей — найдём среднее в выборке sampleA методом mean().  \n",
    "Аналогично найдём среднее группы B: SampleB.mean().  \n",
    "Выведем относительный прирост среднего числа заказов группы B: среднее число заказов группы B / среднее число заказов группы A - 1. "
   ]
  },
  {
   "cell_type": "code",
   "execution_count": 33,
   "metadata": {},
   "outputs": [
    {
     "name": "stdout",
     "output_type": "stream",
     "text": [
      "P-value: 0.011\n",
      "Относительный прирост среднего числа заказов группы B: 0.160\n"
     ]
    }
   ],
   "source": [
    "\n",
    "print(f'P-value:', \"{0:.3f}\".format(stats.mannwhitneyu(sampleA, sampleB)[1]))\n",
    "print(f'Относительный прирост среднего числа заказов группы B:', \"{0:.3f}\".format(sampleB.mean() / sampleA.mean() - 1))\n"
   ]
  },
  {
   "cell_type": "markdown",
   "metadata": {},
   "source": [
    "**Вывод:**  \n",
    "По «сырым» данным различия в среднем числе заказов групп A и B есть.\n",
    "P-value = 0.011 меньше 0.05. Значит, мы отвергаем нулевую гипотезу о том, что статистически значимых различий в среднем числе заказов между группами нет.  \n",
    "Относительный выигрыш группы B равен 16% — второе число в выводе.\n"
   ]
  },
  {
   "cell_type": "markdown",
   "metadata": {},
   "source": [
    "### Статистическая значимость различий в среднем чеке между группами"
   ]
  },
  {
   "cell_type": "markdown",
   "metadata": {},
   "source": [
    "Сформулируем предположения:  \n",
    "- Нулевая гипотеза: различий в среднем чеке между группами нет.\n",
    "- Альтернативная гипотеза: различия в среднем чеке между группами есть."
   ]
  },
  {
   "cell_type": "code",
   "execution_count": 34,
   "metadata": {},
   "outputs": [
    {
     "name": "stdout",
     "output_type": "stream",
     "text": [
      "P-value: 0.829\n",
      "Относительный прирост среднего чека заказов группы B: 0.287\n"
     ]
    }
   ],
   "source": [
    "print(f'P-value:', '{0:.3f}'.format(stats.mannwhitneyu(orders[orders['group']=='A']['revenue'], orders[orders['group']=='B']['revenue'])[1]))\n",
    "print(f'Относительный прирост среднего чека заказов группы B:', '{0:.3f}'.format(orders[orders['group']=='B']\n",
    "['revenue'].mean()/orders[orders['group']=='A']['revenue'].mean()-1))\n"
   ]
  },
  {
   "cell_type": "markdown",
   "metadata": {},
   "source": [
    "**Вывод:**  \n",
    "P-value 0.829 больше 0.05. Значит, причин отвергать нулевую гипотезу и считать, что в среднем чеке есть различия, нет.  \n",
    "Второй показатель говорит о приросте среднего чека заказов группы В на 28,7 процента, но учитывая то, что нулевую гипотезу мы не отвергаем, можно говорить о том, что различия здесь получены случайным образом."
   ]
  },
  {
   "cell_type": "markdown",
   "metadata": {},
   "source": [
    "### Определение \"аномальных пользователей\""
   ]
  },
  {
   "cell_type": "markdown",
   "metadata": {},
   "source": [
    "**Очищенные данные** - данные без \"аномальных\" пользователей, сделавших очень большое количество заказов либо потративших очень большую сумму.  "
   ]
  },
  {
   "cell_type": "code",
   "execution_count": 35,
   "metadata": {},
   "outputs": [
    {
     "data": {
      "text/plain": [
       "79"
      ]
     },
     "execution_count": 35,
     "metadata": {},
     "output_type": "execute_result"
    }
   ],
   "source": [
    "# Сделаем срезы пользователей с числом заказов больше 1\n",
    "too_many_orders = 1\n",
    "usersWithManyOrders = pd.concat(\n",
    "    [\n",
    "        ordersByUsersA[ordersByUsersA['orders'] > too_many_orders]['visitor_id'],\n",
    "        ordersByUsersB[ordersByUsersB['orders'] > too_many_orders]['visitor_id'],\n",
    "    ],\n",
    "    axis=0,\n",
    ")\n",
    "\n",
    "\n",
    "# Сделаем срезы пользователей, совершивших заказы стоимостью больше 29000\n",
    "too_much_revenue = 29000\n",
    "usersWithExpensiveOrders = orders[orders['revenue'] > too_much_revenue]['visitor_id']\n",
    "\n",
    "#Объединим срезы в список \"аномальных пользователей\"\n",
    "#Не забудем удалить дубликаты (пользователи одновременно могут и делать много заказов и тратить много денег)\n",
    "abnormalUsers = (\n",
    "    pd.concat([usersWithManyOrders, usersWithExpensiveOrders], axis=0)\n",
    "    .drop_duplicates()\n",
    "    .sort_values())\n",
    "len(abnormalUsers)"
   ]
  },
  {
   "cell_type": "markdown",
   "metadata": {},
   "source": [
    "79 пользователей - молодцы, много заказывают, тратят в магазине большие деньги. Но для объективного А/В теста они являются помехой."
   ]
  },
  {
   "cell_type": "markdown",
   "metadata": {},
   "source": [
    "### Cтатистическая значимость различий в среднем количестве заказов между группами по «очищенным» данным"
   ]
  },
  {
   "cell_type": "markdown",
   "metadata": {},
   "source": [
    "Гипотезы те же:\n",
    "- Нулевая: различий в среднем количестве заказов между группами нет.\n",
    "- Альтернативная: различия в среднем между группами есть."
   ]
  },
  {
   "cell_type": "code",
   "execution_count": 36,
   "metadata": {},
   "outputs": [],
   "source": [
    "#Подготовим выборки количества заказов по пользователям по группам теста:\n",
    "sampleAFiltered = pd.concat([ordersByUsersA[np.logical_not(ordersByUsersA['visitor_id'].isin(abnormalUsers))]['orders'],\n",
    "pd.Series(0, index=np.arange(ABdata['visitorsPerDateA'].sum() - len(ordersByUsersA['orders'])), name='orders')], axis=0)\n",
    "\n",
    "sampleBFiltered = pd.concat([ordersByUsersB[np.logical_not(ordersByUsersB['visitor_id'].isin(abnormalUsers))]['orders'],\n",
    "pd.Series(0, index=np.arange(ABdata['visitorsPerDateB'].sum() - len(ordersByUsersB['orders'])), name='orders')], axis=0)\n",
    "\n",
    "#В этих выборках пользователям из разных групп будет соответствовать количество заказов, тем кто заказов не делал - нули.\n",
    "#Из выборки исключены \"аномальные пользователи\""
   ]
  },
  {
   "cell_type": "code",
   "execution_count": 37,
   "metadata": {},
   "outputs": [
    {
     "name": "stdout",
     "output_type": "stream",
     "text": [
      "P-value: 0.012\n",
      "Относительный прирост среднего числа заказов группы B: 0.180\n"
     ]
    }
   ],
   "source": [
    "#Применим статистический критерий Манна-Уитни к полученным выборкам\n",
    "print(f'P-value:', \"{0:.3f}\".format(stats.mannwhitneyu(sampleAFiltered, sampleBFiltered)[1]))\n",
    "#Выведем относительный прирост среднего числа заказов группы B\n",
    "print(f'Относительный прирост среднего числа заказов группы B:', \"{0:.3f}\".format(sampleBFiltered.mean() / sampleAFiltered.mean() - 1))"
   ]
  },
  {
   "cell_type": "markdown",
   "metadata": {},
   "source": [
    "**Вывод:**  \n",
    "Очищенные данные дают те же результаты, что и сырые. Показатель P-value меньше 0,05: нулевую гипотезу отвергаем.  \n",
    "Различия между группами есть, вторая группа даёт на 18 % процентов больше заказов"
   ]
  },
  {
   "cell_type": "markdown",
   "metadata": {},
   "source": [
    "### Cтатистическая значимость различий в среднем чеке заказа между группами по «очищенным» данным"
   ]
  },
  {
   "cell_type": "markdown",
   "metadata": {},
   "source": [
    "Сформулируем предположения:  \n",
    "- Нулевая гипотеза: различий в среднем чеке между группами нет.\n",
    "- Альтернативная гипотеза: различия в среднем чеке между группами есть."
   ]
  },
  {
   "cell_type": "code",
   "execution_count": 38,
   "metadata": {},
   "outputs": [
    {
     "name": "stdout",
     "output_type": "stream",
     "text": [
      "P-value: 0.836\n",
      "Относительный прирост среднего чека заказов группы B: -0.009\n"
     ]
    }
   ],
   "source": [
    "print(f'P-value:', '{0:.3f}'.format(stats.mannwhitneyu(orders[np.logical_and(orders['group'] == 'A',\n",
    "np.logical_not(orders['visitor_id'].isin(abnormalUsers)))]['revenue'],\n",
    "orders[np.logical_and(orders['group'] == 'B', np.logical_not(orders['visitor_id'].isin(abnormalUsers)))]['revenue'])[1]))\n",
    "print(f'Относительный прирост среднего чека заказов группы B:', \"{0:.3f}\".format(orders[np.logical_and(orders['group'] == 'B',np.logical_not(orders['visitor_id'].isin(abnormalUsers)))]\n",
    "['revenue'].mean()/ orders[np.logical_and(orders['group'] == 'A', np.logical_not(orders['visitor_id'].isin(abnormalUsers)))]\n",
    "['revenue'].mean()- 1)) "
   ]
  },
  {
   "cell_type": "markdown",
   "metadata": {},
   "source": [
    "**Вывод:**\n",
    "Нулевую гипотезу отвергнуть нельзя - значение P-value выше 0.05.  \n",
    "В выборках с очищенными данными группа B показывает средний чек на 0,9 процента ниже, чем группа А."
   ]
  },
  {
   "cell_type": "markdown",
   "metadata": {},
   "source": [
    "## Выводы по результатам А/В-теста"
   ]
  },
  {
   "cell_type": "markdown",
   "metadata": {},
   "source": [
    "Графики кумулятивной выручки, среднего чека и количества заказов показывают преимущество группы В.  \n",
    "При этом, существуют резкие скачки - как мы выяснили в ходе исследования, они связаны с поведением \"аномальных\" пользователей - они делают большое количество заказов и тратят суммы, гораздо больше средних значений.  \n",
    "В связи с этим, в процессе исследования были проверены гипотезы о различиях в изучаемых группах в двух видах:  \n",
    "- По сырым данным (без удаления аномальных пользователей)\n",
    "- По очищенным данным (без учета аномальных пользователей)\n",
    "\n",
    "Для групп А и В были проверены гипотезы о различиях в среднем количестве заказов и среднем чеке.  \n",
    "И по сырым и по очищенным данным можно констатировать:\n",
    "- Различия в среднем количестве заказов между группами есть. По сырым данным это 16 процентов в пользу группы В, по очищенным группа В превышает А на 18 %.  \n",
    "- Различий в среднем чеке между группами нет.  На значения относительного прироста среднего чека группы В явно повлияло аномальное значение одного из чеков (покупка стоимостью более миллиона у.е). По очищенным от выбросов данным можно утверждать, что в целом средний чек группы В не выше, чем у группы А."
   ]
  },
  {
   "cell_type": "markdown",
   "metadata": {},
   "source": [
    "## Решение по результатам теста "
   ]
  },
  {
   "cell_type": "markdown",
   "metadata": {},
   "source": [
    "Опираясь на данные, полученные в результате исследования, **принято решение остановить А/В-тест и зафиксировать победу группы В**.  Напомним, задача, которая стоит перед интернет-магазином это увеличение выручки.  \n",
    "Изменения, которые предполагаются в случае победы группы В могут привести к увеличению количества заказов примерно на 18% - это поможет увеличить выручку, при том, что средний чек не станет меньше."
   ]
  }
 ],
 "metadata": {
  "ExecuteTimeLog": [
   {
    "duration": 416,
    "start_time": "2022-10-21T07:12:41.807Z"
   },
   {
    "duration": 78,
    "start_time": "2022-10-21T07:19:21.693Z"
   },
   {
    "duration": 3,
    "start_time": "2022-10-21T07:19:31.130Z"
   },
   {
    "duration": 1392,
    "start_time": "2022-10-21T07:19:32.549Z"
   },
   {
    "duration": 38,
    "start_time": "2022-10-21T07:19:54.628Z"
   },
   {
    "duration": 31,
    "start_time": "2022-10-21T07:20:47.230Z"
   },
   {
    "duration": 39,
    "start_time": "2022-10-21T07:21:08.931Z"
   },
   {
    "duration": 35,
    "start_time": "2022-10-21T07:21:20.767Z"
   },
   {
    "duration": 33,
    "start_time": "2022-10-21T07:21:33.847Z"
   },
   {
    "duration": 5,
    "start_time": "2022-10-21T07:26:28.888Z"
   },
   {
    "duration": 79,
    "start_time": "2022-10-21T07:29:05.039Z"
   },
   {
    "duration": 78,
    "start_time": "2022-10-21T07:29:18.707Z"
   },
   {
    "duration": 3,
    "start_time": "2022-10-21T07:29:40.607Z"
   },
   {
    "duration": 5,
    "start_time": "2022-10-21T07:29:54.147Z"
   },
   {
    "duration": 5,
    "start_time": "2022-10-21T07:30:05.131Z"
   },
   {
    "duration": 5,
    "start_time": "2022-10-21T07:30:40.268Z"
   },
   {
    "duration": 1199,
    "start_time": "2022-10-21T07:38:45.247Z"
   },
   {
    "duration": 14,
    "start_time": "2022-10-21T07:39:06.805Z"
   },
   {
    "duration": 452,
    "start_time": "2022-10-21T08:10:32.691Z"
   },
   {
    "duration": 227,
    "start_time": "2022-10-21T08:15:12.549Z"
   },
   {
    "duration": 594,
    "start_time": "2022-10-21T08:16:00.248Z"
   },
   {
    "duration": 109,
    "start_time": "2022-10-21T08:16:31.250Z"
   },
   {
    "duration": 33,
    "start_time": "2022-10-21T08:17:48.205Z"
   },
   {
    "duration": 34,
    "start_time": "2022-10-21T08:17:58.490Z"
   },
   {
    "duration": 55,
    "start_time": "2022-10-21T08:27:58.657Z"
   },
   {
    "duration": 31,
    "start_time": "2022-10-21T08:28:00.217Z"
   },
   {
    "duration": 67,
    "start_time": "2022-10-21T08:30:20.484Z"
   },
   {
    "duration": 5,
    "start_time": "2022-10-21T08:30:54.503Z"
   },
   {
    "duration": 47,
    "start_time": "2022-10-21T08:31:27.528Z"
   },
   {
    "duration": 46,
    "start_time": "2022-10-21T08:31:35.134Z"
   },
   {
    "duration": 11,
    "start_time": "2022-10-21T08:31:48.896Z"
   },
   {
    "duration": 13,
    "start_time": "2022-10-21T08:33:28.967Z"
   },
   {
    "duration": 9,
    "start_time": "2022-10-21T08:33:45.809Z"
   },
   {
    "duration": 9,
    "start_time": "2022-10-21T08:37:40.847Z"
   },
   {
    "duration": 10,
    "start_time": "2022-10-21T08:37:50.890Z"
   },
   {
    "duration": 7,
    "start_time": "2022-10-21T08:38:20.944Z"
   },
   {
    "duration": 13,
    "start_time": "2022-10-21T08:38:33.788Z"
   },
   {
    "duration": 7,
    "start_time": "2022-10-21T08:48:10.170Z"
   },
   {
    "duration": 13,
    "start_time": "2022-10-21T08:52:09.708Z"
   },
   {
    "duration": 10,
    "start_time": "2022-10-21T08:52:29.252Z"
   },
   {
    "duration": 79,
    "start_time": "2022-10-21T08:54:26.134Z"
   },
   {
    "duration": 24,
    "start_time": "2022-10-21T08:54:36.060Z"
   },
   {
    "duration": 23,
    "start_time": "2022-10-21T08:55:31.991Z"
   },
   {
    "duration": 10,
    "start_time": "2022-10-21T08:56:02.409Z"
   },
   {
    "duration": 15,
    "start_time": "2022-10-21T08:56:11.706Z"
   },
   {
    "duration": 10,
    "start_time": "2022-10-21T08:56:23.306Z"
   },
   {
    "duration": 11,
    "start_time": "2022-10-21T08:56:24.246Z"
   },
   {
    "duration": 45,
    "start_time": "2022-10-21T08:56:29.703Z"
   },
   {
    "duration": 7,
    "start_time": "2022-10-21T08:56:30.307Z"
   },
   {
    "duration": 10,
    "start_time": "2022-10-21T08:56:32.938Z"
   },
   {
    "duration": 24,
    "start_time": "2022-10-21T08:56:34.989Z"
   },
   {
    "duration": 282,
    "start_time": "2022-10-21T08:56:50.776Z"
   },
   {
    "duration": 10,
    "start_time": "2022-10-21T08:57:04.069Z"
   },
   {
    "duration": 749,
    "start_time": "2022-10-21T08:59:46.612Z"
   },
   {
    "duration": 320,
    "start_time": "2022-10-21T09:00:42.454Z"
   },
   {
    "duration": 158,
    "start_time": "2022-10-21T09:01:12.406Z"
   },
   {
    "duration": 314,
    "start_time": "2022-10-21T09:01:30.791Z"
   },
   {
    "duration": 216,
    "start_time": "2022-10-21T09:02:41.383Z"
   },
   {
    "duration": 184,
    "start_time": "2022-10-21T09:02:52.104Z"
   },
   {
    "duration": 186,
    "start_time": "2022-10-21T09:04:14.766Z"
   },
   {
    "duration": 207,
    "start_time": "2022-10-21T09:05:13.527Z"
   },
   {
    "duration": 317,
    "start_time": "2022-10-21T09:05:40.695Z"
   },
   {
    "duration": 202,
    "start_time": "2022-10-21T09:06:03.650Z"
   },
   {
    "duration": 74,
    "start_time": "2022-10-21T09:06:22.707Z"
   },
   {
    "duration": 526,
    "start_time": "2022-10-21T09:06:28.823Z"
   },
   {
    "duration": 186,
    "start_time": "2022-10-21T09:06:40.446Z"
   },
   {
    "duration": 74,
    "start_time": "2022-10-21T09:06:56.130Z"
   },
   {
    "duration": 311,
    "start_time": "2022-10-21T09:07:00.624Z"
   },
   {
    "duration": 215,
    "start_time": "2022-10-21T09:07:14.075Z"
   },
   {
    "duration": 200,
    "start_time": "2022-10-21T09:07:27.650Z"
   },
   {
    "duration": 208,
    "start_time": "2022-10-21T09:12:34.964Z"
   },
   {
    "duration": 362,
    "start_time": "2022-10-21T09:20:31.666Z"
   },
   {
    "duration": 257,
    "start_time": "2022-10-21T09:20:48.647Z"
   },
   {
    "duration": 205,
    "start_time": "2022-10-21T09:30:07.627Z"
   },
   {
    "duration": 11,
    "start_time": "2022-10-21T09:34:05.731Z"
   },
   {
    "duration": 20,
    "start_time": "2022-10-21T09:34:44.902Z"
   },
   {
    "duration": 391,
    "start_time": "2022-10-21T09:34:52.790Z"
   },
   {
    "duration": 47,
    "start_time": "2022-10-21T12:46:59.411Z"
   },
   {
    "duration": 73,
    "start_time": "2022-10-21T12:50:12.939Z"
   },
   {
    "duration": 8,
    "start_time": "2022-10-21T12:50:20.669Z"
   },
   {
    "duration": 5,
    "start_time": "2022-10-21T12:51:01.915Z"
   },
   {
    "duration": 414,
    "start_time": "2022-10-21T12:51:12.498Z"
   },
   {
    "duration": 93,
    "start_time": "2022-10-21T12:51:12.913Z"
   },
   {
    "duration": 6,
    "start_time": "2022-10-21T12:51:13.252Z"
   },
   {
    "duration": 18,
    "start_time": "2022-10-21T12:51:13.819Z"
   },
   {
    "duration": 11,
    "start_time": "2022-10-21T12:51:15.373Z"
   },
   {
    "duration": 409,
    "start_time": "2022-10-21T12:51:18.825Z"
   },
   {
    "duration": 168,
    "start_time": "2022-10-21T12:51:19.355Z"
   },
   {
    "duration": 9,
    "start_time": "2022-10-21T12:51:20.390Z"
   },
   {
    "duration": 89,
    "start_time": "2022-10-21T12:51:21.057Z"
   },
   {
    "duration": 7,
    "start_time": "2022-10-21T12:51:22.109Z"
   },
   {
    "duration": 14,
    "start_time": "2022-10-21T12:51:24.179Z"
   },
   {
    "duration": 278,
    "start_time": "2022-10-21T12:51:24.578Z"
   },
   {
    "duration": 9,
    "start_time": "2022-10-21T12:51:25.094Z"
   },
   {
    "duration": 682,
    "start_time": "2022-10-21T12:51:26.190Z"
   },
   {
    "duration": 184,
    "start_time": "2022-10-21T12:51:27.852Z"
   },
   {
    "duration": 330,
    "start_time": "2022-10-21T12:51:29.377Z"
   },
   {
    "duration": 219,
    "start_time": "2022-10-21T12:51:31.206Z"
   },
   {
    "duration": 256,
    "start_time": "2022-10-21T12:51:33.508Z"
   },
   {
    "duration": 115,
    "start_time": "2022-10-21T12:51:36.551Z"
   },
   {
    "duration": 114,
    "start_time": "2022-10-21T12:52:27.971Z"
   },
   {
    "duration": 3,
    "start_time": "2022-10-21T12:55:53.670Z"
   },
   {
    "duration": 5,
    "start_time": "2022-10-21T12:55:58.153Z"
   },
   {
    "duration": 5,
    "start_time": "2022-10-21T12:56:35.538Z"
   },
   {
    "duration": 6,
    "start_time": "2022-10-21T12:56:40.476Z"
   },
   {
    "duration": 5,
    "start_time": "2022-10-21T12:56:47.534Z"
   },
   {
    "duration": 15,
    "start_time": "2022-10-21T13:06:16.280Z"
   },
   {
    "duration": 145,
    "start_time": "2022-10-21T13:07:12.571Z"
   },
   {
    "duration": 9,
    "start_time": "2022-10-21T13:07:22.515Z"
   },
   {
    "duration": 9,
    "start_time": "2022-10-21T13:07:57.433Z"
   },
   {
    "duration": 8,
    "start_time": "2022-10-21T13:09:07.905Z"
   },
   {
    "duration": 8,
    "start_time": "2022-10-21T13:10:57.701Z"
   },
   {
    "duration": 7,
    "start_time": "2022-10-21T13:11:43.899Z"
   },
   {
    "duration": 1372,
    "start_time": "2022-10-21T13:12:01.550Z"
   },
   {
    "duration": 6,
    "start_time": "2022-10-21T13:12:12.331Z"
   },
   {
    "duration": 223,
    "start_time": "2022-10-21T13:25:18.184Z"
   },
   {
    "duration": 119,
    "start_time": "2022-10-21T13:43:02.239Z"
   },
   {
    "duration": 110,
    "start_time": "2022-10-21T13:44:06.005Z"
   },
   {
    "duration": 233,
    "start_time": "2022-10-21T13:44:56.683Z"
   },
   {
    "duration": 15,
    "start_time": "2022-10-21T13:46:47.237Z"
   },
   {
    "duration": 13,
    "start_time": "2022-10-21T13:47:37.309Z"
   },
   {
    "duration": 15,
    "start_time": "2022-10-21T13:48:58.783Z"
   },
   {
    "duration": 279,
    "start_time": "2022-10-21T13:57:24.221Z"
   },
   {
    "duration": 218,
    "start_time": "2022-10-21T14:01:01.838Z"
   },
   {
    "duration": 243,
    "start_time": "2022-10-21T14:01:18.057Z"
   },
   {
    "duration": 273,
    "start_time": "2022-10-21T14:01:32.351Z"
   },
   {
    "duration": 274,
    "start_time": "2022-10-21T14:01:47.019Z"
   },
   {
    "duration": 272,
    "start_time": "2022-10-21T14:03:05.703Z"
   },
   {
    "duration": 146,
    "start_time": "2022-10-21T14:09:08.078Z"
   },
   {
    "duration": 9,
    "start_time": "2022-10-21T14:09:15.872Z"
   },
   {
    "duration": 10,
    "start_time": "2022-10-21T14:09:30.203Z"
   },
   {
    "duration": 7,
    "start_time": "2022-10-21T14:13:58.162Z"
   },
   {
    "duration": 22,
    "start_time": "2022-10-21T14:18:12.248Z"
   },
   {
    "duration": 14,
    "start_time": "2022-10-21T14:23:12.028Z"
   },
   {
    "duration": 1312,
    "start_time": "2022-10-21T14:31:27.333Z"
   },
   {
    "duration": 1308,
    "start_time": "2022-10-21T14:32:10.072Z"
   },
   {
    "duration": 1296,
    "start_time": "2022-10-21T14:33:18.148Z"
   },
   {
    "duration": 8,
    "start_time": "2022-10-21T14:34:07.776Z"
   },
   {
    "duration": 282,
    "start_time": "2022-10-21T14:35:12.045Z"
   },
   {
    "duration": 119,
    "start_time": "2022-10-21T14:35:23.576Z"
   },
   {
    "duration": 1949,
    "start_time": "2022-10-21T14:35:58.779Z"
   },
   {
    "duration": 10,
    "start_time": "2022-10-21T14:36:06.863Z"
   },
   {
    "duration": 10,
    "start_time": "2022-10-21T14:37:04.451Z"
   },
   {
    "duration": 1281,
    "start_time": "2022-10-21T14:38:53.221Z"
   },
   {
    "duration": 138,
    "start_time": "2022-10-21T14:41:08.410Z"
   },
   {
    "duration": 7,
    "start_time": "2022-10-21T14:41:09.205Z"
   },
   {
    "duration": 21,
    "start_time": "2022-10-21T14:41:12.046Z"
   },
   {
    "duration": 14,
    "start_time": "2022-10-21T14:41:14.968Z"
   },
   {
    "duration": 6,
    "start_time": "2022-10-21T14:41:31.054Z"
   },
   {
    "duration": 4,
    "start_time": "2022-10-21T14:41:38.639Z"
   },
   {
    "duration": 10,
    "start_time": "2022-10-21T14:42:28.950Z"
   },
   {
    "duration": 9,
    "start_time": "2022-10-21T14:42:43.766Z"
   },
   {
    "duration": 24,
    "start_time": "2022-10-21T14:43:16.679Z"
   },
   {
    "duration": 12,
    "start_time": "2022-10-21T14:44:25.023Z"
   },
   {
    "duration": 12,
    "start_time": "2022-10-21T14:47:49.497Z"
   },
   {
    "duration": 9,
    "start_time": "2022-10-21T14:55:03.825Z"
   },
   {
    "duration": 25,
    "start_time": "2022-10-21T14:56:46.458Z"
   },
   {
    "duration": 15,
    "start_time": "2022-10-21T15:00:16.369Z"
   },
   {
    "duration": 10,
    "start_time": "2022-10-21T15:00:17.700Z"
   },
   {
    "duration": 8,
    "start_time": "2022-10-21T15:00:17.711Z"
   },
   {
    "duration": 9,
    "start_time": "2022-10-21T15:00:19.200Z"
   },
   {
    "duration": 32,
    "start_time": "2022-10-21T15:00:19.878Z"
   },
   {
    "duration": 1494,
    "start_time": "2022-10-21T15:07:48.470Z"
   },
   {
    "duration": 1640,
    "start_time": "2022-10-21T15:08:06.811Z"
   },
   {
    "duration": 17,
    "start_time": "2022-10-21T15:08:30.543Z"
   },
   {
    "duration": 12,
    "start_time": "2022-10-21T15:13:34.788Z"
   },
   {
    "duration": 11,
    "start_time": "2022-10-21T15:14:08.409Z"
   },
   {
    "duration": 5,
    "start_time": "2022-10-21T15:14:23.802Z"
   },
   {
    "duration": 8,
    "start_time": "2022-10-21T15:14:33.614Z"
   },
   {
    "duration": 26,
    "start_time": "2022-10-21T15:14:36.245Z"
   },
   {
    "duration": 18,
    "start_time": "2022-10-21T15:15:27.777Z"
   },
   {
    "duration": 457,
    "start_time": "2022-10-21T15:40:28.064Z"
   },
   {
    "duration": 39,
    "start_time": "2022-10-21T15:40:28.524Z"
   },
   {
    "duration": 5,
    "start_time": "2022-10-21T15:40:28.565Z"
   },
   {
    "duration": 27,
    "start_time": "2022-10-21T15:40:28.572Z"
   },
   {
    "duration": 11,
    "start_time": "2022-10-21T15:40:28.604Z"
   },
   {
    "duration": 463,
    "start_time": "2022-10-21T15:40:28.617Z"
   },
   {
    "duration": 65,
    "start_time": "2022-10-21T15:40:29.082Z"
   },
   {
    "duration": 10,
    "start_time": "2022-10-21T15:40:29.148Z"
   },
   {
    "duration": 31,
    "start_time": "2022-10-21T15:40:29.160Z"
   },
   {
    "duration": 22,
    "start_time": "2022-10-21T15:40:29.195Z"
   },
   {
    "duration": 25,
    "start_time": "2022-10-21T15:40:29.219Z"
   },
   {
    "duration": 321,
    "start_time": "2022-10-21T15:40:29.246Z"
   },
   {
    "duration": 8,
    "start_time": "2022-10-21T15:40:29.569Z"
   },
   {
    "duration": 584,
    "start_time": "2022-10-21T15:40:29.586Z"
   },
   {
    "duration": 203,
    "start_time": "2022-10-21T15:40:30.172Z"
   },
   {
    "duration": 315,
    "start_time": "2022-10-21T15:40:30.377Z"
   },
   {
    "duration": 222,
    "start_time": "2022-10-21T15:40:30.693Z"
   },
   {
    "duration": 289,
    "start_time": "2022-10-21T15:40:30.917Z"
   },
   {
    "duration": 135,
    "start_time": "2022-10-21T15:40:31.208Z"
   },
   {
    "duration": 5,
    "start_time": "2022-10-21T15:40:31.345Z"
   },
   {
    "duration": 183,
    "start_time": "2022-10-21T15:40:31.352Z"
   },
   {
    "duration": 9,
    "start_time": "2022-10-21T15:40:31.537Z"
   },
   {
    "duration": 20,
    "start_time": "2022-10-21T15:40:31.548Z"
   },
   {
    "duration": 252,
    "start_time": "2022-10-21T15:40:31.570Z"
   },
   {
    "duration": 197,
    "start_time": "2022-10-21T15:40:31.825Z"
   },
   {
    "duration": 1681,
    "start_time": "2022-10-21T15:40:32.024Z"
   },
   {
    "duration": 0,
    "start_time": "2022-10-21T15:40:33.707Z"
   },
   {
    "duration": 0,
    "start_time": "2022-10-21T15:40:33.708Z"
   },
   {
    "duration": 0,
    "start_time": "2022-10-21T15:40:33.709Z"
   },
   {
    "duration": 0,
    "start_time": "2022-10-21T15:40:33.711Z"
   },
   {
    "duration": 0,
    "start_time": "2022-10-21T15:40:33.712Z"
   },
   {
    "duration": 0,
    "start_time": "2022-10-21T15:40:33.713Z"
   },
   {
    "duration": 220,
    "start_time": "2022-10-21T15:43:01.213Z"
   },
   {
    "duration": 126,
    "start_time": "2022-10-21T15:43:01.855Z"
   },
   {
    "duration": 1188,
    "start_time": "2022-10-21T15:43:04.611Z"
   },
   {
    "duration": 11,
    "start_time": "2022-10-21T15:43:53.798Z"
   },
   {
    "duration": 36,
    "start_time": "2022-10-21T15:43:59.473Z"
   },
   {
    "duration": 13,
    "start_time": "2022-10-21T15:44:09.209Z"
   },
   {
    "duration": 10,
    "start_time": "2022-10-21T15:44:18.200Z"
   },
   {
    "duration": 12,
    "start_time": "2022-10-21T15:44:22.390Z"
   },
   {
    "duration": 33,
    "start_time": "2022-10-21T15:44:27.116Z"
   },
   {
    "duration": 16,
    "start_time": "2022-10-21T15:44:38.900Z"
   },
   {
    "duration": 353,
    "start_time": "2022-10-21T15:45:54.135Z"
   },
   {
    "duration": 43,
    "start_time": "2022-10-21T15:45:54.490Z"
   },
   {
    "duration": 4,
    "start_time": "2022-10-21T15:45:54.534Z"
   },
   {
    "duration": 20,
    "start_time": "2022-10-21T15:45:54.540Z"
   },
   {
    "duration": 21,
    "start_time": "2022-10-21T15:45:54.562Z"
   },
   {
    "duration": 411,
    "start_time": "2022-10-21T15:45:54.591Z"
   },
   {
    "duration": 51,
    "start_time": "2022-10-21T15:45:55.004Z"
   },
   {
    "duration": 11,
    "start_time": "2022-10-21T15:45:55.057Z"
   },
   {
    "duration": 43,
    "start_time": "2022-10-21T15:45:55.069Z"
   },
   {
    "duration": 7,
    "start_time": "2022-10-21T15:45:55.114Z"
   },
   {
    "duration": 13,
    "start_time": "2022-10-21T15:45:55.123Z"
   },
   {
    "duration": 294,
    "start_time": "2022-10-21T15:45:55.138Z"
   },
   {
    "duration": 9,
    "start_time": "2022-10-21T15:45:55.433Z"
   },
   {
    "duration": 545,
    "start_time": "2022-10-21T15:45:55.445Z"
   },
   {
    "duration": 201,
    "start_time": "2022-10-21T15:45:56.000Z"
   },
   {
    "duration": 303,
    "start_time": "2022-10-21T15:45:56.203Z"
   },
   {
    "duration": 204,
    "start_time": "2022-10-21T15:45:56.508Z"
   },
   {
    "duration": 294,
    "start_time": "2022-10-21T15:45:56.714Z"
   },
   {
    "duration": 150,
    "start_time": "2022-10-21T15:45:57.010Z"
   },
   {
    "duration": 6,
    "start_time": "2022-10-21T15:45:57.162Z"
   },
   {
    "duration": 162,
    "start_time": "2022-10-21T15:45:57.170Z"
   },
   {
    "duration": 8,
    "start_time": "2022-10-21T15:45:57.334Z"
   },
   {
    "duration": 7,
    "start_time": "2022-10-21T15:45:57.343Z"
   },
   {
    "duration": 231,
    "start_time": "2022-10-21T15:45:57.351Z"
   },
   {
    "duration": 154,
    "start_time": "2022-10-21T15:45:57.583Z"
   },
   {
    "duration": 6,
    "start_time": "2022-10-21T15:45:57.739Z"
   },
   {
    "duration": 29,
    "start_time": "2022-10-21T15:45:57.747Z"
   },
   {
    "duration": 19,
    "start_time": "2022-10-21T15:45:57.787Z"
   },
   {
    "duration": 15,
    "start_time": "2022-10-21T15:45:57.807Z"
   },
   {
    "duration": 11,
    "start_time": "2022-10-21T15:45:57.823Z"
   },
   {
    "duration": 34,
    "start_time": "2022-10-21T15:45:57.835Z"
   },
   {
    "duration": 28,
    "start_time": "2022-10-21T15:45:57.870Z"
   },
   {
    "duration": 48,
    "start_time": "2022-10-22T13:43:08.340Z"
   },
   {
    "duration": 387,
    "start_time": "2022-10-22T13:43:16.065Z"
   },
   {
    "duration": 46,
    "start_time": "2022-10-22T13:43:16.828Z"
   },
   {
    "duration": 5,
    "start_time": "2022-10-22T13:43:20.107Z"
   },
   {
    "duration": 28,
    "start_time": "2022-10-22T13:43:24.838Z"
   },
   {
    "duration": 11,
    "start_time": "2022-10-22T13:57:28.498Z"
   },
   {
    "duration": 422,
    "start_time": "2022-10-22T13:57:48.495Z"
   },
   {
    "duration": 54,
    "start_time": "2022-10-22T13:57:48.919Z"
   },
   {
    "duration": 4,
    "start_time": "2022-10-22T14:00:25.344Z"
   },
   {
    "duration": 47,
    "start_time": "2022-10-22T14:06:41.666Z"
   },
   {
    "duration": 5,
    "start_time": "2022-10-22T14:06:46.560Z"
   },
   {
    "duration": 4,
    "start_time": "2022-10-22T14:10:33.140Z"
   },
   {
    "duration": 4,
    "start_time": "2022-10-22T14:12:02.728Z"
   },
   {
    "duration": 41,
    "start_time": "2022-10-22T14:12:20.743Z"
   },
   {
    "duration": 4,
    "start_time": "2022-10-22T14:12:26.942Z"
   },
   {
    "duration": 703,
    "start_time": "2022-10-22T14:13:58.058Z"
   },
   {
    "duration": 6,
    "start_time": "2022-10-22T14:22:39.351Z"
   },
   {
    "duration": 9,
    "start_time": "2022-10-22T14:34:47.797Z"
   },
   {
    "duration": 6,
    "start_time": "2022-10-22T14:34:57.478Z"
   },
   {
    "duration": 47,
    "start_time": "2022-10-22T14:34:58.719Z"
   },
   {
    "duration": 7,
    "start_time": "2022-10-22T14:34:59.710Z"
   },
   {
    "duration": 4,
    "start_time": "2022-10-22T14:35:00.574Z"
   },
   {
    "duration": 177,
    "start_time": "2022-10-22T14:36:51.752Z"
   },
   {
    "duration": 53,
    "start_time": "2022-10-22T14:37:05.932Z"
   },
   {
    "duration": 4,
    "start_time": "2022-10-22T14:37:06.639Z"
   },
   {
    "duration": 7,
    "start_time": "2022-10-22T14:37:09.956Z"
   },
   {
    "duration": 4,
    "start_time": "2022-10-22T14:37:10.325Z"
   },
   {
    "duration": 5,
    "start_time": "2022-10-22T14:38:03.695Z"
   },
   {
    "duration": 712,
    "start_time": "2022-10-22T14:38:20.631Z"
   },
   {
    "duration": 2,
    "start_time": "2022-10-22T14:38:29.756Z"
   },
   {
    "duration": 21,
    "start_time": "2022-10-22T14:38:30.342Z"
   },
   {
    "duration": 5,
    "start_time": "2022-10-22T14:38:30.857Z"
   },
   {
    "duration": 22,
    "start_time": "2022-10-22T14:38:32.016Z"
   },
   {
    "duration": 10,
    "start_time": "2022-10-22T14:38:33.752Z"
   },
   {
    "duration": 3,
    "start_time": "2022-10-22T14:38:38.950Z"
   },
   {
    "duration": 33,
    "start_time": "2022-10-22T14:38:40.455Z"
   },
   {
    "duration": 8,
    "start_time": "2022-10-22T14:38:46.510Z"
   },
   {
    "duration": 3,
    "start_time": "2022-10-22T14:38:48.421Z"
   },
   {
    "duration": 5,
    "start_time": "2022-10-22T14:38:48.945Z"
   },
   {
    "duration": 10,
    "start_time": "2022-10-22T14:38:49.457Z"
   },
   {
    "duration": 6,
    "start_time": "2022-10-22T14:38:58.465Z"
   },
   {
    "duration": 25,
    "start_time": "2022-10-22T14:39:01.082Z"
   },
   {
    "duration": 7,
    "start_time": "2022-10-22T14:39:04.110Z"
   },
   {
    "duration": 4,
    "start_time": "2022-10-22T14:39:05.004Z"
   },
   {
    "duration": 5,
    "start_time": "2022-10-22T14:39:05.621Z"
   },
   {
    "duration": 5,
    "start_time": "2022-10-22T14:39:11.678Z"
   },
   {
    "duration": 2,
    "start_time": "2022-10-22T14:46:56.279Z"
   },
   {
    "duration": 10,
    "start_time": "2022-10-22T14:48:05.817Z"
   },
   {
    "duration": 7,
    "start_time": "2022-10-22T14:48:47.283Z"
   },
   {
    "duration": 6,
    "start_time": "2022-10-22T14:57:29.826Z"
   },
   {
    "duration": 7,
    "start_time": "2022-10-22T15:00:07.710Z"
   },
   {
    "duration": 57,
    "start_time": "2022-10-22T15:01:16.055Z"
   },
   {
    "duration": 655,
    "start_time": "2022-10-22T15:01:20.356Z"
   },
   {
    "duration": 10,
    "start_time": "2022-10-22T15:01:47.576Z"
   },
   {
    "duration": 14,
    "start_time": "2022-10-22T15:02:19.397Z"
   },
   {
    "duration": 693,
    "start_time": "2022-10-22T15:03:52.918Z"
   },
   {
    "duration": 644,
    "start_time": "2022-10-22T15:04:02.132Z"
   },
   {
    "duration": 12,
    "start_time": "2022-10-22T15:04:20.316Z"
   },
   {
    "duration": 12,
    "start_time": "2022-10-22T15:04:40.975Z"
   },
   {
    "duration": 4,
    "start_time": "2022-10-22T15:05:18.945Z"
   },
   {
    "duration": 42,
    "start_time": "2022-10-22T15:05:34.635Z"
   },
   {
    "duration": 12,
    "start_time": "2022-10-22T15:05:39.437Z"
   },
   {
    "duration": 10,
    "start_time": "2022-10-22T15:05:47.631Z"
   },
   {
    "duration": 13,
    "start_time": "2022-10-22T15:06:00.594Z"
   },
   {
    "duration": 11,
    "start_time": "2022-10-22T15:06:09.861Z"
   },
   {
    "duration": 11,
    "start_time": "2022-10-22T15:07:24.992Z"
   },
   {
    "duration": 7,
    "start_time": "2022-10-22T15:08:02.075Z"
   },
   {
    "duration": 7,
    "start_time": "2022-10-22T15:08:19.332Z"
   },
   {
    "duration": 7,
    "start_time": "2022-10-22T15:08:23.895Z"
   },
   {
    "duration": 8,
    "start_time": "2022-10-22T15:08:49.454Z"
   },
   {
    "duration": 813,
    "start_time": "2022-10-22T15:09:20.771Z"
   },
   {
    "duration": 8,
    "start_time": "2022-10-22T15:09:53.971Z"
   },
   {
    "duration": 10,
    "start_time": "2022-10-22T15:11:11.878Z"
   },
   {
    "duration": 6,
    "start_time": "2022-10-22T15:11:18.828Z"
   },
   {
    "duration": 11,
    "start_time": "2022-10-22T15:11:29.573Z"
   },
   {
    "duration": 6,
    "start_time": "2022-10-22T15:14:11.938Z"
   },
   {
    "duration": 5,
    "start_time": "2022-10-22T15:19:10.820Z"
   },
   {
    "duration": 12,
    "start_time": "2022-10-22T15:19:15.703Z"
   },
   {
    "duration": 5,
    "start_time": "2022-10-22T15:19:21.025Z"
   },
   {
    "duration": 7,
    "start_time": "2022-10-22T15:20:13.854Z"
   },
   {
    "duration": 10,
    "start_time": "2022-10-22T15:20:14.694Z"
   },
   {
    "duration": 5,
    "start_time": "2022-10-22T15:20:19.391Z"
   },
   {
    "duration": 11,
    "start_time": "2022-10-22T15:20:19.791Z"
   },
   {
    "duration": 5,
    "start_time": "2022-10-22T15:20:21.342Z"
   },
   {
    "duration": 7,
    "start_time": "2022-10-22T15:36:32.759Z"
   },
   {
    "duration": 13,
    "start_time": "2022-10-22T15:36:45.235Z"
   },
   {
    "duration": 12,
    "start_time": "2022-10-22T15:38:36.981Z"
   },
   {
    "duration": 12,
    "start_time": "2022-10-22T15:38:55.143Z"
   },
   {
    "duration": 13,
    "start_time": "2022-10-22T15:39:35.753Z"
   },
   {
    "duration": 2,
    "start_time": "2022-10-22T15:40:09.190Z"
   },
   {
    "duration": 20,
    "start_time": "2022-10-22T15:40:09.671Z"
   },
   {
    "duration": 5,
    "start_time": "2022-10-22T15:40:10.120Z"
   },
   {
    "duration": 22,
    "start_time": "2022-10-22T15:40:11.149Z"
   },
   {
    "duration": 11,
    "start_time": "2022-10-22T15:40:13.431Z"
   },
   {
    "duration": 2,
    "start_time": "2022-10-22T15:40:17.277Z"
   },
   {
    "duration": 34,
    "start_time": "2022-10-22T15:40:17.727Z"
   },
   {
    "duration": 9,
    "start_time": "2022-10-22T15:40:19.497Z"
   },
   {
    "duration": 3,
    "start_time": "2022-10-22T15:40:21.128Z"
   },
   {
    "duration": 4,
    "start_time": "2022-10-22T15:40:22.071Z"
   },
   {
    "duration": 6,
    "start_time": "2022-10-22T15:40:23.022Z"
   },
   {
    "duration": 17,
    "start_time": "2022-10-22T15:40:24.514Z"
   },
   {
    "duration": 13,
    "start_time": "2022-10-22T15:40:42.099Z"
   },
   {
    "duration": 14,
    "start_time": "2022-10-22T15:44:17.135Z"
   },
   {
    "duration": 10,
    "start_time": "2022-10-22T15:44:32.073Z"
   },
   {
    "duration": 13,
    "start_time": "2022-10-22T15:45:39.155Z"
   },
   {
    "duration": 12,
    "start_time": "2022-10-22T15:46:02.842Z"
   },
   {
    "duration": 10,
    "start_time": "2022-10-22T15:46:16.016Z"
   },
   {
    "duration": 3,
    "start_time": "2022-10-22T15:50:02.574Z"
   },
   {
    "duration": 5,
    "start_time": "2022-10-22T15:50:11.303Z"
   },
   {
    "duration": 6,
    "start_time": "2022-10-22T15:51:40.036Z"
   },
   {
    "duration": 7,
    "start_time": "2022-10-22T15:52:01.286Z"
   },
   {
    "duration": 11,
    "start_time": "2022-10-22T15:52:12.293Z"
   },
   {
    "duration": 6,
    "start_time": "2022-10-22T15:54:27.877Z"
   },
   {
    "duration": 13,
    "start_time": "2022-10-22T15:55:42.032Z"
   },
   {
    "duration": 8,
    "start_time": "2022-10-22T15:57:02.876Z"
   },
   {
    "duration": 31,
    "start_time": "2022-10-22T15:57:03.901Z"
   },
   {
    "duration": 6,
    "start_time": "2022-10-22T15:57:04.795Z"
   },
   {
    "duration": 4,
    "start_time": "2022-10-22T15:57:05.098Z"
   },
   {
    "duration": 10,
    "start_time": "2022-10-22T16:00:23.780Z"
   },
   {
    "duration": 256,
    "start_time": "2022-10-22T16:00:28.266Z"
   },
   {
    "duration": 10,
    "start_time": "2022-10-22T16:00:33.242Z"
   },
   {
    "duration": 661,
    "start_time": "2022-10-22T16:00:36.303Z"
   },
   {
    "duration": 200,
    "start_time": "2022-10-22T16:00:45.818Z"
   },
   {
    "duration": 323,
    "start_time": "2022-10-22T16:01:06.393Z"
   },
   {
    "duration": 175,
    "start_time": "2022-10-22T16:01:19.439Z"
   },
   {
    "duration": 244,
    "start_time": "2022-10-22T16:01:24.559Z"
   },
   {
    "duration": 117,
    "start_time": "2022-10-22T16:01:34.772Z"
   },
   {
    "duration": 115,
    "start_time": "2022-10-22T16:01:59.958Z"
   },
   {
    "duration": 5,
    "start_time": "2022-10-22T16:02:14.360Z"
   },
   {
    "duration": 4,
    "start_time": "2022-10-22T16:03:35.964Z"
   },
   {
    "duration": 116,
    "start_time": "2022-10-22T16:03:54.192Z"
   },
   {
    "duration": 8,
    "start_time": "2022-10-22T16:04:09.140Z"
   },
   {
    "duration": 4,
    "start_time": "2022-10-22T16:04:23.258Z"
   },
   {
    "duration": 315,
    "start_time": "2022-10-22T16:06:23.934Z"
   },
   {
    "duration": 139,
    "start_time": "2022-10-22T16:06:28.635Z"
   },
   {
    "duration": 7,
    "start_time": "2022-10-22T16:06:33.491Z"
   },
   {
    "duration": 21,
    "start_time": "2022-10-22T16:10:58.150Z"
   },
   {
    "duration": 21,
    "start_time": "2022-10-22T16:11:17.628Z"
   },
   {
    "duration": 23,
    "start_time": "2022-10-22T16:11:36.864Z"
   },
   {
    "duration": 42,
    "start_time": "2022-10-22T16:11:47.943Z"
   },
   {
    "duration": 36,
    "start_time": "2022-10-22T16:11:59.791Z"
   },
   {
    "duration": 24,
    "start_time": "2022-10-22T16:12:54.748Z"
   },
   {
    "duration": 18,
    "start_time": "2022-10-22T16:13:26.510Z"
   },
   {
    "duration": 52,
    "start_time": "2022-10-22T16:14:04.560Z"
   },
   {
    "duration": 46,
    "start_time": "2022-10-22T16:14:14.174Z"
   },
   {
    "duration": 15,
    "start_time": "2022-10-22T16:15:31.793Z"
   },
   {
    "duration": 46,
    "start_time": "2022-10-22T16:16:10.469Z"
   },
   {
    "duration": 45,
    "start_time": "2022-10-22T16:16:15.536Z"
   },
   {
    "duration": 6,
    "start_time": "2022-10-22T16:16:34.550Z"
   },
   {
    "duration": 11,
    "start_time": "2022-10-22T16:16:54.697Z"
   },
   {
    "duration": 10,
    "start_time": "2022-10-22T16:20:04.086Z"
   },
   {
    "duration": 10,
    "start_time": "2022-10-22T16:21:44.534Z"
   },
   {
    "duration": 9,
    "start_time": "2022-10-22T16:22:03.988Z"
   },
   {
    "duration": 8,
    "start_time": "2022-10-22T16:22:08.428Z"
   },
   {
    "duration": 9,
    "start_time": "2022-10-22T16:22:11.786Z"
   },
   {
    "duration": 10,
    "start_time": "2022-10-22T16:22:16.127Z"
   },
   {
    "duration": 8,
    "start_time": "2022-10-22T16:22:20.995Z"
   },
   {
    "duration": 9,
    "start_time": "2022-10-22T16:22:23.980Z"
   },
   {
    "duration": 10,
    "start_time": "2022-10-22T16:22:32.870Z"
   },
   {
    "duration": 7,
    "start_time": "2022-10-22T16:23:27.921Z"
   },
   {
    "duration": 53,
    "start_time": "2022-10-22T16:23:48.660Z"
   },
   {
    "duration": 40,
    "start_time": "2022-10-22T16:24:02.570Z"
   },
   {
    "duration": 19,
    "start_time": "2022-10-22T16:24:18.738Z"
   },
   {
    "duration": 28,
    "start_time": "2022-10-22T16:25:41.697Z"
   },
   {
    "duration": 22,
    "start_time": "2022-10-22T16:26:59.469Z"
   },
   {
    "duration": 15,
    "start_time": "2022-10-22T16:27:05.856Z"
   },
   {
    "duration": 402,
    "start_time": "2022-10-22T16:31:44.384Z"
   },
   {
    "duration": 23,
    "start_time": "2022-10-22T16:31:44.788Z"
   },
   {
    "duration": 18,
    "start_time": "2022-10-22T16:31:44.812Z"
   },
   {
    "duration": 34,
    "start_time": "2022-10-22T16:31:44.832Z"
   },
   {
    "duration": 22,
    "start_time": "2022-10-22T16:31:44.867Z"
   },
   {
    "duration": 472,
    "start_time": "2022-10-22T16:31:44.890Z"
   },
   {
    "duration": 31,
    "start_time": "2022-10-22T16:31:45.364Z"
   },
   {
    "duration": 9,
    "start_time": "2022-10-22T16:31:45.396Z"
   },
   {
    "duration": 19,
    "start_time": "2022-10-22T16:31:45.406Z"
   },
   {
    "duration": 45,
    "start_time": "2022-10-22T16:31:45.428Z"
   },
   {
    "duration": 29,
    "start_time": "2022-10-22T16:31:45.475Z"
   },
   {
    "duration": 39,
    "start_time": "2022-10-22T16:31:45.506Z"
   },
   {
    "duration": 10,
    "start_time": "2022-10-22T16:31:45.547Z"
   },
   {
    "duration": 48,
    "start_time": "2022-10-22T16:31:45.559Z"
   },
   {
    "duration": 12,
    "start_time": "2022-10-22T16:31:45.608Z"
   },
   {
    "duration": 21,
    "start_time": "2022-10-22T16:31:45.622Z"
   },
   {
    "duration": 40,
    "start_time": "2022-10-22T16:31:45.645Z"
   },
   {
    "duration": 278,
    "start_time": "2022-10-22T16:31:45.686Z"
   },
   {
    "duration": 8,
    "start_time": "2022-10-22T16:31:45.965Z"
   },
   {
    "duration": 499,
    "start_time": "2022-10-22T16:31:45.975Z"
   },
   {
    "duration": 184,
    "start_time": "2022-10-22T16:31:46.475Z"
   },
   {
    "duration": 287,
    "start_time": "2022-10-22T16:31:46.661Z"
   },
   {
    "duration": 190,
    "start_time": "2022-10-22T16:31:46.950Z"
   },
   {
    "duration": 244,
    "start_time": "2022-10-22T16:31:47.141Z"
   },
   {
    "duration": 132,
    "start_time": "2022-10-22T16:31:47.387Z"
   },
   {
    "duration": 5,
    "start_time": "2022-10-22T16:31:47.520Z"
   },
   {
    "duration": 126,
    "start_time": "2022-10-22T16:31:47.526Z"
   },
   {
    "duration": 7,
    "start_time": "2022-10-22T16:31:47.656Z"
   },
   {
    "duration": 12,
    "start_time": "2022-10-22T16:31:47.664Z"
   },
   {
    "duration": 214,
    "start_time": "2022-10-22T16:31:47.677Z"
   },
   {
    "duration": 132,
    "start_time": "2022-10-22T16:31:47.893Z"
   },
   {
    "duration": 6,
    "start_time": "2022-10-22T16:31:48.026Z"
   },
   {
    "duration": 30,
    "start_time": "2022-10-22T16:31:48.033Z"
   },
   {
    "duration": 10,
    "start_time": "2022-10-22T16:31:48.064Z"
   },
   {
    "duration": 12,
    "start_time": "2022-10-22T16:31:48.075Z"
   },
   {
    "duration": 17,
    "start_time": "2022-10-22T16:31:48.088Z"
   },
   {
    "duration": 30,
    "start_time": "2022-10-22T16:31:48.106Z"
   },
   {
    "duration": 12,
    "start_time": "2022-10-22T16:31:48.137Z"
   },
   {
    "duration": 11,
    "start_time": "2022-10-22T16:35:09.384Z"
   },
   {
    "duration": 36,
    "start_time": "2022-10-22T16:38:04.071Z"
   }
  ],
  "kernelspec": {
   "display_name": "Python 3 (ipykernel)",
   "language": "python",
   "name": "python3"
  },
  "language_info": {
   "codemirror_mode": {
    "name": "ipython",
    "version": 3
   },
   "file_extension": ".py",
   "mimetype": "text/x-python",
   "name": "python",
   "nbconvert_exporter": "python",
   "pygments_lexer": "ipython3",
   "version": "3.9.12"
  },
  "toc": {
   "base_numbering": 1,
   "nav_menu": {},
   "number_sections": true,
   "sideBar": true,
   "skip_h1_title": true,
   "title_cell": "Table of Contents",
   "title_sidebar": "Contents",
   "toc_cell": false,
   "toc_position": {},
   "toc_section_display": true,
   "toc_window_display": false
  }
 },
 "nbformat": 4,
 "nbformat_minor": 2
}
