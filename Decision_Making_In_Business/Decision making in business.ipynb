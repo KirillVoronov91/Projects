{
 "cells": [
  {
   "cell_type": "markdown",
   "metadata": {},
   "source": [
    "# Принятие решений в бизнесе\n",
    "\n",
    "**Описание проекта:**  \n",
    "Вы — аналитик крупного интернет-магазина. Вместе с отделом маркетинга вы подготовили список гипотез для увеличения выручки.\n",
    "Приоритизируйте гипотезы, запустите A/B-тест и проанализируйте результаты.\n",
    "\n",
    "**В процессе исследования мы:**  \n",
    "- Приоритизируем гипотезы об увеличении выручки при помощи разных техник:\n",
    "    - ICE (показатели - влияние на ключевой показатель,  трудозатраты, уверенность в оценках показателей)\n",
    "    - RICE (показатели - охват, влияние, трудозатраты, уверенность в оценках)\n",
    "- Проанализируем результаты A/B-теста:\n",
    "    - Построим график кумулятивных выручки, среднего чека и среднего количества заказов по группам. \n",
    "    - Построим график относительного изменения кумулятивных среднего количества заказов и среднего чека группы B к группе A. \n",
    "    - Построим точечный график количества заказов по пользователям.\n",
    "    - Выберем границу для определения аномальных пользователей.\n",
    "    - Построим точечный график стоимостей заказов. Сделайте выводы и предположения.\n",
    "    - Посчитаем статистическую значимость различий в среднем количестве заказов и среднем чеке между группами по «сырым» данным. \n",
    "    - Посчитаем статистическую значимость различий в среднем количестве заказов и среднем чеке между группами по «очищенным» данным. \n",
    "    - Примем решение по результатам теста.\n",
    " \n",
    " \n",
    "**Цель исследования:**  \n",
    "    Выявить наиболее приоритетные гипотезы об увеличении выручки.  \n",
    "    Проанализровать результаты А/В теста и принять решение по его итогам."
   ]
  },
  {
   "cell_type": "markdown",
   "metadata": {},
   "source": [
    "## Приоритизация гипотез"
   ]
  },
  {
   "cell_type": "markdown",
   "metadata": {},
   "source": [
    "**Способ приоритизации ICE**  \n",
    "ICE =  (от англ. impact, confidence, effort / ease «влияние, уверенность, усилия / простота»).  \n",
    "ICE SCORE = (impact*confidence) / efforts"
   ]
  },
  {
   "cell_type": "code",
   "execution_count": 1,
   "metadata": {},
   "outputs": [],
   "source": [
    "import pandas as pd"
   ]
  },
  {
   "cell_type": "code",
   "execution_count": 2,
   "metadata": {},
   "outputs": [
    {
     "data": {
      "text/html": [
       "<div>\n",
       "<style scoped>\n",
       "    .dataframe tbody tr th:only-of-type {\n",
       "        vertical-align: middle;\n",
       "    }\n",
       "\n",
       "    .dataframe tbody tr th {\n",
       "        vertical-align: top;\n",
       "    }\n",
       "\n",
       "    .dataframe thead th {\n",
       "        text-align: right;\n",
       "    }\n",
       "</style>\n",
       "<table border=\"1\" class=\"dataframe\">\n",
       "  <thead>\n",
       "    <tr style=\"text-align: right;\">\n",
       "      <th></th>\n",
       "      <th>Hypothesis</th>\n",
       "      <th>Reach</th>\n",
       "      <th>Impact</th>\n",
       "      <th>Confidence</th>\n",
       "      <th>Efforts</th>\n",
       "    </tr>\n",
       "  </thead>\n",
       "  <tbody>\n",
       "    <tr>\n",
       "      <th>0</th>\n",
       "      <td>Добавить два новых канала привлечения трафика,...</td>\n",
       "      <td>3</td>\n",
       "      <td>10</td>\n",
       "      <td>8</td>\n",
       "      <td>6</td>\n",
       "    </tr>\n",
       "    <tr>\n",
       "      <th>1</th>\n",
       "      <td>Запустить собственную службу доставки, что сок...</td>\n",
       "      <td>2</td>\n",
       "      <td>5</td>\n",
       "      <td>4</td>\n",
       "      <td>10</td>\n",
       "    </tr>\n",
       "    <tr>\n",
       "      <th>2</th>\n",
       "      <td>Добавить блоки рекомендаций товаров на сайт ин...</td>\n",
       "      <td>8</td>\n",
       "      <td>3</td>\n",
       "      <td>7</td>\n",
       "      <td>3</td>\n",
       "    </tr>\n",
       "    <tr>\n",
       "      <th>3</th>\n",
       "      <td>Изменить структура категорий, что увеличит кон...</td>\n",
       "      <td>8</td>\n",
       "      <td>3</td>\n",
       "      <td>3</td>\n",
       "      <td>8</td>\n",
       "    </tr>\n",
       "    <tr>\n",
       "      <th>4</th>\n",
       "      <td>Изменить цвет фона главной страницы, чтобы уве...</td>\n",
       "      <td>3</td>\n",
       "      <td>1</td>\n",
       "      <td>1</td>\n",
       "      <td>1</td>\n",
       "    </tr>\n",
       "    <tr>\n",
       "      <th>5</th>\n",
       "      <td>Добавить страницу отзывов клиентов о магазине,...</td>\n",
       "      <td>3</td>\n",
       "      <td>2</td>\n",
       "      <td>2</td>\n",
       "      <td>3</td>\n",
       "    </tr>\n",
       "    <tr>\n",
       "      <th>6</th>\n",
       "      <td>Показать на главной странице баннеры с актуаль...</td>\n",
       "      <td>5</td>\n",
       "      <td>3</td>\n",
       "      <td>8</td>\n",
       "      <td>3</td>\n",
       "    </tr>\n",
       "    <tr>\n",
       "      <th>7</th>\n",
       "      <td>Добавить форму подписки на все основные страни...</td>\n",
       "      <td>10</td>\n",
       "      <td>7</td>\n",
       "      <td>8</td>\n",
       "      <td>5</td>\n",
       "    </tr>\n",
       "    <tr>\n",
       "      <th>8</th>\n",
       "      <td>Запустить акцию, дающую скидку на товар в день...</td>\n",
       "      <td>1</td>\n",
       "      <td>9</td>\n",
       "      <td>9</td>\n",
       "      <td>5</td>\n",
       "    </tr>\n",
       "  </tbody>\n",
       "</table>\n",
       "</div>"
      ],
      "text/plain": [
       "                                          Hypothesis  Reach  Impact  \\\n",
       "0  Добавить два новых канала привлечения трафика,...      3      10   \n",
       "1  Запустить собственную службу доставки, что сок...      2       5   \n",
       "2  Добавить блоки рекомендаций товаров на сайт ин...      8       3   \n",
       "3  Изменить структура категорий, что увеличит кон...      8       3   \n",
       "4  Изменить цвет фона главной страницы, чтобы уве...      3       1   \n",
       "5  Добавить страницу отзывов клиентов о магазине,...      3       2   \n",
       "6  Показать на главной странице баннеры с актуаль...      5       3   \n",
       "7  Добавить форму подписки на все основные страни...     10       7   \n",
       "8  Запустить акцию, дающую скидку на товар в день...      1       9   \n",
       "\n",
       "   Confidence  Efforts  \n",
       "0           8        6  \n",
       "1           4       10  \n",
       "2           7        3  \n",
       "3           3        8  \n",
       "4           1        1  \n",
       "5           2        3  \n",
       "6           8        3  \n",
       "7           8        5  \n",
       "8           9        5  "
      ]
     },
     "execution_count": 2,
     "metadata": {},
     "output_type": "execute_result"
    }
   ],
   "source": [
    "data = pd.read_csv('/datasets/hypothesis.csv', sep=',') #читаем датасет с гипотезами \n",
    "data #Ознакомимся с содержимым файла (всего в датасете 9 гипотез, можно посмотреть сразу на все, не только на первые 5)"
   ]
  },
  {
   "cell_type": "code",
   "execution_count": 3,
   "metadata": {},
   "outputs": [
    {
     "data": {
      "text/plain": [
       "0              Добавить два новых канала привлечения трафика, что позволит привлекать на 30% больше пользователей\n",
       "1                                       Запустить собственную службу доставки, что сократит срок доставки заказов\n",
       "2    Добавить блоки рекомендаций товаров на сайт интернет магазина, чтобы повысить конверсию и средний чек заказа\n",
       "3             Изменить структура категорий, что увеличит конверсию, т.к. пользователи быстрее найдут нужный товар\n",
       "4                                Изменить цвет фона главной страницы, чтобы увеличить вовлеченность пользователей\n",
       "5                        Добавить страницу отзывов клиентов о магазине, что позволит увеличить количество заказов\n",
       "6            Показать на главной странице баннеры с актуальными акциями и распродажами, чтобы увеличить конверсию\n",
       "7                Добавить форму подписки на все основные страницы, чтобы собрать базу клиентов для email-рассылок\n",
       "8                                                         Запустить акцию, дающую скидку на товар в день рождения\n",
       "Name: Hypothesis, dtype: object"
      ]
     },
     "execution_count": 3,
     "metadata": {},
     "output_type": "execute_result"
    }
   ],
   "source": [
    "#Посмотрим на формулировки гипотез целиком\n",
    "pd.set_option('display.max_colwidth', None)\n",
    "data['Hypothesis']"
   ]
  },
  {
   "cell_type": "code",
   "execution_count": 4,
   "metadata": {},
   "outputs": [
    {
     "data": {
      "text/html": [
       "<div>\n",
       "<style scoped>\n",
       "    .dataframe tbody tr th:only-of-type {\n",
       "        vertical-align: middle;\n",
       "    }\n",
       "\n",
       "    .dataframe tbody tr th {\n",
       "        vertical-align: top;\n",
       "    }\n",
       "\n",
       "    .dataframe thead th {\n",
       "        text-align: right;\n",
       "    }\n",
       "</style>\n",
       "<table border=\"1\" class=\"dataframe\">\n",
       "  <thead>\n",
       "    <tr style=\"text-align: right;\">\n",
       "      <th></th>\n",
       "      <th>Hypothesis</th>\n",
       "      <th>ICE</th>\n",
       "    </tr>\n",
       "  </thead>\n",
       "  <tbody>\n",
       "    <tr>\n",
       "      <th>8</th>\n",
       "      <td>Запустить акцию, дающую скидку на товар в день рождения</td>\n",
       "      <td>16.200000</td>\n",
       "    </tr>\n",
       "    <tr>\n",
       "      <th>0</th>\n",
       "      <td>Добавить два новых канала привлечения трафика, что позволит привлекать на 30% больше пользователей</td>\n",
       "      <td>13.333333</td>\n",
       "    </tr>\n",
       "    <tr>\n",
       "      <th>7</th>\n",
       "      <td>Добавить форму подписки на все основные страницы, чтобы собрать базу клиентов для email-рассылок</td>\n",
       "      <td>11.200000</td>\n",
       "    </tr>\n",
       "    <tr>\n",
       "      <th>6</th>\n",
       "      <td>Показать на главной странице баннеры с актуальными акциями и распродажами, чтобы увеличить конверсию</td>\n",
       "      <td>8.000000</td>\n",
       "    </tr>\n",
       "    <tr>\n",
       "      <th>2</th>\n",
       "      <td>Добавить блоки рекомендаций товаров на сайт интернет магазина, чтобы повысить конверсию и средний чек заказа</td>\n",
       "      <td>7.000000</td>\n",
       "    </tr>\n",
       "    <tr>\n",
       "      <th>1</th>\n",
       "      <td>Запустить собственную службу доставки, что сократит срок доставки заказов</td>\n",
       "      <td>2.000000</td>\n",
       "    </tr>\n",
       "    <tr>\n",
       "      <th>5</th>\n",
       "      <td>Добавить страницу отзывов клиентов о магазине, что позволит увеличить количество заказов</td>\n",
       "      <td>1.333333</td>\n",
       "    </tr>\n",
       "    <tr>\n",
       "      <th>3</th>\n",
       "      <td>Изменить структура категорий, что увеличит конверсию, т.к. пользователи быстрее найдут нужный товар</td>\n",
       "      <td>1.125000</td>\n",
       "    </tr>\n",
       "    <tr>\n",
       "      <th>4</th>\n",
       "      <td>Изменить цвет фона главной страницы, чтобы увеличить вовлеченность пользователей</td>\n",
       "      <td>1.000000</td>\n",
       "    </tr>\n",
       "  </tbody>\n",
       "</table>\n",
       "</div>"
      ],
      "text/plain": [
       "                                                                                                     Hypothesis  \\\n",
       "8                                                       Запустить акцию, дающую скидку на товар в день рождения   \n",
       "0            Добавить два новых канала привлечения трафика, что позволит привлекать на 30% больше пользователей   \n",
       "7              Добавить форму подписки на все основные страницы, чтобы собрать базу клиентов для email-рассылок   \n",
       "6          Показать на главной странице баннеры с актуальными акциями и распродажами, чтобы увеличить конверсию   \n",
       "2  Добавить блоки рекомендаций товаров на сайт интернет магазина, чтобы повысить конверсию и средний чек заказа   \n",
       "1                                     Запустить собственную службу доставки, что сократит срок доставки заказов   \n",
       "5                      Добавить страницу отзывов клиентов о магазине, что позволит увеличить количество заказов   \n",
       "3           Изменить структура категорий, что увеличит конверсию, т.к. пользователи быстрее найдут нужный товар   \n",
       "4                              Изменить цвет фона главной страницы, чтобы увеличить вовлеченность пользователей   \n",
       "\n",
       "         ICE  \n",
       "8  16.200000  \n",
       "0  13.333333  \n",
       "7  11.200000  \n",
       "6   8.000000  \n",
       "2   7.000000  \n",
       "1   2.000000  \n",
       "5   1.333333  \n",
       "3   1.125000  \n",
       "4   1.000000  "
      ]
     },
     "execution_count": 4,
     "metadata": {},
     "output_type": "execute_result"
    }
   ],
   "source": [
    "data = pd.read_csv('/datasets/hypothesis.csv', sep=',') #читаем датасет с гипотезами \n",
    "data['ICE'] = data['Impact']*data['Confidence']/data['Efforts'] #добавляем столбец с фреймворком ICE\n",
    "data[['Hypothesis', 'ICE']].sort_values(by='ICE', ascending = False) #сортируем гипотезы по убыванию их приоритетности "
   ]
  },
  {
   "cell_type": "markdown",
   "metadata": {},
   "source": [
    "Итак, согласно данной техники приоритизации гипотез можно категоризировать их:\n",
    "- Высокий приоритет: гипотезы 8, 0, 7\n",
    "- Средний приоритет: гипотезы 6, 2\n",
    "- Низкий приоритет: гипотезы 1, 5, 3, 4 "
   ]
  },
  {
   "cell_type": "markdown",
   "metadata": {},
   "source": [
    "**Способ приоритизации RICE**  \n",
    "RICE =  (от англ. reach, impact, confidence, effort / ease «охват, влияние, уверенность, усилия / простота»).  \n",
    "RICE SCORE = (reach* impact* confidence) / efforts"
   ]
  },
  {
   "cell_type": "code",
   "execution_count": 5,
   "metadata": {},
   "outputs": [
    {
     "data": {
      "text/html": [
       "<div>\n",
       "<style scoped>\n",
       "    .dataframe tbody tr th:only-of-type {\n",
       "        vertical-align: middle;\n",
       "    }\n",
       "\n",
       "    .dataframe tbody tr th {\n",
       "        vertical-align: top;\n",
       "    }\n",
       "\n",
       "    .dataframe thead th {\n",
       "        text-align: right;\n",
       "    }\n",
       "</style>\n",
       "<table border=\"1\" class=\"dataframe\">\n",
       "  <thead>\n",
       "    <tr style=\"text-align: right;\">\n",
       "      <th></th>\n",
       "      <th>Hypothesis</th>\n",
       "      <th>RICE</th>\n",
       "    </tr>\n",
       "  </thead>\n",
       "  <tbody>\n",
       "    <tr>\n",
       "      <th>7</th>\n",
       "      <td>Добавить форму подписки на все основные страницы, чтобы собрать базу клиентов для email-рассылок</td>\n",
       "      <td>112.0</td>\n",
       "    </tr>\n",
       "    <tr>\n",
       "      <th>2</th>\n",
       "      <td>Добавить блоки рекомендаций товаров на сайт интернет магазина, чтобы повысить конверсию и средний чек заказа</td>\n",
       "      <td>56.0</td>\n",
       "    </tr>\n",
       "    <tr>\n",
       "      <th>0</th>\n",
       "      <td>Добавить два новых канала привлечения трафика, что позволит привлекать на 30% больше пользователей</td>\n",
       "      <td>40.0</td>\n",
       "    </tr>\n",
       "    <tr>\n",
       "      <th>6</th>\n",
       "      <td>Показать на главной странице баннеры с актуальными акциями и распродажами, чтобы увеличить конверсию</td>\n",
       "      <td>40.0</td>\n",
       "    </tr>\n",
       "    <tr>\n",
       "      <th>8</th>\n",
       "      <td>Запустить акцию, дающую скидку на товар в день рождения</td>\n",
       "      <td>16.2</td>\n",
       "    </tr>\n",
       "    <tr>\n",
       "      <th>3</th>\n",
       "      <td>Изменить структура категорий, что увеличит конверсию, т.к. пользователи быстрее найдут нужный товар</td>\n",
       "      <td>9.0</td>\n",
       "    </tr>\n",
       "    <tr>\n",
       "      <th>1</th>\n",
       "      <td>Запустить собственную службу доставки, что сократит срок доставки заказов</td>\n",
       "      <td>4.0</td>\n",
       "    </tr>\n",
       "    <tr>\n",
       "      <th>5</th>\n",
       "      <td>Добавить страницу отзывов клиентов о магазине, что позволит увеличить количество заказов</td>\n",
       "      <td>4.0</td>\n",
       "    </tr>\n",
       "    <tr>\n",
       "      <th>4</th>\n",
       "      <td>Изменить цвет фона главной страницы, чтобы увеличить вовлеченность пользователей</td>\n",
       "      <td>3.0</td>\n",
       "    </tr>\n",
       "  </tbody>\n",
       "</table>\n",
       "</div>"
      ],
      "text/plain": [
       "                                                                                                     Hypothesis  \\\n",
       "7              Добавить форму подписки на все основные страницы, чтобы собрать базу клиентов для email-рассылок   \n",
       "2  Добавить блоки рекомендаций товаров на сайт интернет магазина, чтобы повысить конверсию и средний чек заказа   \n",
       "0            Добавить два новых канала привлечения трафика, что позволит привлекать на 30% больше пользователей   \n",
       "6          Показать на главной странице баннеры с актуальными акциями и распродажами, чтобы увеличить конверсию   \n",
       "8                                                       Запустить акцию, дающую скидку на товар в день рождения   \n",
       "3           Изменить структура категорий, что увеличит конверсию, т.к. пользователи быстрее найдут нужный товар   \n",
       "1                                     Запустить собственную службу доставки, что сократит срок доставки заказов   \n",
       "5                      Добавить страницу отзывов клиентов о магазине, что позволит увеличить количество заказов   \n",
       "4                              Изменить цвет фона главной страницы, чтобы увеличить вовлеченность пользователей   \n",
       "\n",
       "    RICE  \n",
       "7  112.0  \n",
       "2   56.0  \n",
       "0   40.0  \n",
       "6   40.0  \n",
       "8   16.2  \n",
       "3    9.0  \n",
       "1    4.0  \n",
       "5    4.0  \n",
       "4    3.0  "
      ]
     },
     "execution_count": 5,
     "metadata": {},
     "output_type": "execute_result"
    }
   ],
   "source": [
    "data['RICE'] = data['Reach']*data['Impact']*data['Confidence']/data['Efforts'] #добавляем столбец с фреймворком RICE\n",
    "data[['Hypothesis', 'RICE']].sort_values(by='RICE', ascending = False) #сортируем гипотезы по убыванию их приоритетности "
   ]
  },
  {
   "cell_type": "markdown",
   "metadata": {},
   "source": [
    "Наиболее приоритетной для исследования гипотезой становится 7-я.  \n",
    "Средний приоритет у гипотез 2, 0, 6.  \n",
    "Низкий приоритет у гипотез 3, 1, 5, 4."
   ]
  },
  {
   "cell_type": "markdown",
   "metadata": {},
   "source": [
    "**Отличия в приоритизации между фреймворками ICE и RICE:**  \n",
    "Отличия возникают потому, что RICE учитывает такой показатель как Reach (охват).\n",
    "Поэтому, гипотеза об акции \"скидка в день рождения\" (8-я) обладает невысоким приоритетом, учитывая, что охват пользователей, затронутых этой акцией не так высок.  \n",
    "В то же время, гипотеза о добавлении формы подписки на все основные страницы укрепила свои позиции, так как она очевидно обладает максимальным охватом.  "
   ]
  },
  {
   "cell_type": "markdown",
   "metadata": {},
   "source": [
    "**Выводы по приоритизации гипотез:**  \n",
    "По итогам можно выделить гипотезы, проверка которых обладает самым высоким приоритетом:  \n",
    "7. Добавить форму подписки на все основные страницы, чтобы собрать базу клиентов для email-рассылок.  \n",
    "0. Добавить два новых канала привлечения трафика, что позволит привлекать на 30% больше пользователей.  \n",
    "Две эти гипотезы можно считать приоритетными как с учетом их охвата, так и без.  \n",
    "\n",
    "Если же говорить об охвате аудитории, то также необходимо упомянуть следующие гипотезы, обладающие высоким приоритетом по RICE:  \n",
    "2. Добавить блоки рекомендаций товаров на сайт интернет магазина, чтобы повысить конверсию и средний чек заказа.  \n",
    "6. Показать на главной странице баннеры с актуальными акциями и распродажами, чтобы увеличить конверсию\t40.0."
   ]
  },
  {
   "cell_type": "markdown",
   "metadata": {},
   "source": [
    "## Анализ A/B-теста"
   ]
  },
  {
   "cell_type": "markdown",
   "metadata": {},
   "source": [
    "### Предобработка данных"
   ]
  },
  {
   "cell_type": "code",
   "execution_count": 6,
   "metadata": {},
   "outputs": [],
   "source": [
    "#Импортируем необходимые библиотеки\n",
    "import scipy.stats as stats\n",
    "import datetime as dt\n",
    "import numpy as np"
   ]
  },
  {
   "cell_type": "code",
   "execution_count": 7,
   "metadata": {},
   "outputs": [
    {
     "data": {
      "text/html": [
       "<div>\n",
       "<style scoped>\n",
       "    .dataframe tbody tr th:only-of-type {\n",
       "        vertical-align: middle;\n",
       "    }\n",
       "\n",
       "    .dataframe tbody tr th {\n",
       "        vertical-align: top;\n",
       "    }\n",
       "\n",
       "    .dataframe thead th {\n",
       "        text-align: right;\n",
       "    }\n",
       "</style>\n",
       "<table border=\"1\" class=\"dataframe\">\n",
       "  <thead>\n",
       "    <tr style=\"text-align: right;\">\n",
       "      <th></th>\n",
       "      <th>transactionId</th>\n",
       "      <th>visitorId</th>\n",
       "      <th>date</th>\n",
       "      <th>revenue</th>\n",
       "      <th>group</th>\n",
       "    </tr>\n",
       "  </thead>\n",
       "  <tbody>\n",
       "    <tr>\n",
       "      <th>0</th>\n",
       "      <td>3667963787</td>\n",
       "      <td>3312258926</td>\n",
       "      <td>2019-08-15</td>\n",
       "      <td>1650</td>\n",
       "      <td>B</td>\n",
       "    </tr>\n",
       "    <tr>\n",
       "      <th>1</th>\n",
       "      <td>2804400009</td>\n",
       "      <td>3642806036</td>\n",
       "      <td>2019-08-15</td>\n",
       "      <td>730</td>\n",
       "      <td>B</td>\n",
       "    </tr>\n",
       "    <tr>\n",
       "      <th>2</th>\n",
       "      <td>2961555356</td>\n",
       "      <td>4069496402</td>\n",
       "      <td>2019-08-15</td>\n",
       "      <td>400</td>\n",
       "      <td>A</td>\n",
       "    </tr>\n",
       "    <tr>\n",
       "      <th>3</th>\n",
       "      <td>3797467345</td>\n",
       "      <td>1196621759</td>\n",
       "      <td>2019-08-15</td>\n",
       "      <td>9759</td>\n",
       "      <td>B</td>\n",
       "    </tr>\n",
       "    <tr>\n",
       "      <th>4</th>\n",
       "      <td>2282983706</td>\n",
       "      <td>2322279887</td>\n",
       "      <td>2019-08-15</td>\n",
       "      <td>2308</td>\n",
       "      <td>B</td>\n",
       "    </tr>\n",
       "  </tbody>\n",
       "</table>\n",
       "</div>"
      ],
      "text/plain": [
       "   transactionId   visitorId        date  revenue group\n",
       "0     3667963787  3312258926  2019-08-15     1650     B\n",
       "1     2804400009  3642806036  2019-08-15      730     B\n",
       "2     2961555356  4069496402  2019-08-15      400     A\n",
       "3     3797467345  1196621759  2019-08-15     9759     B\n",
       "4     2282983706  2322279887  2019-08-15     2308     B"
      ]
     },
     "metadata": {},
     "output_type": "display_data"
    },
    {
     "name": "stdout",
     "output_type": "stream",
     "text": [
      "<class 'pandas.core.frame.DataFrame'>\n",
      "RangeIndex: 1197 entries, 0 to 1196\n",
      "Data columns (total 5 columns):\n",
      " #   Column         Non-Null Count  Dtype \n",
      "---  ------         --------------  ----- \n",
      " 0   transactionId  1197 non-null   int64 \n",
      " 1   visitorId      1197 non-null   int64 \n",
      " 2   date           1197 non-null   object\n",
      " 3   revenue        1197 non-null   int64 \n",
      " 4   group          1197 non-null   object\n",
      "dtypes: int64(3), object(2)\n",
      "memory usage: 46.9+ KB\n"
     ]
    }
   ],
   "source": [
    "#Ознакомимся с представленными датасетами по результатам А/В теста\n",
    "orders = pd.read_csv('/datasets/orders.csv', sep=',')\n",
    "display(orders.head())\n",
    "orders.info()"
   ]
  },
  {
   "cell_type": "code",
   "execution_count": 8,
   "metadata": {},
   "outputs": [
    {
     "data": {
      "text/plain": [
       "0"
      ]
     },
     "execution_count": 8,
     "metadata": {},
     "output_type": "execute_result"
    }
   ],
   "source": [
    "#Изменим тип данных в столбце с датой:\n",
    "orders['date'] = pd.to_datetime(orders['date'])\n",
    "#Переименуем столбцы, названия которых представлены не в змеином регистре:\n",
    "orders = orders.rename(columns={\"transactionId\": \"transaction_id\", \"visitorId\": \"visitor_id\"})\n",
    "#Проверим датасет на наличие дубликатов\n",
    "orders.duplicated().sum()"
   ]
  },
  {
   "cell_type": "code",
   "execution_count": 9,
   "metadata": {},
   "outputs": [
    {
     "data": {
      "text/html": [
       "<div>\n",
       "<style scoped>\n",
       "    .dataframe tbody tr th:only-of-type {\n",
       "        vertical-align: middle;\n",
       "    }\n",
       "\n",
       "    .dataframe tbody tr th {\n",
       "        vertical-align: top;\n",
       "    }\n",
       "\n",
       "    .dataframe thead th {\n",
       "        text-align: right;\n",
       "    }\n",
       "</style>\n",
       "<table border=\"1\" class=\"dataframe\">\n",
       "  <thead>\n",
       "    <tr style=\"text-align: right;\">\n",
       "      <th></th>\n",
       "      <th>date</th>\n",
       "      <th>group</th>\n",
       "      <th>visitors</th>\n",
       "    </tr>\n",
       "  </thead>\n",
       "  <tbody>\n",
       "    <tr>\n",
       "      <th>0</th>\n",
       "      <td>2019-08-01</td>\n",
       "      <td>A</td>\n",
       "      <td>719</td>\n",
       "    </tr>\n",
       "    <tr>\n",
       "      <th>1</th>\n",
       "      <td>2019-08-02</td>\n",
       "      <td>A</td>\n",
       "      <td>619</td>\n",
       "    </tr>\n",
       "    <tr>\n",
       "      <th>2</th>\n",
       "      <td>2019-08-03</td>\n",
       "      <td>A</td>\n",
       "      <td>507</td>\n",
       "    </tr>\n",
       "    <tr>\n",
       "      <th>3</th>\n",
       "      <td>2019-08-04</td>\n",
       "      <td>A</td>\n",
       "      <td>717</td>\n",
       "    </tr>\n",
       "    <tr>\n",
       "      <th>4</th>\n",
       "      <td>2019-08-05</td>\n",
       "      <td>A</td>\n",
       "      <td>756</td>\n",
       "    </tr>\n",
       "  </tbody>\n",
       "</table>\n",
       "</div>"
      ],
      "text/plain": [
       "         date group  visitors\n",
       "0  2019-08-01     A       719\n",
       "1  2019-08-02     A       619\n",
       "2  2019-08-03     A       507\n",
       "3  2019-08-04     A       717\n",
       "4  2019-08-05     A       756"
      ]
     },
     "metadata": {},
     "output_type": "display_data"
    },
    {
     "name": "stdout",
     "output_type": "stream",
     "text": [
      "<class 'pandas.core.frame.DataFrame'>\n",
      "RangeIndex: 62 entries, 0 to 61\n",
      "Data columns (total 3 columns):\n",
      " #   Column    Non-Null Count  Dtype \n",
      "---  ------    --------------  ----- \n",
      " 0   date      62 non-null     object\n",
      " 1   group     62 non-null     object\n",
      " 2   visitors  62 non-null     int64 \n",
      "dtypes: int64(1), object(2)\n",
      "memory usage: 1.6+ KB\n"
     ]
    }
   ],
   "source": [
    "visitors = pd.read_csv('/datasets/visitors.csv', sep=',')\n",
    "display(visitors.head())\n",
    "visitors.info()"
   ]
  },
  {
   "cell_type": "code",
   "execution_count": 10,
   "metadata": {},
   "outputs": [
    {
     "data": {
      "text/plain": [
       "0"
      ]
     },
     "execution_count": 10,
     "metadata": {},
     "output_type": "execute_result"
    }
   ],
   "source": [
    "#Изменим тип данных в столбце с датой:\n",
    "visitors['date'] = pd.to_datetime(visitors['date'])\n",
    "#Проверим датасет на наличие дубликатов\n",
    "visitors.duplicated().sum()"
   ]
  },
  {
   "cell_type": "markdown",
   "metadata": {},
   "source": [
    "**Предобработка данных:**  \n",
    "Пропусков и дубликатов в датасетах нет.  \n",
    "Тип данных в столбцах с датой изменен на datetime.  \n",
    "Названия столбцов приведены к змеиному регистру.  "
   ]
  },
  {
   "cell_type": "markdown",
   "metadata": {},
   "source": [
    "### Аналитическая часть исследования"
   ]
  },
  {
   "cell_type": "markdown",
   "metadata": {},
   "source": [
    "#### Создание кумулятивных таблиц"
   ]
  },
  {
   "cell_type": "code",
   "execution_count": 11,
   "metadata": {},
   "outputs": [
    {
     "data": {
      "text/html": [
       "<div>\n",
       "<style scoped>\n",
       "    .dataframe tbody tr th:only-of-type {\n",
       "        vertical-align: middle;\n",
       "    }\n",
       "\n",
       "    .dataframe tbody tr th {\n",
       "        vertical-align: top;\n",
       "    }\n",
       "\n",
       "    .dataframe thead th {\n",
       "        text-align: right;\n",
       "    }\n",
       "</style>\n",
       "<table border=\"1\" class=\"dataframe\">\n",
       "  <thead>\n",
       "    <tr style=\"text-align: right;\">\n",
       "      <th></th>\n",
       "      <th>date</th>\n",
       "      <th>group</th>\n",
       "    </tr>\n",
       "  </thead>\n",
       "  <tbody>\n",
       "    <tr>\n",
       "      <th>0</th>\n",
       "      <td>2019-08-15</td>\n",
       "      <td>B</td>\n",
       "    </tr>\n",
       "    <tr>\n",
       "      <th>2</th>\n",
       "      <td>2019-08-15</td>\n",
       "      <td>A</td>\n",
       "    </tr>\n",
       "    <tr>\n",
       "      <th>45</th>\n",
       "      <td>2019-08-16</td>\n",
       "      <td>A</td>\n",
       "    </tr>\n",
       "    <tr>\n",
       "      <th>47</th>\n",
       "      <td>2019-08-16</td>\n",
       "      <td>B</td>\n",
       "    </tr>\n",
       "    <tr>\n",
       "      <th>55</th>\n",
       "      <td>2019-08-01</td>\n",
       "      <td>A</td>\n",
       "    </tr>\n",
       "    <tr>\n",
       "      <th>66</th>\n",
       "      <td>2019-08-01</td>\n",
       "      <td>B</td>\n",
       "    </tr>\n",
       "  </tbody>\n",
       "</table>\n",
       "</div>"
      ],
      "text/plain": [
       "         date group\n",
       "0  2019-08-15     B\n",
       "2  2019-08-15     A\n",
       "45 2019-08-16     A\n",
       "47 2019-08-16     B\n",
       "55 2019-08-01     A\n",
       "66 2019-08-01     B"
      ]
     },
     "execution_count": 11,
     "metadata": {},
     "output_type": "execute_result"
    }
   ],
   "source": [
    "# создаем массив уникальных пар значений дат и групп теста\n",
    "datesGroups = orders[['date','group']].drop_duplicates() \n",
    "datesGroups.head(6)"
   ]
  },
  {
   "cell_type": "code",
   "execution_count": 12,
   "metadata": {},
   "outputs": [],
   "source": [
    "#Соберём агрегированные кумулятивные по дням данные о заказах\n",
    "ordersAggregated = datesGroups.apply(\n",
    "    lambda x: orders[\n",
    "        np.logical_and(\n",
    "            orders['date'] <= x['date'], orders['group'] == x['group']\n",
    "        )\n",
    "    ].agg(\n",
    "        {\n",
    "            'date': 'max',\n",
    "            'group': 'max',\n",
    "            'transaction_id': 'nunique',\n",
    "            'visitor_id': 'nunique',\n",
    "            'revenue': 'sum',\n",
    "        }\n",
    "    ),\n",
    "    axis=1,\n",
    ").sort_values(by=['date', 'group'])\n",
    "\n",
    "#Аналогично получим агрегированные кумулятивные по дням данные о посетителях\n",
    "visitorsAggregated = datesGroups.apply(\n",
    "    lambda x: visitors[\n",
    "        np.logical_and(\n",
    "            visitors['date'] <= x['date'], visitors['group'] == x['group']\n",
    "        )\n",
    "    ].agg({'date': 'max', 'group': 'max', 'visitors': 'sum'}),\n",
    "    axis=1,\n",
    ").sort_values(by=['date', 'group'])\n",
    "\n",
    "# объединяем кумулятивные данные в одной таблице и присваиваем ее столбцам понятные названия\n",
    "cumulativeData = ordersAggregated.merge(\n",
    "    visitorsAggregated, left_on=['date', 'group'], right_on=['date', 'group'])\n",
    "cumulativeData.columns = ['date', 'group', 'orders', 'buyers', 'revenue', 'visitors']"
   ]
  },
  {
   "cell_type": "code",
   "execution_count": 13,
   "metadata": {},
   "outputs": [
    {
     "data": {
      "text/html": [
       "<div>\n",
       "<style scoped>\n",
       "    .dataframe tbody tr th:only-of-type {\n",
       "        vertical-align: middle;\n",
       "    }\n",
       "\n",
       "    .dataframe tbody tr th {\n",
       "        vertical-align: top;\n",
       "    }\n",
       "\n",
       "    .dataframe thead th {\n",
       "        text-align: right;\n",
       "    }\n",
       "</style>\n",
       "<table border=\"1\" class=\"dataframe\">\n",
       "  <thead>\n",
       "    <tr style=\"text-align: right;\">\n",
       "      <th></th>\n",
       "      <th>date</th>\n",
       "      <th>group</th>\n",
       "      <th>orders</th>\n",
       "      <th>buyers</th>\n",
       "      <th>revenue</th>\n",
       "      <th>visitors</th>\n",
       "    </tr>\n",
       "  </thead>\n",
       "  <tbody>\n",
       "    <tr>\n",
       "      <th>0</th>\n",
       "      <td>2019-08-01</td>\n",
       "      <td>A</td>\n",
       "      <td>24</td>\n",
       "      <td>20</td>\n",
       "      <td>148579</td>\n",
       "      <td>719</td>\n",
       "    </tr>\n",
       "    <tr>\n",
       "      <th>1</th>\n",
       "      <td>2019-08-01</td>\n",
       "      <td>B</td>\n",
       "      <td>21</td>\n",
       "      <td>20</td>\n",
       "      <td>101217</td>\n",
       "      <td>713</td>\n",
       "    </tr>\n",
       "    <tr>\n",
       "      <th>2</th>\n",
       "      <td>2019-08-02</td>\n",
       "      <td>A</td>\n",
       "      <td>44</td>\n",
       "      <td>38</td>\n",
       "      <td>242401</td>\n",
       "      <td>1338</td>\n",
       "    </tr>\n",
       "    <tr>\n",
       "      <th>3</th>\n",
       "      <td>2019-08-02</td>\n",
       "      <td>B</td>\n",
       "      <td>45</td>\n",
       "      <td>43</td>\n",
       "      <td>266748</td>\n",
       "      <td>1294</td>\n",
       "    </tr>\n",
       "    <tr>\n",
       "      <th>4</th>\n",
       "      <td>2019-08-03</td>\n",
       "      <td>A</td>\n",
       "      <td>68</td>\n",
       "      <td>62</td>\n",
       "      <td>354874</td>\n",
       "      <td>1845</td>\n",
       "    </tr>\n",
       "  </tbody>\n",
       "</table>\n",
       "</div>"
      ],
      "text/plain": [
       "        date group  orders  buyers  revenue  visitors\n",
       "0 2019-08-01     A      24      20   148579       719\n",
       "1 2019-08-01     B      21      20   101217       713\n",
       "2 2019-08-02     A      44      38   242401      1338\n",
       "3 2019-08-02     B      45      43   266748      1294\n",
       "4 2019-08-03     A      68      62   354874      1845"
      ]
     },
     "execution_count": 13,
     "metadata": {},
     "output_type": "execute_result"
    }
   ],
   "source": [
    "cumulativeData.head()"
   ]
  },
  {
   "cell_type": "markdown",
   "metadata": {},
   "source": [
    "### График кумулятивной выручки по группам"
   ]
  },
  {
   "cell_type": "code",
   "execution_count": 14,
   "metadata": {},
   "outputs": [
    {
     "data": {
      "image/png": "[encoded data removed]",
      "text/plain": [
       "<Figure size 1008x288 with 1 Axes>"
      ]
     },
     "metadata": {
      "needs_background": "light"
     },
     "output_type": "display_data"
    }
   ],
   "source": [
    "import matplotlib.pyplot as plt\n",
    "\n",
    "# датафрейм с кумулятивным количеством заказов и кумулятивной выручкой по дням в группе А\n",
    "cumulativeRevenueA = cumulativeData[cumulativeData['group']=='A'][['date','revenue', 'orders']]\n",
    "\n",
    "# датафрейм с кумулятивным количеством заказов и кумулятивной выручкой по дням в группе B\n",
    "cumulativeRevenueB = cumulativeData[cumulativeData['group']=='B'][['date','revenue', 'orders']]\n",
    "\n",
    "\n",
    "plt.figure(figsize=(14, 4)) \n",
    "# Строим график выручки группы А\n",
    "plt.plot(cumulativeRevenueA['date'], cumulativeRevenueA['revenue'], label='A')\n",
    "\n",
    "# Строим график выручки группы B\n",
    "plt.plot(cumulativeRevenueB['date'], cumulativeRevenueB['revenue'], label='B')\n",
    "\n",
    "plt.legend()\n",
    "\n",
    "plt.title('График кумулятивной выручки по группам')\n",
    "plt.xlabel('Дата')\n",
    "plt.ylabel('Выручка')\n",
    "plt.show()\n"
   ]
  },
  {
   "cell_type": "markdown",
   "metadata": {},
   "source": [
    "Выручка растет в каждой из групп.  \n",
    "Выручка группы А растет плавно. Что касается группы B, у неё есть резкий всплеск - возможно это является следствием выброса (допустим в этой группе появился человек, сделавший аномально дорогой заказ) - это мы выясним в дальнейшем исследовании.  "
   ]
  },
  {
   "cell_type": "markdown",
   "metadata": {},
   "source": [
    "### График кумулятивного среднего чека по группам"
   ]
  },
  {
   "cell_type": "code",
   "execution_count": 15,
   "metadata": {},
   "outputs": [
    {
     "data": {
      "image/png": "[encoded data removed]",
      "text/plain": [
       "<Figure size 1008x288 with 1 Axes>"
      ]
     },
     "metadata": {
      "needs_background": "light"
     },
     "output_type": "display_data"
    }
   ],
   "source": [
    "#Построим графики среднего чека по группам — разделим кумулятивную выручку на кумулятивное число заказов:\n",
    "plt.figure(figsize=(14, 4))\n",
    "plt.plot(cumulativeRevenueA['date'], cumulativeRevenueA['revenue']/cumulativeRevenueA['orders'], label='A')\n",
    "plt.plot(cumulativeRevenueB['date'], cumulativeRevenueB['revenue']/cumulativeRevenueB['orders'], label='B')\n",
    "plt.legend() \n",
    "plt.title('График кумулятивного среднего чека по группам')\n",
    "plt.xlabel('Дата')\n",
    "plt.ylabel('Средний чек')\n",
    "plt.show()"
   ]
  },
  {
   "cell_type": "markdown",
   "metadata": {},
   "source": [
    "График кумулятивного среднего чека схож с графиком кумулятивной выручки.  \n",
    "В группе А через две недеи после начала тестирования произошел резкий подъём среднего чека, затем его значения опустились, теперь растут очень медленно. \n",
    "В группе В через примерно 20 дней после начала теста наблюдается резкое увеличение среднего чека, после чего его размер стал снижаться. Возможно это также связано с аномальными показателями некоторых пользователей. Будем разбираться в дальнейшем исследовании.  "
   ]
  },
  {
   "cell_type": "markdown",
   "metadata": {},
   "source": [
    "### График относительного изменения кумулятивного среднего чека группы B к группе A"
   ]
  },
  {
   "cell_type": "code",
   "execution_count": 16,
   "metadata": {},
   "outputs": [
    {
     "data": {
      "text/plain": [
       "<matplotlib.lines.Line2D at 0x7f4b54ce1610>"
      ]
     },
     "execution_count": 16,
     "metadata": {},
     "output_type": "execute_result"
    },
    {
     "data": {
      "image/png": "[encoded data removed]",
      "text/plain": [
       "<Figure size 1008x288 with 1 Axes>"
      ]
     },
     "metadata": {
      "needs_background": "light"
     },
     "output_type": "display_data"
    }
   ],
   "source": [
    "# собираем данные в одном датафрейме\n",
    "mergedCumulativeRevenue = cumulativeRevenueA.merge(cumulativeRevenueB, left_on='date', right_on='date', how='left', suffixes=['A', 'B'])\n",
    "\n",
    "plt.figure(figsize=(14, 4))\n",
    "# cтроим отношение средних чеков\n",
    "plt.plot(mergedCumulativeRevenue['date'], (mergedCumulativeRevenue['revenueB']/mergedCumulativeRevenue['ordersB'])/(mergedCumulativeRevenue['revenueA']/mergedCumulativeRevenue['ordersA'])-1)\n",
    "\n",
    "# добавляем горизонтальную линию поперек оси\n",
    "plt.axhline(y=0, color='black', linestyle='--') "
   ]
  },
  {
   "cell_type": "markdown",
   "metadata": {},
   "source": [
    "Есть точки, в которых наблюдаются очень резкие перепады. Скорее всего, очень крупные заказы затесались в группу А ближе к 13 августа 2019 года и в группу В через неделю после этого.   \n"
   ]
  },
  {
   "cell_type": "markdown",
   "metadata": {},
   "source": [
    "### График кумулятивного среднего количества заказов по группам"
   ]
  },
  {
   "cell_type": "code",
   "execution_count": 17,
   "metadata": {},
   "outputs": [
    {
     "data": {
      "image/png": "[encoded data removed]",
      "text/plain": [
       "<Figure size 1008x288 with 1 Axes>"
      ]
     },
     "metadata": {
      "needs_background": "light"
     },
     "output_type": "display_data"
    }
   ],
   "source": [
    "#Построим графики среднего количества заказов по группам:\n",
    "plt.figure(figsize=(14, 4)) \n",
    "# Строим график выручки группы А\n",
    "plt.plot(cumulativeRevenueA['date'], cumulativeRevenueA['orders'], label='A')\n",
    "\n",
    "# Строим график выручки группы B\n",
    "plt.plot(cumulativeRevenueB['date'], cumulativeRevenueB['orders'], label='B')\n",
    "\n",
    "plt.legend()\n",
    "\n",
    "plt.title('График кумулятивного среднего количества заказов по группам')\n",
    "plt.xlabel('Дата')\n",
    "plt.ylabel('Среднее количество заказов')\n",
    "plt.show()"
   ]
  },
  {
   "cell_type": "markdown",
   "metadata": {},
   "source": [
    "График довольно равномерный: количество заказов растёт, группа В вышла вперед через неделю после начала тестирования и выглядит более успешной по этому показателю. Аномальных скачков не наблюдается.  "
   ]
  },
  {
   "cell_type": "markdown",
   "metadata": {},
   "source": [
    "### График относительного изменения кумулятивного среднего кол-ва заказов группы B к группе A"
   ]
  },
  {
   "cell_type": "code",
   "execution_count": 18,
   "metadata": {},
   "outputs": [
    {
     "data": {
      "text/plain": [
       "<matplotlib.lines.Line2D at 0x7f4b548a92b0>"
      ]
     },
     "execution_count": 18,
     "metadata": {},
     "output_type": "execute_result"
    },
    {
     "data": {
      "image/png": "[encoded data removed]",
      "text/plain": [
       "<Figure size 1008x288 with 1 Axes>"
      ]
     },
     "metadata": {
      "needs_background": "light"
     },
     "output_type": "display_data"
    }
   ],
   "source": [
    "plt.figure(figsize=(14, 4))\n",
    "# cтроим отношение среднего количества заказов\n",
    "plt.plot(mergedCumulativeRevenue['date'], (mergedCumulativeRevenue['ordersB'])/(mergedCumulativeRevenue['ordersA'])-1)\n",
    "\n",
    "# добавляем горизонтальную линию поперек оси\n",
    "plt.axhline(y=0, color='black', linestyle='--') "
   ]
  },
  {
   "cell_type": "markdown",
   "metadata": {},
   "source": [
    "На этом графике видно, что в период с 5 по 9 в группе В среднее количество заказов увеличилось довольно сильно. Возможно появились пользователи, сделавшие довольно много заказов. В дальнейшем разница в среднем количестве заказов остается на стабильном уровне (в группе В их больше на 10-15) процентов."
   ]
  },
  {
   "cell_type": "markdown",
   "metadata": {},
   "source": [
    "### Точечный график количества заказов по пользователям"
   ]
  },
  {
   "cell_type": "code",
   "execution_count": 19,
   "metadata": {},
   "outputs": [
    {
     "data": {
      "text/plain": [
       "<matplotlib.collections.PathCollection at 0x7f4b547d84c0>"
      ]
     },
     "execution_count": 19,
     "metadata": {},
     "output_type": "execute_result"
    },
    {
     "data": {
      "image/png": "[encoded data removed]",
      "text/plain": [
       "<Figure size 432x288 with 1 Axes>"
      ]
     },
     "metadata": {
      "needs_background": "light"
     },
     "output_type": "display_data"
    }
   ],
   "source": [
    "#Создадим таблицу, в которой группируем пользователей по числу сделанных заказов\n",
    "ordersByUsers = (\n",
    "    orders.groupby('visitor_id', as_index=False)\n",
    "    .agg({'transaction_id': 'nunique'})\n",
    ")\n",
    "ordersByUsers.columns = ['visitor_id', 'orders']\n",
    "x_values = pd.Series(range(0,len(ordersByUsers)))\n",
    "\n",
    "plt.scatter(x_values, ordersByUsers['orders']) "
   ]
  },
  {
   "cell_type": "markdown",
   "metadata": {},
   "source": [
    "Точечная диаграмма показывает, что стандартное число заказов на одного пользователя - 1 или 2 (в меньше степени).  \n",
    "Встречаются пользователи с 3-мя заказами, а вот всё что выше - довольно редкие случаи.  \n",
    "Более точно можно будет сказать, посмотрев на перцентили."
   ]
  },
  {
   "cell_type": "code",
   "execution_count": 20,
   "metadata": {},
   "outputs": [
    {
     "data": {
      "text/plain": [
       "array([2., 4.])"
      ]
     },
     "execution_count": 20,
     "metadata": {},
     "output_type": "execute_result"
    }
   ],
   "source": [
    "np.percentile(ordersByUsers['orders'], [95, 99])"
   ]
  },
  {
   "cell_type": "markdown",
   "metadata": {},
   "source": [
    "Итак, не более 5% пользователей оформляли более 2 заказов, менее 1% - более 4.\n",
    "Отсеем аномальных пользователей, взяв за границу 3 заказа."
   ]
  },
  {
   "cell_type": "markdown",
   "metadata": {},
   "source": [
    "### Точечный график стоимостей заказов"
   ]
  },
  {
   "cell_type": "code",
   "execution_count": 21,
   "metadata": {},
   "outputs": [
    {
     "data": {
      "text/plain": [
       "<matplotlib.collections.PathCollection at 0x7f4b547bbc10>"
      ]
     },
     "execution_count": 21,
     "metadata": {},
     "output_type": "execute_result"
    },
    {
     "data": {
      "image/png": "[encoded data removed]",
      "text/plain": [
       "<Figure size 432x288 with 1 Axes>"
      ]
     },
     "metadata": {
      "needs_background": "light"
     },
     "output_type": "display_data"
    }
   ],
   "source": [
    "#Создадим таблицу, в которой группируем пользователей по сумме стомости их заказов\n",
    "revenueByUsers = (\n",
    "    orders.groupby('visitor_id', as_index=False)\n",
    "    .agg({'revenue': 'sum'})\n",
    ")\n",
    "revenueByUsers.columns = ['visitor_id', 'revenue']\n",
    "x_values = pd.Series(range(0,len(revenueByUsers)))\n",
    "\n",
    "plt.scatter(x_values, revenueByUsers['revenue']) "
   ]
  },
  {
   "cell_type": "markdown",
   "metadata": {},
   "source": [
    "В глаза бросаются несколько пользователей с суммой заказов свыше 100 000 и один очень щедрый клиент, потративший на свой заказ больше 1200000. Это явно выбросы, что подтвердят и перцентили."
   ]
  },
  {
   "cell_type": "code",
   "execution_count": 22,
   "metadata": {},
   "outputs": [
    {
     "data": {
      "text/html": [
       "<div>\n",
       "<style scoped>\n",
       "    .dataframe tbody tr th:only-of-type {\n",
       "        vertical-align: middle;\n",
       "    }\n",
       "\n",
       "    .dataframe tbody tr th {\n",
       "        vertical-align: top;\n",
       "    }\n",
       "\n",
       "    .dataframe thead th {\n",
       "        text-align: right;\n",
       "    }\n",
       "</style>\n",
       "<table border=\"1\" class=\"dataframe\">\n",
       "  <thead>\n",
       "    <tr style=\"text-align: right;\">\n",
       "      <th></th>\n",
       "      <th>visitor_id</th>\n",
       "      <th>revenue</th>\n",
       "    </tr>\n",
       "  </thead>\n",
       "  <tbody>\n",
       "    <tr>\n",
       "      <th>463</th>\n",
       "      <td>1920142716</td>\n",
       "      <td>1294500</td>\n",
       "    </tr>\n",
       "    <tr>\n",
       "      <th>503</th>\n",
       "      <td>2108080724</td>\n",
       "      <td>202740</td>\n",
       "    </tr>\n",
       "    <tr>\n",
       "      <th>1023</th>\n",
       "      <td>4256040402</td>\n",
       "      <td>176490</td>\n",
       "    </tr>\n",
       "    <tr>\n",
       "      <th>1026</th>\n",
       "      <td>4266935830</td>\n",
       "      <td>157980</td>\n",
       "    </tr>\n",
       "    <tr>\n",
       "      <th>569</th>\n",
       "      <td>2378935119</td>\n",
       "      <td>142939</td>\n",
       "    </tr>\n",
       "    <tr>\n",
       "      <th>316</th>\n",
       "      <td>1316129916</td>\n",
       "      <td>94770</td>\n",
       "    </tr>\n",
       "    <tr>\n",
       "      <th>314</th>\n",
       "      <td>1307669133</td>\n",
       "      <td>92550</td>\n",
       "    </tr>\n",
       "    <tr>\n",
       "      <th>213</th>\n",
       "      <td>888512513</td>\n",
       "      <td>86620</td>\n",
       "    </tr>\n",
       "    <tr>\n",
       "      <th>744</th>\n",
       "      <td>3062433592</td>\n",
       "      <td>75459</td>\n",
       "    </tr>\n",
       "    <tr>\n",
       "      <th>186</th>\n",
       "      <td>759473111</td>\n",
       "      <td>72000</td>\n",
       "    </tr>\n",
       "  </tbody>\n",
       "</table>\n",
       "</div>"
      ],
      "text/plain": [
       "      visitor_id  revenue\n",
       "463   1920142716  1294500\n",
       "503   2108080724   202740\n",
       "1023  4256040402   176490\n",
       "1026  4266935830   157980\n",
       "569   2378935119   142939\n",
       "316   1316129916    94770\n",
       "314   1307669133    92550\n",
       "213    888512513    86620\n",
       "744   3062433592    75459\n",
       "186    759473111    72000"
      ]
     },
     "execution_count": 22,
     "metadata": {},
     "output_type": "execute_result"
    }
   ],
   "source": [
    "#Страна должна знать своих героев, посмотрим на ID самых щедрых клиентов\n",
    "revenueByUsers.sort_values(by='revenue', ascending = False).head(10)"
   ]
  },
  {
   "cell_type": "code",
   "execution_count": 23,
   "metadata": {},
   "outputs": [
    {
     "data": {
      "text/plain": [
       "array([32899.5, 67750. ])"
      ]
     },
     "execution_count": 23,
     "metadata": {},
     "output_type": "execute_result"
    }
   ],
   "source": [
    "np.percentile(revenueByUsers['revenue'], [95, 99])"
   ]
  },
  {
   "cell_type": "markdown",
   "metadata": {},
   "source": [
    "95 процентов пользователей укладываются в 32899 у.е., 99 процентов - в 67750.  \n",
    "Аномальными будем считать тех, кто тратит больше 33000 - они, конечно, важны для интернет-магазина, но для А/В теста их заказы сослужат плохую службу."
   ]
  },
  {
   "cell_type": "markdown",
   "metadata": {},
   "source": [
    "### Cтатистическая значимость различий в среднем количестве заказов между группами по «сырым» данным"
   ]
  },
  {
   "cell_type": "markdown",
   "metadata": {},
   "source": [
    "**Сырые данные** -  данные без удаления аномальных пользователей.  \n",
    "Сформируем гипотезы:  \n",
    "- Нулевая: различий в среднем количестве заказов между группами нет.  \n",
    "- Альтернативная: различия в среднем между группами есть."
   ]
  },
  {
   "cell_type": "code",
   "execution_count": 27,
   "metadata": {},
   "outputs": [
    {
     "data": {
      "text/html": [
       "<div>\n",
       "<style scoped>\n",
       "    .dataframe tbody tr th:only-of-type {\n",
       "        vertical-align: middle;\n",
       "    }\n",
       "\n",
       "    .dataframe tbody tr th {\n",
       "        vertical-align: top;\n",
       "    }\n",
       "\n",
       "    .dataframe thead th {\n",
       "        text-align: right;\n",
       "    }\n",
       "</style>\n",
       "<table border=\"1\" class=\"dataframe\">\n",
       "  <thead>\n",
       "    <tr style=\"text-align: right;\">\n",
       "      <th></th>\n",
       "      <th>date</th>\n",
       "      <th>ordersPerDateA</th>\n",
       "      <th>revenuePerDateA</th>\n",
       "      <th>ordersPerDateB</th>\n",
       "      <th>revenuePerDateB</th>\n",
       "      <th>ordersCummulativeA</th>\n",
       "      <th>revenueCummulativeA</th>\n",
       "      <th>ordersCummulativeB</th>\n",
       "      <th>revenueCummulativeB</th>\n",
       "      <th>visitorsPerDateA</th>\n",
       "      <th>visitorsPerDateB</th>\n",
       "      <th>visitorsCummulativeA</th>\n",
       "      <th>visitorsCummulativeB</th>\n",
       "    </tr>\n",
       "  </thead>\n",
       "  <tbody>\n",
       "    <tr>\n",
       "      <th>0</th>\n",
       "      <td>2019-08-01</td>\n",
       "      <td>24</td>\n",
       "      <td>148579</td>\n",
       "      <td>21</td>\n",
       "      <td>101217</td>\n",
       "      <td>24</td>\n",
       "      <td>148579</td>\n",
       "      <td>21</td>\n",
       "      <td>101217</td>\n",
       "      <td>719</td>\n",
       "      <td>713</td>\n",
       "      <td>719</td>\n",
       "      <td>713</td>\n",
       "    </tr>\n",
       "    <tr>\n",
       "      <th>1</th>\n",
       "      <td>2019-08-02</td>\n",
       "      <td>20</td>\n",
       "      <td>93822</td>\n",
       "      <td>24</td>\n",
       "      <td>165531</td>\n",
       "      <td>44</td>\n",
       "      <td>242401</td>\n",
       "      <td>45</td>\n",
       "      <td>266748</td>\n",
       "      <td>619</td>\n",
       "      <td>581</td>\n",
       "      <td>1338</td>\n",
       "      <td>1294</td>\n",
       "    </tr>\n",
       "    <tr>\n",
       "      <th>2</th>\n",
       "      <td>2019-08-03</td>\n",
       "      <td>24</td>\n",
       "      <td>112473</td>\n",
       "      <td>16</td>\n",
       "      <td>114248</td>\n",
       "      <td>68</td>\n",
       "      <td>354874</td>\n",
       "      <td>61</td>\n",
       "      <td>380996</td>\n",
       "      <td>507</td>\n",
       "      <td>509</td>\n",
       "      <td>1845</td>\n",
       "      <td>1803</td>\n",
       "    </tr>\n",
       "    <tr>\n",
       "      <th>3</th>\n",
       "      <td>2019-08-04</td>\n",
       "      <td>16</td>\n",
       "      <td>70825</td>\n",
       "      <td>17</td>\n",
       "      <td>108571</td>\n",
       "      <td>84</td>\n",
       "      <td>425699</td>\n",
       "      <td>78</td>\n",
       "      <td>489567</td>\n",
       "      <td>717</td>\n",
       "      <td>770</td>\n",
       "      <td>2562</td>\n",
       "      <td>2573</td>\n",
       "    </tr>\n",
       "    <tr>\n",
       "      <th>4</th>\n",
       "      <td>2019-08-05</td>\n",
       "      <td>25</td>\n",
       "      <td>124218</td>\n",
       "      <td>23</td>\n",
       "      <td>92428</td>\n",
       "      <td>109</td>\n",
       "      <td>549917</td>\n",
       "      <td>101</td>\n",
       "      <td>581995</td>\n",
       "      <td>756</td>\n",
       "      <td>707</td>\n",
       "      <td>3318</td>\n",
       "      <td>3280</td>\n",
       "    </tr>\n",
       "  </tbody>\n",
       "</table>\n",
       "</div>"
      ],
      "text/plain": [
       "        date  ordersPerDateA  revenuePerDateA  ordersPerDateB  \\\n",
       "0 2019-08-01              24           148579              21   \n",
       "1 2019-08-02              20            93822              24   \n",
       "2 2019-08-03              24           112473              16   \n",
       "3 2019-08-04              16            70825              17   \n",
       "4 2019-08-05              25           124218              23   \n",
       "\n",
       "   revenuePerDateB  ordersCummulativeA  revenueCummulativeA  \\\n",
       "0           101217                  24               148579   \n",
       "1           165531                  44               242401   \n",
       "2           114248                  68               354874   \n",
       "3           108571                  84               425699   \n",
       "4            92428                 109               549917   \n",
       "\n",
       "   ordersCummulativeB  revenueCummulativeB  visitorsPerDateA  \\\n",
       "0                  21               101217               719   \n",
       "1                  45               266748               619   \n",
       "2                  61               380996               507   \n",
       "3                  78               489567               717   \n",
       "4                 101               581995               756   \n",
       "\n",
       "   visitorsPerDateB  visitorsCummulativeA  visitorsCummulativeB  \n",
       "0               713                   719                   713  \n",
       "1               581                  1338                  1294  \n",
       "2               509                  1845                  1803  \n",
       "3               770                  2562                  2573  \n",
       "4               707                  3318                  3280  "
      ]
     },
     "execution_count": 27,
     "metadata": {},
     "output_type": "execute_result"
    }
   ],
   "source": [
    "#количество посетителей сайта из группы А в каждый из дней исследования:\n",
    "visitorsADaily = visitors[visitors['group'] == 'A'][['date', 'visitors']] \n",
    "visitorsADaily.columns = ['date', 'visitorsPerDateA']\n",
    "\n",
    "#кумулятивное количество посетителей сайта из группы А в каждый из дней исследования:\n",
    "visitorsACummulative = visitorsADaily.apply(\n",
    "    lambda x: visitorsADaily[visitorsADaily['date'] <= x['date']].agg(\n",
    "        {'date': 'max', 'visitorsPerDateA': 'sum'}), axis=1, )\n",
    "visitorsACummulative.columns = ['date', 'visitorsCummulativeA']\n",
    "\n",
    "#количество посетителей сайта из группы В в каждый из дней исследования:\n",
    "visitorsBDaily = visitors[visitors['group'] == 'B'][['date', 'visitors']]\n",
    "visitorsBDaily.columns = ['date', 'visitorsPerDateB']\n",
    "\n",
    "#количество посетителей сайта из группы В в каждый из дней исследования:\n",
    "visitorsBCummulative = visitorsBDaily.apply(\n",
    "    lambda x: visitorsBDaily[visitorsBDaily['date'] <= x['date']].agg(\n",
    "        {'date': 'max', 'visitorsPerDateB': 'sum'}), axis=1,)\n",
    "visitorsBCummulative.columns = ['date', 'visitorsCummulativeB']\n",
    "\n",
    "#количество заказов и их стоимость из группы А в каждый из дней исследования:\n",
    "ordersADaily = (\n",
    "    orders[orders['group'] == 'A'][['date', 'transaction_id', 'visitor_id', 'revenue']]\n",
    "    .groupby('date', as_index=False)\n",
    "    .agg({'transaction_id': pd.Series.nunique, 'revenue': 'sum'}))\n",
    "ordersADaily.columns = ['date', 'ordersPerDateA', 'revenuePerDateA']\n",
    "\n",
    "#кумулятивное количество заказов и их стоимость из группы А в каждый из дней исследования:\n",
    "ordersACummulative = ordersADaily.apply(\n",
    "    lambda x: ordersADaily[ordersADaily['date'] <= x['date']].agg(\n",
    "        {'date': 'max', 'ordersPerDateA': 'sum', 'revenuePerDateA': 'sum'}), axis=1,).sort_values(by=['date'])\n",
    "ordersACummulative.columns = [\n",
    "    'date',\n",
    "    'ordersCummulativeA',\n",
    "    'revenueCummulativeA']\n",
    "\n",
    "#количество заказов и их стоимость из группы В в каждый из дней исследования:\n",
    "ordersBDaily = (\n",
    "    orders[orders['group'] == 'B'][['date', 'transaction_id', 'visitor_id', 'revenue']]\n",
    "    .groupby('date', as_index=False)\n",
    "    .agg({'transaction_id': pd.Series.nunique, 'revenue': 'sum'}))\n",
    "ordersBDaily.columns = ['date', 'ordersPerDateB', 'revenuePerDateB']\n",
    "\n",
    "#кумулятивное количество заказов и их стоимость из группы В в каждый из дней исследования:\n",
    "ordersBCummulative = ordersBDaily.apply(\n",
    "    lambda x: ordersBDaily[ordersBDaily['date'] <= x['date']].agg(\n",
    "        {'date': 'max', 'ordersPerDateB': 'sum', 'revenuePerDateB': 'sum'}),axis=1,).sort_values(by=['date'])\n",
    "ordersBCummulative.columns = [\n",
    "    'date',\n",
    "    'ordersCummulativeB',\n",
    "    'revenueCummulativeB']\n",
    "\n",
    "# Создадим таблицу, в которой объединим все созданные ранее в этом окне кода\n",
    "ABdata = (\n",
    "    ordersADaily.merge(\n",
    "        ordersBDaily, left_on='date', right_on='date', how='left'\n",
    "    )\n",
    "    .merge(ordersACummulative, left_on='date', right_on='date', how='left')\n",
    "    .merge(ordersBCummulative, left_on='date', right_on='date', how='left')\n",
    "    .merge(visitorsADaily, left_on='date', right_on='date', how='left')\n",
    "    .merge(visitorsBDaily, left_on='date', right_on='date', how='left')\n",
    "    .merge(visitorsACummulative, left_on='date', right_on='date', how='left')\n",
    "    .merge(visitorsBCummulative, left_on='date', right_on='date', how='left')\n",
    ")\n",
    "\n",
    "ABdata.head()"
   ]
  },
  {
   "cell_type": "code",
   "execution_count": 28,
   "metadata": {},
   "outputs": [],
   "source": [
    "#Создадим переменные ordersByUsersA и ordersByUsersB со столбцами ['visitor_id', 'orders'].  \n",
    "#В них для пользователей, которые заказывали хотя бы 1 раз, укажем число совершённых заказов.\n",
    "ordersByUsersA = (\n",
    "    orders[orders['group'] == 'A']\n",
    "    .groupby('visitor_id', as_index=False)\n",
    "    .agg({'transaction_id': pd.Series.nunique})\n",
    ")\n",
    "ordersByUsersA.columns = ['visitor_id', 'orders']\n",
    "\n",
    "ordersByUsersB = (\n",
    "    orders[orders['group'] == 'B']\n",
    "    .groupby('visitor_id', as_index=False)\n",
    "    .agg({'transaction_id': pd.Series.nunique})\n",
    ")\n",
    "ordersByUsersB.columns = ['visitor_id', 'orders'] "
   ]
  },
  {
   "cell_type": "code",
   "execution_count": 30,
   "metadata": {},
   "outputs": [],
   "source": [
    "#Объявим переменные sampleA и sampleB, в которых пользователям из разных групп будет соответствовать количество заказов.\n",
    "#SampleA будет состоять из двух частей:\n",
    "#Список с количеством заказов для каждого из пользователей: ordersByUsersA['orders'].\n",
    "#Нули для пользователей, которые ничего не заказывали.\n",
    "#Их количество равно разнице между суммой посетителей и количеством записей о заказах\n",
    "sampleA = pd.concat([ordersByUsersA['orders'],pd.Series(0,\n",
    "index=np.arange(ABdata['visitorsPerDateA'].sum() - len(ordersByUsersA['orders'])), name='orders')],axis=0)\n",
    "\n",
    "#Та же схема для группы B\n",
    "sampleB = pd.concat([ordersByUsersB['orders'],pd.Series(0,\n",
    "index=np.arange(ABdata['visitorsPerDateB'].sum() - len(ordersByUsersB['orders'])), name='orders')],axis=0) "
   ]
  },
  {
   "cell_type": "markdown",
   "metadata": {},
   "source": [
    "**Определяем статистическую значимость:**  \n",
    "Выборки подвергаем проверке критерием Манна-Уитни.\n",
    "\n",
    "В sampleA сохранена выборка, где каждый элемент — число заказов определённого пользователя, в том числе ноль.  \n",
    "Значит, число элементов sampleA — это количество пользователей, сумма всех элементов — количество заказов.  \n",
    "Чтобы получить среднее число заказов на пользователя, поделим сумму заказов на число пользователей — найдём среднее в выборке sampleA методом mean().  \n",
    "Аналогично найдём среднее группы B: SampleB.mean().  \n",
    "Выведем относительный прирост среднего числа заказов группы B: среднее число заказов группы B / среднее число заказов группы A - 1. "
   ]
  },
  {
   "cell_type": "code",
   "execution_count": 31,
   "metadata": {},
   "outputs": [
    {
     "data": {
      "text/plain": [
       "'0.017'"
      ]
     },
     "metadata": {},
     "output_type": "display_data"
    },
    {
     "data": {
      "text/plain": [
       "'0.138'"
      ]
     },
     "execution_count": 31,
     "metadata": {},
     "output_type": "execute_result"
    }
   ],
   "source": [
    "display(\"{0:.3f}\".format(stats.mannwhitneyu(sampleA, sampleB)[1]))\n",
    "\n",
    "\"{0:.3f}\".format(sampleB.mean() / sampleA.mean() - 1)"
   ]
  },
  {
   "cell_type": "markdown",
   "metadata": {},
   "source": [
    "**Вывод:**  \n",
    "По «сырым» данным различия в среднем числе заказов групп A и B есть.\n",
    "P-value = 0.017 меньше 0.05. Значит, мы отвергаем нулевую гипотезу о том, что статистически значимых различий в среднем числе заказов между группами нет.  \n",
    "Относительный выигрыш группы B равен 13.8% — второе число в выводе.\n"
   ]
  },
  {
   "cell_type": "markdown",
   "metadata": {},
   "source": [
    "### Статистическая значимость различий в среднем чеке между группами"
   ]
  },
  {
   "cell_type": "markdown",
   "metadata": {},
   "source": [
    "Сформулируем предположения:  \n",
    "- Нулевая гипотеза: различий в среднем чеке между группами нет.\n",
    "- Альтернативная гипотеза: различия в среднем чеке между группами есть."
   ]
  },
  {
   "cell_type": "code",
   "execution_count": 32,
   "metadata": {},
   "outputs": [
    {
     "data": {
      "text/plain": [
       "'0.729'"
      ]
     },
     "metadata": {},
     "output_type": "display_data"
    },
    {
     "data": {
      "text/plain": [
       "'0.259'"
      ]
     },
     "execution_count": 32,
     "metadata": {},
     "output_type": "execute_result"
    }
   ],
   "source": [
    "display('{0:.3f}'.format(stats.mannwhitneyu(orders[orders['group']=='A']['revenue'], orders[orders['group']=='B']['revenue'])[1]))\n",
    "'{0:.3f}'.format(orders[orders['group']=='B']['revenue'].mean()/orders[orders['group']=='A']['revenue'].mean()-1)"
   ]
  },
  {
   "cell_type": "markdown",
   "metadata": {},
   "source": [
    "**Вывод:**  \n",
    "P-value значительно больше 0.05. Значит, причин отвергать нулевую гипотезу и считать, что в среднем чеке есть различия, нет.  \n",
    "Удивительно, но при этом, средний чек группы B на 25,9% выше среднего чека группы A. Явно прослеживается влияние выбросов."
   ]
  },
  {
   "cell_type": "markdown",
   "metadata": {},
   "source": [
    "### Определение \"аномальных пользователей\""
   ]
  },
  {
   "cell_type": "markdown",
   "metadata": {},
   "source": [
    "**Очищенные данные** - данные без \"аномальных\" пользователей, сделавших очень большое количество заказов либо потративших очень большую сумму.  "
   ]
  },
  {
   "cell_type": "code",
   "execution_count": 33,
   "metadata": {},
   "outputs": [
    {
     "data": {
      "text/plain": [
       "49"
      ]
     },
     "execution_count": 33,
     "metadata": {},
     "output_type": "execute_result"
    }
   ],
   "source": [
    "# Сделаем срезы пользователей с числом заказов больше 3\n",
    "usersWithManyOrders = pd.concat(\n",
    "    [\n",
    "        ordersByUsersA[ordersByUsersA['orders'] > 3]['visitor_id'],\n",
    "        ordersByUsersB[ordersByUsersB['orders'] > 3]['visitor_id'],\n",
    "    ],\n",
    "    axis=0,\n",
    ")\n",
    "\n",
    "# Сделаем срезы пользователей, совершивших заказы стоимостью больше 33000\n",
    "usersWithExpensiveOrders = orders[orders['revenue'] > 33000]['visitor_id']\n",
    "\n",
    "#Объединим срезы в список \"аномальных пользователей\"\n",
    "#Не забудем удалить дубликаты (пользователи одновременно могут и делать много заказов и тратить много денег)\n",
    "abnormalUsers = (\n",
    "    pd.concat([usersWithManyOrders, usersWithExpensiveOrders], axis=0)\n",
    "    .drop_duplicates()\n",
    "    .sort_values())\n",
    "len(abnormalUsers)"
   ]
  },
  {
   "cell_type": "markdown",
   "metadata": {},
   "source": [
    "49 пользователей - молодцы, много заказывают, тратят в магазине большие деньги. Но для объективного А/В теста они являются помехой."
   ]
  },
  {
   "cell_type": "markdown",
   "metadata": {},
   "source": [
    "### Cтатистическая значимость различий в среднем количестве заказов между группами по «очищенным» данным"
   ]
  },
  {
   "cell_type": "markdown",
   "metadata": {},
   "source": [
    "Гипотезы те же:\n",
    "- Нулевая: различий в среднем количестве заказов между группами нет.\n",
    "- Альтернативная: различия в среднем между группами есть."
   ]
  },
  {
   "cell_type": "code",
   "execution_count": 34,
   "metadata": {},
   "outputs": [],
   "source": [
    "#Подготовим выборки количества заказов по пользователям по группам теста:\n",
    "sampleAFiltered = pd.concat([ordersByUsersA[np.logical_not(ordersByUsersA['visitor_id'].isin(abnormalUsers))]['orders'],\n",
    "pd.Series(0, index=np.arange(ABdata['visitorsPerDateA'].sum() - len(ordersByUsersA['orders'])), name='orders')], axis=0)\n",
    "\n",
    "sampleBFiltered = pd.concat([ordersByUsersB[np.logical_not(ordersByUsersB['visitor_id'].isin(abnormalUsers))]['orders'],\n",
    "pd.Series(0, index=np.arange(ABdata['visitorsPerDateB'].sum() - len(ordersByUsersB['orders'])), name='orders')], axis=0)\n",
    "\n",
    "#В этих выборках пользователям из разных групп будет соответствовать количество заказов, тем кто заказов не делал - нули.\n",
    "#Из выборки исключены \"аномальные пользователи\""
   ]
  },
  {
   "cell_type": "code",
   "execution_count": 35,
   "metadata": {},
   "outputs": [
    {
     "data": {
      "text/plain": [
       "'0.016'"
      ]
     },
     "metadata": {},
     "output_type": "display_data"
    },
    {
     "data": {
      "text/plain": [
       "'0.152'"
      ]
     },
     "metadata": {},
     "output_type": "display_data"
    }
   ],
   "source": [
    "#Применим статистический критерий Манна-Уитни к полученным выборкам\n",
    "display('{0:.3f}'.format(stats.mannwhitneyu(sampleAFiltered, sampleBFiltered)[1]))\n",
    "#Выведем относительный прирост среднего числа заказов группы B\n",
    "display('{0:.3f}'.format(sampleBFiltered.mean()/sampleAFiltered.mean()-1)) "
   ]
  },
  {
   "cell_type": "markdown",
   "metadata": {},
   "source": [
    "**Вывод:**  \n",
    "Очищенные данные дают те же результаты, что и сырые. Показатель P-value меньше 0,05: нулевую гипотезу отвергаем.  \n",
    "Различия между группами есть, вторая группа даёт на 15,2 % процента больше заказов"
   ]
  },
  {
   "cell_type": "markdown",
   "metadata": {},
   "source": [
    "### Cтатистическая значимость различий в среднем чеке заказа между группами по «очищенным» данным"
   ]
  },
  {
   "cell_type": "markdown",
   "metadata": {},
   "source": [
    "Сформулируем предположения:  \n",
    "- Нулевая гипотеза: различий в среднем чеке между группами нет.\n",
    "- Альтернативная гипотеза: различия в среднем чеке между группами есть."
   ]
  },
  {
   "cell_type": "code",
   "execution_count": 36,
   "metadata": {},
   "outputs": [
    {
     "data": {
      "text/plain": [
       "'0.945'"
      ]
     },
     "metadata": {},
     "output_type": "display_data"
    },
    {
     "data": {
      "text/plain": [
       "'0.004'"
      ]
     },
     "metadata": {},
     "output_type": "display_data"
    }
   ],
   "source": [
    "display('{0:.3f}'.format(stats.mannwhitneyu(orders[np.logical_and(orders['group'] == 'A',\n",
    "np.logical_not(orders['visitor_id'].isin(abnormalUsers)))]['revenue'],\n",
    "orders[np.logical_and(orders['group'] == 'B', np.logical_not(orders['visitor_id'].isin(abnormalUsers)))]['revenue'])[1]))\n",
    "\n",
    "display(\"{0:.3f}\".format(orders[np.logical_and(orders['group'] == 'B',np.logical_not(orders['visitor_id'].isin(abnormalUsers)))]\n",
    "['revenue'].mean()/ orders[np.logical_and(orders['group'] == 'A', np.logical_not(orders['visitor_id'].isin(abnormalUsers)))]\n",
    "['revenue'].mean()- 1)) "
   ]
  },
  {
   "cell_type": "markdown",
   "metadata": {},
   "source": [
    "**Вывод:**\n",
    "Нулевую гипотезу отвергнуть нельзя - значение P-value очень высоко.  \n",
    "В выборках с очищенными данными группа B показывает средний чек на 0,4 процента выше, чем группа А."
   ]
  },
  {
   "cell_type": "markdown",
   "metadata": {},
   "source": [
    "## Выводы по результатам А/В-теста"
   ]
  },
  {
   "cell_type": "markdown",
   "metadata": {},
   "source": [
    "Графики кумулятивной выручки, среднего чека и количества заказов показывают преимущество группы В.  \n",
    "При этом, существуют резкие скачки - как мы выяснили в ходе исследования, они связаны с поведением \"аномальных\" пользователей - они делают большое количество заказов и тратят суммы, гораздо больше средних значений.  \n",
    "В связи с этим, в процессе исследования были проверены гипотезы о различиях в изучаемых группах в двух видах:  \n",
    "- По сырым данным (без удаления аномальных пользователей)\n",
    "- По очищенным данным (без учета аномальных пользователей)\n",
    "\n",
    "Для групп А и В были проверены гипотезы о различиях в среднем количестве заказов и среднем чеке.  \n",
    "И по сырым и по очищенным данным можно констатировать:\n",
    "- Различия в среднем количестве заказов между группами есть. По сырым данным это 13,8 процента в пользу группы В, по очищенным группа В превышает А на 15,2 %.  \n",
    "- Различий в среднем чеке между группами нет.  При этом, если по сырым данным средний чек группы В на четверть больше, чем группы А, то по очищенным разница не так существенна: всего 0,4%."
   ]
  },
  {
   "cell_type": "markdown",
   "metadata": {},
   "source": [
    "## Решение по результатам теста "
   ]
  },
  {
   "cell_type": "markdown",
   "metadata": {},
   "source": [
    "Опираясь на данные, полученные в результате исследования, **принято решение остановить А/В-тест и зафиксировать победу группы В**.  Напомним, задача, которая стоит перед интернет-магазином это увеличение выручки.  \n",
    "Изменения, которые предполагаются в случае победы группы В могут привести к увеличению количества заказов примерно на 15% - это поможет увеличить выручку, при том, что средний чек не станет меньше."
   ]
  },
  {
   "cell_type": "code",
   "execution_count": null,
   "metadata": {},
   "outputs": [],
   "source": []
  }
 ],
 "metadata": {
  "ExecuteTimeLog": [
   {
    "duration": 416,
    "start_time": "2022-10-21T07:12:41.807Z"
   },
   {
    "duration": 78,
    "start_time": "2022-10-21T07:19:21.693Z"
   },
   {
    "duration": 3,
    "start_time": "2022-10-21T07:19:31.130Z"
   },
   {
    "duration": 1392,
    "start_time": "2022-10-21T07:19:32.549Z"
   },
   {
    "duration": 38,
    "start_time": "2022-10-21T07:19:54.628Z"
   },
   {
    "duration": 31,
    "start_time": "2022-10-21T07:20:47.230Z"
   },
   {
    "duration": 39,
    "start_time": "2022-10-21T07:21:08.931Z"
   },
   {
    "duration": 35,
    "start_time": "2022-10-21T07:21:20.767Z"
   },
   {
    "duration": 33,
    "start_time": "2022-10-21T07:21:33.847Z"
   },
   {
    "duration": 5,
    "start_time": "2022-10-21T07:26:28.888Z"
   },
   {
    "duration": 79,
    "start_time": "2022-10-21T07:29:05.039Z"
   },
   {
    "duration": 78,
    "start_time": "2022-10-21T07:29:18.707Z"
   },
   {
    "duration": 3,
    "start_time": "2022-10-21T07:29:40.607Z"
   },
   {
    "duration": 5,
    "start_time": "2022-10-21T07:29:54.147Z"
   },
   {
    "duration": 5,
    "start_time": "2022-10-21T07:30:05.131Z"
   },
   {
    "duration": 5,
    "start_time": "2022-10-21T07:30:40.268Z"
   },
   {
    "duration": 1199,
    "start_time": "2022-10-21T07:38:45.247Z"
   },
   {
    "duration": 14,
    "start_time": "2022-10-21T07:39:06.805Z"
   },
   {
    "duration": 452,
    "start_time": "2022-10-21T08:10:32.691Z"
   },
   {
    "duration": 227,
    "start_time": "2022-10-21T08:15:12.549Z"
   },
   {
    "duration": 594,
    "start_time": "2022-10-21T08:16:00.248Z"
   },
   {
    "duration": 109,
    "start_time": "2022-10-21T08:16:31.250Z"
   },
   {
    "duration": 33,
    "start_time": "2022-10-21T08:17:48.205Z"
   },
   {
    "duration": 34,
    "start_time": "2022-10-21T08:17:58.490Z"
   },
   {
    "duration": 55,
    "start_time": "2022-10-21T08:27:58.657Z"
   },
   {
    "duration": 31,
    "start_time": "2022-10-21T08:28:00.217Z"
   },
   {
    "duration": 67,
    "start_time": "2022-10-21T08:30:20.484Z"
   },
   {
    "duration": 5,
    "start_time": "2022-10-21T08:30:54.503Z"
   },
   {
    "duration": 47,
    "start_time": "2022-10-21T08:31:27.528Z"
   },
   {
    "duration": 46,
    "start_time": "2022-10-21T08:31:35.134Z"
   },
   {
    "duration": 11,
    "start_time": "2022-10-21T08:31:48.896Z"
   },
   {
    "duration": 13,
    "start_time": "2022-10-21T08:33:28.967Z"
   },
   {
    "duration": 9,
    "start_time": "2022-10-21T08:33:45.809Z"
   },
   {
    "duration": 9,
    "start_time": "2022-10-21T08:37:40.847Z"
   },
   {
    "duration": 10,
    "start_time": "2022-10-21T08:37:50.890Z"
   },
   {
    "duration": 7,
    "start_time": "2022-10-21T08:38:20.944Z"
   },
   {
    "duration": 13,
    "start_time": "2022-10-21T08:38:33.788Z"
   },
   {
    "duration": 7,
    "start_time": "2022-10-21T08:48:10.170Z"
   },
   {
    "duration": 13,
    "start_time": "2022-10-21T08:52:09.708Z"
   },
   {
    "duration": 10,
    "start_time": "2022-10-21T08:52:29.252Z"
   },
   {
    "duration": 79,
    "start_time": "2022-10-21T08:54:26.134Z"
   },
   {
    "duration": 24,
    "start_time": "2022-10-21T08:54:36.060Z"
   },
   {
    "duration": 23,
    "start_time": "2022-10-21T08:55:31.991Z"
   },
   {
    "duration": 10,
    "start_time": "2022-10-21T08:56:02.409Z"
   },
   {
    "duration": 15,
    "start_time": "2022-10-21T08:56:11.706Z"
   },
   {
    "duration": 10,
    "start_time": "2022-10-21T08:56:23.306Z"
   },
   {
    "duration": 11,
    "start_time": "2022-10-21T08:56:24.246Z"
   },
   {
    "duration": 45,
    "start_time": "2022-10-21T08:56:29.703Z"
   },
   {
    "duration": 7,
    "start_time": "2022-10-21T08:56:30.307Z"
   },
   {
    "duration": 10,
    "start_time": "2022-10-21T08:56:32.938Z"
   },
   {
    "duration": 24,
    "start_time": "2022-10-21T08:56:34.989Z"
   },
   {
    "duration": 282,
    "start_time": "2022-10-21T08:56:50.776Z"
   },
   {
    "duration": 10,
    "start_time": "2022-10-21T08:57:04.069Z"
   },
   {
    "duration": 749,
    "start_time": "2022-10-21T08:59:46.612Z"
   },
   {
    "duration": 320,
    "start_time": "2022-10-21T09:00:42.454Z"
   },
   {
    "duration": 158,
    "start_time": "2022-10-21T09:01:12.406Z"
   },
   {
    "duration": 314,
    "start_time": "2022-10-21T09:01:30.791Z"
   },
   {
    "duration": 216,
    "start_time": "2022-10-21T09:02:41.383Z"
   },
   {
    "duration": 184,
    "start_time": "2022-10-21T09:02:52.104Z"
   },
   {
    "duration": 186,
    "start_time": "2022-10-21T09:04:14.766Z"
   },
   {
    "duration": 207,
    "start_time": "2022-10-21T09:05:13.527Z"
   },
   {
    "duration": 317,
    "start_time": "2022-10-21T09:05:40.695Z"
   },
   {
    "duration": 202,
    "start_time": "2022-10-21T09:06:03.650Z"
   },
   {
    "duration": 74,
    "start_time": "2022-10-21T09:06:22.707Z"
   },
   {
    "duration": 526,
    "start_time": "2022-10-21T09:06:28.823Z"
   },
   {
    "duration": 186,
    "start_time": "2022-10-21T09:06:40.446Z"
   },
   {
    "duration": 74,
    "start_time": "2022-10-21T09:06:56.130Z"
   },
   {
    "duration": 311,
    "start_time": "2022-10-21T09:07:00.624Z"
   },
   {
    "duration": 215,
    "start_time": "2022-10-21T09:07:14.075Z"
   },
   {
    "duration": 200,
    "start_time": "2022-10-21T09:07:27.650Z"
   },
   {
    "duration": 208,
    "start_time": "2022-10-21T09:12:34.964Z"
   },
   {
    "duration": 362,
    "start_time": "2022-10-21T09:20:31.666Z"
   },
   {
    "duration": 257,
    "start_time": "2022-10-21T09:20:48.647Z"
   },
   {
    "duration": 205,
    "start_time": "2022-10-21T09:30:07.627Z"
   },
   {
    "duration": 11,
    "start_time": "2022-10-21T09:34:05.731Z"
   },
   {
    "duration": 20,
    "start_time": "2022-10-21T09:34:44.902Z"
   },
   {
    "duration": 391,
    "start_time": "2022-10-21T09:34:52.790Z"
   },
   {
    "duration": 47,
    "start_time": "2022-10-21T12:46:59.411Z"
   },
   {
    "duration": 73,
    "start_time": "2022-10-21T12:50:12.939Z"
   },
   {
    "duration": 8,
    "start_time": "2022-10-21T12:50:20.669Z"
   },
   {
    "duration": 5,
    "start_time": "2022-10-21T12:51:01.915Z"
   },
   {
    "duration": 414,
    "start_time": "2022-10-21T12:51:12.498Z"
   },
   {
    "duration": 93,
    "start_time": "2022-10-21T12:51:12.913Z"
   },
   {
    "duration": 6,
    "start_time": "2022-10-21T12:51:13.252Z"
   },
   {
    "duration": 18,
    "start_time": "2022-10-21T12:51:13.819Z"
   },
   {
    "duration": 11,
    "start_time": "2022-10-21T12:51:15.373Z"
   },
   {
    "duration": 409,
    "start_time": "2022-10-21T12:51:18.825Z"
   },
   {
    "duration": 168,
    "start_time": "2022-10-21T12:51:19.355Z"
   },
   {
    "duration": 9,
    "start_time": "2022-10-21T12:51:20.390Z"
   },
   {
    "duration": 89,
    "start_time": "2022-10-21T12:51:21.057Z"
   },
   {
    "duration": 7,
    "start_time": "2022-10-21T12:51:22.109Z"
   },
   {
    "duration": 14,
    "start_time": "2022-10-21T12:51:24.179Z"
   },
   {
    "duration": 278,
    "start_time": "2022-10-21T12:51:24.578Z"
   },
   {
    "duration": 9,
    "start_time": "2022-10-21T12:51:25.094Z"
   },
   {
    "duration": 682,
    "start_time": "2022-10-21T12:51:26.190Z"
   },
   {
    "duration": 184,
    "start_time": "2022-10-21T12:51:27.852Z"
   },
   {
    "duration": 330,
    "start_time": "2022-10-21T12:51:29.377Z"
   },
   {
    "duration": 219,
    "start_time": "2022-10-21T12:51:31.206Z"
   },
   {
    "duration": 256,
    "start_time": "2022-10-21T12:51:33.508Z"
   },
   {
    "duration": 115,
    "start_time": "2022-10-21T12:51:36.551Z"
   },
   {
    "duration": 114,
    "start_time": "2022-10-21T12:52:27.971Z"
   },
   {
    "duration": 3,
    "start_time": "2022-10-21T12:55:53.670Z"
   },
   {
    "duration": 5,
    "start_time": "2022-10-21T12:55:58.153Z"
   },
   {
    "duration": 5,
    "start_time": "2022-10-21T12:56:35.538Z"
   },
   {
    "duration": 6,
    "start_time": "2022-10-21T12:56:40.476Z"
   },
   {
    "duration": 5,
    "start_time": "2022-10-21T12:56:47.534Z"
   },
   {
    "duration": 15,
    "start_time": "2022-10-21T13:06:16.280Z"
   },
   {
    "duration": 145,
    "start_time": "2022-10-21T13:07:12.571Z"
   },
   {
    "duration": 9,
    "start_time": "2022-10-21T13:07:22.515Z"
   },
   {
    "duration": 9,
    "start_time": "2022-10-21T13:07:57.433Z"
   },
   {
    "duration": 8,
    "start_time": "2022-10-21T13:09:07.905Z"
   },
   {
    "duration": 8,
    "start_time": "2022-10-21T13:10:57.701Z"
   },
   {
    "duration": 7,
    "start_time": "2022-10-21T13:11:43.899Z"
   },
   {
    "duration": 1372,
    "start_time": "2022-10-21T13:12:01.550Z"
   },
   {
    "duration": 6,
    "start_time": "2022-10-21T13:12:12.331Z"
   },
   {
    "duration": 223,
    "start_time": "2022-10-21T13:25:18.184Z"
   },
   {
    "duration": 119,
    "start_time": "2022-10-21T13:43:02.239Z"
   },
   {
    "duration": 110,
    "start_time": "2022-10-21T13:44:06.005Z"
   },
   {
    "duration": 233,
    "start_time": "2022-10-21T13:44:56.683Z"
   },
   {
    "duration": 15,
    "start_time": "2022-10-21T13:46:47.237Z"
   },
   {
    "duration": 13,
    "start_time": "2022-10-21T13:47:37.309Z"
   },
   {
    "duration": 15,
    "start_time": "2022-10-21T13:48:58.783Z"
   },
   {
    "duration": 279,
    "start_time": "2022-10-21T13:57:24.221Z"
   },
   {
    "duration": 218,
    "start_time": "2022-10-21T14:01:01.838Z"
   },
   {
    "duration": 243,
    "start_time": "2022-10-21T14:01:18.057Z"
   },
   {
    "duration": 273,
    "start_time": "2022-10-21T14:01:32.351Z"
   },
   {
    "duration": 274,
    "start_time": "2022-10-21T14:01:47.019Z"
   },
   {
    "duration": 272,
    "start_time": "2022-10-21T14:03:05.703Z"
   },
   {
    "duration": 146,
    "start_time": "2022-10-21T14:09:08.078Z"
   },
   {
    "duration": 9,
    "start_time": "2022-10-21T14:09:15.872Z"
   },
   {
    "duration": 10,
    "start_time": "2022-10-21T14:09:30.203Z"
   },
   {
    "duration": 7,
    "start_time": "2022-10-21T14:13:58.162Z"
   },
   {
    "duration": 22,
    "start_time": "2022-10-21T14:18:12.248Z"
   },
   {
    "duration": 14,
    "start_time": "2022-10-21T14:23:12.028Z"
   },
   {
    "duration": 1312,
    "start_time": "2022-10-21T14:31:27.333Z"
   },
   {
    "duration": 1308,
    "start_time": "2022-10-21T14:32:10.072Z"
   },
   {
    "duration": 1296,
    "start_time": "2022-10-21T14:33:18.148Z"
   },
   {
    "duration": 8,
    "start_time": "2022-10-21T14:34:07.776Z"
   },
   {
    "duration": 282,
    "start_time": "2022-10-21T14:35:12.045Z"
   },
   {
    "duration": 119,
    "start_time": "2022-10-21T14:35:23.576Z"
   },
   {
    "duration": 1949,
    "start_time": "2022-10-21T14:35:58.779Z"
   },
   {
    "duration": 10,
    "start_time": "2022-10-21T14:36:06.863Z"
   },
   {
    "duration": 10,
    "start_time": "2022-10-21T14:37:04.451Z"
   },
   {
    "duration": 1281,
    "start_time": "2022-10-21T14:38:53.221Z"
   },
   {
    "duration": 138,
    "start_time": "2022-10-21T14:41:08.410Z"
   },
   {
    "duration": 7,
    "start_time": "2022-10-21T14:41:09.205Z"
   },
   {
    "duration": 21,
    "start_time": "2022-10-21T14:41:12.046Z"
   },
   {
    "duration": 14,
    "start_time": "2022-10-21T14:41:14.968Z"
   },
   {
    "duration": 6,
    "start_time": "2022-10-21T14:41:31.054Z"
   },
   {
    "duration": 4,
    "start_time": "2022-10-21T14:41:38.639Z"
   },
   {
    "duration": 10,
    "start_time": "2022-10-21T14:42:28.950Z"
   },
   {
    "duration": 9,
    "start_time": "2022-10-21T14:42:43.766Z"
   },
   {
    "duration": 24,
    "start_time": "2022-10-21T14:43:16.679Z"
   },
   {
    "duration": 12,
    "start_time": "2022-10-21T14:44:25.023Z"
   },
   {
    "duration": 12,
    "start_time": "2022-10-21T14:47:49.497Z"
   },
   {
    "duration": 9,
    "start_time": "2022-10-21T14:55:03.825Z"
   },
   {
    "duration": 25,
    "start_time": "2022-10-21T14:56:46.458Z"
   },
   {
    "duration": 15,
    "start_time": "2022-10-21T15:00:16.369Z"
   },
   {
    "duration": 10,
    "start_time": "2022-10-21T15:00:17.700Z"
   },
   {
    "duration": 8,
    "start_time": "2022-10-21T15:00:17.711Z"
   },
   {
    "duration": 9,
    "start_time": "2022-10-21T15:00:19.200Z"
   },
   {
    "duration": 32,
    "start_time": "2022-10-21T15:00:19.878Z"
   },
   {
    "duration": 1494,
    "start_time": "2022-10-21T15:07:48.470Z"
   },
   {
    "duration": 1640,
    "start_time": "2022-10-21T15:08:06.811Z"
   },
   {
    "duration": 17,
    "start_time": "2022-10-21T15:08:30.543Z"
   },
   {
    "duration": 12,
    "start_time": "2022-10-21T15:13:34.788Z"
   },
   {
    "duration": 11,
    "start_time": "2022-10-21T15:14:08.409Z"
   },
   {
    "duration": 5,
    "start_time": "2022-10-21T15:14:23.802Z"
   },
   {
    "duration": 8,
    "start_time": "2022-10-21T15:14:33.614Z"
   },
   {
    "duration": 26,
    "start_time": "2022-10-21T15:14:36.245Z"
   },
   {
    "duration": 18,
    "start_time": "2022-10-21T15:15:27.777Z"
   },
   {
    "duration": 457,
    "start_time": "2022-10-21T15:40:28.064Z"
   },
   {
    "duration": 39,
    "start_time": "2022-10-21T15:40:28.524Z"
   },
   {
    "duration": 5,
    "start_time": "2022-10-21T15:40:28.565Z"
   },
   {
    "duration": 27,
    "start_time": "2022-10-21T15:40:28.572Z"
   },
   {
    "duration": 11,
    "start_time": "2022-10-21T15:40:28.604Z"
   },
   {
    "duration": 463,
    "start_time": "2022-10-21T15:40:28.617Z"
   },
   {
    "duration": 65,
    "start_time": "2022-10-21T15:40:29.082Z"
   },
   {
    "duration": 10,
    "start_time": "2022-10-21T15:40:29.148Z"
   },
   {
    "duration": 31,
    "start_time": "2022-10-21T15:40:29.160Z"
   },
   {
    "duration": 22,
    "start_time": "2022-10-21T15:40:29.195Z"
   },
   {
    "duration": 25,
    "start_time": "2022-10-21T15:40:29.219Z"
   },
   {
    "duration": 321,
    "start_time": "2022-10-21T15:40:29.246Z"
   },
   {
    "duration": 8,
    "start_time": "2022-10-21T15:40:29.569Z"
   },
   {
    "duration": 584,
    "start_time": "2022-10-21T15:40:29.586Z"
   },
   {
    "duration": 203,
    "start_time": "2022-10-21T15:40:30.172Z"
   },
   {
    "duration": 315,
    "start_time": "2022-10-21T15:40:30.377Z"
   },
   {
    "duration": 222,
    "start_time": "2022-10-21T15:40:30.693Z"
   },
   {
    "duration": 289,
    "start_time": "2022-10-21T15:40:30.917Z"
   },
   {
    "duration": 135,
    "start_time": "2022-10-21T15:40:31.208Z"
   },
   {
    "duration": 5,
    "start_time": "2022-10-21T15:40:31.345Z"
   },
   {
    "duration": 183,
    "start_time": "2022-10-21T15:40:31.352Z"
   },
   {
    "duration": 9,
    "start_time": "2022-10-21T15:40:31.537Z"
   },
   {
    "duration": 20,
    "start_time": "2022-10-21T15:40:31.548Z"
   },
   {
    "duration": 252,
    "start_time": "2022-10-21T15:40:31.570Z"
   },
   {
    "duration": 197,
    "start_time": "2022-10-21T15:40:31.825Z"
   },
   {
    "duration": 1681,
    "start_time": "2022-10-21T15:40:32.024Z"
   },
   {
    "duration": 0,
    "start_time": "2022-10-21T15:40:33.707Z"
   },
   {
    "duration": 0,
    "start_time": "2022-10-21T15:40:33.708Z"
   },
   {
    "duration": 0,
    "start_time": "2022-10-21T15:40:33.709Z"
   },
   {
    "duration": 0,
    "start_time": "2022-10-21T15:40:33.711Z"
   },
   {
    "duration": 0,
    "start_time": "2022-10-21T15:40:33.712Z"
   },
   {
    "duration": 0,
    "start_time": "2022-10-21T15:40:33.713Z"
   },
   {
    "duration": 220,
    "start_time": "2022-10-21T15:43:01.213Z"
   },
   {
    "duration": 126,
    "start_time": "2022-10-21T15:43:01.855Z"
   },
   {
    "duration": 1188,
    "start_time": "2022-10-21T15:43:04.611Z"
   },
   {
    "duration": 11,
    "start_time": "2022-10-21T15:43:53.798Z"
   },
   {
    "duration": 36,
    "start_time": "2022-10-21T15:43:59.473Z"
   },
   {
    "duration": 13,
    "start_time": "2022-10-21T15:44:09.209Z"
   },
   {
    "duration": 10,
    "start_time": "2022-10-21T15:44:18.200Z"
   },
   {
    "duration": 12,
    "start_time": "2022-10-21T15:44:22.390Z"
   },
   {
    "duration": 33,
    "start_time": "2022-10-21T15:44:27.116Z"
   },
   {
    "duration": 16,
    "start_time": "2022-10-21T15:44:38.900Z"
   }
  ],
  "kernelspec": {
   "display_name": "Python 3 (ipykernel)",
   "language": "python",
   "name": "python3"
  },
  "language_info": {
   "codemirror_mode": {
    "name": "ipython",
    "version": 3
   },
   "file_extension": ".py",
   "mimetype": "text/x-python",
   "name": "python",
   "nbconvert_exporter": "python",
   "pygments_lexer": "ipython3",
   "version": "3.9.5"
  },
  "toc": {
   "base_numbering": 1,
   "nav_menu": {},
   "number_sections": true,
   "sideBar": true,
   "skip_h1_title": true,
   "title_cell": "Table of Contents",
   "title_sidebar": "Contents",
   "toc_cell": false,
   "toc_position": {},
   "toc_section_display": true,
   "toc_window_display": false
  }
 },
 "nbformat": 4,
 "nbformat_minor": 2
}
