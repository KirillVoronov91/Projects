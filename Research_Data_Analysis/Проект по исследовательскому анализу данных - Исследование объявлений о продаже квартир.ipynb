{
 "cells": [
  {
   "cell_type": "markdown",
   "metadata": {},
   "source": [
    "# Исследование объявлений о продаже квартир\n",
    "\n",
    "В вашем распоряжении архив объявлений о продаже квартир в Санкт-Петербурге и соседних населённых пунктов за несколько лет. Нужно научиться определять рыночную стоимость объектов недвижимости. Ваша задача — установить параметры. Это позволит построить автоматизированную систему: она отследит аномалии и мошенническую деятельность. \n",
    "\n",
    "По каждой квартире на продажу доступны два вида данных. Первые вписаны пользователем, вторые — получены автоматически на основе картографических данных. Например, расстояние до центра, аэропорта, ближайшего парка и водоёма. \n",
    "\n",
    "**В процессе исследования мы:**  \n",
    "- Ознакомимся с данными\n",
    "- Сделаем предобработку данных - постараемся заполнить пропуски и избавиться от аномальных значений\n",
    "- Добавим в таблицу новые столбцы, необходимые для более подробного исследования\n",
    "- Изучим данные:\n",
    " - Посмотрим квартиры с какими параметрами чаще всего продаются\n",
    " - Определим средний срок для продажи квартиры\n",
    " - Посмотрим корреляцию цены объектов и некоторых их параметров\n",
    " \n",
    "**Цель исследования:**  \n",
    "Определить параметры, больше всего влияющие на стоимость квартир.  \n",
    " "
   ]
  },
  {
   "cell_type": "markdown",
   "metadata": {},
   "source": [
    "### Изучение общей информации. "
   ]
  },
  {
   "cell_type": "code",
   "execution_count": 1,
   "metadata": {},
   "outputs": [
    {
     "name": "stdout",
     "output_type": "stream",
     "text": [
      "<class 'pandas.core.frame.DataFrame'>\n",
      "RangeIndex: 23699 entries, 0 to 23698\n",
      "Data columns (total 22 columns):\n",
      " #   Column                Non-Null Count  Dtype  \n",
      "---  ------                --------------  -----  \n",
      " 0   total_images          23699 non-null  int64  \n",
      " 1   last_price            23699 non-null  float64\n",
      " 2   total_area            23699 non-null  float64\n",
      " 3   first_day_exposition  23699 non-null  object \n",
      " 4   rooms                 23699 non-null  int64  \n",
      " 5   ceiling_height        14504 non-null  float64\n",
      " 6   floors_total          23613 non-null  float64\n",
      " 7   living_area           21796 non-null  float64\n",
      " 8   floor                 23699 non-null  int64  \n",
      " 9   is_apartment          2775 non-null   object \n",
      " 10  studio                23699 non-null  bool   \n",
      " 11  open_plan             23699 non-null  bool   \n",
      " 12  kitchen_area          21421 non-null  float64\n",
      " 13  balcony               12180 non-null  float64\n",
      " 14  locality_name         23650 non-null  object \n",
      " 15  airports_nearest      18157 non-null  float64\n",
      " 16  cityCenters_nearest   18180 non-null  float64\n",
      " 17  parks_around3000      18181 non-null  float64\n",
      " 18  parks_nearest         8079 non-null   float64\n",
      " 19  ponds_around3000      18181 non-null  float64\n",
      " 20  ponds_nearest         9110 non-null   float64\n",
      " 21  days_exposition       20518 non-null  float64\n",
      "dtypes: bool(2), float64(14), int64(3), object(3)\n",
      "memory usage: 3.7+ MB\n"
     ]
    },
    {
     "data": {
      "text/plain": [
       "None"
      ]
     },
     "metadata": {},
     "output_type": "display_data"
    },
    {
     "data": {
      "text/plain": [
       "'Количество дубликатов:'"
      ]
     },
     "metadata": {},
     "output_type": "display_data"
    },
    {
     "data": {
      "text/plain": [
       "0"
      ]
     },
     "metadata": {},
     "output_type": "display_data"
    },
    {
     "data": {
      "text/html": [
       "<div>\n",
       "<style scoped>\n",
       "    .dataframe tbody tr th:only-of-type {\n",
       "        vertical-align: middle;\n",
       "    }\n",
       "\n",
       "    .dataframe tbody tr th {\n",
       "        vertical-align: top;\n",
       "    }\n",
       "\n",
       "    .dataframe thead th {\n",
       "        text-align: right;\n",
       "    }\n",
       "</style>\n",
       "<table border=\"1\" class=\"dataframe\">\n",
       "  <thead>\n",
       "    <tr style=\"text-align: right;\">\n",
       "      <th></th>\n",
       "      <th>total_images</th>\n",
       "      <th>last_price</th>\n",
       "      <th>total_area</th>\n",
       "      <th>first_day_exposition</th>\n",
       "      <th>rooms</th>\n",
       "      <th>ceiling_height</th>\n",
       "      <th>floors_total</th>\n",
       "      <th>living_area</th>\n",
       "      <th>floor</th>\n",
       "      <th>is_apartment</th>\n",
       "      <th>...</th>\n",
       "      <th>kitchen_area</th>\n",
       "      <th>balcony</th>\n",
       "      <th>locality_name</th>\n",
       "      <th>airports_nearest</th>\n",
       "      <th>cityCenters_nearest</th>\n",
       "      <th>parks_around3000</th>\n",
       "      <th>parks_nearest</th>\n",
       "      <th>ponds_around3000</th>\n",
       "      <th>ponds_nearest</th>\n",
       "      <th>days_exposition</th>\n",
       "    </tr>\n",
       "  </thead>\n",
       "  <tbody>\n",
       "    <tr>\n",
       "      <th>0</th>\n",
       "      <td>20</td>\n",
       "      <td>13000000.0</td>\n",
       "      <td>108.0</td>\n",
       "      <td>2019-03-07T00:00:00</td>\n",
       "      <td>3</td>\n",
       "      <td>2.70</td>\n",
       "      <td>16.0</td>\n",
       "      <td>51.0</td>\n",
       "      <td>8</td>\n",
       "      <td>NaN</td>\n",
       "      <td>...</td>\n",
       "      <td>25.0</td>\n",
       "      <td>NaN</td>\n",
       "      <td>Санкт-Петербург</td>\n",
       "      <td>18863.0</td>\n",
       "      <td>16028.0</td>\n",
       "      <td>1.0</td>\n",
       "      <td>482.0</td>\n",
       "      <td>2.0</td>\n",
       "      <td>755.0</td>\n",
       "      <td>NaN</td>\n",
       "    </tr>\n",
       "    <tr>\n",
       "      <th>1</th>\n",
       "      <td>7</td>\n",
       "      <td>3350000.0</td>\n",
       "      <td>40.4</td>\n",
       "      <td>2018-12-04T00:00:00</td>\n",
       "      <td>1</td>\n",
       "      <td>NaN</td>\n",
       "      <td>11.0</td>\n",
       "      <td>18.6</td>\n",
       "      <td>1</td>\n",
       "      <td>NaN</td>\n",
       "      <td>...</td>\n",
       "      <td>11.0</td>\n",
       "      <td>2.0</td>\n",
       "      <td>посёлок Шушары</td>\n",
       "      <td>12817.0</td>\n",
       "      <td>18603.0</td>\n",
       "      <td>0.0</td>\n",
       "      <td>NaN</td>\n",
       "      <td>0.0</td>\n",
       "      <td>NaN</td>\n",
       "      <td>81.0</td>\n",
       "    </tr>\n",
       "    <tr>\n",
       "      <th>2</th>\n",
       "      <td>10</td>\n",
       "      <td>5196000.0</td>\n",
       "      <td>56.0</td>\n",
       "      <td>2015-08-20T00:00:00</td>\n",
       "      <td>2</td>\n",
       "      <td>NaN</td>\n",
       "      <td>5.0</td>\n",
       "      <td>34.3</td>\n",
       "      <td>4</td>\n",
       "      <td>NaN</td>\n",
       "      <td>...</td>\n",
       "      <td>8.3</td>\n",
       "      <td>0.0</td>\n",
       "      <td>Санкт-Петербург</td>\n",
       "      <td>21741.0</td>\n",
       "      <td>13933.0</td>\n",
       "      <td>1.0</td>\n",
       "      <td>90.0</td>\n",
       "      <td>2.0</td>\n",
       "      <td>574.0</td>\n",
       "      <td>558.0</td>\n",
       "    </tr>\n",
       "    <tr>\n",
       "      <th>3</th>\n",
       "      <td>0</td>\n",
       "      <td>64900000.0</td>\n",
       "      <td>159.0</td>\n",
       "      <td>2015-07-24T00:00:00</td>\n",
       "      <td>3</td>\n",
       "      <td>NaN</td>\n",
       "      <td>14.0</td>\n",
       "      <td>NaN</td>\n",
       "      <td>9</td>\n",
       "      <td>NaN</td>\n",
       "      <td>...</td>\n",
       "      <td>NaN</td>\n",
       "      <td>0.0</td>\n",
       "      <td>Санкт-Петербург</td>\n",
       "      <td>28098.0</td>\n",
       "      <td>6800.0</td>\n",
       "      <td>2.0</td>\n",
       "      <td>84.0</td>\n",
       "      <td>3.0</td>\n",
       "      <td>234.0</td>\n",
       "      <td>424.0</td>\n",
       "    </tr>\n",
       "    <tr>\n",
       "      <th>4</th>\n",
       "      <td>2</td>\n",
       "      <td>10000000.0</td>\n",
       "      <td>100.0</td>\n",
       "      <td>2018-06-19T00:00:00</td>\n",
       "      <td>2</td>\n",
       "      <td>3.03</td>\n",
       "      <td>14.0</td>\n",
       "      <td>32.0</td>\n",
       "      <td>13</td>\n",
       "      <td>NaN</td>\n",
       "      <td>...</td>\n",
       "      <td>41.0</td>\n",
       "      <td>NaN</td>\n",
       "      <td>Санкт-Петербург</td>\n",
       "      <td>31856.0</td>\n",
       "      <td>8098.0</td>\n",
       "      <td>2.0</td>\n",
       "      <td>112.0</td>\n",
       "      <td>1.0</td>\n",
       "      <td>48.0</td>\n",
       "      <td>121.0</td>\n",
       "    </tr>\n",
       "  </tbody>\n",
       "</table>\n",
       "<p>5 rows × 22 columns</p>\n",
       "</div>"
      ],
      "text/plain": [
       "   total_images  last_price  total_area first_day_exposition  rooms  \\\n",
       "0            20  13000000.0       108.0  2019-03-07T00:00:00      3   \n",
       "1             7   3350000.0        40.4  2018-12-04T00:00:00      1   \n",
       "2            10   5196000.0        56.0  2015-08-20T00:00:00      2   \n",
       "3             0  64900000.0       159.0  2015-07-24T00:00:00      3   \n",
       "4             2  10000000.0       100.0  2018-06-19T00:00:00      2   \n",
       "\n",
       "   ceiling_height  floors_total  living_area  floor is_apartment  ...  \\\n",
       "0            2.70          16.0         51.0      8          NaN  ...   \n",
       "1             NaN          11.0         18.6      1          NaN  ...   \n",
       "2             NaN           5.0         34.3      4          NaN  ...   \n",
       "3             NaN          14.0          NaN      9          NaN  ...   \n",
       "4            3.03          14.0         32.0     13          NaN  ...   \n",
       "\n",
       "   kitchen_area  balcony    locality_name  airports_nearest  \\\n",
       "0          25.0      NaN  Санкт-Петербург           18863.0   \n",
       "1          11.0      2.0   посёлок Шушары           12817.0   \n",
       "2           8.3      0.0  Санкт-Петербург           21741.0   \n",
       "3           NaN      0.0  Санкт-Петербург           28098.0   \n",
       "4          41.0      NaN  Санкт-Петербург           31856.0   \n",
       "\n",
       "  cityCenters_nearest  parks_around3000  parks_nearest  ponds_around3000  \\\n",
       "0             16028.0               1.0          482.0               2.0   \n",
       "1             18603.0               0.0            NaN               0.0   \n",
       "2             13933.0               1.0           90.0               2.0   \n",
       "3              6800.0               2.0           84.0               3.0   \n",
       "4              8098.0               2.0          112.0               1.0   \n",
       "\n",
       "   ponds_nearest  days_exposition  \n",
       "0          755.0              NaN  \n",
       "1            NaN             81.0  \n",
       "2          574.0            558.0  \n",
       "3          234.0            424.0  \n",
       "4           48.0            121.0  \n",
       "\n",
       "[5 rows x 22 columns]"
      ]
     },
     "execution_count": 1,
     "metadata": {},
     "output_type": "execute_result"
    }
   ],
   "source": [
    "#импортируем необходимые для исследования библиотеки\n",
    "import pandas as pd\n",
    "import matplotlib.pyplot as plt\n",
    "#прочитаем файл и взглянем на общую информацию, а также первые пять строк датасета\n",
    "data = pd.read_csv('/datasets/real_estate_data.csv', sep = '\\t')\n",
    "display(data.info())\n",
    "display('Количество дубликатов:', data.duplicated().sum())\n",
    "data.head()"
   ]
  },
  {
   "cell_type": "code",
   "execution_count": 2,
   "metadata": {},
   "outputs": [],
   "source": [
    "#Приведем название столбца cityCentres_nearest к змеиному регистру\n",
    "data = data.rename(columns={'cityCenters_nearest': 'city_center_nearest'})"
   ]
  },
  {
   "cell_type": "code",
   "execution_count": 3,
   "metadata": {
    "scrolled": true
   },
   "outputs": [
    {
     "data": {
      "image/png": "[encoded data removed]",
      "text/plain": [
       "<Figure size 1080x1440 with 20 Axes>"
      ]
     },
     "metadata": {
      "needs_background": "light"
     },
     "output_type": "display_data"
    }
   ],
   "source": [
    "#Посторим общую гистограмму для всех столбцов таблицы\n",
    "data.hist(figsize=(15, 20));"
   ]
  },
  {
   "cell_type": "markdown",
   "metadata": {},
   "source": [
    "**Выводы:**  \n",
    "Всего в датасете 23699 строк, 22 столбца.  \n",
    "Достаточно много пропусков в различных стоблцах.  \n",
    "Явных дубликатов не обнаружено. Значения в некоторых столбцах находятся в неудобных для исследования форматах.  \n",
    "Название одного из столбцов стилистически неверное"
   ]
  },
  {
   "cell_type": "markdown",
   "metadata": {},
   "source": [
    "### Предобработка данных."
   ]
  },
  {
   "cell_type": "markdown",
   "metadata": {},
   "source": [
    " ***Какие выводы можно сделать, глядя на общую информацию о датасете?***  \n",
    "Всего 23699 объявления, 21 столбец с параметрами.\n",
    "\n",
    "Несоответствие столбцов типу данных:  \n",
    "**parks_around3000**; **ponds_around3000**; **floors_total**; **balcony**; **days_exposition**; **rooms**, **last_price**  - должен быть тип int64 - так как в этих столбцах предполагаются значения в целых числах  \n",
    "**first_day_exposition** - должен быть типа datetime64, так как указывается дата  \n",
    "**is_apartment** - должен быть тип bool, так как подразумевается только два значения - апартаменты это или нет  \n",
    "\n",
    "\n",
    "**Пропуски или нулевые значения** есть во всех столбцах, кроме:  \n",
    "total_images, last_price, total_area, first_day_exposition, rooms, floor, studio, open_plan \n"
   ]
  },
  {
   "cell_type": "markdown",
   "metadata": {},
   "source": [
    "**Исследование и заполнение пропусков в данных**"
   ]
  },
  {
   "cell_type": "code",
   "execution_count": 4,
   "metadata": {},
   "outputs": [
    {
     "data": {
      "text/plain": [
       "total_images                0\n",
       "last_price                  0\n",
       "total_area                  0\n",
       "first_day_exposition        0\n",
       "rooms                       0\n",
       "ceiling_height           9195\n",
       "floors_total               86\n",
       "living_area              1903\n",
       "floor                       0\n",
       "is_apartment            20924\n",
       "studio                      0\n",
       "open_plan                   0\n",
       "kitchen_area             2278\n",
       "balcony                 11519\n",
       "locality_name              49\n",
       "airports_nearest         5542\n",
       "city_center_nearest      5519\n",
       "parks_around3000         5518\n",
       "parks_nearest           15620\n",
       "ponds_around3000         5518\n",
       "ponds_nearest           14589\n",
       "days_exposition          3181\n",
       "dtype: int64"
      ]
     },
     "execution_count": 4,
     "metadata": {},
     "output_type": "execute_result"
    }
   ],
   "source": [
    "#Посмотрим суммарное количество пропусков в каждом из столбцов\n",
    "data.isna().sum()"
   ]
  },
  {
   "cell_type": "markdown",
   "metadata": {},
   "source": [
    "**О причинах пропусков:**    \n",
    "Пропуски могут возникать по разным причинам. Возможно система сбора информации дала сбой.\n",
    "Какие-то вопросы остаются при заполнении объявления без ответа - как например наличие балкона. Отвечая на подобные вопрос, люди часто подразумевают, что отсутствие ответа = отрицательный ответ.\n",
    "\n",
    "Какие-то вопросы в анкете могут появляться уже после того, как идёт сбор информации. Так, например, можно предположить, что вопрос об апартаментах появился недавно - подавляющее число объявлений не содержат ответ на этот вопрос"
   ]
  },
  {
   "cell_type": "code",
   "execution_count": 5,
   "metadata": {},
   "outputs": [],
   "source": [
    "#Заполним пропуски в столбцах, где это возможно:\n",
    "\n",
    "#Логично предположить, что если число балконов не указано, то их нет\n",
    "data['balcony'] = data['balcony'].fillna(0) \n",
    "#Если не указано, что квартира является апартаментами, то признаем, что она ими не является\n",
    "data['is_apartment'] = data['is_apartment'].fillna(False) \n",
    "#Если не указано количество близкорасположенных парков и прудов, то скорее всего, рядом их нет. Меняем пропущенные значения на 0\n",
    "data['parks_around3000'] = data['parks_around3000'].fillna(0)\n",
    "data['ponds_around3000'] = data['ponds_around3000'].fillna(0)\n",
    "#Пропущенных значений в столбце с названием населенного пункта не так много, их можно заменить на Unknown\n",
    "data['locality_name'] = data['locality_name'].fillna('unknown')\n",
    "\n",
    "#Пропуски в столбцах living_area и kitchen_area нельзя нельзя заполнить средними значениями этих столбцов,\n",
    "#так как они находятся в корреляции со значениями из стоблца total_area.\n",
    "#Найдем среднее отношение жилой площади и площади кухни к общей площади квартиры\n",
    "#заменим пропущенные значения числом, полученным умноженим площади квартиры на это среднее отношение\n",
    "living_area_ratio = data['living_area'].mean() / data['total_area'].mean()\n",
    "kitchen_area_ratio = data['kitchen_area'].mean() / data['total_area'].mean()\n",
    "data['living_area'] = data['living_area'].fillna(living_area_ratio * data['total_area'])\n",
    "data['kitchen_area'] = data['kitchen_area'].fillna(kitchen_area_ratio * data['total_area'])\n",
    "\n",
    "\n",
    "#Взаимосвязи между пропусками в столбцах floors_total обнаружить не удалось.\n",
    "#В то же время заменить пропуски медианными или средними значениями будет некорректно.\n",
    "#Принято решение удалить из датасета эти строки\n",
    "data.dropna(subset=['floors_total'], inplace=True)\n"
   ]
  },
  {
   "cell_type": "markdown",
   "metadata": {},
   "source": [
    "В датасете остались пропущенными значения в столбцах с картографическими данными, а также в столбце с данными по количеству дней размещения объявления."
   ]
  },
  {
   "cell_type": "markdown",
   "metadata": {},
   "source": [
    "**Обработка неявных дубликатов**"
   ]
  },
  {
   "cell_type": "code",
   "execution_count": 6,
   "metadata": {},
   "outputs": [],
   "source": [
    "#Изучаем уникальные значения в столбце с названиями населенных пунктов, меняем все различные наименования поселков\n",
    "data['locality_name'].unique()\n",
    "data['locality_name'] = data['locality_name'].str.replace('посёлок', 'поселок')\n",
    "data['locality_name'] = data['locality_name'].str.replace('поселок городского типа', 'поселок')\n",
    "data['locality_name'] = data['locality_name'].str.replace('городской поселок', 'поселок')\n",
    "data['locality_name'] = data['locality_name'].str.replace('коттеджный поселок', 'поселок')\n",
    "data['locality_name'] = data['locality_name'].str.replace('поселок станции', 'поселок')\n",
    "data['locality_name'] = data['locality_name'].str.replace('поселок при железнодорожной станции', 'поселок')"
   ]
  },
  {
   "cell_type": "code",
   "execution_count": 7,
   "metadata": {},
   "outputs": [
    {
     "name": "stdout",
     "output_type": "stream",
     "text": [
      "<class 'pandas.core.frame.DataFrame'>\n",
      "Int64Index: 23613 entries, 0 to 23698\n",
      "Data columns (total 22 columns):\n",
      " #   Column                Non-Null Count  Dtype  \n",
      "---  ------                --------------  -----  \n",
      " 0   total_images          23613 non-null  int64  \n",
      " 1   last_price            23613 non-null  float64\n",
      " 2   total_area            23613 non-null  float64\n",
      " 3   first_day_exposition  23613 non-null  object \n",
      " 4   rooms                 23613 non-null  int64  \n",
      " 5   ceiling_height        14495 non-null  float64\n",
      " 6   floors_total          23613 non-null  float64\n",
      " 7   living_area           23613 non-null  float64\n",
      " 8   floor                 23613 non-null  int64  \n",
      " 9   is_apartment          23613 non-null  bool   \n",
      " 10  studio                23613 non-null  bool   \n",
      " 11  open_plan             23613 non-null  bool   \n",
      " 12  kitchen_area          23613 non-null  float64\n",
      " 13  balcony               23613 non-null  float64\n",
      " 14  locality_name         23613 non-null  object \n",
      " 15  airports_nearest      18081 non-null  float64\n",
      " 16  city_center_nearest   18104 non-null  float64\n",
      " 17  parks_around3000      23613 non-null  float64\n",
      " 18  parks_nearest         8045 non-null   float64\n",
      " 19  ponds_around3000      23613 non-null  float64\n",
      " 20  ponds_nearest         9061 non-null   float64\n",
      " 21  days_exposition       20441 non-null  float64\n",
      "dtypes: bool(3), float64(14), int64(3), object(2)\n",
      "memory usage: 3.7+ MB\n"
     ]
    }
   ],
   "source": [
    "data.info()"
   ]
  },
  {
   "cell_type": "code",
   "execution_count": 8,
   "metadata": {},
   "outputs": [
    {
     "name": "stderr",
     "output_type": "stream",
     "text": [
      "/opt/conda/lib/python3.9/site-packages/numpy/lib/nanfunctions.py:1117: RuntimeWarning: Mean of empty slice\n",
      "  return np.nanmean(a, axis, out=out, keepdims=keepdims)\n",
      "/opt/conda/lib/python3.9/site-packages/numpy/lib/nanfunctions.py:1117: RuntimeWarning: Mean of empty slice\n",
      "  return np.nanmean(a, axis, out=out, keepdims=keepdims)\n",
      "/opt/conda/lib/python3.9/site-packages/numpy/lib/nanfunctions.py:1117: RuntimeWarning: Mean of empty slice\n",
      "  return np.nanmean(a, axis, out=out, keepdims=keepdims)\n",
      "/opt/conda/lib/python3.9/site-packages/numpy/lib/nanfunctions.py:1117: RuntimeWarning: Mean of empty slice\n",
      "  return np.nanmean(a, axis, out=out, keepdims=keepdims)\n",
      "/opt/conda/lib/python3.9/site-packages/numpy/lib/nanfunctions.py:1117: RuntimeWarning: Mean of empty slice\n",
      "  return np.nanmean(a, axis, out=out, keepdims=keepdims)\n",
      "/opt/conda/lib/python3.9/site-packages/numpy/lib/nanfunctions.py:1117: RuntimeWarning: Mean of empty slice\n",
      "  return np.nanmean(a, axis, out=out, keepdims=keepdims)\n",
      "/opt/conda/lib/python3.9/site-packages/numpy/lib/nanfunctions.py:1117: RuntimeWarning: Mean of empty slice\n",
      "  return np.nanmean(a, axis, out=out, keepdims=keepdims)\n",
      "/opt/conda/lib/python3.9/site-packages/numpy/lib/nanfunctions.py:1117: RuntimeWarning: Mean of empty slice\n",
      "  return np.nanmean(a, axis, out=out, keepdims=keepdims)\n",
      "/opt/conda/lib/python3.9/site-packages/numpy/lib/nanfunctions.py:1117: RuntimeWarning: Mean of empty slice\n",
      "  return np.nanmean(a, axis, out=out, keepdims=keepdims)\n",
      "/opt/conda/lib/python3.9/site-packages/numpy/lib/nanfunctions.py:1117: RuntimeWarning: Mean of empty slice\n",
      "  return np.nanmean(a, axis, out=out, keepdims=keepdims)\n",
      "/opt/conda/lib/python3.9/site-packages/numpy/lib/nanfunctions.py:1117: RuntimeWarning: Mean of empty slice\n",
      "  return np.nanmean(a, axis, out=out, keepdims=keepdims)\n",
      "/opt/conda/lib/python3.9/site-packages/numpy/lib/nanfunctions.py:1117: RuntimeWarning: Mean of empty slice\n",
      "  return np.nanmean(a, axis, out=out, keepdims=keepdims)\n",
      "/opt/conda/lib/python3.9/site-packages/numpy/lib/nanfunctions.py:1117: RuntimeWarning: Mean of empty slice\n",
      "  return np.nanmean(a, axis, out=out, keepdims=keepdims)\n",
      "/opt/conda/lib/python3.9/site-packages/numpy/lib/nanfunctions.py:1117: RuntimeWarning: Mean of empty slice\n",
      "  return np.nanmean(a, axis, out=out, keepdims=keepdims)\n",
      "/opt/conda/lib/python3.9/site-packages/numpy/lib/nanfunctions.py:1117: RuntimeWarning: Mean of empty slice\n",
      "  return np.nanmean(a, axis, out=out, keepdims=keepdims)\n",
      "/opt/conda/lib/python3.9/site-packages/numpy/lib/nanfunctions.py:1117: RuntimeWarning: Mean of empty slice\n",
      "  return np.nanmean(a, axis, out=out, keepdims=keepdims)\n",
      "/opt/conda/lib/python3.9/site-packages/numpy/lib/nanfunctions.py:1117: RuntimeWarning: Mean of empty slice\n",
      "  return np.nanmean(a, axis, out=out, keepdims=keepdims)\n",
      "/opt/conda/lib/python3.9/site-packages/numpy/lib/nanfunctions.py:1117: RuntimeWarning: Mean of empty slice\n",
      "  return np.nanmean(a, axis, out=out, keepdims=keepdims)\n",
      "/opt/conda/lib/python3.9/site-packages/numpy/lib/nanfunctions.py:1117: RuntimeWarning: Mean of empty slice\n",
      "  return np.nanmean(a, axis, out=out, keepdims=keepdims)\n",
      "/opt/conda/lib/python3.9/site-packages/numpy/lib/nanfunctions.py:1117: RuntimeWarning: Mean of empty slice\n",
      "  return np.nanmean(a, axis, out=out, keepdims=keepdims)\n",
      "/opt/conda/lib/python3.9/site-packages/numpy/lib/nanfunctions.py:1117: RuntimeWarning: Mean of empty slice\n",
      "  return np.nanmean(a, axis, out=out, keepdims=keepdims)\n",
      "/opt/conda/lib/python3.9/site-packages/numpy/lib/nanfunctions.py:1117: RuntimeWarning: Mean of empty slice\n",
      "  return np.nanmean(a, axis, out=out, keepdims=keepdims)\n",
      "/opt/conda/lib/python3.9/site-packages/numpy/lib/nanfunctions.py:1117: RuntimeWarning: Mean of empty slice\n",
      "  return np.nanmean(a, axis, out=out, keepdims=keepdims)\n",
      "/opt/conda/lib/python3.9/site-packages/numpy/lib/nanfunctions.py:1117: RuntimeWarning: Mean of empty slice\n",
      "  return np.nanmean(a, axis, out=out, keepdims=keepdims)\n",
      "/opt/conda/lib/python3.9/site-packages/numpy/lib/nanfunctions.py:1117: RuntimeWarning: Mean of empty slice\n",
      "  return np.nanmean(a, axis, out=out, keepdims=keepdims)\n",
      "/opt/conda/lib/python3.9/site-packages/numpy/lib/nanfunctions.py:1117: RuntimeWarning: Mean of empty slice\n",
      "  return np.nanmean(a, axis, out=out, keepdims=keepdims)\n",
      "/opt/conda/lib/python3.9/site-packages/numpy/lib/nanfunctions.py:1117: RuntimeWarning: Mean of empty slice\n",
      "  return np.nanmean(a, axis, out=out, keepdims=keepdims)\n",
      "/opt/conda/lib/python3.9/site-packages/numpy/lib/nanfunctions.py:1117: RuntimeWarning: Mean of empty slice\n",
      "  return np.nanmean(a, axis, out=out, keepdims=keepdims)\n",
      "/opt/conda/lib/python3.9/site-packages/numpy/lib/nanfunctions.py:1117: RuntimeWarning: Mean of empty slice\n",
      "  return np.nanmean(a, axis, out=out, keepdims=keepdims)\n",
      "/opt/conda/lib/python3.9/site-packages/numpy/lib/nanfunctions.py:1117: RuntimeWarning: Mean of empty slice\n",
      "  return np.nanmean(a, axis, out=out, keepdims=keepdims)\n",
      "/opt/conda/lib/python3.9/site-packages/numpy/lib/nanfunctions.py:1117: RuntimeWarning: Mean of empty slice\n",
      "  return np.nanmean(a, axis, out=out, keepdims=keepdims)\n",
      "/opt/conda/lib/python3.9/site-packages/numpy/lib/nanfunctions.py:1117: RuntimeWarning: Mean of empty slice\n",
      "  return np.nanmean(a, axis, out=out, keepdims=keepdims)\n",
      "/opt/conda/lib/python3.9/site-packages/numpy/lib/nanfunctions.py:1117: RuntimeWarning: Mean of empty slice\n",
      "  return np.nanmean(a, axis, out=out, keepdims=keepdims)\n",
      "/opt/conda/lib/python3.9/site-packages/numpy/lib/nanfunctions.py:1117: RuntimeWarning: Mean of empty slice\n",
      "  return np.nanmean(a, axis, out=out, keepdims=keepdims)\n",
      "/opt/conda/lib/python3.9/site-packages/numpy/lib/nanfunctions.py:1117: RuntimeWarning: Mean of empty slice\n",
      "  return np.nanmean(a, axis, out=out, keepdims=keepdims)\n",
      "/opt/conda/lib/python3.9/site-packages/numpy/lib/nanfunctions.py:1117: RuntimeWarning: Mean of empty slice\n",
      "  return np.nanmean(a, axis, out=out, keepdims=keepdims)\n",
      "/opt/conda/lib/python3.9/site-packages/numpy/lib/nanfunctions.py:1117: RuntimeWarning: Mean of empty slice\n",
      "  return np.nanmean(a, axis, out=out, keepdims=keepdims)\n",
      "/opt/conda/lib/python3.9/site-packages/numpy/lib/nanfunctions.py:1117: RuntimeWarning: Mean of empty slice\n",
      "  return np.nanmean(a, axis, out=out, keepdims=keepdims)\n",
      "/opt/conda/lib/python3.9/site-packages/numpy/lib/nanfunctions.py:1117: RuntimeWarning: Mean of empty slice\n",
      "  return np.nanmean(a, axis, out=out, keepdims=keepdims)\n",
      "/opt/conda/lib/python3.9/site-packages/numpy/lib/nanfunctions.py:1117: RuntimeWarning: Mean of empty slice\n",
      "  return np.nanmean(a, axis, out=out, keepdims=keepdims)\n",
      "/opt/conda/lib/python3.9/site-packages/numpy/lib/nanfunctions.py:1117: RuntimeWarning: Mean of empty slice\n",
      "  return np.nanmean(a, axis, out=out, keepdims=keepdims)\n",
      "/opt/conda/lib/python3.9/site-packages/numpy/lib/nanfunctions.py:1117: RuntimeWarning: Mean of empty slice\n",
      "  return np.nanmean(a, axis, out=out, keepdims=keepdims)\n",
      "/opt/conda/lib/python3.9/site-packages/numpy/lib/nanfunctions.py:1117: RuntimeWarning: Mean of empty slice\n",
      "  return np.nanmean(a, axis, out=out, keepdims=keepdims)\n",
      "/opt/conda/lib/python3.9/site-packages/numpy/lib/nanfunctions.py:1117: RuntimeWarning: Mean of empty slice\n",
      "  return np.nanmean(a, axis, out=out, keepdims=keepdims)\n",
      "/opt/conda/lib/python3.9/site-packages/numpy/lib/nanfunctions.py:1117: RuntimeWarning: Mean of empty slice\n",
      "  return np.nanmean(a, axis, out=out, keepdims=keepdims)\n",
      "/opt/conda/lib/python3.9/site-packages/numpy/lib/nanfunctions.py:1117: RuntimeWarning: Mean of empty slice\n",
      "  return np.nanmean(a, axis, out=out, keepdims=keepdims)\n",
      "/opt/conda/lib/python3.9/site-packages/numpy/lib/nanfunctions.py:1117: RuntimeWarning: Mean of empty slice\n",
      "  return np.nanmean(a, axis, out=out, keepdims=keepdims)\n",
      "/opt/conda/lib/python3.9/site-packages/numpy/lib/nanfunctions.py:1117: RuntimeWarning: Mean of empty slice\n",
      "  return np.nanmean(a, axis, out=out, keepdims=keepdims)\n",
      "/opt/conda/lib/python3.9/site-packages/numpy/lib/nanfunctions.py:1117: RuntimeWarning: Mean of empty slice\n",
      "  return np.nanmean(a, axis, out=out, keepdims=keepdims)\n",
      "/opt/conda/lib/python3.9/site-packages/numpy/lib/nanfunctions.py:1117: RuntimeWarning: Mean of empty slice\n",
      "  return np.nanmean(a, axis, out=out, keepdims=keepdims)\n",
      "/opt/conda/lib/python3.9/site-packages/numpy/lib/nanfunctions.py:1117: RuntimeWarning: Mean of empty slice\n",
      "  return np.nanmean(a, axis, out=out, keepdims=keepdims)\n",
      "/opt/conda/lib/python3.9/site-packages/numpy/lib/nanfunctions.py:1117: RuntimeWarning: Mean of empty slice\n",
      "  return np.nanmean(a, axis, out=out, keepdims=keepdims)\n",
      "/opt/conda/lib/python3.9/site-packages/numpy/lib/nanfunctions.py:1117: RuntimeWarning: Mean of empty slice\n",
      "  return np.nanmean(a, axis, out=out, keepdims=keepdims)\n",
      "/opt/conda/lib/python3.9/site-packages/numpy/lib/nanfunctions.py:1117: RuntimeWarning: Mean of empty slice\n",
      "  return np.nanmean(a, axis, out=out, keepdims=keepdims)\n",
      "/opt/conda/lib/python3.9/site-packages/numpy/lib/nanfunctions.py:1117: RuntimeWarning: Mean of empty slice\n",
      "  return np.nanmean(a, axis, out=out, keepdims=keepdims)\n",
      "/opt/conda/lib/python3.9/site-packages/numpy/lib/nanfunctions.py:1117: RuntimeWarning: Mean of empty slice\n",
      "  return np.nanmean(a, axis, out=out, keepdims=keepdims)\n",
      "/opt/conda/lib/python3.9/site-packages/numpy/lib/nanfunctions.py:1117: RuntimeWarning: Mean of empty slice\n",
      "  return np.nanmean(a, axis, out=out, keepdims=keepdims)\n",
      "/opt/conda/lib/python3.9/site-packages/numpy/lib/nanfunctions.py:1117: RuntimeWarning: Mean of empty slice\n",
      "  return np.nanmean(a, axis, out=out, keepdims=keepdims)\n",
      "/opt/conda/lib/python3.9/site-packages/numpy/lib/nanfunctions.py:1117: RuntimeWarning: Mean of empty slice\n",
      "  return np.nanmean(a, axis, out=out, keepdims=keepdims)\n",
      "/opt/conda/lib/python3.9/site-packages/numpy/lib/nanfunctions.py:1117: RuntimeWarning: Mean of empty slice\n",
      "  return np.nanmean(a, axis, out=out, keepdims=keepdims)\n",
      "/opt/conda/lib/python3.9/site-packages/numpy/lib/nanfunctions.py:1117: RuntimeWarning: Mean of empty slice\n",
      "  return np.nanmean(a, axis, out=out, keepdims=keepdims)\n",
      "/opt/conda/lib/python3.9/site-packages/numpy/lib/nanfunctions.py:1117: RuntimeWarning: Mean of empty slice\n",
      "  return np.nanmean(a, axis, out=out, keepdims=keepdims)\n",
      "/opt/conda/lib/python3.9/site-packages/numpy/lib/nanfunctions.py:1117: RuntimeWarning: Mean of empty slice\n",
      "  return np.nanmean(a, axis, out=out, keepdims=keepdims)\n",
      "/opt/conda/lib/python3.9/site-packages/numpy/lib/nanfunctions.py:1117: RuntimeWarning: Mean of empty slice\n",
      "  return np.nanmean(a, axis, out=out, keepdims=keepdims)\n",
      "/opt/conda/lib/python3.9/site-packages/numpy/lib/nanfunctions.py:1117: RuntimeWarning: Mean of empty slice\n",
      "  return np.nanmean(a, axis, out=out, keepdims=keepdims)\n",
      "/opt/conda/lib/python3.9/site-packages/numpy/lib/nanfunctions.py:1117: RuntimeWarning: Mean of empty slice\n",
      "  return np.nanmean(a, axis, out=out, keepdims=keepdims)\n",
      "/opt/conda/lib/python3.9/site-packages/numpy/lib/nanfunctions.py:1117: RuntimeWarning: Mean of empty slice\n",
      "  return np.nanmean(a, axis, out=out, keepdims=keepdims)\n",
      "/opt/conda/lib/python3.9/site-packages/numpy/lib/nanfunctions.py:1117: RuntimeWarning: Mean of empty slice\n",
      "  return np.nanmean(a, axis, out=out, keepdims=keepdims)\n"
     ]
    }
   ],
   "source": [
    "#Пропуски в столбце с высотой потолков заменим медианным значением высоты потолков в зависимости от населенного пункта. \n",
    "for locality_name in data['locality_name'].unique():\n",
    "    median = data.loc[data['locality_name'] == locality_name, 'ceiling_height'].median()\n",
    "    data.loc[(data['ceiling_height'].isna()) & (data['locality_name'] == locality_name), 'ceiling_height'] = median\n",
    "\n",
    "data.loc[data['ceiling_height'].isna(), 'ceiling_height'] = data['ceiling_height'].median()"
   ]
  },
  {
   "cell_type": "markdown",
   "metadata": {},
   "source": [
    "**Обработка и удаление аномалий (редких значений)**"
   ]
  },
  {
   "cell_type": "code",
   "execution_count": 9,
   "metadata": {},
   "outputs": [],
   "source": [
    "#Находим и устраняем редкие и выбивающиеся значения\n",
    "data['ceiling_height'].sort_values(ascending=False)\n",
    "data.query('ceiling_height > 20 * 0.1')\n",
    "#Высота потолка выше двадцати метров - сомнительно. Скорее всего это высота не в метрах, а в дециметрах, поэтому поделим её на 10\n",
    "\n",
    "data['last_price'].describe()\n",
    "data['last_price'].sort_values().head(50)\n",
    "#В процессе обнаружены дубликаты - объявления со стоимостью квартиры = 3.2. Удаляем эти объявления,\n",
    "#а также объявление со стоимостью квартиры в 12900 рублей. Также, выявлены значения за пределами интерквартильного размаха\n",
    "data = data.loc[data['last_price'] > 13000]\n",
    "\n",
    "data['total_area'].describe() #выявлены значения за пределами интерквартильного размаха\n",
    "\n",
    "data['rooms'].describe() #193 нуля - соотнеся эти нули с жилой площадью, указанной в объявлениях, приходим к выводу,\n",
    "#что будет корректно заменить нули на единицы - жилая площадь у большинства объявлений около 20 кв.м.\n",
    "data.loc[data['rooms'] == 0]['living_area']\n",
    "data['rooms'] = data['rooms'].replace(0, 1)  \n",
    "\n",
    "data['floors_total'].describe() #В этом столбце есть значения больше 35 этажей. Таких многоэтажных домов в Петербурге нет\n",
    "#удалим из датасета строки с такими объявлениями\n",
    "data = data.loc[data['floors_total'] < 36]\n",
    "data['living_area'].describe() #выявлены значения за пределами интерквартильного размаха.\n",
    "#несколько квартир обладают жилой площадью  меньше 8 квадратных метров.\n",
    "#Удалим их как нерелевантные\n",
    "data = data.loc[data['living_area'] > 8]\n",
    "\n",
    "data['floor'].describe() #аномалий не выявлено\n",
    "data['is_apartment'].describe() #аномалий не выявлено\n",
    "data['studio'].describe() #аномалий не выявлено\n",
    "data['open_plan'].describe() #аномалий не выявлено\n",
    "data['kitchen_area'].describe() #выявлены значения за пределами интерквартильного размаха.\n",
    "data['days_exposition'].describe()  #выявлены значения за пределами интерквартильного размаха.\n",
    "data['balcony'].describe() #аномалий не выявлено\n",
    "data['parks_around3000'].describe() #аномалий не выявлено\n",
    "data['ponds_around3000'].describe() #аномалий не выявлено\n",
    "\n",
    "#Для удаления значений, находящихся за пределами интерквартильного размаха, создадим функцию:\n",
    "def quartile_range(df, column):\n",
    "    q1 = df[column].quantile(0.25)\n",
    "    q3 = df[column].quantile(0.75)\n",
    "    iqr = q3 - q1\n",
    "    dfq = df.loc[(df[column] < q3 + 1.5*iqr) & (df[column] > q1 - 1.5*iqr), column]\n",
    "    return dfq\n",
    "#Список со столбцами, где естьtotal_area выбросы:\n",
    "wrong_list = ['last_price', 'total_area', 'kitchen_area', 'living_area', 'days_exposition'] \n",
    "\n",
    "for col in wrong_list:\n",
    "    data[col] = quartile_range(data, col)\n",
    "#И удалим необходимые строки\n",
    "data.dropna(subset=['last_price'], inplace=True)\n",
    "data.dropna(subset=['total_area'], inplace=True)\n",
    "data.dropna(subset=['living_area'], inplace=True)\n",
    "data.dropna(subset=['kitchen_area'], inplace=True)"
   ]
  },
  {
   "cell_type": "markdown",
   "metadata": {},
   "source": [
    "Достаточно много пропусков находится в столбцах с картографическими данными. Была идея заменить эти значения медианными в зависимости от локации, но к сожалению, многие объявления, в которых не указано расстояние до центра города или до аэропорта являются единственными в своих населенных пунктах и менять значения просто не на что. Решено оставить пропущенные значения.\n"
   ]
  },
  {
   "cell_type": "markdown",
   "metadata": {},
   "source": [
    "**Изменение типов данных**"
   ]
  },
  {
   "cell_type": "code",
   "execution_count": 10,
   "metadata": {},
   "outputs": [],
   "source": [
    "#Поменяем тип данных в столбцах, где это необходимо. \n",
    "data['last_price'] = data['last_price'].astype('int')\n",
    "data['balcony'] = data['balcony'].astype('int')\n",
    "data['floors_total'] = data['floors_total'].astype('int')\n",
    "data['first_day_exposition'] = pd.to_datetime(data['first_day_exposition'], format = '%Y-%m-%d')\n",
    "data['parks_around3000'] = data['parks_around3000'].astype(int)\n",
    "data['ponds_around3000'] = data['ponds_around3000'].astype(int)\n",
    "data['rooms'] = data['rooms'].astype('int')\n",
    "\n"
   ]
  },
  {
   "cell_type": "code",
   "execution_count": 11,
   "metadata": {},
   "outputs": [
    {
     "name": "stdout",
     "output_type": "stream",
     "text": [
      "<class 'pandas.core.frame.DataFrame'>\n",
      "Int64Index: 20898 entries, 1 to 23698\n",
      "Data columns (total 22 columns):\n",
      " #   Column                Non-Null Count  Dtype         \n",
      "---  ------                --------------  -----         \n",
      " 0   total_images          20898 non-null  int64         \n",
      " 1   last_price            20898 non-null  int64         \n",
      " 2   total_area            20898 non-null  float64       \n",
      " 3   first_day_exposition  20898 non-null  datetime64[ns]\n",
      " 4   rooms                 20898 non-null  int64         \n",
      " 5   ceiling_height        20898 non-null  float64       \n",
      " 6   floors_total          20898 non-null  int64         \n",
      " 7   living_area           20898 non-null  float64       \n",
      " 8   floor                 20898 non-null  int64         \n",
      " 9   is_apartment          20898 non-null  bool          \n",
      " 10  studio                20898 non-null  bool          \n",
      " 11  open_plan             20898 non-null  bool          \n",
      " 12  kitchen_area          20898 non-null  float64       \n",
      " 13  balcony               20898 non-null  int64         \n",
      " 14  locality_name         20898 non-null  object        \n",
      " 15  airports_nearest      15528 non-null  float64       \n",
      " 16  city_center_nearest   15539 non-null  float64       \n",
      " 17  parks_around3000      20898 non-null  int64         \n",
      " 18  parks_nearest         6406 non-null   float64       \n",
      " 19  ponds_around3000      20898 non-null  int64         \n",
      " 20  ponds_nearest         7399 non-null   float64       \n",
      " 21  days_exposition       17026 non-null  float64       \n",
      "dtypes: bool(3), datetime64[ns](1), float64(9), int64(8), object(1)\n",
      "memory usage: 3.2+ MB\n"
     ]
    }
   ],
   "source": [
    "data.info()"
   ]
  },
  {
   "cell_type": "markdown",
   "metadata": {},
   "source": [
    "**Почему нужно менять тип данных?**  \n",
    "\n",
    "Целочисленный тип данных более удобен для вычислений и сравнений, нежели тип float.  \n",
    "\n",
    "Булевы значения необходимы для построения логических выражений в дальнейшем"
   ]
  },
  {
   "cell_type": "markdown",
   "metadata": {},
   "source": [
    "**Выводы:**\n",
    "В процессе предобработки данных были изменены типы данных в некоторых стоблцах.  \n",
    "Заполнены пропуски там, где это показалось возможным.  \n",
    "В столбце с названием населенного пункта обнаружены и исправлены неявные дубликаты. Также дубликаты обнаружены благодаря проверке стоблца, в котором указана стоимость квартиры.  \n",
    "\n",
    "Для более точного исследования из датасета удалены строки, значения в столбцах которых находятся за пределами интерквартильного размаха."
   ]
  },
  {
   "cell_type": "markdown",
   "metadata": {},
   "source": [
    "### Добавление в таблицу новых столбцов."
   ]
  },
  {
   "cell_type": "code",
   "execution_count": 12,
   "metadata": {},
   "outputs": [],
   "source": [
    "# Добавляем столбец со стоимостью квадратного метра (sqm_price) и приводим его в целочисленный тип\n",
    "data['sqm_price'] = data['last_price'] / data['total_area']\n",
    "data['sqm_price'] = data['sqm_price'].astype(int)\n",
    "\n",
    "# Добавляем столбцы для определения дня, месяца и года публикации объявления\n",
    "data['weekday'] = data['first_day_exposition'].dt.weekday\n",
    "data['month'] = data['first_day_exposition'].dt.month\n",
    "data['year'] = data['first_day_exposition'].dt.year\n",
    "\n",
    "# Создаем функцию для разбивки этажа квартиры по категориям (первый, последний, другой) и применяем её к новому столбцу датасета\n",
    "def floor_group(row):\n",
    "    if row['floor'] == 1:\n",
    "        return 'первый'\n",
    "    elif row['floor'] == row['floors_total']:\n",
    "        return 'последний'\n",
    "    else:\n",
    "        return 'другой'\n",
    "data['floor_type'] = data.apply(floor_group, axis=1)\n",
    "\n",
    "# Создаем столбец с расстоянием до центра в километрах (делим расстояние в метрах на тысячу и округляем до целого числа)\n",
    "data['city_center_nearest_km'] = data['city_center_nearest'] / 1000\n",
    "data['city_center_nearest_km'] = data['city_center_nearest_km'].round()\n"
   ]
  },
  {
   "cell_type": "markdown",
   "metadata": {},
   "source": [
    "**Вывод:**\n",
    "На третьем этапе исследования в датасет добавлены новые столбцы - стоимость квадратного метра; день, месяц и год публикации; тип этажа квартиры; расстояние до центра в километрах"
   ]
  },
  {
   "cell_type": "markdown",
   "metadata": {},
   "source": [
    "### Исследовательский анализ данных."
   ]
  },
  {
   "cell_type": "markdown",
   "metadata": {},
   "source": [
    "**Исследование параметров объектов: общей площади, жилой площади, площади кухни, цены, количества комнат и т.д.**"
   ]
  },
  {
   "cell_type": "code",
   "execution_count": 13,
   "metadata": {
    "scrolled": false
   },
   "outputs": [
    {
     "data": {
      "text/plain": [
       "count    20898.000000\n",
       "mean        52.149513\n",
       "std         17.344186\n",
       "min         12.000000\n",
       "25%         38.800000\n",
       "50%         48.300000\n",
       "75%         62.400000\n",
       "max        114.300000\n",
       "Name: total_area, dtype: float64"
      ]
     },
     "metadata": {},
     "output_type": "display_data"
    },
    {
     "data": {
      "image/png": "[encoded data removed]",
      "text/plain": [
       "<Figure size 432x288 with 1 Axes>"
      ]
     },
     "metadata": {
      "needs_background": "light"
     },
     "output_type": "display_data"
    }
   ],
   "source": [
    "#Изучаем параметр \"Общая площадь\"\n",
    "display(data['total_area'].describe())\n",
    "plt.hist(data['total_area'], bins=30, range=(10,120))\n",
    "plt.title('Площадь квартир')\n",
    "plt.xlabel('Квадратные метры')\n",
    "plt.ylabel('Количество объявлений')\n",
    "plt.show()\n",
    "\n"
   ]
  },
  {
   "cell_type": "markdown",
   "metadata": {},
   "source": [
    "Средняя площадь квартир около 52 квадратных метров. Медианное значение - 48 кв.м."
   ]
  },
  {
   "cell_type": "code",
   "execution_count": 14,
   "metadata": {
    "scrolled": true
   },
   "outputs": [
    {
     "data": {
      "text/plain": [
       "count    20898.000000\n",
       "mean        30.045657\n",
       "std         12.379465\n",
       "min          8.300000\n",
       "25%         18.300000\n",
       "50%         29.000000\n",
       "75%         38.700000\n",
       "max         76.800000\n",
       "Name: living_area, dtype: float64"
      ]
     },
     "metadata": {},
     "output_type": "display_data"
    },
    {
     "data": {
      "image/png": "[encoded data removed]",
      "text/plain": [
       "<Figure size 432x288 with 1 Axes>"
      ]
     },
     "metadata": {
      "needs_background": "light"
     },
     "output_type": "display_data"
    }
   ],
   "source": [
    "#Изучаем параметр \"Жилая площадь\"\n",
    "display(data['living_area'].describe())\n",
    "plt.hist(data['living_area'], bins=20, range=(10,70))\n",
    "plt.title('Жилая площадь')\n",
    "plt.xlabel('Квадратные метры')\n",
    "plt.ylabel('Количество объявлений')\n",
    "plt.show()"
   ]
  },
  {
   "cell_type": "markdown",
   "metadata": {},
   "source": [
    "Жилая площадь в объявлениях имеет два пика - очевидно, они соответствуют средней жилой площади в однокомнатных и двухкомнатных квартирах. В среднем жилая площадь составляет около 30 кв.м."
   ]
  },
  {
   "cell_type": "code",
   "execution_count": 15,
   "metadata": {},
   "outputs": [
    {
     "data": {
      "text/plain": [
       "count    20898.000000\n",
       "mean         9.119030\n",
       "std          2.946428\n",
       "min          1.300000\n",
       "25%          7.000000\n",
       "50%          8.700000\n",
       "75%         10.900000\n",
       "max         19.420000\n",
       "Name: kitchen_area, dtype: float64"
      ]
     },
     "metadata": {},
     "output_type": "display_data"
    },
    {
     "data": {
      "image/png": "[encoded data removed]",
      "text/plain": [
       "<Figure size 432x288 with 1 Axes>"
      ]
     },
     "metadata": {
      "needs_background": "light"
     },
     "output_type": "display_data"
    }
   ],
   "source": [
    "#Изучаем параметр \"Площадь кухни\"\n",
    "display(data['kitchen_area'].describe())\n",
    "plt.hist(data['kitchen_area'], bins=30, range=(2,20))\n",
    "plt.title('Площадь кухни')\n",
    "plt.xlabel('Квадратные метры')\n",
    "plt.ylabel('Количество объявлений')\n",
    "plt.show()"
   ]
  },
  {
   "cell_type": "markdown",
   "metadata": {},
   "source": [
    "Средняя кухня в объявлениях - около 10 квадратных метров. Но есть и квартиры с большими кухнями"
   ]
  },
  {
   "cell_type": "code",
   "execution_count": 16,
   "metadata": {},
   "outputs": [
    {
     "data": {
      "image/png": "[encoded data removed]",
      "text/plain": [
       "<Figure size 432x288 with 1 Axes>"
      ]
     },
     "metadata": {
      "needs_background": "light"
     },
     "output_type": "display_data"
    }
   ],
   "source": [
    "#Изучаем параметры \"Цена объекта\" \n",
    "plt.hist(data['last_price'], bins=30, range=(400000,10000000))\n",
    "plt.title('Цена объекта')\n",
    "plt.xlabel('Стоимость')\n",
    "plt.ylabel('Количество объявлений')\n",
    "plt.show()"
   ]
  },
  {
   "cell_type": "markdown",
   "metadata": {},
   "source": [
    "Средняя стоимость квартиры в датасете - около 4,7 млн. руб."
   ]
  },
  {
   "cell_type": "code",
   "execution_count": 17,
   "metadata": {},
   "outputs": [
    {
     "data": {
      "text/plain": [
       "'Распределение объявления по числу комнат:'"
      ]
     },
     "metadata": {},
     "output_type": "display_data"
    },
    {
     "data": {
      "text/plain": [
       "1    8057\n",
       "2    7355\n",
       "3    4758\n",
       "4     664\n",
       "5      61\n",
       "6       3\n",
       "Name: rooms, dtype: int64"
      ]
     },
     "metadata": {},
     "output_type": "display_data"
    },
    {
     "data": {
      "image/png": "[encoded data removed]",
      "text/plain": [
       "<Figure size 432x288 with 1 Axes>"
      ]
     },
     "metadata": {
      "needs_background": "light"
     },
     "output_type": "display_data"
    }
   ],
   "source": [
    "# Изучаем параметр \"Количество комнат\"\n",
    "display('Распределение объявления по числу комнат:')\n",
    "display(data['rooms'].value_counts(ascending=False).head(10))\n",
    "plt.hist(data['rooms'], bins=7, range=(1,8))\n",
    "plt.title('Комнаты')\n",
    "plt.xlabel('Количество комнат')\n",
    "plt.ylabel('Количество объявлений')\n",
    "plt.show()"
   ]
  },
  {
   "cell_type": "markdown",
   "metadata": {},
   "source": [
    "Большинство квартир, прогнозируемо, однокомнатные, двукомантные или трехкомнатные"
   ]
  },
  {
   "cell_type": "code",
   "execution_count": 18,
   "metadata": {},
   "outputs": [
    {
     "data": {
      "image/png": "[encoded data removed]",
      "text/plain": [
       "<Figure size 432x288 with 1 Axes>"
      ]
     },
     "metadata": {
      "needs_background": "light"
     },
     "output_type": "display_data"
    }
   ],
   "source": [
    "# Изучаем параметр \"высота потолков\"\n",
    "plt.hist(data['ceiling_height'], bins=20, range=(2 ,4))\n",
    "plt.title('Высота потолков')\n",
    "plt.xlabel('Метры')\n",
    "plt.ylabel('Количество объявлений')\n",
    "plt.show()"
   ]
  },
  {
   "cell_type": "markdown",
   "metadata": {},
   "source": [
    "Высота потолков в большинстве объявлений - стандартные 2.7 метра. Есть и небольшое количество квартир с нестандартно высокими потолками - выше трех метров "
   ]
  },
  {
   "cell_type": "code",
   "execution_count": 19,
   "metadata": {},
   "outputs": [
    {
     "data": {
      "image/png": "[encoded data removed]",
      "text/plain": [
       "<Figure size 432x288 with 1 Axes>"
      ]
     },
     "metadata": {
      "needs_background": "light"
     },
     "output_type": "display_data"
    }
   ],
   "source": [
    "# Изучаем параметр \"этаж квартиры\"\n",
    "plt.hist(data['floor'], bins=20, range=(1 ,20))\n",
    "plt.title('Этаж квартиры')\n",
    "plt.xlabel('Этаж')\n",
    "plt.ylabel('Количество объявлений')\n",
    "plt.show()"
   ]
  },
  {
   "cell_type": "markdown",
   "metadata": {},
   "source": [
    "Больше всего квартир на 2 этаже. Количество объявлений о квартирах на 1, 3, 4 и 5 этажах отличается незначительно (это можно разглядеть подробнее, если изменить ранжирование гистограммы). В дальнейшем, чем выше этаж, тем меньше есть предложений с данным этажом. На гистограмме видны два пика снижения количества объявлений - после 5 и после 9 этажа, очевидно это связано с особенностями типовой застройки - пятиэтажных и девятиэтажных домов в России больше всего"
   ]
  },
  {
   "cell_type": "code",
   "execution_count": 20,
   "metadata": {},
   "outputs": [
    {
     "data": {
      "image/png": "[encoded data removed]",
      "text/plain": [
       "<Figure size 432x288 with 1 Axes>"
      ]
     },
     "metadata": {
      "needs_background": "light"
     },
     "output_type": "display_data"
    }
   ],
   "source": [
    "# Изучаем параметр \"количество этажей в доме\"\n",
    "plt.hist(data['floors_total'], bins=10, range=(0 , 33))\n",
    "plt.title('Количество этажей в доме')\n",
    "plt.xlabel('Число этажей')\n",
    "plt.ylabel('Количество  объявлений')\n",
    "plt.show()"
   ]
  },
  {
   "cell_type": "markdown",
   "metadata": {},
   "source": [
    "Больше всего объявлений, в которых продаются квартиры в пяти- и девятиэтажных домах - типовая застройка. Есть и достаточно количество более высоких домов - скорее всего это новостройки"
   ]
  },
  {
   "cell_type": "code",
   "execution_count": 21,
   "metadata": {
    "scrolled": true
   },
   "outputs": [
    {
     "data": {
      "image/png": "[encoded data removed]",
      "text/plain": [
       "<Figure size 432x288 with 1 Axes>"
      ]
     },
     "metadata": {
      "needs_background": "light"
     },
     "output_type": "display_data"
    }
   ],
   "source": [
    "# Изучаем параметр \"тип этажа квартиры\"\n",
    "plt.hist(data['floor_type'], bins=6, range=(0 , 3))\n",
    "plt.title('Тип этажа квартиры')\n",
    "plt.xlabel('Тип этажа')\n",
    "plt.ylabel('Количество объявлений')\n",
    "plt.show()"
   ]
  },
  {
   "cell_type": "markdown",
   "metadata": {},
   "source": [
    "Большинство продаваемых квартир находятся ни на первом ни на последнем этажах. Количество объявлений о квартирах на первом этаже немногим меньше, чем о квартирах на последнем"
   ]
  },
  {
   "cell_type": "code",
   "execution_count": 22,
   "metadata": {},
   "outputs": [
    {
     "data": {
      "image/png": "[encoded data removed]",
      "text/plain": [
       "<Figure size 432x288 with 1 Axes>"
      ]
     },
     "metadata": {
      "needs_background": "light"
     },
     "output_type": "display_data"
    }
   ],
   "source": [
    "# Изучаем параметр \"расстояние до центра города в метрах\"\n",
    "plt.hist(data['city_center_nearest'], bins=50, range=(2000,50000))\n",
    "plt.title('расстояние до центра города')\n",
    "plt.xlabel('метры')\n",
    "plt.ylabel('Количество объявлений')\n",
    "plt.show()"
   ]
  },
  {
   "cell_type": "markdown",
   "metadata": {},
   "source": [
    "Большая часть квартир продается в спальных районах Санкт-Петербурга - расстояние до центра города от 12 до 18 километров.\n",
    "Также есть два пика в пригородах - расстояние около 22км и 30 км, вероятно это крупные города в ЛенОбласти"
   ]
  },
  {
   "cell_type": "code",
   "execution_count": 23,
   "metadata": {},
   "outputs": [
    {
     "data": {
      "image/png": "[encoded data removed]",
      "text/plain": [
       "<Figure size 432x288 with 1 Axes>"
      ]
     },
     "metadata": {
      "needs_background": "light"
     },
     "output_type": "display_data"
    }
   ],
   "source": [
    "# Изучаем параметр \"расстояние до ближайшего аэропорта\"\n",
    "plt.hist(data['airports_nearest'], bins=50, range=(6000,80000))\n",
    "plt.title('расстояние до аэропорта')\n",
    "plt.xlabel('метры')\n",
    "plt.ylabel('Количество объявлений')\n",
    "plt.show()"
   ]
  },
  {
   "cell_type": "markdown",
   "metadata": {},
   "source": [
    "Аэропорт в Петербурге один - Пулково. Количество объявлений в непосредственной близости невелико - меньше 100 объявлений на расстоянии около 6-7 километров."
   ]
  },
  {
   "cell_type": "code",
   "execution_count": 24,
   "metadata": {},
   "outputs": [
    {
     "data": {
      "image/png": "[encoded data removed]",
      "text/plain": [
       "<Figure size 432x288 with 1 Axes>"
      ]
     },
     "metadata": {
      "needs_background": "light"
     },
     "output_type": "display_data"
    }
   ],
   "source": [
    "# Изучаем параметр \"расстояние до ближайшего парка\"\n",
    "plt.hist(data['parks_nearest'], bins=50, range=(1,3000))\n",
    "plt.title('расстояние до ближайшего парка')\n",
    "plt.xlabel('метры')\n",
    "plt.ylabel('Количество объявлений')\n",
    "plt.show()"
   ]
  },
  {
   "cell_type": "markdown",
   "metadata": {},
   "source": [
    "С парками в Петербурге получше, чем с аэропортами. Большая часть объявлений с парком в пешей доступности"
   ]
  },
  {
   "cell_type": "code",
   "execution_count": 25,
   "metadata": {},
   "outputs": [
    {
     "data": {
      "image/png": "[encoded data removed]",
      "text/plain": [
       "<Figure size 432x288 with 1 Axes>"
      ]
     },
     "metadata": {
      "needs_background": "light"
     },
     "output_type": "display_data"
    }
   ],
   "source": [
    "# Изучаем параметр \"День публикации объявления\"\n",
    "plt.hist(data['weekday'], bins=8, range=(0,7))\n",
    "plt.title('День публикации')\n",
    "plt.xlabel('понедельник -> воскресенье')\n",
    "plt.ylabel('Количество объявлений')\n",
    "plt.show()"
   ]
  },
  {
   "cell_type": "markdown",
   "metadata": {},
   "source": [
    "Чаще всего объявления подаются во вторник в четверг. Значительно реже - на выходных"
   ]
  },
  {
   "cell_type": "code",
   "execution_count": 26,
   "metadata": {},
   "outputs": [
    {
     "data": {
      "image/png": "[encoded data removed]",
      "text/plain": [
       "<Figure size 432x288 with 1 Axes>"
      ]
     },
     "metadata": {
      "needs_background": "light"
     },
     "output_type": "display_data"
    }
   ],
   "source": [
    "# Изучаем параметр \"Месяц публикации объявления\"\n",
    "plt.hist(data['month'], bins=12, range=(1,12))\n",
    "plt.title('Месяц публикации')\n",
    "plt.xlabel('месяц')\n",
    "plt.ylabel('Количество объявлений')\n",
    "plt.show()"
   ]
  },
  {
   "cell_type": "markdown",
   "metadata": {},
   "source": [
    "Больше всего объявлений подано в феврале и это при том, что в этом месяце меньше дней, чем в остальных. Меньше всего объявлений в мае и январе, слишком много выходных. Осенью количество объявлений увеличивается, а в декабре их снова мало."
   ]
  },
  {
   "cell_type": "markdown",
   "metadata": {},
   "source": [
    "**Исследование количества дней для продажи квартиры**"
   ]
  },
  {
   "cell_type": "code",
   "execution_count": 27,
   "metadata": {
    "scrolled": false
   },
   "outputs": [
    {
     "name": "stdout",
     "output_type": "stream",
     "text": [
      "Время продажи (среднее): 125 дней \n",
      "\n",
      "Время продажи (медиана): 80 дней\n",
      "\n"
     ]
    },
    {
     "data": {
      "image/png": "[encoded data removed]",
      "text/plain": [
       "<Figure size 432x288 with 1 Axes>"
      ]
     },
     "metadata": {
      "needs_background": "light"
     },
     "output_type": "display_data"
    }
   ],
   "source": [
    "print('Время продажи (среднее):', round(data['days_exposition'].mean()), \"дней\", '\\n')\n",
    "print('Время продажи (медиана):', round(data['days_exposition'].median()), \"дней\" '\\n')\n",
    "plt.hist(data['days_exposition'], bins=50, range=(0 , 100))\n",
    "plt.title('Продложительность размещения объявления')\n",
    "plt.xlabel('Дни размещения')\n",
    "plt.ylabel('Количество объявлений')\n",
    "plt.show()\n"
   ]
  },
  {
   "cell_type": "markdown",
   "metadata": {},
   "source": [
    "Медианное время продажи - 80 дней. Среднее время продажи - 125 дней.\n",
    "В основном квартиры продаются за три - четыре месяца. \n",
    "Достаточно много квартир были проданы сразу после публикации объявления - в течение нескольких дней.\n",
    "Также, значительное число квартир продавались и дольше среднего срока - больше нескольких месяцев.\n",
    "\n",
    "Быстрыми продажами признаем объявления, снятые с публикации через 40 дней. Долгими - те, что продаются более пяти месяцев (150 дней)"
   ]
  },
  {
   "cell_type": "markdown",
   "metadata": {},
   "source": [
    "Если приглядеться, то можно увидеть несколько пиков в сроке продажи до 100 дней - пиковые значения приходятся на срок в полтора месяца, в два месяца и в три месяца. Возможно, это как-то связано со стандартной длительностью оформления документов"
   ]
  },
  {
   "cell_type": "markdown",
   "metadata": {},
   "source": [
    "**Промежуточный вывод:**  \n",
    "Средняя площадь предлагаемых квартир - около 52 квадратных метров.  \n",
    "Большинство квартир обладают площадью до 100 квадратных метров, но встречаются варианты и с большей площадью.  \n",
    "Жилая площадь квартир имеет три пика - в районе 17 кв.м, около 35 и чуть более 50 (- эти данные находятся в корреляции с количеством комнат в квартире - наиболее частые варианты это 1 или 2, также достаточно часто встречаются и трехкомантные квартиры.  \n",
    "Средняя стоимость квартиры - около 4,7 млн. руб.  \n",
    "Большинство вариантов имеют высоту потолков от 2,5 до 3 метров.  \n",
    "Самые распространённая площадь кухни - от 5 до 15 метров.  \n",
    "Половина объявлений - квартиры в домах типовой застройки - пять или девять этажей. В домах до 5 этажей вариантов лишь около тысячи. В домах 10+ этажей вариантов побольше, это в основном новостройки.  \n",
    "Больше всего объявлений о квартирах на этажах с первого по пятый, конкретнее - на втором. Далее, чем выше этаж, тем меньше квартир.  \n",
    "Больше всего объявлений предлагают купить квартиру в спальных районах Петербурга на расстоянии от 12 до 18 километров до центра города.  \n",
    "Аэропорт в Петербурге один - есть небольшое число объявлений в непосредственной близости.  \n",
    "Судя по данным, Петербург - зелёный город. Практически у каждой продаваемой квартиры в пешей доступности есть парк.  \n",
    "  \n",
    "В среднем, на продажу квартиры уходит три-четыре месяца. Продать квартиру меньше, чем за 80 дней - большая удача\n"
   ]
  },
  {
   "cell_type": "markdown",
   "metadata": {},
   "source": [
    "**Исследование факторов, влияющих на полную стоимость квартиры**\n"
   ]
  },
  {
   "cell_type": "code",
   "execution_count": 28,
   "metadata": {},
   "outputs": [
    {
     "data": {
      "image/png": "[encoded data removed]",
      "text/plain": [
       "<Figure size 432x432 with 1 Axes>"
      ]
     },
     "metadata": {
      "needs_background": "light"
     },
     "output_type": "display_data"
    },
    {
     "name": "stdout",
     "output_type": "stream",
     "text": [
      "Корреляция цены и площади: \n",
      "\n"
     ]
    },
    {
     "data": {
      "text/html": [
       "<div>\n",
       "<style scoped>\n",
       "    .dataframe tbody tr th:only-of-type {\n",
       "        vertical-align: middle;\n",
       "    }\n",
       "\n",
       "    .dataframe tbody tr th {\n",
       "        vertical-align: top;\n",
       "    }\n",
       "\n",
       "    .dataframe thead th {\n",
       "        text-align: right;\n",
       "    }\n",
       "</style>\n",
       "<table border=\"1\" class=\"dataframe\">\n",
       "  <thead>\n",
       "    <tr style=\"text-align: right;\">\n",
       "      <th></th>\n",
       "      <th>last_price</th>\n",
       "      <th>total_area</th>\n",
       "    </tr>\n",
       "  </thead>\n",
       "  <tbody>\n",
       "    <tr>\n",
       "      <th>last_price</th>\n",
       "      <td>1.000000</td>\n",
       "      <td>0.883584</td>\n",
       "    </tr>\n",
       "    <tr>\n",
       "      <th>total_area</th>\n",
       "      <td>0.883584</td>\n",
       "      <td>1.000000</td>\n",
       "    </tr>\n",
       "  </tbody>\n",
       "</table>\n",
       "</div>"
      ],
      "text/plain": [
       "            last_price  total_area\n",
       "last_price    1.000000    0.883584\n",
       "total_area    0.883584    1.000000"
      ]
     },
     "metadata": {},
     "output_type": "display_data"
    }
   ],
   "source": [
    "#Изучаем зависимость стоимости от общей площади\n",
    "#Для этого создаем таблицу соотношение площадь/цена, её график и считаем корреляцию\n",
    "(\n",
    "    data.pivot_table(index='total_area', values='last_price')\n",
    "    .plot(grid=True, style='o', figsize=(6, 6))\n",
    ")\n",
    "plt.show()\n",
    "print('Корреляция цены и площади:','\\n')\n",
    "display(data.pivot_table(index='floor', values=['total_area', 'last_price']).corr())"
   ]
  },
  {
   "cell_type": "markdown",
   "metadata": {},
   "source": [
    "Корреляция есть и довольно серьезная. Впрочем, это ясно и интуитивно - чем больше площадь, тем дороже квартира"
   ]
  },
  {
   "cell_type": "code",
   "execution_count": 29,
   "metadata": {},
   "outputs": [
    {
     "data": {
      "image/png": "[encoded data removed]",
      "text/plain": [
       "<Figure size 432x432 with 1 Axes>"
      ]
     },
     "metadata": {
      "needs_background": "light"
     },
     "output_type": "display_data"
    },
    {
     "name": "stdout",
     "output_type": "stream",
     "text": [
      "Корреляция цены и площади: \n",
      "\n"
     ]
    },
    {
     "data": {
      "text/html": [
       "<div>\n",
       "<style scoped>\n",
       "    .dataframe tbody tr th:only-of-type {\n",
       "        vertical-align: middle;\n",
       "    }\n",
       "\n",
       "    .dataframe tbody tr th {\n",
       "        vertical-align: top;\n",
       "    }\n",
       "\n",
       "    .dataframe thead th {\n",
       "        text-align: right;\n",
       "    }\n",
       "</style>\n",
       "<table border=\"1\" class=\"dataframe\">\n",
       "  <thead>\n",
       "    <tr style=\"text-align: right;\">\n",
       "      <th></th>\n",
       "      <th>last_price</th>\n",
       "      <th>living_area</th>\n",
       "    </tr>\n",
       "  </thead>\n",
       "  <tbody>\n",
       "    <tr>\n",
       "      <th>last_price</th>\n",
       "      <td>1.000000</td>\n",
       "      <td>0.662848</td>\n",
       "    </tr>\n",
       "    <tr>\n",
       "      <th>living_area</th>\n",
       "      <td>0.662848</td>\n",
       "      <td>1.000000</td>\n",
       "    </tr>\n",
       "  </tbody>\n",
       "</table>\n",
       "</div>"
      ],
      "text/plain": [
       "             last_price  living_area\n",
       "last_price     1.000000     0.662848\n",
       "living_area    0.662848     1.000000"
      ]
     },
     "metadata": {},
     "output_type": "display_data"
    }
   ],
   "source": [
    "#Изучаем зависимость стоимости от жилой площади\n",
    "#Для этого создаем таблицу соотношение площадь/цена, её график и считаем корреляцию\n",
    "(\n",
    "    data.pivot_table(index='living_area', values='last_price')\n",
    "    .plot(grid=True, style='o', figsize=(6, 6))\n",
    ")\n",
    "plt.show()\n",
    "print('Корреляция цены и площади:','\\n')\n",
    "display(data.pivot_table(index='floor', values=['living_area', 'last_price']).corr())"
   ]
  },
  {
   "cell_type": "markdown",
   "metadata": {},
   "source": [
    "Корреляция чуть меньше, чем в предыдущем случае, но тоже довольно большая. Чем больше жилая площадь, тем дороже квартира"
   ]
  },
  {
   "cell_type": "code",
   "execution_count": 30,
   "metadata": {},
   "outputs": [
    {
     "data": {
      "image/png": "[encoded data removed]",
      "text/plain": [
       "<Figure size 432x432 with 1 Axes>"
      ]
     },
     "metadata": {
      "needs_background": "light"
     },
     "output_type": "display_data"
    },
    {
     "name": "stdout",
     "output_type": "stream",
     "text": [
      "Корреляция цены и площади: \n",
      "\n",
      "              kitchen_area  last_price\n",
      "kitchen_area      1.000000    0.556249\n",
      "last_price        0.556249    1.000000 \n",
      "\n"
     ]
    }
   ],
   "source": [
    "#Изучаем зависимость стоимости от площади кухни\n",
    "#Для этого создаем таблицу соотношение площадь/цена, её график и считаем корреляцию\n",
    "(\n",
    "    data.pivot_table(index='kitchen_area', values='last_price')\n",
    "    .plot(grid=True, style='o', figsize=(6, 6))\n",
    ")\n",
    "plt.show()\n",
    "print('Корреляция цены и площади:','\\n')\n",
    "print(data.pivot_table(index='floor', values=['kitchen_area', 'last_price']).corr(),'\\n')\n"
   ]
  },
  {
   "cell_type": "markdown",
   "metadata": {},
   "source": [
    "Также, как и в двух предыдущих параметров. Увеличение площади кухни чаще всего ведёт к увеличению стоимости квартиры."
   ]
  },
  {
   "cell_type": "code",
   "execution_count": 31,
   "metadata": {},
   "outputs": [
    {
     "data": {
      "image/png": "[encoded data removed]",
      "text/plain": [
       "<Figure size 432x432 with 1 Axes>"
      ]
     },
     "metadata": {
      "needs_background": "light"
     },
     "output_type": "display_data"
    },
    {
     "name": "stdout",
     "output_type": "stream",
     "text": [
      "Корреляция цены и количества комнат: \n",
      "\n"
     ]
    },
    {
     "data": {
      "text/html": [
       "<div>\n",
       "<style scoped>\n",
       "    .dataframe tbody tr th:only-of-type {\n",
       "        vertical-align: middle;\n",
       "    }\n",
       "\n",
       "    .dataframe tbody tr th {\n",
       "        vertical-align: top;\n",
       "    }\n",
       "\n",
       "    .dataframe thead th {\n",
       "        text-align: right;\n",
       "    }\n",
       "</style>\n",
       "<table border=\"1\" class=\"dataframe\">\n",
       "  <thead>\n",
       "    <tr style=\"text-align: right;\">\n",
       "      <th></th>\n",
       "      <th>last_price</th>\n",
       "      <th>rooms</th>\n",
       "    </tr>\n",
       "  </thead>\n",
       "  <tbody>\n",
       "    <tr>\n",
       "      <th>last_price</th>\n",
       "      <td>1.000000</td>\n",
       "      <td>0.481881</td>\n",
       "    </tr>\n",
       "    <tr>\n",
       "      <th>rooms</th>\n",
       "      <td>0.481881</td>\n",
       "      <td>1.000000</td>\n",
       "    </tr>\n",
       "  </tbody>\n",
       "</table>\n",
       "</div>"
      ],
      "text/plain": [
       "            last_price     rooms\n",
       "last_price    1.000000  0.481881\n",
       "rooms         0.481881  1.000000"
      ]
     },
     "metadata": {},
     "output_type": "display_data"
    }
   ],
   "source": [
    "#Изучаем зависимость стоимости от количества комнат\n",
    "#Для этого создаем таблицу соотношение количество комнат/цена, её график и считаем корреляцию\n",
    "(\n",
    "    data.pivot_table(index='rooms', values='last_price')\n",
    "    .plot(grid=True, style='o-', figsize=(6, 6))\n",
    ")\n",
    "plt.show()\n",
    "print('Корреляция цены и количества комнат:', '\\n')\n",
    "display(data.pivot_table(index='floor', values=['rooms', 'last_price']).corr())"
   ]
  },
  {
   "cell_type": "markdown",
   "metadata": {},
   "source": [
    "График довольно наглядный - чем больше комнат, тем дороже квартира. При этом, корреляция меньше, чем в соотшении с площадью квартиры. Действительно, для многих одна комната площадью 30 кв.м. лучше, чем две по 10."
   ]
  },
  {
   "cell_type": "code",
   "execution_count": 32,
   "metadata": {},
   "outputs": [
    {
     "data": {
      "image/png": "[encoded data removed]",
      "text/plain": [
       "<Figure size 432x432 with 1 Axes>"
      ]
     },
     "metadata": {
      "needs_background": "light"
     },
     "output_type": "display_data"
    }
   ],
   "source": [
    "#Изучаем зависимость стоимости от этажа, на котором расположена квартира\n",
    "#Для этого создаем таблицу соотношение этаж/цена, её график\n",
    "(\n",
    "    data.pivot_table(index='floor_type', values='last_price')\n",
    "    .plot(grid=True, style='o-', figsize=(6, 6))\n",
    ")\n",
    "plt.show()"
   ]
  },
  {
   "cell_type": "markdown",
   "metadata": {},
   "source": [
    "Как в песне, \"первый и последний этаж не предлагать\". \n",
    "Традиционно, квартиры на первом и последнем этажах считаются самыми неудобными для жизни и это отражается на их стоимости."
   ]
  },
  {
   "cell_type": "code",
   "execution_count": 33,
   "metadata": {},
   "outputs": [
    {
     "data": {
      "image/png": "[encoded data removed]",
      "text/plain": [
       "<Figure size 504x504 with 1 Axes>"
      ]
     },
     "metadata": {
      "needs_background": "light"
     },
     "output_type": "display_data"
    },
    {
     "data": {
      "image/png": "[encoded data removed]",
      "text/plain": [
       "<Figure size 864x432 with 1 Axes>"
      ]
     },
     "metadata": {
      "needs_background": "light"
     },
     "output_type": "display_data"
    },
    {
     "data": {
      "image/png": "[encoded data removed]",
      "text/plain": [
       "<Figure size 504x504 with 1 Axes>"
      ]
     },
     "metadata": {
      "needs_background": "light"
     },
     "output_type": "display_data"
    }
   ],
   "source": [
    "# Зависимость от дня размещения\n",
    "(\n",
    "    data.pivot_table(index='weekday', values='last_price')\n",
    "    .plot(grid=True, style='o-', figsize=(7, 7))\n",
    ")\n",
    "plt.show()\n",
    "# Зависимость от месяца размещения\n",
    "(\n",
    "    data.pivot_table(index='month', values='last_price')\n",
    "    .plot(grid=True, style='o-', xlim=(0,12), figsize=(12, 6))\n",
    ")\n",
    "plt.show()\n",
    "# Зависимость от года размещения\n",
    "(\n",
    "    data.pivot_table(index='year', values='last_price')\n",
    "    .plot(grid=True, style='o-', figsize=(7, 7))\n",
    ")\n",
    "plt.show()"
   ]
  },
  {
   "cell_type": "markdown",
   "metadata": {},
   "source": [
    "День недели: дороже всего квартиры, опубликованные в среду, дешевле всего - в субботу.\n",
    "Месяц: дороже всего квартиры, продающиеся с апреля, дешевле всего - с июня.\n",
    "Год: самые дорогие квартиры в среднем были в 2014 году. Но потом что-то случилось и стоимость резко упала. Продержавшись примерно на одном уровне в 2016-2018 годах, цены вновь стали расти в 2019-м"
   ]
  },
  {
   "cell_type": "code",
   "execution_count": 34,
   "metadata": {},
   "outputs": [
    {
     "data": {
      "image/png": "[encoded data removed]",
      "text/plain": [
       "<Figure size 504x504 with 1 Axes>"
      ]
     },
     "metadata": {
      "needs_background": "light"
     },
     "output_type": "display_data"
    }
   ],
   "source": [
    "# Зависимость стоимости квадратного метра от года размещения\n",
    "(\n",
    "    data.pivot_table(index='year', values='sqm_price')\n",
    "    .plot(grid=True, style='o-', figsize=(7, 7))\n",
    ")\n",
    "plt.show()"
   ]
  },
  {
   "cell_type": "markdown",
   "metadata": {},
   "source": [
    "Интересная деталь - если общая стоимость квартиры в среднем уменьшилась в 2019-м по сравнению с 2014-м, то стоимость квадратного метра возросла. Следовательно, средняя площадь продаваемых квартир стала меньше. Это объяснимо, так как после кризисных лет люди ждут выздоровления рынка и не торопятся избавляться от серьезных активов."
   ]
  },
  {
   "cell_type": "markdown",
   "metadata": {},
   "source": [
    "**Анализ десяти населённых пунктов с наибольшим числом объявлений, анализ стоимости квадратного метра**"
   ]
  },
  {
   "cell_type": "code",
   "execution_count": 35,
   "metadata": {
    "scrolled": true
   },
   "outputs": [
    {
     "data": {
      "text/html": [
       "<div>\n",
       "<style scoped>\n",
       "    .dataframe tbody tr th:only-of-type {\n",
       "        vertical-align: middle;\n",
       "    }\n",
       "\n",
       "    .dataframe tbody tr th {\n",
       "        vertical-align: top;\n",
       "    }\n",
       "\n",
       "    .dataframe thead th {\n",
       "        text-align: right;\n",
       "    }\n",
       "</style>\n",
       "<table border=\"1\" class=\"dataframe\">\n",
       "  <thead>\n",
       "    <tr style=\"text-align: right;\">\n",
       "      <th></th>\n",
       "      <th>sqm_price</th>\n",
       "    </tr>\n",
       "    <tr>\n",
       "      <th>locality_name</th>\n",
       "      <th></th>\n",
       "    </tr>\n",
       "  </thead>\n",
       "  <tbody>\n",
       "    <tr>\n",
       "      <th>Санкт-Петербург</th>\n",
       "      <td>105420</td>\n",
       "    </tr>\n",
       "    <tr>\n",
       "      <th>Пушкин</th>\n",
       "      <td>100047</td>\n",
       "    </tr>\n",
       "    <tr>\n",
       "      <th>деревня Кудрово</th>\n",
       "      <td>92943</td>\n",
       "    </tr>\n",
       "    <tr>\n",
       "      <th>поселок Парголово</th>\n",
       "      <td>90184</td>\n",
       "    </tr>\n",
       "    <tr>\n",
       "      <th>поселок Мурино</th>\n",
       "      <td>85600</td>\n",
       "    </tr>\n",
       "    <tr>\n",
       "      <th>поселок Шушары</th>\n",
       "      <td>78576</td>\n",
       "    </tr>\n",
       "    <tr>\n",
       "      <th>Колпино</th>\n",
       "      <td>75237</td>\n",
       "    </tr>\n",
       "    <tr>\n",
       "      <th>Гатчина</th>\n",
       "      <td>68544</td>\n",
       "    </tr>\n",
       "    <tr>\n",
       "      <th>Всеволожск</th>\n",
       "      <td>67000</td>\n",
       "    </tr>\n",
       "    <tr>\n",
       "      <th>Выборг</th>\n",
       "      <td>58024</td>\n",
       "    </tr>\n",
       "  </tbody>\n",
       "</table>\n",
       "</div>"
      ],
      "text/plain": [
       "                   sqm_price\n",
       "locality_name               \n",
       "Санкт-Петербург       105420\n",
       "Пушкин                100047\n",
       "деревня Кудрово        92943\n",
       "поселок Парголово      90184\n",
       "поселок Мурино         85600\n",
       "поселок Шушары         78576\n",
       "Колпино                75237\n",
       "Гатчина                68544\n",
       "Всеволожск             67000\n",
       "Выборг                 58024"
      ]
     },
     "execution_count": 35,
     "metadata": {},
     "output_type": "execute_result"
    }
   ],
   "source": [
    "#Создаем переменную с 10 городами - лидерами по числу объявлений и переменную - таблицу со средней ценой кв.м. в этих городах\n",
    "top_ten = data['locality_name'].value_counts().head(10)\n",
    "top_ten_sqm_price = data.query('locality_name in (@top_ten.index)').pivot_table(values='sqm_price', index='locality_name')\n",
    "top_ten_sqm_price = top_ten_sqm_price.astype(int)\n",
    "top_ten_sqm_price.sort_values(by='sqm_price', ascending=False)\n"
   ]
  },
  {
   "cell_type": "markdown",
   "metadata": {},
   "source": [
    "Лидирует, ожидаемо Петербург. На втором месте Пушкин с его прекрасными парками и дворцами, далее располагаются ближайшие пригороды Петербурга, в которых можно жить, работая при этом в СПб.\n",
    "Квартиры в крупных города Ленинградской области (Гатчина, Всеволожск, Выборг) заметно дешевле"
   ]
  },
  {
   "cell_type": "markdown",
   "metadata": {},
   "source": [
    "**Анализ изменения цены квадратного метра в Санкт-Петербурге для каждого километра по степени удалённости от центра**"
   ]
  },
  {
   "cell_type": "code",
   "execution_count": 36,
   "metadata": {},
   "outputs": [
    {
     "data": {
      "text/html": [
       "<div>\n",
       "<style scoped>\n",
       "    .dataframe tbody tr th:only-of-type {\n",
       "        vertical-align: middle;\n",
       "    }\n",
       "\n",
       "    .dataframe tbody tr th {\n",
       "        vertical-align: top;\n",
       "    }\n",
       "\n",
       "    .dataframe thead th {\n",
       "        text-align: right;\n",
       "    }\n",
       "</style>\n",
       "<table border=\"1\" class=\"dataframe\">\n",
       "  <thead>\n",
       "    <tr style=\"text-align: right;\">\n",
       "      <th></th>\n",
       "      <th>sqm_price</th>\n",
       "    </tr>\n",
       "    <tr>\n",
       "      <th>city_center_nearest_km</th>\n",
       "      <th></th>\n",
       "    </tr>\n",
       "  </thead>\n",
       "  <tbody>\n",
       "    <tr>\n",
       "      <th>0.0</th>\n",
       "      <td>121139.333333</td>\n",
       "    </tr>\n",
       "    <tr>\n",
       "      <th>1.0</th>\n",
       "      <td>123601.678161</td>\n",
       "    </tr>\n",
       "    <tr>\n",
       "      <th>2.0</th>\n",
       "      <td>116349.093333</td>\n",
       "    </tr>\n",
       "    <tr>\n",
       "      <th>3.0</th>\n",
       "      <td>109617.961905</td>\n",
       "    </tr>\n",
       "    <tr>\n",
       "      <th>4.0</th>\n",
       "      <td>116663.372263</td>\n",
       "    </tr>\n",
       "    <tr>\n",
       "      <th>5.0</th>\n",
       "      <td>120928.547664</td>\n",
       "    </tr>\n",
       "    <tr>\n",
       "      <th>6.0</th>\n",
       "      <td>121944.244156</td>\n",
       "    </tr>\n",
       "    <tr>\n",
       "      <th>7.0</th>\n",
       "      <td>115970.421818</td>\n",
       "    </tr>\n",
       "    <tr>\n",
       "      <th>8.0</th>\n",
       "      <td>115949.040268</td>\n",
       "    </tr>\n",
       "    <tr>\n",
       "      <th>9.0</th>\n",
       "      <td>106172.257937</td>\n",
       "    </tr>\n",
       "    <tr>\n",
       "      <th>10.0</th>\n",
       "      <td>107966.712934</td>\n",
       "    </tr>\n",
       "    <tr>\n",
       "      <th>11.0</th>\n",
       "      <td>104345.516098</td>\n",
       "    </tr>\n",
       "    <tr>\n",
       "      <th>12.0</th>\n",
       "      <td>105550.573727</td>\n",
       "    </tr>\n",
       "    <tr>\n",
       "      <th>13.0</th>\n",
       "      <td>105984.765321</td>\n",
       "    </tr>\n",
       "    <tr>\n",
       "      <th>14.0</th>\n",
       "      <td>103539.914262</td>\n",
       "    </tr>\n",
       "    <tr>\n",
       "      <th>15.0</th>\n",
       "      <td>102332.917818</td>\n",
       "    </tr>\n",
       "    <tr>\n",
       "      <th>16.0</th>\n",
       "      <td>99113.373234</td>\n",
       "    </tr>\n",
       "    <tr>\n",
       "      <th>17.0</th>\n",
       "      <td>95534.659781</td>\n",
       "    </tr>\n",
       "    <tr>\n",
       "      <th>18.0</th>\n",
       "      <td>96110.264000</td>\n",
       "    </tr>\n",
       "    <tr>\n",
       "      <th>19.0</th>\n",
       "      <td>96885.360544</td>\n",
       "    </tr>\n",
       "    <tr>\n",
       "      <th>20.0</th>\n",
       "      <td>101635.131579</td>\n",
       "    </tr>\n",
       "    <tr>\n",
       "      <th>21.0</th>\n",
       "      <td>93298.151786</td>\n",
       "    </tr>\n",
       "    <tr>\n",
       "      <th>22.0</th>\n",
       "      <td>90489.646154</td>\n",
       "    </tr>\n",
       "    <tr>\n",
       "      <th>23.0</th>\n",
       "      <td>92202.487805</td>\n",
       "    </tr>\n",
       "    <tr>\n",
       "      <th>24.0</th>\n",
       "      <td>85736.461538</td>\n",
       "    </tr>\n",
       "    <tr>\n",
       "      <th>25.0</th>\n",
       "      <td>92341.720000</td>\n",
       "    </tr>\n",
       "    <tr>\n",
       "      <th>26.0</th>\n",
       "      <td>87798.441860</td>\n",
       "    </tr>\n",
       "    <tr>\n",
       "      <th>27.0</th>\n",
       "      <td>70312.000000</td>\n",
       "    </tr>\n",
       "    <tr>\n",
       "      <th>28.0</th>\n",
       "      <td>81161.571429</td>\n",
       "    </tr>\n",
       "    <tr>\n",
       "      <th>29.0</th>\n",
       "      <td>72952.666667</td>\n",
       "    </tr>\n",
       "  </tbody>\n",
       "</table>\n",
       "</div>"
      ],
      "text/plain": [
       "                            sqm_price\n",
       "city_center_nearest_km               \n",
       "0.0                     121139.333333\n",
       "1.0                     123601.678161\n",
       "2.0                     116349.093333\n",
       "3.0                     109617.961905\n",
       "4.0                     116663.372263\n",
       "5.0                     120928.547664\n",
       "6.0                     121944.244156\n",
       "7.0                     115970.421818\n",
       "8.0                     115949.040268\n",
       "9.0                     106172.257937\n",
       "10.0                    107966.712934\n",
       "11.0                    104345.516098\n",
       "12.0                    105550.573727\n",
       "13.0                    105984.765321\n",
       "14.0                    103539.914262\n",
       "15.0                    102332.917818\n",
       "16.0                     99113.373234\n",
       "17.0                     95534.659781\n",
       "18.0                     96110.264000\n",
       "19.0                     96885.360544\n",
       "20.0                    101635.131579\n",
       "21.0                     93298.151786\n",
       "22.0                     90489.646154\n",
       "23.0                     92202.487805\n",
       "24.0                     85736.461538\n",
       "25.0                     92341.720000\n",
       "26.0                     87798.441860\n",
       "27.0                     70312.000000\n",
       "28.0                     81161.571429\n",
       "29.0                     72952.666667"
      ]
     },
     "metadata": {},
     "output_type": "display_data"
    },
    {
     "data": {
      "image/png": "[encoded data removed]",
      "text/plain": [
       "<Figure size 720x360 with 1 Axes>"
      ]
     },
     "metadata": {
      "needs_background": "light"
     },
     "output_type": "display_data"
    }
   ],
   "source": [
    "#Выведем на экран таблицу со средней ценой квадратного метра для каждого километра удаления от центра Петербурга \n",
    "display(data.query('locality_name == \"Санкт-Петербург\"')\n",
    " .pivot_table(index='city_center_nearest_km', values='sqm_price', aggfunc='mean'))\n",
    "      \n",
    "(data.query('locality_name == \"Санкт-Петербург\"')\n",
    " .pivot_table(index='city_center_nearest_km', values='sqm_price', aggfunc='mean')\n",
    " .plot(grid=True, style='o-', xlim=(0,30), figsize=(10, 5)))\n",
    "plt.show()\n"
   ]
  },
  {
   "cell_type": "markdown",
   "metadata": {},
   "source": [
    "На графике видно, что средняя цена квадратного метра снижается с отдалением от центра.  \n",
    "Резкое снижение идёт на расстоянии от 7 километров - это можно считать условной границей центральных районов Петербурга.  \n",
    "При этом, квартиры, находящиеся в трех километрах от центра города стоят относительно дешево - интересная деталь"
   ]
  },
  {
   "cell_type": "markdown",
   "metadata": {},
   "source": [
    "**Выводы по исследовательскому анализу данных:**  \n",
    "Среди факторов, влияющих на полную стоимость квартиры конечно же в первую очередь стоит упомянуть общую площадь и жилую площадь помещения. Чем больше места, тем дороже квартира в среднем. То же можно сказать и о кухне.  \n",
    "Количество комнат также влияет на стоимость квартиры, но корреляция меньше.  \n",
    "Квартиры на первом и последнем этаже дома стоят в среднем дешевле, чем квартиры на других этажах.\n",
    "Существует корреляция между днем подачи объявления и ценой квартиры. Почему-то квартиры, которые решили продать в будний день в среднем стоят дороже, чем те, что начали продавать в выходные.  \n",
    "Июнь - не самый удачный месяц для публикации объявления. Самый удачный - апрель, квартиры, которые начали продавать в этом месяце в среднем дороже всего. Возможно это связано с тем, что просмотры и финальное оформление сделки в таком случае происходит летом, любая квартира покажется красивее, когда вокруг всё цветёт.  \n",
    "  \n",
    "Стоимость квадратного метра, конечно, самая большая в Петербурге. Далее следует Пушкин, а за ним районы-спутники Петербурга, где можно жить, работая в центре города.  \n",
    "С удалением от центра города цена за квадратный метр снижается. При этом есть интересные особенности - например на удалении в 3 километра квартиры дешевле, чем на удалении в 4,5,6,7,8. Возможно это связано, что в радиусе трех километров достаточно много домов, в которых ранее было большое количество коммунальных квартир, находящихся сейчас не в лучшем состоянии.\n"
   ]
  },
  {
   "cell_type": "markdown",
   "metadata": {},
   "source": [
    "### Общий вывод."
   ]
  },
  {
   "cell_type": "markdown",
   "metadata": {},
   "source": [
    "В процессе исследования мы обработали полученные данные, по возможности избавились от пропусков и аномальных значений.\n",
    "В данном контексте аномальными оказались квартиры, которые можно отнести к сегменту элитной недвижимости - этот сегмент требует отдельного исследования.\n",
    "\n",
    "Наше же исследование было посвящено квартирам среднего ценового диапазано - таких в представленном датасете абсолютное большинство.\n",
    "\n",
    "Среднее время продажи квартиры - 80 дней. Стоит признать быстрой продажу за 40 дней. Больше пяти месяцев - уже долгая продажа. \n",
    "\n",
    "На стоимость больше всего влияет площадь квартиры.\n",
    "Размер кухни также имеет значение, как и число комнат. Но корреляция в данных случаях меньше. \n",
    "Первый этаж значительно дешевле остальных вариантов. Последний этаж стоит в среднем дороже, но тоже меньше, чем квартиры на этажах со второго до предпоследнего.  \n",
    "\n",
    "Средняя стоимость квартир сильно упала в кризисные 2015-2017 годы, потихоньку начав расти после, но до 2019 года всё ещё не были достигнуты значения 2014 года. При этом, связано это с тем, что уменьшилась средняя площадь продаваемых квартир, ведь средняя стоимость квадратного метра в 2019-м уже выше, чем в 2014-м. \n",
    "\n",
    "Дороже всего квадратный метр стоит в Санкт-Петербурге и Пушкине.\n",
    "Из населенных пунктов, входящих в топ-10 по числу объявлений, самый дешевый  квадратный метр в Выборге.  \n",
    "\n",
    "В самом Петербурге стоимость квадратного метра в целом растёт при приближению квартиры к центру города."
   ]
  },
  {
   "cell_type": "code",
   "execution_count": null,
   "metadata": {},
   "outputs": [],
   "source": []
  }
 ],
 "metadata": {
  "ExecuteTimeLog": [
   {
    "duration": 925,
    "start_time": "2022-07-27T11:18:45.545Z"
   },
   {
    "duration": 70,
    "start_time": "2022-07-27T11:20:35.774Z"
   },
   {
    "duration": 84,
    "start_time": "2022-07-27T11:20:40.855Z"
   },
   {
    "duration": 164,
    "start_time": "2022-07-27T11:21:56.055Z"
   },
   {
    "duration": 93,
    "start_time": "2022-07-27T11:22:02.952Z"
   },
   {
    "duration": 110,
    "start_time": "2022-07-27T11:55:07.732Z"
   },
   {
    "duration": 1717,
    "start_time": "2022-07-27T11:58:41.281Z"
   },
   {
    "duration": 6,
    "start_time": "2022-07-27T12:03:09.092Z"
   },
   {
    "duration": 7,
    "start_time": "2022-07-27T12:09:28.171Z"
   },
   {
    "duration": 10,
    "start_time": "2022-07-27T12:12:29.394Z"
   },
   {
    "duration": 8,
    "start_time": "2022-07-27T12:12:33.883Z"
   },
   {
    "duration": 9,
    "start_time": "2022-07-27T12:13:27.565Z"
   },
   {
    "duration": 3,
    "start_time": "2022-07-27T12:17:34.162Z"
   },
   {
    "duration": 2,
    "start_time": "2022-07-27T12:17:43.106Z"
   },
   {
    "duration": 95,
    "start_time": "2022-07-27T12:18:00.650Z"
   },
   {
    "duration": 4,
    "start_time": "2022-07-27T12:22:50.852Z"
   },
   {
    "duration": 16,
    "start_time": "2022-07-27T12:23:17.609Z"
   },
   {
    "duration": 4,
    "start_time": "2022-07-27T12:23:41.515Z"
   },
   {
    "duration": 7,
    "start_time": "2022-07-27T12:23:53.914Z"
   },
   {
    "duration": 11,
    "start_time": "2022-07-27T12:26:16.346Z"
   },
   {
    "duration": 141,
    "start_time": "2022-07-27T12:26:22.898Z"
   },
   {
    "duration": 3,
    "start_time": "2022-07-27T12:26:37.683Z"
   },
   {
    "duration": 137,
    "start_time": "2022-07-27T12:26:43.346Z"
   },
   {
    "duration": 123,
    "start_time": "2022-07-27T12:26:56.691Z"
   },
   {
    "duration": 7,
    "start_time": "2022-07-27T12:27:11.330Z"
   },
   {
    "duration": 6,
    "start_time": "2022-07-27T12:27:38.282Z"
   },
   {
    "duration": 6,
    "start_time": "2022-07-27T12:27:59.306Z"
   },
   {
    "duration": 6,
    "start_time": "2022-07-27T12:28:08.362Z"
   },
   {
    "duration": 149,
    "start_time": "2022-07-27T12:28:37.154Z"
   },
   {
    "duration": 152,
    "start_time": "2022-07-27T12:28:53.082Z"
   },
   {
    "duration": 119,
    "start_time": "2022-07-27T12:28:56.706Z"
   },
   {
    "duration": 184,
    "start_time": "2022-07-27T12:29:35.162Z"
   },
   {
    "duration": 143,
    "start_time": "2022-07-27T12:30:05.827Z"
   },
   {
    "duration": 139,
    "start_time": "2022-07-27T12:30:17.435Z"
   },
   {
    "duration": 117,
    "start_time": "2022-07-27T12:30:28.106Z"
   },
   {
    "duration": 9,
    "start_time": "2022-07-27T12:30:47.107Z"
   },
   {
    "duration": 78,
    "start_time": "2022-07-27T12:30:55.138Z"
   },
   {
    "duration": 8,
    "start_time": "2022-07-27T12:31:19.307Z"
   },
   {
    "duration": 6,
    "start_time": "2022-07-27T12:35:25.506Z"
   },
   {
    "duration": 8,
    "start_time": "2022-07-27T12:39:51.177Z"
   },
   {
    "duration": 8,
    "start_time": "2022-07-27T12:41:07.610Z"
   },
   {
    "duration": 4,
    "start_time": "2022-07-27T12:41:17.034Z"
   },
   {
    "duration": 33,
    "start_time": "2022-07-27T12:42:11.314Z"
   },
   {
    "duration": 34,
    "start_time": "2022-07-27T12:45:54.203Z"
   },
   {
    "duration": 5,
    "start_time": "2022-07-27T12:52:54.829Z"
   },
   {
    "duration": 7,
    "start_time": "2022-07-27T12:53:11.987Z"
   },
   {
    "duration": 71,
    "start_time": "2022-07-27T12:53:49.043Z"
   },
   {
    "duration": 5,
    "start_time": "2022-07-27T12:53:56.620Z"
   },
   {
    "duration": 5,
    "start_time": "2022-07-27T12:54:05.480Z"
   },
   {
    "duration": 5,
    "start_time": "2022-07-27T12:54:20.067Z"
   },
   {
    "duration": 8,
    "start_time": "2022-07-27T12:54:38.132Z"
   },
   {
    "duration": 4,
    "start_time": "2022-07-27T12:54:46.395Z"
   },
   {
    "duration": 4,
    "start_time": "2022-07-27T12:54:53.140Z"
   },
   {
    "duration": 13,
    "start_time": "2022-07-27T12:55:08.195Z"
   },
   {
    "duration": 16,
    "start_time": "2022-07-27T12:58:04.578Z"
   },
   {
    "duration": 16,
    "start_time": "2022-07-27T12:58:25.996Z"
   },
   {
    "duration": 13,
    "start_time": "2022-07-27T13:00:52.875Z"
   },
   {
    "duration": 5,
    "start_time": "2022-07-27T13:05:30.283Z"
   },
   {
    "duration": 9,
    "start_time": "2022-07-27T13:05:44.211Z"
   },
   {
    "duration": 7,
    "start_time": "2022-07-27T13:06:22.483Z"
   },
   {
    "duration": 8,
    "start_time": "2022-07-27T13:15:28.222Z"
   },
   {
    "duration": 15,
    "start_time": "2022-07-27T13:16:14.661Z"
   },
   {
    "duration": 7,
    "start_time": "2022-07-27T13:16:45.164Z"
   },
   {
    "duration": 9,
    "start_time": "2022-07-27T13:16:57.222Z"
   },
   {
    "duration": 11,
    "start_time": "2022-07-27T13:17:25.988Z"
   },
   {
    "duration": 17,
    "start_time": "2022-07-27T13:17:43.805Z"
   },
   {
    "duration": 32,
    "start_time": "2022-07-27T13:17:55.484Z"
   },
   {
    "duration": 12,
    "start_time": "2022-07-27T13:21:42.444Z"
   },
   {
    "duration": 24,
    "start_time": "2022-07-27T13:21:52.423Z"
   },
   {
    "duration": 5,
    "start_time": "2022-07-27T13:23:33.693Z"
   },
   {
    "duration": 12,
    "start_time": "2022-07-27T13:23:43.028Z"
   },
   {
    "duration": 8,
    "start_time": "2022-07-27T13:32:08.976Z"
   },
   {
    "duration": 3,
    "start_time": "2022-07-27T13:34:25.444Z"
   },
   {
    "duration": 5,
    "start_time": "2022-07-27T13:35:12.092Z"
   },
   {
    "duration": 13,
    "start_time": "2022-07-27T13:37:38.285Z"
   },
   {
    "duration": 26,
    "start_time": "2022-07-27T13:41:24.060Z"
   },
   {
    "duration": 18,
    "start_time": "2022-07-27T13:41:57.404Z"
   },
   {
    "duration": 114,
    "start_time": "2022-07-27T13:42:10.061Z"
   },
   {
    "duration": 1729,
    "start_time": "2022-07-27T13:42:11.028Z"
   },
   {
    "duration": 9,
    "start_time": "2022-07-27T13:42:13.662Z"
   },
   {
    "duration": 62,
    "start_time": "2022-07-27T13:42:15.429Z"
   },
   {
    "duration": 21,
    "start_time": "2022-07-27T13:43:47.800Z"
   },
   {
    "duration": 10,
    "start_time": "2022-07-27T13:45:37.181Z"
   },
   {
    "duration": 11,
    "start_time": "2022-07-27T13:46:16.245Z"
   },
   {
    "duration": 14,
    "start_time": "2022-07-27T13:46:35.854Z"
   },
   {
    "duration": 11,
    "start_time": "2022-07-27T13:47:17.181Z"
   },
   {
    "duration": 13,
    "start_time": "2022-07-27T14:01:08.500Z"
   },
   {
    "duration": 23,
    "start_time": "2022-07-27T14:01:28.626Z"
   },
   {
    "duration": 20,
    "start_time": "2022-07-27T14:01:37.847Z"
   },
   {
    "duration": 18,
    "start_time": "2022-07-27T14:02:00.582Z"
   },
   {
    "duration": 7,
    "start_time": "2022-07-27T14:11:25.957Z"
   },
   {
    "duration": 7,
    "start_time": "2022-07-27T14:11:56.089Z"
   },
   {
    "duration": 6,
    "start_time": "2022-07-27T14:12:08.870Z"
   },
   {
    "duration": 7,
    "start_time": "2022-07-27T14:12:24.726Z"
   },
   {
    "duration": 25,
    "start_time": "2022-07-27T14:13:08.463Z"
   },
   {
    "duration": 81,
    "start_time": "2022-07-27T14:15:19.565Z"
   },
   {
    "duration": 246,
    "start_time": "2022-07-27T14:15:53.014Z"
   },
   {
    "duration": 60,
    "start_time": "2022-07-27T14:17:20.975Z"
   },
   {
    "duration": 48,
    "start_time": "2022-07-27T14:18:15.839Z"
   },
   {
    "duration": 43,
    "start_time": "2022-07-27T14:19:08.486Z"
   },
   {
    "duration": 110,
    "start_time": "2022-07-27T14:19:20.510Z"
   },
   {
    "duration": 1784,
    "start_time": "2022-07-27T14:19:21.112Z"
   },
   {
    "duration": 8,
    "start_time": "2022-07-27T14:19:23.966Z"
   },
   {
    "duration": 14,
    "start_time": "2022-07-27T14:19:25.879Z"
   },
   {
    "duration": 19,
    "start_time": "2022-07-27T14:19:26.526Z"
   },
   {
    "duration": 48,
    "start_time": "2022-07-27T14:19:28.526Z"
   },
   {
    "duration": 11,
    "start_time": "2022-07-27T14:22:59.966Z"
   },
   {
    "duration": 11,
    "start_time": "2022-07-27T14:25:15.870Z"
   },
   {
    "duration": 13,
    "start_time": "2022-07-27T14:27:40.142Z"
   },
   {
    "duration": 19,
    "start_time": "2022-07-27T14:27:52.135Z"
   },
   {
    "duration": 123,
    "start_time": "2022-07-27T14:29:26.542Z"
   },
   {
    "duration": 1810,
    "start_time": "2022-07-27T14:29:31.111Z"
   },
   {
    "duration": 8,
    "start_time": "2022-07-27T14:29:38.086Z"
   },
   {
    "duration": 16,
    "start_time": "2022-07-27T14:29:40.134Z"
   },
   {
    "duration": 18,
    "start_time": "2022-07-27T14:29:41.126Z"
   },
   {
    "duration": 17,
    "start_time": "2022-07-27T14:31:51.999Z"
   },
   {
    "duration": 162,
    "start_time": "2022-07-27T14:32:00.831Z"
   },
   {
    "duration": 1091,
    "start_time": "2022-07-28T05:59:21.269Z"
   },
   {
    "duration": 2161,
    "start_time": "2022-07-28T05:59:22.530Z"
   },
   {
    "duration": 10,
    "start_time": "2022-07-28T05:59:24.914Z"
   },
   {
    "duration": 10,
    "start_time": "2022-07-28T06:04:21.885Z"
   },
   {
    "duration": 6,
    "start_time": "2022-07-28T06:14:39.692Z"
   },
   {
    "duration": 8,
    "start_time": "2022-07-28T06:15:15.849Z"
   },
   {
    "duration": 6,
    "start_time": "2022-07-28T06:15:32.091Z"
   },
   {
    "duration": 26,
    "start_time": "2022-07-28T06:20:31.675Z"
   },
   {
    "duration": 5,
    "start_time": "2022-07-28T06:20:47.556Z"
   },
   {
    "duration": 967,
    "start_time": "2022-07-28T06:23:07.620Z"
   },
   {
    "duration": 9,
    "start_time": "2022-07-28T06:23:20.436Z"
   },
   {
    "duration": 10,
    "start_time": "2022-07-28T06:23:24.443Z"
   },
   {
    "duration": 21,
    "start_time": "2022-07-28T06:23:31.452Z"
   },
   {
    "duration": 11,
    "start_time": "2022-07-28T06:23:47.957Z"
   },
   {
    "duration": 7,
    "start_time": "2022-07-28T06:25:50.428Z"
   },
   {
    "duration": 13,
    "start_time": "2022-07-28T06:25:56.271Z"
   },
   {
    "duration": 6,
    "start_time": "2022-07-28T06:26:09.428Z"
   },
   {
    "duration": 110,
    "start_time": "2022-07-28T06:49:22.847Z"
   },
   {
    "duration": 49,
    "start_time": "2022-07-28T06:49:29.504Z"
   },
   {
    "duration": 12,
    "start_time": "2022-07-28T06:49:42.815Z"
   },
   {
    "duration": 20,
    "start_time": "2022-07-28T06:49:55.977Z"
   },
   {
    "duration": 20,
    "start_time": "2022-07-28T06:50:11.336Z"
   },
   {
    "duration": 15,
    "start_time": "2022-07-28T06:50:44.971Z"
   },
   {
    "duration": 20,
    "start_time": "2022-07-28T06:50:59.656Z"
   },
   {
    "duration": 11,
    "start_time": "2022-07-28T07:03:35.337Z"
   },
   {
    "duration": 23,
    "start_time": "2022-07-28T07:04:21.194Z"
   },
   {
    "duration": 34,
    "start_time": "2022-07-28T07:05:09.594Z"
   },
   {
    "duration": 43,
    "start_time": "2022-07-28T07:05:37.451Z"
   },
   {
    "duration": 85,
    "start_time": "2022-07-28T07:14:01.149Z"
   },
   {
    "duration": 60,
    "start_time": "2022-07-28T07:14:25.437Z"
   },
   {
    "duration": 70,
    "start_time": "2022-07-28T07:14:40.829Z"
   },
   {
    "duration": 83,
    "start_time": "2022-07-28T07:16:01.484Z"
   },
   {
    "duration": 90,
    "start_time": "2022-07-28T07:16:33.124Z"
   },
   {
    "duration": 99,
    "start_time": "2022-07-28T07:18:26.333Z"
   },
   {
    "duration": 80,
    "start_time": "2022-07-28T07:19:08.901Z"
   },
   {
    "duration": 5,
    "start_time": "2022-07-28T07:24:44.735Z"
   },
   {
    "duration": 10,
    "start_time": "2022-07-28T07:25:01.774Z"
   },
   {
    "duration": 12,
    "start_time": "2022-07-28T07:25:24.390Z"
   },
   {
    "duration": 9,
    "start_time": "2022-07-28T07:25:37.039Z"
   },
   {
    "duration": 67,
    "start_time": "2022-07-28T07:25:44.293Z"
   },
   {
    "duration": 11,
    "start_time": "2022-07-28T07:25:48.421Z"
   },
   {
    "duration": 19,
    "start_time": "2022-07-28T07:25:55.454Z"
   },
   {
    "duration": 19,
    "start_time": "2022-07-28T07:26:00.094Z"
   },
   {
    "duration": 51,
    "start_time": "2022-07-28T07:26:15.494Z"
   },
   {
    "duration": 9,
    "start_time": "2022-07-28T07:26:19.253Z"
   },
   {
    "duration": 11,
    "start_time": "2022-07-28T07:26:26.582Z"
   },
   {
    "duration": 10,
    "start_time": "2022-07-28T07:26:46.942Z"
   },
   {
    "duration": 10,
    "start_time": "2022-07-28T07:27:07.414Z"
   },
   {
    "duration": 11,
    "start_time": "2022-07-28T07:27:24.680Z"
   },
   {
    "duration": 9,
    "start_time": "2022-07-28T07:29:55.326Z"
   },
   {
    "duration": 12,
    "start_time": "2022-07-28T07:31:21.479Z"
   },
   {
    "duration": 541,
    "start_time": "2022-07-28T07:31:27.390Z"
   },
   {
    "duration": 13,
    "start_time": "2022-07-28T07:37:29.376Z"
   },
   {
    "duration": 53,
    "start_time": "2022-07-28T07:38:12.479Z"
   },
   {
    "duration": 43,
    "start_time": "2022-07-28T07:38:40.576Z"
   },
   {
    "duration": 26,
    "start_time": "2022-07-28T07:40:06.457Z"
   },
   {
    "duration": 22,
    "start_time": "2022-07-28T07:44:20.528Z"
   },
   {
    "duration": 38,
    "start_time": "2022-07-28T07:44:53.961Z"
   },
   {
    "duration": 16,
    "start_time": "2022-07-28T07:44:57.138Z"
   },
   {
    "duration": 25,
    "start_time": "2022-07-28T07:48:50.722Z"
   },
   {
    "duration": 977,
    "start_time": "2022-07-28T07:50:27.010Z"
   },
   {
    "duration": 16,
    "start_time": "2022-07-28T07:50:35.321Z"
   },
   {
    "duration": 24,
    "start_time": "2022-07-28T07:50:45.760Z"
   },
   {
    "duration": 50,
    "start_time": "2022-07-28T07:50:53.544Z"
   },
   {
    "duration": 31,
    "start_time": "2022-07-28T07:51:00.865Z"
   },
   {
    "duration": 18,
    "start_time": "2022-07-28T07:51:15.824Z"
   },
   {
    "duration": 9,
    "start_time": "2022-07-28T07:51:29.011Z"
   },
   {
    "duration": 11,
    "start_time": "2022-07-28T07:51:40.121Z"
   },
   {
    "duration": 16,
    "start_time": "2022-07-28T07:51:51.465Z"
   },
   {
    "duration": 17,
    "start_time": "2022-07-28T07:52:14.025Z"
   },
   {
    "duration": 13,
    "start_time": "2022-07-28T07:52:16.673Z"
   },
   {
    "duration": 65,
    "start_time": "2022-07-28T07:52:20.656Z"
   },
   {
    "duration": 14,
    "start_time": "2022-07-28T07:52:26.464Z"
   },
   {
    "duration": 14,
    "start_time": "2022-07-28T07:53:11.041Z"
   },
   {
    "duration": 12,
    "start_time": "2022-07-28T07:53:24.184Z"
   },
   {
    "duration": 12,
    "start_time": "2022-07-28T07:53:34.921Z"
   },
   {
    "duration": 5,
    "start_time": "2022-07-28T07:53:41.929Z"
   },
   {
    "duration": 11,
    "start_time": "2022-07-28T07:53:48.197Z"
   },
   {
    "duration": 13,
    "start_time": "2022-07-28T07:53:52.009Z"
   },
   {
    "duration": 12,
    "start_time": "2022-07-28T07:54:08.473Z"
   },
   {
    "duration": 12,
    "start_time": "2022-07-28T07:54:25.980Z"
   },
   {
    "duration": 26,
    "start_time": "2022-07-28T07:54:29.561Z"
   },
   {
    "duration": 12,
    "start_time": "2022-07-28T07:55:37.414Z"
   },
   {
    "duration": 15,
    "start_time": "2022-07-28T07:55:41.784Z"
   },
   {
    "duration": 12,
    "start_time": "2022-07-28T07:55:51.257Z"
   },
   {
    "duration": 6,
    "start_time": "2022-07-28T07:55:54.610Z"
   },
   {
    "duration": 5,
    "start_time": "2022-07-28T07:55:57.465Z"
   },
   {
    "duration": 13,
    "start_time": "2022-07-28T07:56:00.761Z"
   },
   {
    "duration": 5,
    "start_time": "2022-07-28T07:56:15.913Z"
   },
   {
    "duration": 3,
    "start_time": "2022-07-28T08:00:33.412Z"
   },
   {
    "duration": 15,
    "start_time": "2022-07-28T08:01:00.561Z"
   },
   {
    "duration": 24,
    "start_time": "2022-07-28T08:01:43.310Z"
   },
   {
    "duration": 43,
    "start_time": "2022-07-28T08:01:54.945Z"
   },
   {
    "duration": 14,
    "start_time": "2022-07-28T08:02:20.289Z"
   },
   {
    "duration": 117,
    "start_time": "2022-07-28T08:02:33.043Z"
   },
   {
    "duration": 1876,
    "start_time": "2022-07-28T08:02:42.962Z"
   },
   {
    "duration": 10,
    "start_time": "2022-07-28T08:02:51.346Z"
   },
   {
    "duration": 20,
    "start_time": "2022-07-28T08:02:53.786Z"
   },
   {
    "duration": 20,
    "start_time": "2022-07-28T08:03:07.707Z"
   },
   {
    "duration": 63,
    "start_time": "2022-07-28T08:03:19.050Z"
   },
   {
    "duration": 20,
    "start_time": "2022-07-28T08:03:42.281Z"
   },
   {
    "duration": 71,
    "start_time": "2022-07-28T08:03:50.987Z"
   },
   {
    "duration": 132,
    "start_time": "2022-07-28T08:03:58.354Z"
   },
   {
    "duration": 196,
    "start_time": "2022-07-28T08:04:03.234Z"
   },
   {
    "duration": 43,
    "start_time": "2022-07-28T08:04:37.275Z"
   },
   {
    "duration": 48,
    "start_time": "2022-07-28T08:04:42.634Z"
   },
   {
    "duration": 129,
    "start_time": "2022-07-28T08:04:47.650Z"
   },
   {
    "duration": 83,
    "start_time": "2022-07-28T08:04:54.939Z"
   },
   {
    "duration": 81,
    "start_time": "2022-07-28T08:05:00.139Z"
   },
   {
    "duration": 53,
    "start_time": "2022-07-28T08:05:00.970Z"
   },
   {
    "duration": 106,
    "start_time": "2022-07-28T08:05:26.226Z"
   },
   {
    "duration": 43,
    "start_time": "2022-07-28T08:05:29.003Z"
   },
   {
    "duration": 134,
    "start_time": "2022-07-28T08:05:36.954Z"
   },
   {
    "duration": 1922,
    "start_time": "2022-07-28T08:05:37.321Z"
   },
   {
    "duration": 29,
    "start_time": "2022-07-28T08:05:39.245Z"
   },
   {
    "duration": 137,
    "start_time": "2022-07-28T08:05:40.346Z"
   },
   {
    "duration": 30,
    "start_time": "2022-07-28T08:05:40.978Z"
   },
   {
    "duration": 87,
    "start_time": "2022-07-28T08:05:43.365Z"
   },
   {
    "duration": 129,
    "start_time": "2022-07-28T08:05:46.124Z"
   },
   {
    "duration": 11,
    "start_time": "2022-07-28T08:07:10.787Z"
   },
   {
    "duration": 11,
    "start_time": "2022-07-28T08:07:31.168Z"
   },
   {
    "duration": 11,
    "start_time": "2022-07-28T08:07:42.882Z"
   },
   {
    "duration": 10,
    "start_time": "2022-07-28T08:08:46.827Z"
   },
   {
    "duration": 14,
    "start_time": "2022-07-28T08:09:11.499Z"
   },
   {
    "duration": 15,
    "start_time": "2022-07-28T08:10:32.891Z"
   },
   {
    "duration": 20,
    "start_time": "2022-07-28T08:10:38.315Z"
   },
   {
    "duration": 55,
    "start_time": "2022-07-28T08:10:42.747Z"
   },
   {
    "duration": 17,
    "start_time": "2022-07-28T08:11:10.874Z"
   },
   {
    "duration": 192,
    "start_time": "2022-07-28T08:13:26.347Z"
   },
   {
    "duration": 160,
    "start_time": "2022-07-28T08:13:36.071Z"
   },
   {
    "duration": 674,
    "start_time": "2022-07-28T08:13:48.299Z"
   },
   {
    "duration": 256,
    "start_time": "2022-07-28T08:13:54.051Z"
   },
   {
    "duration": 413,
    "start_time": "2022-07-28T08:14:16.312Z"
   },
   {
    "duration": 326,
    "start_time": "2022-07-28T08:16:12.057Z"
   },
   {
    "duration": 12,
    "start_time": "2022-07-28T08:16:52.915Z"
   },
   {
    "duration": 15,
    "start_time": "2022-07-28T08:16:57.491Z"
   },
   {
    "duration": 21,
    "start_time": "2022-07-28T08:17:05.115Z"
   },
   {
    "duration": 23,
    "start_time": "2022-07-28T08:17:54.796Z"
   },
   {
    "duration": 79,
    "start_time": "2022-07-28T08:18:49.995Z"
   },
   {
    "duration": 618,
    "start_time": "2022-07-28T08:18:58.508Z"
   },
   {
    "duration": 24,
    "start_time": "2022-07-28T08:19:12.932Z"
   },
   {
    "duration": 26,
    "start_time": "2022-07-28T08:19:21.083Z"
   },
   {
    "duration": 1217,
    "start_time": "2022-07-28T08:19:29.436Z"
   },
   {
    "duration": 65,
    "start_time": "2022-07-28T08:19:40.356Z"
   },
   {
    "duration": 23,
    "start_time": "2022-07-28T08:19:55.012Z"
   },
   {
    "duration": 43,
    "start_time": "2022-07-28T08:19:59.645Z"
   },
   {
    "duration": 96,
    "start_time": "2022-07-28T08:20:08.060Z"
   },
   {
    "duration": 54,
    "start_time": "2022-07-28T08:20:10.301Z"
   },
   {
    "duration": 47,
    "start_time": "2022-07-28T08:20:32.249Z"
   },
   {
    "duration": 127,
    "start_time": "2022-07-28T08:20:39.412Z"
   },
   {
    "duration": 1975,
    "start_time": "2022-07-28T08:20:39.587Z"
   },
   {
    "duration": 23,
    "start_time": "2022-07-28T08:20:41.563Z"
   },
   {
    "duration": 208,
    "start_time": "2022-07-28T08:20:41.588Z"
   },
   {
    "duration": 20,
    "start_time": "2022-07-28T08:20:42.532Z"
   },
   {
    "duration": 82,
    "start_time": "2022-07-28T08:20:44.412Z"
   },
   {
    "duration": 136,
    "start_time": "2022-07-28T08:20:44.924Z"
   },
   {
    "duration": 111,
    "start_time": "2022-07-28T08:21:47.325Z"
   },
   {
    "duration": 118,
    "start_time": "2022-07-28T08:22:01.220Z"
   },
   {
    "duration": 120,
    "start_time": "2022-07-28T08:22:17.917Z"
   },
   {
    "duration": 5,
    "start_time": "2022-07-28T08:22:45.036Z"
   },
   {
    "duration": 173,
    "start_time": "2022-07-28T08:22:52.757Z"
   },
   {
    "duration": 82,
    "start_time": "2022-07-28T08:26:21.117Z"
   },
   {
    "duration": 60,
    "start_time": "2022-07-28T08:26:44.669Z"
   },
   {
    "duration": 28,
    "start_time": "2022-07-28T08:27:40.943Z"
   },
   {
    "duration": 146,
    "start_time": "2022-07-28T08:27:54.205Z"
   },
   {
    "duration": 2070,
    "start_time": "2022-07-28T08:27:54.709Z"
   },
   {
    "duration": 13,
    "start_time": "2022-07-28T08:27:56.821Z"
   },
   {
    "duration": 27,
    "start_time": "2022-07-28T08:27:58.398Z"
   },
   {
    "duration": 26,
    "start_time": "2022-07-28T08:28:01.263Z"
   },
   {
    "duration": 83,
    "start_time": "2022-07-28T08:28:03.821Z"
   },
   {
    "duration": 101,
    "start_time": "2022-07-28T08:28:04.453Z"
   },
   {
    "duration": 77,
    "start_time": "2022-07-28T08:28:41.230Z"
   },
   {
    "duration": 5,
    "start_time": "2022-07-28T08:28:54.646Z"
   },
   {
    "duration": 68,
    "start_time": "2022-07-28T08:29:01.951Z"
   },
   {
    "duration": 26,
    "start_time": "2022-07-28T08:29:09.199Z"
   },
   {
    "duration": 26,
    "start_time": "2022-07-28T08:29:29.981Z"
   },
   {
    "duration": 29,
    "start_time": "2022-07-28T08:30:07.704Z"
   },
   {
    "duration": 51,
    "start_time": "2022-07-28T08:30:44.526Z"
   },
   {
    "duration": 30,
    "start_time": "2022-07-28T08:31:35.023Z"
   },
   {
    "duration": 28,
    "start_time": "2022-07-28T08:31:50.982Z"
   },
   {
    "duration": 33,
    "start_time": "2022-07-28T08:32:07.014Z"
   },
   {
    "duration": 33,
    "start_time": "2022-07-28T08:32:26.726Z"
   },
   {
    "duration": 78,
    "start_time": "2022-07-28T08:32:59.157Z"
   },
   {
    "duration": 5,
    "start_time": "2022-07-28T08:37:20.016Z"
   },
   {
    "duration": 749,
    "start_time": "2022-07-28T08:37:23.654Z"
   },
   {
    "duration": 1413,
    "start_time": "2022-07-28T08:38:01.193Z"
   },
   {
    "duration": 70,
    "start_time": "2022-07-28T08:39:22.736Z"
   },
   {
    "duration": 1172,
    "start_time": "2022-07-28T08:39:32.439Z"
   },
   {
    "duration": 37,
    "start_time": "2022-07-28T08:39:58.680Z"
   },
   {
    "duration": 34,
    "start_time": "2022-07-28T08:40:14.159Z"
   },
   {
    "duration": 6,
    "start_time": "2022-07-28T08:40:52.432Z"
   },
   {
    "duration": 24,
    "start_time": "2022-07-28T08:40:58.183Z"
   },
   {
    "duration": 25,
    "start_time": "2022-07-28T08:41:12.880Z"
   },
   {
    "duration": 33,
    "start_time": "2022-07-28T08:41:38.882Z"
   },
   {
    "duration": 30,
    "start_time": "2022-07-28T08:41:51.136Z"
   },
   {
    "duration": 29,
    "start_time": "2022-07-28T08:43:16.648Z"
   },
   {
    "duration": 33,
    "start_time": "2022-07-28T08:45:58.048Z"
   },
   {
    "duration": 25,
    "start_time": "2022-07-28T08:49:08.352Z"
   },
   {
    "duration": 35,
    "start_time": "2022-07-28T08:49:16.078Z"
   },
   {
    "duration": 41,
    "start_time": "2022-07-28T08:49:24.945Z"
   },
   {
    "duration": 29,
    "start_time": "2022-07-28T08:50:13.977Z"
   },
   {
    "duration": 30,
    "start_time": "2022-07-28T08:50:57.417Z"
   },
   {
    "duration": 39,
    "start_time": "2022-07-28T08:51:27.753Z"
   },
   {
    "duration": 34,
    "start_time": "2022-07-28T08:51:55.778Z"
   },
   {
    "duration": 34,
    "start_time": "2022-07-28T08:53:09.068Z"
   },
   {
    "duration": 44,
    "start_time": "2022-07-28T08:53:16.954Z"
   },
   {
    "duration": 45,
    "start_time": "2022-07-28T08:54:54.410Z"
   },
   {
    "duration": 53,
    "start_time": "2022-07-28T08:55:40.816Z"
   },
   {
    "duration": 70,
    "start_time": "2022-07-28T08:56:00.233Z"
   },
   {
    "duration": 72,
    "start_time": "2022-07-28T08:56:18.177Z"
   },
   {
    "duration": 64,
    "start_time": "2022-07-28T08:56:51.377Z"
   },
   {
    "duration": 1016,
    "start_time": "2022-07-28T08:57:41.705Z"
   },
   {
    "duration": 56,
    "start_time": "2022-07-28T08:57:48.577Z"
   },
   {
    "duration": 60,
    "start_time": "2022-07-28T08:58:02.785Z"
   },
   {
    "duration": 74,
    "start_time": "2022-07-28T08:58:29.354Z"
   },
   {
    "duration": 59,
    "start_time": "2022-07-28T08:58:44.485Z"
   },
   {
    "duration": 56,
    "start_time": "2022-07-28T08:59:22.681Z"
   },
   {
    "duration": 133,
    "start_time": "2022-07-28T08:59:43.698Z"
   },
   {
    "duration": 1235,
    "start_time": "2022-07-28T09:02:35.221Z"
   },
   {
    "duration": 67,
    "start_time": "2022-07-28T09:02:40.129Z"
   },
   {
    "duration": 68,
    "start_time": "2022-07-28T09:05:28.505Z"
   },
   {
    "duration": 64,
    "start_time": "2022-07-28T09:05:37.938Z"
   },
   {
    "duration": 78,
    "start_time": "2022-07-28T09:08:52.035Z"
   },
   {
    "duration": 78,
    "start_time": "2022-07-28T09:09:02.554Z"
   },
   {
    "duration": 101,
    "start_time": "2022-07-28T09:09:19.887Z"
   },
   {
    "duration": 67,
    "start_time": "2022-07-28T09:09:24.489Z"
   },
   {
    "duration": 158,
    "start_time": "2022-07-28T09:11:08.435Z"
   },
   {
    "duration": 85,
    "start_time": "2022-07-28T09:13:15.928Z"
   },
   {
    "duration": 76,
    "start_time": "2022-07-28T09:13:28.428Z"
   },
   {
    "duration": 86,
    "start_time": "2022-07-28T09:13:41.955Z"
   },
   {
    "duration": 20,
    "start_time": "2022-07-28T09:23:34.388Z"
   },
   {
    "duration": 18,
    "start_time": "2022-07-28T09:23:37.492Z"
   },
   {
    "duration": 137,
    "start_time": "2022-07-28T09:24:00.788Z"
   },
   {
    "duration": 2137,
    "start_time": "2022-07-28T09:24:01.219Z"
   },
   {
    "duration": 13,
    "start_time": "2022-07-28T09:24:03.360Z"
   },
   {
    "duration": 28,
    "start_time": "2022-07-28T09:24:04.572Z"
   },
   {
    "duration": 28,
    "start_time": "2022-07-28T09:24:05.260Z"
   },
   {
    "duration": 108,
    "start_time": "2022-07-28T09:24:07.172Z"
   },
   {
    "duration": 159,
    "start_time": "2022-07-28T09:24:07.740Z"
   },
   {
    "duration": 21,
    "start_time": "2022-07-28T09:24:09.733Z"
   },
   {
    "duration": 9,
    "start_time": "2022-07-28T09:24:37.035Z"
   },
   {
    "duration": 25,
    "start_time": "2022-07-28T09:24:42.787Z"
   },
   {
    "duration": 35,
    "start_time": "2022-07-28T09:25:17.508Z"
   },
   {
    "duration": 24,
    "start_time": "2022-07-28T09:25:23.188Z"
   },
   {
    "duration": 73,
    "start_time": "2022-07-28T09:25:25.331Z"
   },
   {
    "duration": 64,
    "start_time": "2022-07-28T09:25:25.852Z"
   },
   {
    "duration": 17,
    "start_time": "2022-07-28T09:25:27.843Z"
   },
   {
    "duration": 338,
    "start_time": "2022-07-28T09:25:30.653Z"
   },
   {
    "duration": 582,
    "start_time": "2022-07-28T09:32:44.997Z"
   },
   {
    "duration": 17,
    "start_time": "2022-07-28T09:33:00.748Z"
   },
   {
    "duration": 334,
    "start_time": "2022-07-28T09:33:01.541Z"
   },
   {
    "duration": 176,
    "start_time": "2022-07-28T09:33:10.517Z"
   },
   {
    "duration": 1981,
    "start_time": "2022-07-28T09:33:10.712Z"
   },
   {
    "duration": 11,
    "start_time": "2022-07-28T09:33:12.696Z"
   },
   {
    "duration": 28,
    "start_time": "2022-07-28T09:33:12.709Z"
   },
   {
    "duration": 44,
    "start_time": "2022-07-28T09:33:12.739Z"
   },
   {
    "duration": 124,
    "start_time": "2022-07-28T09:33:13.261Z"
   },
   {
    "duration": 156,
    "start_time": "2022-07-28T09:33:13.605Z"
   },
   {
    "duration": 18,
    "start_time": "2022-07-28T09:33:15.147Z"
   },
   {
    "duration": 14,
    "start_time": "2022-07-28T09:33:15.713Z"
   },
   {
    "duration": 177,
    "start_time": "2022-07-28T09:33:28.597Z"
   },
   {
    "duration": 2039,
    "start_time": "2022-07-28T09:33:30.181Z"
   },
   {
    "duration": 9,
    "start_time": "2022-07-28T09:33:35.444Z"
   },
   {
    "duration": 20,
    "start_time": "2022-07-28T09:33:38.070Z"
   },
   {
    "duration": 20,
    "start_time": "2022-07-28T09:33:39.300Z"
   },
   {
    "duration": 72,
    "start_time": "2022-07-28T09:33:42.244Z"
   },
   {
    "duration": 127,
    "start_time": "2022-07-28T09:33:43.501Z"
   },
   {
    "duration": 16,
    "start_time": "2022-07-28T09:33:45.547Z"
   },
   {
    "duration": 19,
    "start_time": "2022-07-28T09:33:46.324Z"
   },
   {
    "duration": 31,
    "start_time": "2022-07-28T09:34:25.845Z"
   },
   {
    "duration": 34,
    "start_time": "2022-07-28T09:34:31.628Z"
   },
   {
    "duration": 75,
    "start_time": "2022-07-28T09:34:35.180Z"
   },
   {
    "duration": 84,
    "start_time": "2022-07-28T09:34:35.701Z"
   },
   {
    "duration": 14,
    "start_time": "2022-07-28T09:34:38.396Z"
   },
   {
    "duration": 343,
    "start_time": "2022-07-28T09:34:39.134Z"
   },
   {
    "duration": 71,
    "start_time": "2022-07-28T09:39:03.023Z"
   },
   {
    "duration": 331,
    "start_time": "2022-07-28T09:40:56.631Z"
   },
   {
    "duration": 339,
    "start_time": "2022-07-28T09:41:17.942Z"
   },
   {
    "duration": 140,
    "start_time": "2022-07-28T09:41:41.158Z"
   },
   {
    "duration": 1155,
    "start_time": "2022-07-28T09:41:46.487Z"
   },
   {
    "duration": 54,
    "start_time": "2022-07-28T09:45:09.600Z"
   },
   {
    "duration": 58,
    "start_time": "2022-07-28T09:45:24.143Z"
   },
   {
    "duration": 349,
    "start_time": "2022-07-28T09:49:03.471Z"
   },
   {
    "duration": 72,
    "start_time": "2022-07-28T09:51:36.863Z"
   },
   {
    "duration": 69,
    "start_time": "2022-07-28T09:51:43.087Z"
   },
   {
    "duration": 74,
    "start_time": "2022-07-28T09:51:50.399Z"
   },
   {
    "duration": 66,
    "start_time": "2022-07-28T09:51:54.527Z"
   },
   {
    "duration": 394,
    "start_time": "2022-07-28T10:45:49.895Z"
   },
   {
    "duration": 673,
    "start_time": "2022-07-28T10:46:02.952Z"
   },
   {
    "duration": 365,
    "start_time": "2022-07-28T10:48:34.984Z"
   },
   {
    "duration": 366,
    "start_time": "2022-07-28T10:49:17.992Z"
   },
   {
    "duration": 416,
    "start_time": "2022-07-28T10:49:29.695Z"
   },
   {
    "duration": 78,
    "start_time": "2022-07-28T10:49:59.615Z"
   },
   {
    "duration": 378,
    "start_time": "2022-07-28T10:50:11.495Z"
   },
   {
    "duration": 148,
    "start_time": "2022-07-28T10:50:21.896Z"
   },
   {
    "duration": 2108,
    "start_time": "2022-07-28T10:50:22.086Z"
   },
   {
    "duration": 11,
    "start_time": "2022-07-28T10:50:24.196Z"
   },
   {
    "duration": 19,
    "start_time": "2022-07-28T10:50:24.208Z"
   },
   {
    "duration": 64,
    "start_time": "2022-07-28T10:50:24.229Z"
   },
   {
    "duration": 78,
    "start_time": "2022-07-28T10:50:24.582Z"
   },
   {
    "duration": 165,
    "start_time": "2022-07-28T10:50:25.232Z"
   },
   {
    "duration": 16,
    "start_time": "2022-07-28T10:50:27.031Z"
   },
   {
    "duration": 19,
    "start_time": "2022-07-28T10:50:28.360Z"
   },
   {
    "duration": 151,
    "start_time": "2022-07-28T10:50:35.696Z"
   },
   {
    "duration": 2479,
    "start_time": "2022-07-28T10:50:35.884Z"
   },
   {
    "duration": 15,
    "start_time": "2022-07-28T10:50:38.365Z"
   },
   {
    "duration": 24,
    "start_time": "2022-07-28T10:50:38.583Z"
   },
   {
    "duration": 43,
    "start_time": "2022-07-28T10:50:39.159Z"
   },
   {
    "duration": 119,
    "start_time": "2022-07-28T10:50:44.815Z"
   },
   {
    "duration": 148,
    "start_time": "2022-07-28T10:50:45.584Z"
   },
   {
    "duration": 30,
    "start_time": "2022-07-28T10:50:48.439Z"
   },
   {
    "duration": 33,
    "start_time": "2022-07-28T10:51:02.423Z"
   },
   {
    "duration": 94,
    "start_time": "2022-07-28T10:51:04.772Z"
   },
   {
    "duration": 68,
    "start_time": "2022-07-28T10:51:05.488Z"
   },
   {
    "duration": 27,
    "start_time": "2022-07-28T10:51:07.663Z"
   },
   {
    "duration": 370,
    "start_time": "2022-07-28T10:51:09.182Z"
   },
   {
    "duration": 397,
    "start_time": "2022-07-28T10:52:26.352Z"
   },
   {
    "duration": 338,
    "start_time": "2022-07-28T10:52:31.417Z"
   },
   {
    "duration": 360,
    "start_time": "2022-07-28T10:52:52.960Z"
   },
   {
    "duration": 376,
    "start_time": "2022-07-28T10:57:02.583Z"
   },
   {
    "duration": 195,
    "start_time": "2022-07-28T10:59:10.781Z"
   },
   {
    "duration": 174,
    "start_time": "2022-07-28T10:59:29.028Z"
   },
   {
    "duration": 497,
    "start_time": "2022-07-28T10:59:49.216Z"
   },
   {
    "duration": 179,
    "start_time": "2022-07-28T11:01:04.783Z"
   },
   {
    "duration": 176,
    "start_time": "2022-07-28T11:01:09.132Z"
   },
   {
    "duration": 191,
    "start_time": "2022-07-28T11:01:34.214Z"
   },
   {
    "duration": 197,
    "start_time": "2022-07-28T11:01:47.983Z"
   },
   {
    "duration": 191,
    "start_time": "2022-07-28T11:02:19.384Z"
   },
   {
    "duration": 65,
    "start_time": "2022-07-28T11:02:28.231Z"
   },
   {
    "duration": 185,
    "start_time": "2022-07-28T11:02:44.847Z"
   },
   {
    "duration": 173,
    "start_time": "2022-07-28T11:03:13.613Z"
   },
   {
    "duration": 173,
    "start_time": "2022-07-28T11:03:20.465Z"
   },
   {
    "duration": 197,
    "start_time": "2022-07-28T11:03:25.248Z"
   },
   {
    "duration": 204,
    "start_time": "2022-07-28T11:03:43.168Z"
   },
   {
    "duration": 191,
    "start_time": "2022-07-28T11:05:54.831Z"
   },
   {
    "duration": 175,
    "start_time": "2022-07-28T11:07:01.559Z"
   },
   {
    "duration": 176,
    "start_time": "2022-07-28T11:07:18.959Z"
   },
   {
    "duration": 175,
    "start_time": "2022-07-28T11:10:51.256Z"
   },
   {
    "duration": 1005,
    "start_time": "2022-07-28T11:16:18.956Z"
   },
   {
    "duration": 191,
    "start_time": "2022-07-28T11:16:57.215Z"
   },
   {
    "duration": 191,
    "start_time": "2022-07-28T11:17:14.937Z"
   },
   {
    "duration": 196,
    "start_time": "2022-07-28T11:17:40.633Z"
   },
   {
    "duration": 176,
    "start_time": "2022-07-28T11:17:50.483Z"
   },
   {
    "duration": 212,
    "start_time": "2022-07-28T11:18:06.088Z"
   },
   {
    "duration": 179,
    "start_time": "2022-07-28T11:18:11.722Z"
   },
   {
    "duration": 73,
    "start_time": "2022-07-28T11:20:08.720Z"
   },
   {
    "duration": 74,
    "start_time": "2022-07-28T11:20:19.618Z"
   },
   {
    "duration": 185,
    "start_time": "2022-07-28T11:20:33.225Z"
   },
   {
    "duration": 187,
    "start_time": "2022-07-28T11:20:54.994Z"
   },
   {
    "duration": 211,
    "start_time": "2022-07-28T11:21:37.041Z"
   },
   {
    "duration": 205,
    "start_time": "2022-07-28T11:21:49.137Z"
   },
   {
    "duration": 202,
    "start_time": "2022-07-28T11:21:55.409Z"
   },
   {
    "duration": 226,
    "start_time": "2022-07-28T11:21:59.616Z"
   },
   {
    "duration": 201,
    "start_time": "2022-07-28T11:23:44.217Z"
   },
   {
    "duration": 166,
    "start_time": "2022-07-28T11:27:58.683Z"
   },
   {
    "duration": 148,
    "start_time": "2022-07-28T11:28:20.125Z"
   },
   {
    "duration": 142,
    "start_time": "2022-07-28T11:28:32.820Z"
   },
   {
    "duration": 168,
    "start_time": "2022-07-28T11:28:39.145Z"
   },
   {
    "duration": 177,
    "start_time": "2022-07-28T11:29:41.361Z"
   },
   {
    "duration": 171,
    "start_time": "2022-07-28T11:30:22.066Z"
   },
   {
    "duration": 187,
    "start_time": "2022-07-28T11:31:55.657Z"
   },
   {
    "duration": 198,
    "start_time": "2022-07-28T11:32:07.144Z"
   },
   {
    "duration": 172,
    "start_time": "2022-07-28T11:32:15.745Z"
   },
   {
    "duration": 149,
    "start_time": "2022-07-28T11:33:10.337Z"
   },
   {
    "duration": 179,
    "start_time": "2022-07-28T11:33:27.937Z"
   },
   {
    "duration": 169,
    "start_time": "2022-07-28T11:34:23.418Z"
   },
   {
    "duration": 160,
    "start_time": "2022-07-28T11:35:11.215Z"
   },
   {
    "duration": 163,
    "start_time": "2022-07-28T11:35:16.889Z"
   },
   {
    "duration": 153,
    "start_time": "2022-07-28T11:37:44.353Z"
   },
   {
    "duration": 646,
    "start_time": "2022-07-28T11:38:00.969Z"
   },
   {
    "duration": 150,
    "start_time": "2022-07-28T11:38:07.889Z"
   },
   {
    "duration": 140,
    "start_time": "2022-07-28T11:38:17.425Z"
   },
   {
    "duration": 152,
    "start_time": "2022-07-28T11:38:29.665Z"
   },
   {
    "duration": 161,
    "start_time": "2022-07-28T11:38:46.569Z"
   },
   {
    "duration": 163,
    "start_time": "2022-07-28T11:39:01.553Z"
   },
   {
    "duration": 185,
    "start_time": "2022-07-28T11:39:27.065Z"
   },
   {
    "duration": 148,
    "start_time": "2022-07-28T11:40:12.233Z"
   },
   {
    "duration": 154,
    "start_time": "2022-07-28T11:41:22.161Z"
   },
   {
    "duration": 135,
    "start_time": "2022-07-28T11:45:51.787Z"
   },
   {
    "duration": 124,
    "start_time": "2022-07-28T11:45:59.617Z"
   },
   {
    "duration": 157,
    "start_time": "2022-07-28T11:46:05.860Z"
   },
   {
    "duration": 128,
    "start_time": "2022-07-28T11:46:14.547Z"
   },
   {
    "duration": 109,
    "start_time": "2022-07-28T11:46:23.209Z"
   },
   {
    "duration": 328,
    "start_time": "2022-07-28T11:46:56.885Z"
   },
   {
    "duration": 316,
    "start_time": "2022-07-28T11:47:03.949Z"
   },
   {
    "duration": 143,
    "start_time": "2022-07-28T11:48:56.957Z"
   },
   {
    "duration": 132,
    "start_time": "2022-07-28T11:49:05.843Z"
   },
   {
    "duration": 154,
    "start_time": "2022-07-28T11:49:12.678Z"
   },
   {
    "duration": 127,
    "start_time": "2022-07-28T11:49:17.618Z"
   },
   {
    "duration": 116,
    "start_time": "2022-07-28T11:50:45.646Z"
   },
   {
    "duration": 127,
    "start_time": "2022-07-28T11:50:55.277Z"
   },
   {
    "duration": 164,
    "start_time": "2022-07-28T11:52:49.159Z"
   },
   {
    "duration": 164,
    "start_time": "2022-07-28T11:52:56.619Z"
   },
   {
    "duration": 156,
    "start_time": "2022-07-28T11:53:04.375Z"
   },
   {
    "duration": 135,
    "start_time": "2022-07-28T11:53:46.735Z"
   },
   {
    "duration": 61,
    "start_time": "2022-07-28T11:55:07.096Z"
   },
   {
    "duration": 73,
    "start_time": "2022-07-28T12:04:25.289Z"
   },
   {
    "duration": 24,
    "start_time": "2022-07-28T12:04:30.984Z"
   },
   {
    "duration": 318,
    "start_time": "2022-07-28T12:04:31.566Z"
   },
   {
    "duration": 168,
    "start_time": "2022-07-28T12:04:32.824Z"
   },
   {
    "duration": 202,
    "start_time": "2022-07-28T12:04:33.688Z"
   },
   {
    "duration": 174,
    "start_time": "2022-07-28T12:04:34.698Z"
   },
   {
    "duration": 173,
    "start_time": "2022-07-28T12:04:35.717Z"
   },
   {
    "duration": 140,
    "start_time": "2022-07-28T12:04:37.089Z"
   },
   {
    "duration": 132,
    "start_time": "2022-07-28T12:04:38.431Z"
   },
   {
    "duration": 180,
    "start_time": "2022-07-28T12:04:39.944Z"
   },
   {
    "duration": 141,
    "start_time": "2022-07-28T12:04:42.136Z"
   },
   {
    "duration": 75,
    "start_time": "2022-07-28T12:05:02.724Z"
   },
   {
    "duration": 17,
    "start_time": "2022-07-28T12:05:04.064Z"
   },
   {
    "duration": 314,
    "start_time": "2022-07-28T12:05:04.233Z"
   },
   {
    "duration": 603,
    "start_time": "2022-07-28T12:05:04.592Z"
   },
   {
    "duration": 211,
    "start_time": "2022-07-28T12:05:05.196Z"
   },
   {
    "duration": 186,
    "start_time": "2022-07-28T12:05:05.409Z"
   },
   {
    "duration": 178,
    "start_time": "2022-07-28T12:05:05.792Z"
   },
   {
    "duration": 196,
    "start_time": "2022-07-28T12:05:06.209Z"
   },
   {
    "duration": 161,
    "start_time": "2022-07-28T12:05:06.672Z"
   },
   {
    "duration": 166,
    "start_time": "2022-07-28T12:05:07.421Z"
   },
   {
    "duration": 159,
    "start_time": "2022-07-28T12:05:08.240Z"
   },
   {
    "duration": 135,
    "start_time": "2022-07-28T12:05:08.728Z"
   },
   {
    "duration": 152,
    "start_time": "2022-07-28T12:05:19.593Z"
   },
   {
    "duration": 135,
    "start_time": "2022-07-28T12:06:48.641Z"
   },
   {
    "duration": 181,
    "start_time": "2022-07-28T12:12:15.681Z"
   },
   {
    "duration": 215,
    "start_time": "2022-07-28T12:12:26.226Z"
   },
   {
    "duration": 182,
    "start_time": "2022-07-28T12:13:04.599Z"
   },
   {
    "duration": 173,
    "start_time": "2022-07-28T12:13:07.874Z"
   },
   {
    "duration": 184,
    "start_time": "2022-07-28T12:13:18.601Z"
   },
   {
    "duration": 163,
    "start_time": "2022-07-28T12:13:21.978Z"
   },
   {
    "duration": 151,
    "start_time": "2022-07-28T12:21:10.456Z"
   },
   {
    "duration": 187,
    "start_time": "2022-07-28T12:21:19.423Z"
   },
   {
    "duration": 275,
    "start_time": "2022-07-28T12:32:23.695Z"
   },
   {
    "duration": 4,
    "start_time": "2022-07-28T12:33:22.217Z"
   },
   {
    "duration": 12,
    "start_time": "2022-07-28T12:33:26.575Z"
   },
   {
    "duration": 9,
    "start_time": "2022-07-28T12:33:36.175Z"
   },
   {
    "duration": 58,
    "start_time": "2022-07-28T12:40:04.586Z"
   },
   {
    "duration": 97,
    "start_time": "2022-07-28T12:40:31.327Z"
   },
   {
    "duration": 51,
    "start_time": "2022-07-28T12:40:39.276Z"
   },
   {
    "duration": 54,
    "start_time": "2022-07-28T12:40:57.286Z"
   },
   {
    "duration": 101,
    "start_time": "2022-07-28T12:41:17.583Z"
   },
   {
    "duration": 9,
    "start_time": "2022-07-28T12:41:27.416Z"
   },
   {
    "duration": 134,
    "start_time": "2022-07-28T12:41:37.079Z"
   },
   {
    "duration": 141,
    "start_time": "2022-07-28T12:42:02.302Z"
   },
   {
    "duration": 178,
    "start_time": "2022-07-28T12:42:09.358Z"
   },
   {
    "duration": 164,
    "start_time": "2022-07-28T12:42:17.320Z"
   },
   {
    "duration": 169,
    "start_time": "2022-07-28T12:42:25.319Z"
   },
   {
    "duration": 148,
    "start_time": "2022-07-28T12:42:29.673Z"
   },
   {
    "duration": 154,
    "start_time": "2022-07-28T12:43:10.223Z"
   },
   {
    "duration": 150,
    "start_time": "2022-07-28T12:43:15.791Z"
   },
   {
    "duration": 175,
    "start_time": "2022-07-28T12:43:41.423Z"
   },
   {
    "duration": 174,
    "start_time": "2022-07-28T12:44:39.920Z"
   },
   {
    "duration": 150,
    "start_time": "2022-07-28T12:44:58.080Z"
   },
   {
    "duration": 159,
    "start_time": "2022-07-28T12:45:26.699Z"
   },
   {
    "duration": 165,
    "start_time": "2022-07-28T12:45:49.223Z"
   },
   {
    "duration": 291,
    "start_time": "2022-07-28T12:46:36.095Z"
   },
   {
    "duration": 17,
    "start_time": "2022-07-28T12:55:40.661Z"
   },
   {
    "duration": 153,
    "start_time": "2022-07-28T12:57:30.956Z"
   },
   {
    "duration": 179,
    "start_time": "2022-07-28T12:58:06.286Z"
   },
   {
    "duration": 155,
    "start_time": "2022-07-28T13:00:32.349Z"
   },
   {
    "duration": 145,
    "start_time": "2022-07-28T13:03:33.222Z"
   },
   {
    "duration": 78,
    "start_time": "2022-07-28T13:08:12.676Z"
   },
   {
    "duration": 68,
    "start_time": "2022-07-28T13:08:21.740Z"
   },
   {
    "duration": 95,
    "start_time": "2022-07-28T13:12:30.512Z"
   },
   {
    "duration": 140,
    "start_time": "2022-07-28T13:13:06.939Z"
   },
   {
    "duration": 2480,
    "start_time": "2022-07-28T13:13:09.035Z"
   },
   {
    "duration": 14,
    "start_time": "2022-07-28T13:13:13.675Z"
   },
   {
    "duration": 18,
    "start_time": "2022-07-28T13:13:16.830Z"
   },
   {
    "duration": 27,
    "start_time": "2022-07-28T13:13:18.739Z"
   },
   {
    "duration": 72,
    "start_time": "2022-07-28T13:13:48.724Z"
   },
   {
    "duration": 158,
    "start_time": "2022-07-28T13:13:49.493Z"
   },
   {
    "duration": 18,
    "start_time": "2022-07-28T13:15:28.275Z"
   },
   {
    "duration": 17,
    "start_time": "2022-07-28T13:15:34.787Z"
   },
   {
    "duration": 23,
    "start_time": "2022-07-28T13:15:42.644Z"
   },
   {
    "duration": 13,
    "start_time": "2022-07-28T13:15:43.227Z"
   },
   {
    "duration": 13,
    "start_time": "2022-07-28T13:15:55.124Z"
   },
   {
    "duration": 145,
    "start_time": "2022-07-28T13:16:00.119Z"
   },
   {
    "duration": 1800,
    "start_time": "2022-07-28T13:16:00.555Z"
   },
   {
    "duration": 9,
    "start_time": "2022-07-28T13:16:03.224Z"
   },
   {
    "duration": 19,
    "start_time": "2022-07-28T13:16:04.364Z"
   },
   {
    "duration": 25,
    "start_time": "2022-07-28T13:16:05.163Z"
   },
   {
    "duration": 76,
    "start_time": "2022-07-28T13:16:12.267Z"
   },
   {
    "duration": 161,
    "start_time": "2022-07-28T13:16:13.106Z"
   },
   {
    "duration": 16,
    "start_time": "2022-07-28T13:16:16.727Z"
   },
   {
    "duration": 15,
    "start_time": "2022-07-28T13:16:19.555Z"
   },
   {
    "duration": 169,
    "start_time": "2022-07-28T13:16:43.223Z"
   },
   {
    "duration": 72,
    "start_time": "2022-07-28T13:19:44.236Z"
   },
   {
    "duration": 109,
    "start_time": "2022-07-28T13:19:48.084Z"
   },
   {
    "duration": 99,
    "start_time": "2022-07-28T13:20:04.036Z"
   },
   {
    "duration": 19,
    "start_time": "2022-07-28T13:20:06.162Z"
   },
   {
    "duration": 16,
    "start_time": "2022-07-28T13:20:07.660Z"
   },
   {
    "duration": 139,
    "start_time": "2022-07-28T13:20:20.832Z"
   },
   {
    "duration": 2208,
    "start_time": "2022-07-28T13:20:22.132Z"
   },
   {
    "duration": 10,
    "start_time": "2022-07-28T13:20:24.579Z"
   },
   {
    "duration": 23,
    "start_time": "2022-07-28T13:20:25.830Z"
   },
   {
    "duration": 26,
    "start_time": "2022-07-28T13:20:26.635Z"
   },
   {
    "duration": 75,
    "start_time": "2022-07-28T13:20:28.451Z"
   },
   {
    "duration": 163,
    "start_time": "2022-07-28T13:20:29.172Z"
   },
   {
    "duration": 105,
    "start_time": "2022-07-28T13:20:34.435Z"
   },
   {
    "duration": 143,
    "start_time": "2022-07-28T13:20:45.043Z"
   },
   {
    "duration": 2085,
    "start_time": "2022-07-28T13:20:45.589Z"
   },
   {
    "duration": 11,
    "start_time": "2022-07-28T13:20:47.955Z"
   },
   {
    "duration": 19,
    "start_time": "2022-07-28T13:20:49.292Z"
   },
   {
    "duration": 24,
    "start_time": "2022-07-28T13:20:50.083Z"
   },
   {
    "duration": 86,
    "start_time": "2022-07-28T13:20:53.971Z"
   },
   {
    "duration": 202,
    "start_time": "2022-07-28T13:20:54.662Z"
   },
   {
    "duration": 152,
    "start_time": "2022-07-28T13:21:48.187Z"
   },
   {
    "duration": 1797,
    "start_time": "2022-07-28T13:21:48.926Z"
   },
   {
    "duration": 9,
    "start_time": "2022-07-28T13:21:51.339Z"
   },
   {
    "duration": 24,
    "start_time": "2022-07-28T13:21:52.676Z"
   },
   {
    "duration": 90,
    "start_time": "2022-07-28T13:21:54.162Z"
   },
   {
    "duration": 119,
    "start_time": "2022-07-28T13:21:54.989Z"
   },
   {
    "duration": 24,
    "start_time": "2022-07-28T13:21:57.232Z"
   },
   {
    "duration": 15,
    "start_time": "2022-07-28T13:22:03.562Z"
   },
   {
    "duration": 306,
    "start_time": "2022-07-28T13:22:04.659Z"
   },
   {
    "duration": 174,
    "start_time": "2022-07-28T13:22:11.433Z"
   },
   {
    "duration": 179,
    "start_time": "2022-07-28T13:22:20.535Z"
   },
   {
    "duration": 161,
    "start_time": "2022-07-28T13:23:31.819Z"
   },
   {
    "duration": 179,
    "start_time": "2022-07-28T13:23:52.443Z"
   },
   {
    "duration": 156,
    "start_time": "2022-07-28T13:25:22.834Z"
   },
   {
    "duration": 635,
    "start_time": "2022-07-28T13:25:26.875Z"
   },
   {
    "duration": 154,
    "start_time": "2022-07-28T13:25:45.955Z"
   },
   {
    "duration": 182,
    "start_time": "2022-07-28T13:25:54.076Z"
   },
   {
    "duration": 170,
    "start_time": "2022-07-28T13:26:31.892Z"
   },
   {
    "duration": 158,
    "start_time": "2022-07-28T13:26:52.068Z"
   },
   {
    "duration": 214,
    "start_time": "2022-07-28T13:26:56.326Z"
   },
   {
    "duration": 154,
    "start_time": "2022-07-28T13:28:12.051Z"
   },
   {
    "duration": 150,
    "start_time": "2022-07-28T13:28:19.700Z"
   },
   {
    "duration": 146,
    "start_time": "2022-07-28T13:28:32.100Z"
   },
   {
    "duration": 154,
    "start_time": "2022-07-28T13:28:37.756Z"
   },
   {
    "duration": 149,
    "start_time": "2022-07-28T13:28:41.596Z"
   },
   {
    "duration": 142,
    "start_time": "2022-07-28T13:30:09.412Z"
   },
   {
    "duration": 124,
    "start_time": "2022-07-28T13:30:13.620Z"
   },
   {
    "duration": 261,
    "start_time": "2022-07-28T13:30:18.652Z"
   },
   {
    "duration": 257,
    "start_time": "2022-07-28T13:30:50.116Z"
   },
   {
    "duration": 260,
    "start_time": "2022-07-28T13:31:08.914Z"
   },
   {
    "duration": 277,
    "start_time": "2022-07-28T13:31:21.900Z"
   },
   {
    "duration": 165,
    "start_time": "2022-07-28T13:32:24.061Z"
   },
   {
    "duration": 169,
    "start_time": "2022-07-28T13:32:31.428Z"
   },
   {
    "duration": 158,
    "start_time": "2022-07-28T13:32:37.028Z"
   },
   {
    "duration": 134,
    "start_time": "2022-07-28T13:34:07.933Z"
   },
   {
    "duration": 156,
    "start_time": "2022-07-28T13:34:13.253Z"
   },
   {
    "duration": 150,
    "start_time": "2022-07-28T13:34:22.678Z"
   },
   {
    "duration": 149,
    "start_time": "2022-07-28T13:34:38.597Z"
   },
   {
    "duration": 143,
    "start_time": "2022-07-28T13:35:04.156Z"
   },
   {
    "duration": 158,
    "start_time": "2022-07-28T13:37:58.325Z"
   },
   {
    "duration": 200,
    "start_time": "2022-07-28T13:38:38.621Z"
   },
   {
    "duration": 159,
    "start_time": "2022-07-28T13:39:04.414Z"
   },
   {
    "duration": 181,
    "start_time": "2022-07-28T13:39:09.038Z"
   },
   {
    "duration": 147,
    "start_time": "2022-07-28T13:40:24.077Z"
   },
   {
    "duration": 149,
    "start_time": "2022-07-28T13:40:42.029Z"
   },
   {
    "duration": 156,
    "start_time": "2022-07-28T13:40:48.629Z"
   },
   {
    "duration": 180,
    "start_time": "2022-07-28T13:41:19.899Z"
   },
   {
    "duration": 164,
    "start_time": "2022-07-28T13:41:44.025Z"
   },
   {
    "duration": 155,
    "start_time": "2022-07-28T13:42:14.333Z"
   },
   {
    "duration": 172,
    "start_time": "2022-07-28T13:42:20.717Z"
   },
   {
    "duration": 67,
    "start_time": "2022-07-28T13:43:39.814Z"
   },
   {
    "duration": 57,
    "start_time": "2022-07-28T13:43:56.869Z"
   },
   {
    "duration": 52,
    "start_time": "2022-07-28T13:44:02.549Z"
   },
   {
    "duration": 268,
    "start_time": "2022-07-28T13:44:34.220Z"
   },
   {
    "duration": 270,
    "start_time": "2022-07-28T13:45:02.991Z"
   },
   {
    "duration": 5,
    "start_time": "2022-07-28T13:45:46.012Z"
   },
   {
    "duration": 294,
    "start_time": "2022-07-28T13:45:49.861Z"
   },
   {
    "duration": 152,
    "start_time": "2022-07-28T13:46:24.965Z"
   },
   {
    "duration": 71,
    "start_time": "2022-07-28T13:51:30.270Z"
   },
   {
    "duration": 409,
    "start_time": "2022-07-28T13:51:48.581Z"
   },
   {
    "duration": 457,
    "start_time": "2022-07-28T13:54:59.134Z"
   },
   {
    "duration": 442,
    "start_time": "2022-07-28T13:55:14.812Z"
   },
   {
    "duration": 45,
    "start_time": "2022-07-29T06:54:55.082Z"
   },
   {
    "duration": 1124,
    "start_time": "2022-07-29T06:55:00.952Z"
   },
   {
    "duration": 4,
    "start_time": "2022-07-29T06:55:02.232Z"
   },
   {
    "duration": 1861,
    "start_time": "2022-07-29T06:55:03.671Z"
   },
   {
    "duration": 8,
    "start_time": "2022-07-29T06:56:50.383Z"
   },
   {
    "duration": 149,
    "start_time": "2022-07-29T06:57:11.071Z"
   },
   {
    "duration": 4,
    "start_time": "2022-07-29T06:57:11.776Z"
   },
   {
    "duration": 1874,
    "start_time": "2022-07-29T06:57:12.271Z"
   },
   {
    "duration": 15,
    "start_time": "2022-07-29T06:57:14.146Z"
   },
   {
    "duration": 21,
    "start_time": "2022-07-29T06:57:15.000Z"
   },
   {
    "duration": 72,
    "start_time": "2022-07-29T06:57:16.040Z"
   },
   {
    "duration": 113,
    "start_time": "2022-07-29T06:57:17.256Z"
   },
   {
    "duration": 25,
    "start_time": "2022-07-29T06:57:18.015Z"
   },
   {
    "duration": 17,
    "start_time": "2022-07-29T06:57:20.175Z"
   },
   {
    "duration": 1112,
    "start_time": "2022-07-29T06:57:20.728Z"
   },
   {
    "duration": 1120,
    "start_time": "2022-07-29T06:57:50.752Z"
   },
   {
    "duration": 1081,
    "start_time": "2022-07-29T06:57:59.648Z"
   },
   {
    "duration": 358,
    "start_time": "2022-07-29T06:58:55.712Z"
   },
   {
    "duration": 163,
    "start_time": "2022-07-29T06:59:07.680Z"
   },
   {
    "duration": 162,
    "start_time": "2022-07-29T06:59:08.833Z"
   },
   {
    "duration": 169,
    "start_time": "2022-07-29T06:59:09.809Z"
   },
   {
    "duration": 164,
    "start_time": "2022-07-29T06:59:10.872Z"
   },
   {
    "duration": 138,
    "start_time": "2022-07-29T06:59:11.800Z"
   },
   {
    "duration": 148,
    "start_time": "2022-07-29T06:59:12.807Z"
   },
   {
    "duration": 155,
    "start_time": "2022-07-29T06:59:13.975Z"
   },
   {
    "duration": 162,
    "start_time": "2022-07-29T06:59:15.199Z"
   },
   {
    "duration": 130,
    "start_time": "2022-07-29T06:59:16.663Z"
   },
   {
    "duration": 227,
    "start_time": "2022-07-29T06:59:47.120Z"
   },
   {
    "duration": 10,
    "start_time": "2022-07-29T07:00:21.704Z"
   },
   {
    "duration": 11,
    "start_time": "2022-07-29T07:00:41.120Z"
   },
   {
    "duration": 140,
    "start_time": "2022-07-29T07:01:42.672Z"
   },
   {
    "duration": 142,
    "start_time": "2022-07-29T07:02:19.472Z"
   },
   {
    "duration": 135,
    "start_time": "2022-07-29T07:02:28.167Z"
   },
   {
    "duration": 16,
    "start_time": "2022-07-29T07:03:28.647Z"
   },
   {
    "duration": 281,
    "start_time": "2022-07-29T07:03:29.463Z"
   },
   {
    "duration": 147,
    "start_time": "2022-07-29T07:04:00.200Z"
   },
   {
    "duration": 4,
    "start_time": "2022-07-29T07:04:00.824Z"
   },
   {
    "duration": 1843,
    "start_time": "2022-07-29T07:04:01.319Z"
   },
   {
    "duration": 10,
    "start_time": "2022-07-29T07:04:04.423Z"
   },
   {
    "duration": 19,
    "start_time": "2022-07-29T07:04:05.712Z"
   },
   {
    "duration": 68,
    "start_time": "2022-07-29T07:04:07.199Z"
   },
   {
    "duration": 108,
    "start_time": "2022-07-29T07:04:07.992Z"
   },
   {
    "duration": 23,
    "start_time": "2022-07-29T07:04:11.143Z"
   },
   {
    "duration": 14,
    "start_time": "2022-07-29T07:04:18.799Z"
   },
   {
    "duration": 296,
    "start_time": "2022-07-29T07:04:19.776Z"
   },
   {
    "duration": 146,
    "start_time": "2022-07-29T07:04:23.516Z"
   },
   {
    "duration": 158,
    "start_time": "2022-07-29T07:04:24.887Z"
   },
   {
    "duration": 152,
    "start_time": "2022-07-29T07:04:25.799Z"
   },
   {
    "duration": 291,
    "start_time": "2022-07-29T07:04:26.623Z"
   },
   {
    "duration": 142,
    "start_time": "2022-07-29T07:04:27.680Z"
   },
   {
    "duration": 142,
    "start_time": "2022-07-29T07:04:28.927Z"
   },
   {
    "duration": 149,
    "start_time": "2022-07-29T07:04:31.112Z"
   },
   {
    "duration": 131,
    "start_time": "2022-07-29T07:04:33.863Z"
   },
   {
    "duration": 121,
    "start_time": "2022-07-29T07:04:35.760Z"
   },
   {
    "duration": 123,
    "start_time": "2022-07-29T07:04:39.551Z"
   },
   {
    "duration": 12,
    "start_time": "2022-07-29T07:06:58.279Z"
   },
   {
    "duration": 14,
    "start_time": "2022-07-29T07:09:49.807Z"
   },
   {
    "duration": 40,
    "start_time": "2022-07-29T07:09:59.848Z"
   },
   {
    "duration": 9,
    "start_time": "2022-07-29T07:10:20.408Z"
   },
   {
    "duration": 9,
    "start_time": "2022-07-29T07:10:27.888Z"
   },
   {
    "duration": 12,
    "start_time": "2022-07-29T07:10:40.784Z"
   },
   {
    "duration": 4,
    "start_time": "2022-07-29T07:12:42.271Z"
   },
   {
    "duration": 20,
    "start_time": "2022-07-29T07:12:51.607Z"
   },
   {
    "duration": 15,
    "start_time": "2022-07-29T07:13:44.416Z"
   },
   {
    "duration": 46,
    "start_time": "2022-07-29T07:14:18.960Z"
   },
   {
    "duration": 14,
    "start_time": "2022-07-29T07:20:56.079Z"
   },
   {
    "duration": 13,
    "start_time": "2022-07-29T07:21:05.991Z"
   },
   {
    "duration": 13,
    "start_time": "2022-07-29T07:21:18.951Z"
   },
   {
    "duration": 22,
    "start_time": "2022-07-29T07:21:34.960Z"
   },
   {
    "duration": 12,
    "start_time": "2022-07-29T07:21:41.544Z"
   },
   {
    "duration": 21,
    "start_time": "2022-07-29T07:22:06.249Z"
   },
   {
    "duration": 23,
    "start_time": "2022-07-29T07:23:13.487Z"
   },
   {
    "duration": 19,
    "start_time": "2022-07-29T07:23:24.912Z"
   },
   {
    "duration": 24,
    "start_time": "2022-07-29T07:23:38.128Z"
   },
   {
    "duration": 17,
    "start_time": "2022-07-29T07:23:42.952Z"
   },
   {
    "duration": 17,
    "start_time": "2022-07-29T07:24:10.168Z"
   },
   {
    "duration": 139,
    "start_time": "2022-07-29T07:24:27.064Z"
   },
   {
    "duration": 5,
    "start_time": "2022-07-29T07:24:27.236Z"
   },
   {
    "duration": 1928,
    "start_time": "2022-07-29T07:24:27.423Z"
   },
   {
    "duration": 10,
    "start_time": "2022-07-29T07:24:29.353Z"
   },
   {
    "duration": 19,
    "start_time": "2022-07-29T07:24:29.364Z"
   },
   {
    "duration": 87,
    "start_time": "2022-07-29T07:24:29.385Z"
   },
   {
    "duration": 111,
    "start_time": "2022-07-29T07:24:29.487Z"
   },
   {
    "duration": 25,
    "start_time": "2022-07-29T07:24:29.728Z"
   },
   {
    "duration": 14,
    "start_time": "2022-07-29T07:24:31.319Z"
   },
   {
    "duration": 283,
    "start_time": "2022-07-29T07:24:31.680Z"
   },
   {
    "duration": 147,
    "start_time": "2022-07-29T07:24:32.927Z"
   },
   {
    "duration": 157,
    "start_time": "2022-07-29T07:24:33.303Z"
   },
   {
    "duration": 153,
    "start_time": "2022-07-29T07:24:33.679Z"
   },
   {
    "duration": 156,
    "start_time": "2022-07-29T07:24:34.071Z"
   },
   {
    "duration": 145,
    "start_time": "2022-07-29T07:24:34.487Z"
   },
   {
    "duration": 153,
    "start_time": "2022-07-29T07:24:34.887Z"
   },
   {
    "duration": 146,
    "start_time": "2022-07-29T07:24:35.407Z"
   },
   {
    "duration": 177,
    "start_time": "2022-07-29T07:24:36.238Z"
   },
   {
    "duration": 117,
    "start_time": "2022-07-29T07:24:37.487Z"
   },
   {
    "duration": 42,
    "start_time": "2022-07-29T07:24:39.080Z"
   },
   {
    "duration": 46,
    "start_time": "2022-07-29T07:25:18.184Z"
   },
   {
    "duration": 23,
    "start_time": "2022-07-29T07:25:31.016Z"
   },
   {
    "duration": 26,
    "start_time": "2022-07-29T07:25:45.911Z"
   },
   {
    "duration": 24,
    "start_time": "2022-07-29T07:28:21.495Z"
   },
   {
    "duration": 140,
    "start_time": "2022-07-29T07:28:40.928Z"
   },
   {
    "duration": 4,
    "start_time": "2022-07-29T07:28:41.319Z"
   },
   {
    "duration": 1851,
    "start_time": "2022-07-29T07:28:41.743Z"
   },
   {
    "duration": 9,
    "start_time": "2022-07-29T07:28:43.630Z"
   },
   {
    "duration": 19,
    "start_time": "2022-07-29T07:28:45.079Z"
   },
   {
    "duration": 82,
    "start_time": "2022-07-29T07:28:46.159Z"
   },
   {
    "duration": 111,
    "start_time": "2022-07-29T07:28:46.992Z"
   },
   {
    "duration": 23,
    "start_time": "2022-07-29T07:28:48.727Z"
   },
   {
    "duration": 19,
    "start_time": "2022-07-29T07:29:27.712Z"
   },
   {
    "duration": 19,
    "start_time": "2022-07-29T07:29:47.863Z"
   },
   {
    "duration": 13,
    "start_time": "2022-07-29T07:30:07.008Z"
   },
   {
    "duration": 19,
    "start_time": "2022-07-29T07:30:26.408Z"
   },
   {
    "duration": 14,
    "start_time": "2022-07-29T07:30:42.440Z"
   },
   {
    "duration": 14,
    "start_time": "2022-07-29T07:30:49.271Z"
   },
   {
    "duration": 141,
    "start_time": "2022-07-29T07:30:54.615Z"
   },
   {
    "duration": 4,
    "start_time": "2022-07-29T07:30:54.831Z"
   },
   {
    "duration": 2062,
    "start_time": "2022-07-29T07:30:55.119Z"
   },
   {
    "duration": 9,
    "start_time": "2022-07-29T07:30:57.183Z"
   },
   {
    "duration": 18,
    "start_time": "2022-07-29T07:30:58.016Z"
   },
   {
    "duration": 70,
    "start_time": "2022-07-29T07:30:59.104Z"
   },
   {
    "duration": 109,
    "start_time": "2022-07-29T07:30:59.784Z"
   },
   {
    "duration": 30,
    "start_time": "2022-07-29T07:31:00.693Z"
   },
   {
    "duration": 28,
    "start_time": "2022-07-29T07:31:02.172Z"
   },
   {
    "duration": 26,
    "start_time": "2022-07-29T07:31:24.079Z"
   },
   {
    "duration": 33,
    "start_time": "2022-07-29T07:31:41.343Z"
   },
   {
    "duration": 28,
    "start_time": "2022-07-29T07:31:52.080Z"
   },
   {
    "duration": 24,
    "start_time": "2022-07-29T07:32:56.863Z"
   },
   {
    "duration": 157,
    "start_time": "2022-07-29T07:33:12.623Z"
   },
   {
    "duration": 4,
    "start_time": "2022-07-29T07:33:12.942Z"
   },
   {
    "duration": 1930,
    "start_time": "2022-07-29T07:33:13.430Z"
   },
   {
    "duration": 10,
    "start_time": "2022-07-29T07:33:16.023Z"
   },
   {
    "duration": 18,
    "start_time": "2022-07-29T07:33:17.239Z"
   },
   {
    "duration": 72,
    "start_time": "2022-07-29T07:33:18.575Z"
   },
   {
    "duration": 119,
    "start_time": "2022-07-29T07:33:20.367Z"
   },
   {
    "duration": 25,
    "start_time": "2022-07-29T07:33:46.200Z"
   },
   {
    "duration": 16,
    "start_time": "2022-07-29T07:34:05.464Z"
   },
   {
    "duration": 18,
    "start_time": "2022-07-29T07:34:42.423Z"
   },
   {
    "duration": 712,
    "start_time": "2022-07-29T07:34:51.880Z"
   },
   {
    "duration": 19,
    "start_time": "2022-07-29T07:35:11.928Z"
   },
   {
    "duration": 21,
    "start_time": "2022-07-29T07:35:34.575Z"
   },
   {
    "duration": 18,
    "start_time": "2022-07-29T07:39:08.307Z"
   },
   {
    "duration": 28,
    "start_time": "2022-07-29T07:45:31.256Z"
   },
   {
    "duration": 25,
    "start_time": "2022-07-29T07:52:11.851Z"
   },
   {
    "duration": 39,
    "start_time": "2022-07-29T07:52:58.380Z"
   },
   {
    "duration": 20,
    "start_time": "2022-07-29T07:53:11.707Z"
   },
   {
    "duration": 39,
    "start_time": "2022-07-29T08:02:18.062Z"
   },
   {
    "duration": 21,
    "start_time": "2022-07-29T08:04:55.063Z"
   },
   {
    "duration": 18,
    "start_time": "2022-07-29T08:06:06.583Z"
   },
   {
    "duration": 29,
    "start_time": "2022-07-29T08:06:36.223Z"
   },
   {
    "duration": 30,
    "start_time": "2022-07-29T08:06:55.758Z"
   },
   {
    "duration": 20,
    "start_time": "2022-07-29T08:07:13.198Z"
   },
   {
    "duration": 19,
    "start_time": "2022-07-29T08:09:38.970Z"
   },
   {
    "duration": 8,
    "start_time": "2022-07-29T08:10:39.287Z"
   },
   {
    "duration": 134,
    "start_time": "2022-07-29T08:10:51.959Z"
   },
   {
    "duration": 4,
    "start_time": "2022-07-29T08:10:52.174Z"
   },
   {
    "duration": 1984,
    "start_time": "2022-07-29T08:10:52.663Z"
   },
   {
    "duration": 9,
    "start_time": "2022-07-29T08:10:54.959Z"
   },
   {
    "duration": 22,
    "start_time": "2022-07-29T08:10:56.199Z"
   },
   {
    "duration": 69,
    "start_time": "2022-07-29T08:10:57.320Z"
   },
   {
    "duration": 112,
    "start_time": "2022-07-29T08:10:57.984Z"
   },
   {
    "duration": 9,
    "start_time": "2022-07-29T08:10:59.551Z"
   },
   {
    "duration": 13,
    "start_time": "2022-07-29T08:14:21.142Z"
   },
   {
    "duration": 18,
    "start_time": "2022-07-29T08:14:47.917Z"
   },
   {
    "duration": 15,
    "start_time": "2022-07-29T08:15:07.196Z"
   },
   {
    "duration": 2,
    "start_time": "2022-07-29T08:15:31.852Z"
   },
   {
    "duration": 25,
    "start_time": "2022-07-29T08:15:32.053Z"
   },
   {
    "duration": 15,
    "start_time": "2022-07-29T08:15:33.428Z"
   },
   {
    "duration": 280,
    "start_time": "2022-07-29T08:15:33.844Z"
   },
   {
    "duration": 154,
    "start_time": "2022-07-29T08:15:34.868Z"
   },
   {
    "duration": 167,
    "start_time": "2022-07-29T08:15:36.495Z"
   },
   {
    "duration": 164,
    "start_time": "2022-07-29T08:15:37.476Z"
   },
   {
    "duration": 156,
    "start_time": "2022-07-29T08:15:38.349Z"
   },
   {
    "duration": 148,
    "start_time": "2022-07-29T08:15:39.059Z"
   },
   {
    "duration": 153,
    "start_time": "2022-07-29T08:15:39.756Z"
   },
   {
    "duration": 149,
    "start_time": "2022-07-29T08:15:40.701Z"
   },
   {
    "duration": 137,
    "start_time": "2022-07-29T08:15:41.772Z"
   },
   {
    "duration": 130,
    "start_time": "2022-07-29T08:15:43.308Z"
   },
   {
    "duration": 137,
    "start_time": "2022-07-29T08:15:47.012Z"
   },
   {
    "duration": 52,
    "start_time": "2022-07-29T08:17:04.004Z"
   },
   {
    "duration": 129,
    "start_time": "2022-07-29T08:17:09.188Z"
   },
   {
    "duration": 588,
    "start_time": "2022-07-29T08:18:36.004Z"
   },
   {
    "duration": 244,
    "start_time": "2022-07-29T08:18:45.523Z"
   },
   {
    "duration": 220,
    "start_time": "2022-07-29T08:18:53.891Z"
   },
   {
    "duration": 245,
    "start_time": "2022-07-29T08:19:01.819Z"
   },
   {
    "duration": 258,
    "start_time": "2022-07-29T08:19:11.036Z"
   },
   {
    "duration": 183,
    "start_time": "2022-07-29T08:19:24.971Z"
   },
   {
    "duration": 102,
    "start_time": "2022-07-29T08:21:40.566Z"
   },
   {
    "duration": 135,
    "start_time": "2022-07-29T08:21:46.179Z"
   },
   {
    "duration": 2,
    "start_time": "2022-07-29T08:21:47.434Z"
   },
   {
    "duration": 29,
    "start_time": "2022-07-29T08:21:48.122Z"
   },
   {
    "duration": 16,
    "start_time": "2022-07-29T08:21:49.841Z"
   },
   {
    "duration": 280,
    "start_time": "2022-07-29T08:21:50.266Z"
   },
   {
    "duration": 175,
    "start_time": "2022-07-29T08:21:52.627Z"
   },
   {
    "duration": 154,
    "start_time": "2022-07-29T08:21:53.114Z"
   },
   {
    "duration": 169,
    "start_time": "2022-07-29T08:21:53.514Z"
   },
   {
    "duration": 163,
    "start_time": "2022-07-29T08:21:53.906Z"
   },
   {
    "duration": 140,
    "start_time": "2022-07-29T08:21:54.339Z"
   },
   {
    "duration": 151,
    "start_time": "2022-07-29T08:21:54.762Z"
   },
   {
    "duration": 159,
    "start_time": "2022-07-29T08:21:55.532Z"
   },
   {
    "duration": 220,
    "start_time": "2022-07-29T08:21:56.372Z"
   },
   {
    "duration": 130,
    "start_time": "2022-07-29T08:21:57.099Z"
   },
   {
    "duration": 193,
    "start_time": "2022-07-29T08:21:58.081Z"
   },
   {
    "duration": 48,
    "start_time": "2022-07-29T08:22:25.963Z"
   },
   {
    "duration": 22,
    "start_time": "2022-07-29T08:22:43.490Z"
   },
   {
    "duration": 191,
    "start_time": "2022-07-29T08:23:00.075Z"
   },
   {
    "duration": 197,
    "start_time": "2022-07-29T08:23:20.059Z"
   },
   {
    "duration": 151,
    "start_time": "2022-07-29T08:23:27.522Z"
   },
   {
    "duration": 4,
    "start_time": "2022-07-29T08:23:27.842Z"
   },
   {
    "duration": 2157,
    "start_time": "2022-07-29T08:23:28.122Z"
   },
   {
    "duration": 9,
    "start_time": "2022-07-29T08:23:30.281Z"
   },
   {
    "duration": 50,
    "start_time": "2022-07-29T08:23:30.291Z"
   },
   {
    "duration": 74,
    "start_time": "2022-07-29T08:23:30.778Z"
   },
   {
    "duration": 114,
    "start_time": "2022-07-29T08:23:31.187Z"
   },
   {
    "duration": 3,
    "start_time": "2022-07-29T08:23:31.689Z"
   },
   {
    "duration": 27,
    "start_time": "2022-07-29T08:23:31.961Z"
   },
   {
    "duration": 15,
    "start_time": "2022-07-29T08:23:33.073Z"
   },
   {
    "duration": 295,
    "start_time": "2022-07-29T08:23:33.306Z"
   },
   {
    "duration": 157,
    "start_time": "2022-07-29T08:23:33.667Z"
   },
   {
    "duration": 154,
    "start_time": "2022-07-29T08:23:34.050Z"
   },
   {
    "duration": 155,
    "start_time": "2022-07-29T08:23:34.410Z"
   },
   {
    "duration": 162,
    "start_time": "2022-07-29T08:23:34.809Z"
   },
   {
    "duration": 138,
    "start_time": "2022-07-29T08:23:35.474Z"
   },
   {
    "duration": 169,
    "start_time": "2022-07-29T08:23:36.059Z"
   },
   {
    "duration": 157,
    "start_time": "2022-07-29T08:23:36.977Z"
   },
   {
    "duration": 134,
    "start_time": "2022-07-29T08:23:37.577Z"
   },
   {
    "duration": 177,
    "start_time": "2022-07-29T08:23:38.785Z"
   },
   {
    "duration": 188,
    "start_time": "2022-07-29T08:23:40.241Z"
   },
   {
    "duration": 26,
    "start_time": "2022-07-29T08:29:25.386Z"
   },
   {
    "duration": 15,
    "start_time": "2022-07-29T08:29:26.841Z"
   },
   {
    "duration": 315,
    "start_time": "2022-07-29T08:29:27.777Z"
   },
   {
    "duration": 481,
    "start_time": "2022-07-29T08:29:28.921Z"
   },
   {
    "duration": 199,
    "start_time": "2022-07-29T08:29:29.404Z"
   },
   {
    "duration": 190,
    "start_time": "2022-07-29T08:29:29.842Z"
   },
   {
    "duration": 178,
    "start_time": "2022-07-29T08:29:30.345Z"
   },
   {
    "duration": 165,
    "start_time": "2022-07-29T08:29:31.018Z"
   },
   {
    "duration": 162,
    "start_time": "2022-07-29T08:29:31.877Z"
   },
   {
    "duration": 157,
    "start_time": "2022-07-29T08:29:32.881Z"
   },
   {
    "duration": 148,
    "start_time": "2022-07-29T08:29:34.275Z"
   },
   {
    "duration": 128,
    "start_time": "2022-07-29T08:29:35.913Z"
   },
   {
    "duration": 202,
    "start_time": "2022-07-29T08:29:37.353Z"
   },
   {
    "duration": 202,
    "start_time": "2022-07-29T08:30:00.522Z"
   },
   {
    "duration": 225,
    "start_time": "2022-07-29T08:30:13.458Z"
   },
   {
    "duration": 191,
    "start_time": "2022-07-29T08:30:25.121Z"
   },
   {
    "duration": 197,
    "start_time": "2022-07-29T08:30:28.897Z"
   },
   {
    "duration": 193,
    "start_time": "2022-07-29T08:30:34.458Z"
   },
   {
    "duration": 207,
    "start_time": "2022-07-29T08:30:38.826Z"
   },
   {
    "duration": 198,
    "start_time": "2022-07-29T08:31:10.801Z"
   },
   {
    "duration": 168,
    "start_time": "2022-07-29T08:36:58.265Z"
   },
   {
    "duration": 215,
    "start_time": "2022-07-29T08:37:10.634Z"
   },
   {
    "duration": 188,
    "start_time": "2022-07-29T08:37:40.761Z"
   },
   {
    "duration": 188,
    "start_time": "2022-07-29T08:37:59.875Z"
   },
   {
    "duration": 183,
    "start_time": "2022-07-29T08:38:12.250Z"
   },
   {
    "duration": 175,
    "start_time": "2022-07-29T08:38:47.434Z"
   },
   {
    "duration": 196,
    "start_time": "2022-07-29T08:39:01.394Z"
   },
   {
    "duration": 179,
    "start_time": "2022-07-29T08:48:31.059Z"
   },
   {
    "duration": 250,
    "start_time": "2022-07-29T08:48:46.571Z"
   },
   {
    "duration": 187,
    "start_time": "2022-07-29T08:48:59.588Z"
   },
   {
    "duration": 687,
    "start_time": "2022-07-29T08:50:05.844Z"
   },
   {
    "duration": 188,
    "start_time": "2022-07-29T08:57:32.174Z"
   },
   {
    "duration": 184,
    "start_time": "2022-07-29T08:57:42.878Z"
   },
   {
    "duration": 149,
    "start_time": "2022-07-29T08:58:04.681Z"
   },
   {
    "duration": 148,
    "start_time": "2022-07-29T09:03:34.935Z"
   },
   {
    "duration": 175,
    "start_time": "2022-07-29T09:05:06.504Z"
   },
   {
    "duration": 143,
    "start_time": "2022-07-29T09:05:15.479Z"
   },
   {
    "duration": 178,
    "start_time": "2022-07-29T09:05:30.656Z"
   },
   {
    "duration": 124,
    "start_time": "2022-07-29T09:05:34.992Z"
   },
   {
    "duration": 143,
    "start_time": "2022-07-29T09:05:39.055Z"
   },
   {
    "duration": 147,
    "start_time": "2022-07-29T09:06:07.677Z"
   },
   {
    "duration": 130,
    "start_time": "2022-07-29T09:06:20.024Z"
   },
   {
    "duration": 133,
    "start_time": "2022-07-29T09:07:40.352Z"
   },
   {
    "duration": 122,
    "start_time": "2022-07-29T09:07:43.680Z"
   },
   {
    "duration": 7,
    "start_time": "2022-07-29T09:28:35.225Z"
   },
   {
    "duration": 8,
    "start_time": "2022-07-29T09:28:48.477Z"
   },
   {
    "duration": 16,
    "start_time": "2022-07-29T09:29:57.801Z"
   },
   {
    "duration": 4,
    "start_time": "2022-07-29T09:35:05.579Z"
   },
   {
    "duration": 21,
    "start_time": "2022-07-29T09:35:19.763Z"
   },
   {
    "duration": 171,
    "start_time": "2022-07-29T09:36:06.048Z"
   },
   {
    "duration": 5,
    "start_time": "2022-07-29T09:36:06.232Z"
   },
   {
    "duration": 1989,
    "start_time": "2022-07-29T09:36:06.401Z"
   },
   {
    "duration": 9,
    "start_time": "2022-07-29T09:36:08.392Z"
   },
   {
    "duration": 19,
    "start_time": "2022-07-29T09:36:08.403Z"
   },
   {
    "duration": 100,
    "start_time": "2022-07-29T09:36:08.423Z"
   },
   {
    "duration": 124,
    "start_time": "2022-07-29T09:36:08.525Z"
   },
   {
    "duration": 32,
    "start_time": "2022-07-29T09:36:08.712Z"
   },
   {
    "duration": 16,
    "start_time": "2022-07-29T09:36:09.312Z"
   },
   {
    "duration": 306,
    "start_time": "2022-07-29T09:36:09.521Z"
   },
   {
    "duration": 185,
    "start_time": "2022-07-29T09:36:10.000Z"
   },
   {
    "duration": 193,
    "start_time": "2022-07-29T09:36:10.433Z"
   },
   {
    "duration": 172,
    "start_time": "2022-07-29T09:36:10.870Z"
   },
   {
    "duration": 494,
    "start_time": "2022-07-29T09:36:11.312Z"
   },
   {
    "duration": 174,
    "start_time": "2022-07-29T09:36:11.808Z"
   },
   {
    "duration": 164,
    "start_time": "2022-07-29T09:36:12.137Z"
   },
   {
    "duration": 167,
    "start_time": "2022-07-29T09:36:12.579Z"
   },
   {
    "duration": 144,
    "start_time": "2022-07-29T09:36:13.104Z"
   },
   {
    "duration": 127,
    "start_time": "2022-07-29T09:36:13.592Z"
   },
   {
    "duration": 230,
    "start_time": "2022-07-29T09:36:14.557Z"
   },
   {
    "duration": 182,
    "start_time": "2022-07-29T09:36:15.080Z"
   },
   {
    "duration": 200,
    "start_time": "2022-07-29T09:36:15.752Z"
   },
   {
    "duration": 181,
    "start_time": "2022-07-29T09:36:16.440Z"
   },
   {
    "duration": 129,
    "start_time": "2022-07-29T09:36:17.082Z"
   },
   {
    "duration": 240,
    "start_time": "2022-07-29T09:36:17.904Z"
   },
   {
    "duration": 171,
    "start_time": "2022-07-29T09:36:20.552Z"
   },
   {
    "duration": 228,
    "start_time": "2022-07-29T09:36:21.416Z"
   },
   {
    "duration": 178,
    "start_time": "2022-07-29T09:36:22.161Z"
   },
   {
    "duration": 136,
    "start_time": "2022-07-29T09:36:23.074Z"
   },
   {
    "duration": 130,
    "start_time": "2022-07-29T09:36:24.120Z"
   },
   {
    "duration": 469,
    "start_time": "2022-07-29T09:36:25.120Z"
   },
   {
    "duration": 17,
    "start_time": "2022-07-29T09:36:27.824Z"
   },
   {
    "duration": 31,
    "start_time": "2022-07-29T09:36:56.641Z"
   },
   {
    "duration": 28,
    "start_time": "2022-07-29T09:37:14.041Z"
   },
   {
    "duration": 22,
    "start_time": "2022-07-29T09:37:27.624Z"
   },
   {
    "duration": 36,
    "start_time": "2022-07-29T09:37:46.538Z"
   },
   {
    "duration": 22,
    "start_time": "2022-07-29T09:38:02.392Z"
   },
   {
    "duration": 21,
    "start_time": "2022-07-29T09:38:44.105Z"
   },
   {
    "duration": 26,
    "start_time": "2022-07-29T09:38:50.848Z"
   },
   {
    "duration": 29,
    "start_time": "2022-07-29T09:41:26.336Z"
   },
   {
    "duration": 21,
    "start_time": "2022-07-29T09:41:31.280Z"
   },
   {
    "duration": 21,
    "start_time": "2022-07-29T09:41:45.089Z"
   },
   {
    "duration": 45,
    "start_time": "2022-07-29T09:50:15.474Z"
   },
   {
    "duration": 25,
    "start_time": "2022-07-29T09:51:12.153Z"
   },
   {
    "duration": 8,
    "start_time": "2022-07-29T09:55:52.242Z"
   },
   {
    "duration": 10,
    "start_time": "2022-07-29T09:56:00.642Z"
   },
   {
    "duration": 5,
    "start_time": "2022-07-29T09:56:17.722Z"
   },
   {
    "duration": 31,
    "start_time": "2022-07-29T09:58:47.042Z"
   },
   {
    "duration": 14,
    "start_time": "2022-07-29T09:59:34.317Z"
   },
   {
    "duration": 24,
    "start_time": "2022-07-29T09:59:42.810Z"
   },
   {
    "duration": 22,
    "start_time": "2022-07-29T10:01:15.425Z"
   },
   {
    "duration": 19,
    "start_time": "2022-07-29T10:01:30.625Z"
   },
   {
    "duration": 27,
    "start_time": "2022-07-29T10:02:08.869Z"
   },
   {
    "duration": 22,
    "start_time": "2022-07-29T10:02:19.291Z"
   },
   {
    "duration": 1838,
    "start_time": "2022-07-29T10:02:27.266Z"
   },
   {
    "duration": 18,
    "start_time": "2022-07-29T10:02:42.338Z"
   },
   {
    "duration": 23,
    "start_time": "2022-07-29T10:03:42.558Z"
   },
   {
    "duration": 1441,
    "start_time": "2022-07-29T10:03:58.869Z"
   },
   {
    "duration": 49,
    "start_time": "2022-07-29T10:06:53.778Z"
   },
   {
    "duration": 19,
    "start_time": "2022-07-29T10:07:37.914Z"
   },
   {
    "duration": 18,
    "start_time": "2022-07-29T10:08:10.387Z"
   },
   {
    "duration": 28,
    "start_time": "2022-07-29T10:08:28.706Z"
   },
   {
    "duration": 31,
    "start_time": "2022-07-29T10:09:19.090Z"
   },
   {
    "duration": 26,
    "start_time": "2022-07-29T10:09:35.411Z"
   },
   {
    "duration": 12,
    "start_time": "2022-07-29T10:13:06.643Z"
   },
   {
    "duration": 2770,
    "start_time": "2022-07-29T10:13:37.178Z"
   },
   {
    "duration": 156,
    "start_time": "2022-07-29T10:15:03.203Z"
   },
   {
    "duration": 183,
    "start_time": "2022-07-29T10:16:12.994Z"
   },
   {
    "duration": 901,
    "start_time": "2022-07-29T10:16:27.022Z"
   },
   {
    "duration": 1024,
    "start_time": "2022-07-29T10:16:38.851Z"
   },
   {
    "duration": 14,
    "start_time": "2022-07-29T10:17:05.576Z"
   },
   {
    "duration": 30,
    "start_time": "2022-07-29T10:21:44.869Z"
   },
   {
    "duration": 175,
    "start_time": "2022-07-29T10:22:27.602Z"
   },
   {
    "duration": 156,
    "start_time": "2022-07-29T10:22:51.083Z"
   },
   {
    "duration": 157,
    "start_time": "2022-07-29T10:23:09.569Z"
   },
   {
    "duration": 163,
    "start_time": "2022-07-29T10:23:17.858Z"
   },
   {
    "duration": 55,
    "start_time": "2022-07-29T10:28:24.686Z"
   },
   {
    "duration": 165,
    "start_time": "2022-07-29T10:28:41.168Z"
   },
   {
    "duration": 141,
    "start_time": "2022-07-29T11:00:25.758Z"
   },
   {
    "duration": 151,
    "start_time": "2022-07-29T11:00:33.843Z"
   },
   {
    "duration": 6,
    "start_time": "2022-07-29T11:00:34.687Z"
   },
   {
    "duration": 2187,
    "start_time": "2022-07-29T11:00:35.462Z"
   },
   {
    "duration": 10,
    "start_time": "2022-07-29T11:00:40.053Z"
   },
   {
    "duration": 19,
    "start_time": "2022-07-29T11:00:42.143Z"
   },
   {
    "duration": 87,
    "start_time": "2022-07-29T11:00:51.357Z"
   },
   {
    "duration": 118,
    "start_time": "2022-07-29T11:00:54.982Z"
   },
   {
    "duration": 164,
    "start_time": "2022-07-29T11:01:29.647Z"
   },
   {
    "duration": 82,
    "start_time": "2022-07-29T11:02:04.040Z"
   },
   {
    "duration": 148,
    "start_time": "2022-07-29T11:02:29.191Z"
   },
   {
    "duration": 156,
    "start_time": "2022-07-29T11:02:44.853Z"
   },
   {
    "duration": 7,
    "start_time": "2022-07-29T11:02:45.085Z"
   },
   {
    "duration": 2161,
    "start_time": "2022-07-29T11:02:45.308Z"
   },
   {
    "duration": 11,
    "start_time": "2022-07-29T11:02:47.472Z"
   },
   {
    "duration": 443,
    "start_time": "2022-07-29T11:02:47.484Z"
   },
   {
    "duration": 88,
    "start_time": "2022-07-29T11:02:48.645Z"
   },
   {
    "duration": 137,
    "start_time": "2022-07-29T11:02:49.502Z"
   },
   {
    "duration": 102,
    "start_time": "2022-07-29T11:03:51.598Z"
   },
   {
    "duration": 15,
    "start_time": "2022-07-29T11:05:30.944Z"
   },
   {
    "duration": 323,
    "start_time": "2022-07-29T11:07:37.870Z"
   },
   {
    "duration": 163,
    "start_time": "2022-07-29T11:08:24.342Z"
   },
   {
    "duration": 160,
    "start_time": "2022-07-29T11:08:47.516Z"
   },
   {
    "duration": 208,
    "start_time": "2022-07-29T11:08:53.092Z"
   },
   {
    "duration": 181,
    "start_time": "2022-07-29T11:09:03.117Z"
   },
   {
    "duration": 175,
    "start_time": "2022-07-29T11:09:08.173Z"
   },
   {
    "duration": 163,
    "start_time": "2022-07-29T11:09:19.365Z"
   },
   {
    "duration": 154,
    "start_time": "2022-07-29T11:09:31.142Z"
   },
   {
    "duration": 151,
    "start_time": "2022-07-29T11:09:35.692Z"
   },
   {
    "duration": 175,
    "start_time": "2022-07-29T11:09:42.942Z"
   },
   {
    "duration": 196,
    "start_time": "2022-07-29T11:09:58.840Z"
   },
   {
    "duration": 143,
    "start_time": "2022-07-29T11:10:03.675Z"
   },
   {
    "duration": 138,
    "start_time": "2022-07-29T11:10:10.284Z"
   },
   {
    "duration": 168,
    "start_time": "2022-07-29T11:10:57.340Z"
   },
   {
    "duration": 190,
    "start_time": "2022-07-29T11:10:59.364Z"
   },
   {
    "duration": 193,
    "start_time": "2022-07-29T11:11:00.516Z"
   },
   {
    "duration": 154,
    "start_time": "2022-07-29T11:11:01.474Z"
   },
   {
    "duration": 158,
    "start_time": "2022-07-29T11:11:06.677Z"
   },
   {
    "duration": 548,
    "start_time": "2022-07-29T11:11:08.148Z"
   },
   {
    "duration": 28,
    "start_time": "2022-07-29T11:11:14.581Z"
   },
   {
    "duration": 202,
    "start_time": "2022-07-29T11:11:16.440Z"
   },
   {
    "duration": 214,
    "start_time": "2022-07-29T11:51:03.479Z"
   },
   {
    "duration": 232,
    "start_time": "2022-07-29T11:51:16.094Z"
   },
   {
    "duration": 144,
    "start_time": "2022-07-29T11:51:21.426Z"
   },
   {
    "duration": 64,
    "start_time": "2022-07-29T11:51:32.159Z"
   },
   {
    "duration": 232,
    "start_time": "2022-07-29T11:51:58.262Z"
   },
   {
    "duration": 185,
    "start_time": "2022-07-29T11:52:05.855Z"
   },
   {
    "duration": 123,
    "start_time": "2022-07-29T11:52:12.355Z"
   },
   {
    "duration": 194,
    "start_time": "2022-07-29T11:52:21.687Z"
   },
   {
    "duration": 183,
    "start_time": "2022-07-29T11:53:22.776Z"
   },
   {
    "duration": 218,
    "start_time": "2022-07-29T11:54:31.000Z"
   },
   {
    "duration": 206,
    "start_time": "2022-07-29T11:54:39.463Z"
   },
   {
    "duration": 189,
    "start_time": "2022-07-29T11:54:47.943Z"
   },
   {
    "duration": 220,
    "start_time": "2022-07-29T11:55:05.417Z"
   },
   {
    "duration": 176,
    "start_time": "2022-07-29T11:55:13.759Z"
   },
   {
    "duration": 65,
    "start_time": "2022-07-29T11:55:38.160Z"
   },
   {
    "duration": 175,
    "start_time": "2022-07-29T11:56:16.505Z"
   },
   {
    "duration": 68,
    "start_time": "2022-07-29T11:56:45.689Z"
   },
   {
    "duration": 151,
    "start_time": "2022-07-29T11:56:52.557Z"
   },
   {
    "duration": 738,
    "start_time": "2022-07-29T11:57:51.093Z"
   },
   {
    "duration": 3,
    "start_time": "2022-07-29T11:57:51.833Z"
   },
   {
    "duration": 1915,
    "start_time": "2022-07-29T11:57:51.838Z"
   },
   {
    "duration": 14,
    "start_time": "2022-07-29T11:57:53.760Z"
   },
   {
    "duration": 23,
    "start_time": "2022-07-29T11:57:53.776Z"
   },
   {
    "duration": 94,
    "start_time": "2022-07-29T11:57:53.801Z"
   },
   {
    "duration": 121,
    "start_time": "2022-07-29T11:57:53.897Z"
   },
   {
    "duration": 12,
    "start_time": "2022-07-29T11:57:54.020Z"
   },
   {
    "duration": 305,
    "start_time": "2022-07-29T11:57:54.034Z"
   },
   {
    "duration": 163,
    "start_time": "2022-07-29T11:57:54.342Z"
   },
   {
    "duration": 206,
    "start_time": "2022-07-29T11:57:54.507Z"
   },
   {
    "duration": 188,
    "start_time": "2022-07-29T11:57:54.715Z"
   },
   {
    "duration": 258,
    "start_time": "2022-07-29T11:57:54.905Z"
   },
   {
    "duration": 183,
    "start_time": "2022-07-29T11:57:55.165Z"
   },
   {
    "duration": 213,
    "start_time": "2022-07-29T11:57:55.350Z"
   },
   {
    "duration": 160,
    "start_time": "2022-07-29T11:57:55.565Z"
   },
   {
    "duration": 151,
    "start_time": "2022-07-29T11:57:55.727Z"
   },
   {
    "duration": 149,
    "start_time": "2022-07-29T11:57:55.880Z"
   },
   {
    "duration": 298,
    "start_time": "2022-07-29T11:57:56.031Z"
   },
   {
    "duration": 295,
    "start_time": "2022-07-29T11:57:56.332Z"
   },
   {
    "duration": 216,
    "start_time": "2022-07-29T11:57:56.629Z"
   },
   {
    "duration": 152,
    "start_time": "2022-07-29T11:57:56.847Z"
   },
   {
    "duration": 195,
    "start_time": "2022-07-29T11:57:57.001Z"
   },
   {
    "duration": 403,
    "start_time": "2022-07-29T11:57:57.198Z"
   },
   {
    "duration": 167,
    "start_time": "2022-07-29T11:57:57.603Z"
   },
   {
    "duration": 195,
    "start_time": "2022-07-29T11:57:57.771Z"
   },
   {
    "duration": 49,
    "start_time": "2022-07-29T11:57:57.968Z"
   },
   {
    "duration": 0,
    "start_time": "2022-07-29T11:57:58.020Z"
   },
   {
    "duration": 0,
    "start_time": "2022-07-29T11:57:58.022Z"
   },
   {
    "duration": 0,
    "start_time": "2022-07-29T11:57:58.024Z"
   },
   {
    "duration": 0,
    "start_time": "2022-07-29T11:57:58.025Z"
   },
   {
    "duration": 0,
    "start_time": "2022-07-29T11:57:58.026Z"
   },
   {
    "duration": 171,
    "start_time": "2022-07-29T11:59:07.351Z"
   },
   {
    "duration": 777,
    "start_time": "2022-07-29T11:59:19.402Z"
   },
   {
    "duration": 4,
    "start_time": "2022-07-29T11:59:20.181Z"
   },
   {
    "duration": 2031,
    "start_time": "2022-07-29T11:59:20.186Z"
   },
   {
    "duration": 10,
    "start_time": "2022-07-29T11:59:22.219Z"
   },
   {
    "duration": 36,
    "start_time": "2022-07-29T11:59:22.230Z"
   },
   {
    "duration": 73,
    "start_time": "2022-07-29T11:59:22.267Z"
   },
   {
    "duration": 124,
    "start_time": "2022-07-29T11:59:22.343Z"
   },
   {
    "duration": 13,
    "start_time": "2022-07-29T11:59:22.469Z"
   },
   {
    "duration": 307,
    "start_time": "2022-07-29T11:59:22.484Z"
   },
   {
    "duration": 214,
    "start_time": "2022-07-29T11:59:22.794Z"
   },
   {
    "duration": 227,
    "start_time": "2022-07-29T11:59:23.010Z"
   },
   {
    "duration": 225,
    "start_time": "2022-07-29T11:59:23.239Z"
   },
   {
    "duration": 251,
    "start_time": "2022-07-29T11:59:23.466Z"
   },
   {
    "duration": 159,
    "start_time": "2022-07-29T11:59:23.719Z"
   },
   {
    "duration": 156,
    "start_time": "2022-07-29T11:59:23.880Z"
   },
   {
    "duration": 163,
    "start_time": "2022-07-29T11:59:24.037Z"
   },
   {
    "duration": 148,
    "start_time": "2022-07-29T11:59:24.202Z"
   },
   {
    "duration": 174,
    "start_time": "2022-07-29T11:59:24.361Z"
   },
   {
    "duration": 205,
    "start_time": "2022-07-29T11:59:24.537Z"
   },
   {
    "duration": 210,
    "start_time": "2022-07-29T11:59:24.744Z"
   },
   {
    "duration": 191,
    "start_time": "2022-07-29T11:59:24.956Z"
   },
   {
    "duration": 185,
    "start_time": "2022-07-29T11:59:25.149Z"
   },
   {
    "duration": 154,
    "start_time": "2022-07-29T11:59:25.336Z"
   },
   {
    "duration": 392,
    "start_time": "2022-07-29T11:59:25.492Z"
   },
   {
    "duration": 197,
    "start_time": "2022-07-29T11:59:25.886Z"
   },
   {
    "duration": 217,
    "start_time": "2022-07-29T11:59:26.085Z"
   },
   {
    "duration": 265,
    "start_time": "2022-07-29T11:59:26.304Z"
   },
   {
    "duration": 194,
    "start_time": "2022-07-29T11:59:26.574Z"
   },
   {
    "duration": 158,
    "start_time": "2022-07-29T11:59:26.769Z"
   },
   {
    "duration": 484,
    "start_time": "2022-07-29T11:59:26.929Z"
   },
   {
    "duration": 24,
    "start_time": "2022-07-29T11:59:27.415Z"
   },
   {
    "duration": 192,
    "start_time": "2022-07-29T11:59:27.440Z"
   },
   {
    "duration": 12,
    "start_time": "2022-07-29T12:05:00.178Z"
   },
   {
    "duration": 754,
    "start_time": "2022-07-29T12:05:42.597Z"
   },
   {
    "duration": 5,
    "start_time": "2022-07-29T12:05:43.360Z"
   },
   {
    "duration": 2004,
    "start_time": "2022-07-29T12:05:43.366Z"
   },
   {
    "duration": 10,
    "start_time": "2022-07-29T12:05:45.372Z"
   },
   {
    "duration": 23,
    "start_time": "2022-07-29T12:05:45.385Z"
   },
   {
    "duration": 103,
    "start_time": "2022-07-29T12:05:45.409Z"
   },
   {
    "duration": 138,
    "start_time": "2022-07-29T12:05:45.514Z"
   },
   {
    "duration": 20,
    "start_time": "2022-07-29T12:05:45.654Z"
   },
   {
    "duration": 320,
    "start_time": "2022-07-29T12:05:45.677Z"
   },
   {
    "duration": 167,
    "start_time": "2022-07-29T12:05:45.999Z"
   },
   {
    "duration": 231,
    "start_time": "2022-07-29T12:05:46.167Z"
   },
   {
    "duration": 241,
    "start_time": "2022-07-29T12:05:46.400Z"
   },
   {
    "duration": 256,
    "start_time": "2022-07-29T12:05:46.643Z"
   },
   {
    "duration": 157,
    "start_time": "2022-07-29T12:05:46.903Z"
   },
   {
    "duration": 161,
    "start_time": "2022-07-29T12:05:47.062Z"
   },
   {
    "duration": 164,
    "start_time": "2022-07-29T12:05:47.225Z"
   },
   {
    "duration": 158,
    "start_time": "2022-07-29T12:05:47.390Z"
   },
   {
    "duration": 130,
    "start_time": "2022-07-29T12:05:47.549Z"
   },
   {
    "duration": 200,
    "start_time": "2022-07-29T12:05:47.681Z"
   },
   {
    "duration": 207,
    "start_time": "2022-07-29T12:05:47.883Z"
   },
   {
    "duration": 240,
    "start_time": "2022-07-29T12:05:48.092Z"
   },
   {
    "duration": 157,
    "start_time": "2022-07-29T12:05:48.333Z"
   },
   {
    "duration": 235,
    "start_time": "2022-07-29T12:05:48.491Z"
   },
   {
    "duration": 455,
    "start_time": "2022-07-29T12:05:48.728Z"
   },
   {
    "duration": 186,
    "start_time": "2022-07-29T12:05:49.185Z"
   },
   {
    "duration": 191,
    "start_time": "2022-07-29T12:05:49.373Z"
   },
   {
    "duration": 221,
    "start_time": "2022-07-29T12:05:49.567Z"
   },
   {
    "duration": 174,
    "start_time": "2022-07-29T12:05:49.790Z"
   },
   {
    "duration": 158,
    "start_time": "2022-07-29T12:05:49.966Z"
   },
   {
    "duration": 470,
    "start_time": "2022-07-29T12:05:50.126Z"
   },
   {
    "duration": 24,
    "start_time": "2022-07-29T12:05:50.598Z"
   },
   {
    "duration": 209,
    "start_time": "2022-07-29T12:05:50.624Z"
   },
   {
    "duration": 930,
    "start_time": "2022-07-29T12:46:24.280Z"
   },
   {
    "duration": 4,
    "start_time": "2022-07-29T12:46:25.212Z"
   },
   {
    "duration": 2091,
    "start_time": "2022-07-29T12:46:25.217Z"
   },
   {
    "duration": 10,
    "start_time": "2022-07-29T12:46:27.310Z"
   },
   {
    "duration": 22,
    "start_time": "2022-07-29T12:46:27.322Z"
   },
   {
    "duration": 80,
    "start_time": "2022-07-29T12:46:27.346Z"
   },
   {
    "duration": 108,
    "start_time": "2022-07-29T12:46:27.427Z"
   },
   {
    "duration": 13,
    "start_time": "2022-07-29T12:46:27.536Z"
   },
   {
    "duration": 294,
    "start_time": "2022-07-29T12:46:27.550Z"
   },
   {
    "duration": 167,
    "start_time": "2022-07-29T12:46:27.849Z"
   },
   {
    "duration": 173,
    "start_time": "2022-07-29T12:46:28.017Z"
   },
   {
    "duration": 185,
    "start_time": "2022-07-29T12:46:28.191Z"
   },
   {
    "duration": 227,
    "start_time": "2022-07-29T12:46:28.377Z"
   },
   {
    "duration": 168,
    "start_time": "2022-07-29T12:46:28.606Z"
   },
   {
    "duration": 155,
    "start_time": "2022-07-29T12:46:28.776Z"
   },
   {
    "duration": 160,
    "start_time": "2022-07-29T12:46:28.933Z"
   },
   {
    "duration": 143,
    "start_time": "2022-07-29T12:46:29.095Z"
   },
   {
    "duration": 139,
    "start_time": "2022-07-29T12:46:29.240Z"
   },
   {
    "duration": 200,
    "start_time": "2022-07-29T12:46:29.380Z"
   },
   {
    "duration": 183,
    "start_time": "2022-07-29T12:46:29.582Z"
   },
   {
    "duration": 185,
    "start_time": "2022-07-29T12:46:29.768Z"
   },
   {
    "duration": 159,
    "start_time": "2022-07-29T12:46:29.960Z"
   },
   {
    "duration": 128,
    "start_time": "2022-07-29T12:46:30.121Z"
   },
   {
    "duration": 370,
    "start_time": "2022-07-29T12:46:30.251Z"
   },
   {
    "duration": 220,
    "start_time": "2022-07-29T12:46:30.622Z"
   },
   {
    "duration": 243,
    "start_time": "2022-07-29T12:46:30.843Z"
   },
   {
    "duration": 187,
    "start_time": "2022-07-29T12:46:31.088Z"
   },
   {
    "duration": 165,
    "start_time": "2022-07-29T12:46:31.279Z"
   },
   {
    "duration": 157,
    "start_time": "2022-07-29T12:46:31.445Z"
   },
   {
    "duration": 439,
    "start_time": "2022-07-29T12:46:31.603Z"
   },
   {
    "duration": 29,
    "start_time": "2022-07-29T12:46:32.044Z"
   },
   {
    "duration": 172,
    "start_time": "2022-07-29T12:46:32.074Z"
   },
   {
    "duration": 16,
    "start_time": "2022-07-29T12:51:32.405Z"
   },
   {
    "duration": 51,
    "start_time": "2022-07-29T16:27:50.553Z"
   },
   {
    "duration": 1156,
    "start_time": "2022-07-29T16:27:59.375Z"
   },
   {
    "duration": 4,
    "start_time": "2022-07-29T16:28:08.878Z"
   },
   {
    "duration": 1787,
    "start_time": "2022-07-29T16:28:09.747Z"
   },
   {
    "duration": 139,
    "start_time": "2022-07-29T17:19:34.571Z"
   },
   {
    "duration": 3,
    "start_time": "2022-07-29T17:19:35.052Z"
   },
   {
    "duration": 1741,
    "start_time": "2022-07-29T17:19:35.677Z"
   },
   {
    "duration": 13,
    "start_time": "2022-07-29T17:19:40.727Z"
   },
   {
    "duration": 17,
    "start_time": "2022-07-29T17:19:42.441Z"
   },
   {
    "duration": 78,
    "start_time": "2022-07-29T17:19:46.671Z"
   },
   {
    "duration": 4,
    "start_time": "2022-07-29T17:19:47.549Z"
   },
   {
    "duration": 1072,
    "start_time": "2022-07-29T17:20:16.275Z"
   },
   {
    "duration": 1022,
    "start_time": "2022-07-29T17:20:39.248Z"
   },
   {
    "duration": 1089,
    "start_time": "2022-07-29T17:21:00.382Z"
   },
   {
    "duration": 1042,
    "start_time": "2022-07-29T17:21:08.134Z"
   },
   {
    "duration": 1033,
    "start_time": "2022-07-29T17:22:24.615Z"
   },
   {
    "duration": 79,
    "start_time": "2022-07-29T17:22:56.026Z"
   },
   {
    "duration": 77,
    "start_time": "2022-07-29T17:22:59.051Z"
   },
   {
    "duration": 140,
    "start_time": "2022-07-29T17:23:03.992Z"
   },
   {
    "duration": 5,
    "start_time": "2022-07-29T17:23:04.221Z"
   },
   {
    "duration": 1747,
    "start_time": "2022-07-29T17:23:04.750Z"
   },
   {
    "duration": 8,
    "start_time": "2022-07-29T17:23:08.631Z"
   },
   {
    "duration": 16,
    "start_time": "2022-07-29T17:23:10.887Z"
   },
   {
    "duration": 77,
    "start_time": "2022-07-29T17:23:14.319Z"
   },
   {
    "duration": 684,
    "start_time": "2022-07-29T17:23:40.182Z"
   },
   {
    "duration": 86,
    "start_time": "2022-07-29T17:24:55.051Z"
   },
   {
    "duration": 945,
    "start_time": "2022-07-29T17:25:07.255Z"
   },
   {
    "duration": 131,
    "start_time": "2022-07-29T17:25:27.391Z"
   },
   {
    "duration": 3,
    "start_time": "2022-07-29T17:25:27.904Z"
   },
   {
    "duration": 1665,
    "start_time": "2022-07-29T17:25:28.432Z"
   },
   {
    "duration": 8,
    "start_time": "2022-07-29T17:25:32.928Z"
   },
   {
    "duration": 1067,
    "start_time": "2022-07-29T17:25:38.826Z"
   },
   {
    "duration": 1089,
    "start_time": "2022-07-29T17:26:21.491Z"
   },
   {
    "duration": 1215,
    "start_time": "2022-07-29T17:26:41.970Z"
   },
   {
    "duration": 1146,
    "start_time": "2022-07-29T17:26:54.482Z"
   },
   {
    "duration": 62,
    "start_time": "2022-07-29T17:27:22.204Z"
   },
   {
    "duration": 1175,
    "start_time": "2022-07-29T17:28:03.626Z"
   },
   {
    "duration": 1130,
    "start_time": "2022-07-29T17:28:23.900Z"
   },
   {
    "duration": 1115,
    "start_time": "2022-07-29T17:28:33.026Z"
   },
   {
    "duration": 13,
    "start_time": "2022-07-29T17:30:14.244Z"
   },
   {
    "duration": 2421,
    "start_time": "2022-07-29T17:30:27.427Z"
   },
   {
    "duration": 2351,
    "start_time": "2022-07-29T17:31:37.928Z"
   },
   {
    "duration": 2404,
    "start_time": "2022-07-29T17:33:10.977Z"
   },
   {
    "duration": 132,
    "start_time": "2022-07-29T17:33:43.193Z"
   },
   {
    "duration": 4,
    "start_time": "2022-07-29T17:33:43.393Z"
   },
   {
    "duration": 1807,
    "start_time": "2022-07-29T17:33:43.582Z"
   },
   {
    "duration": 9,
    "start_time": "2022-07-29T17:33:46.367Z"
   },
   {
    "duration": 18,
    "start_time": "2022-07-29T17:33:47.723Z"
   },
   {
    "duration": 76,
    "start_time": "2022-07-29T17:33:50.463Z"
   },
   {
    "duration": 15,
    "start_time": "2022-07-29T17:33:51.124Z"
   },
   {
    "duration": 2419,
    "start_time": "2022-07-29T17:33:51.823Z"
   },
   {
    "duration": 1056,
    "start_time": "2022-07-29T17:34:11.627Z"
   },
   {
    "duration": 1029,
    "start_time": "2022-07-29T17:34:17.840Z"
   },
   {
    "duration": 1015,
    "start_time": "2022-07-29T17:36:06.355Z"
   },
   {
    "duration": 1036,
    "start_time": "2022-07-29T17:36:26.450Z"
   },
   {
    "duration": 971,
    "start_time": "2022-07-29T17:36:44.753Z"
   },
   {
    "duration": 967,
    "start_time": "2022-07-29T17:36:49.401Z"
   },
   {
    "duration": 562,
    "start_time": "2022-07-29T17:39:12.311Z"
   },
   {
    "duration": 10,
    "start_time": "2022-07-29T17:39:49.268Z"
   },
   {
    "duration": 658,
    "start_time": "2022-07-29T17:41:02.486Z"
   },
   {
    "duration": 523,
    "start_time": "2022-07-29T17:41:25.102Z"
   },
   {
    "duration": 538,
    "start_time": "2022-07-29T17:41:38.702Z"
   },
   {
    "duration": 145,
    "start_time": "2022-07-29T17:42:18.193Z"
   },
   {
    "duration": 623,
    "start_time": "2022-07-29T17:43:54.158Z"
   },
   {
    "duration": 542,
    "start_time": "2022-07-29T17:44:14.345Z"
   },
   {
    "duration": 192,
    "start_time": "2022-07-29T17:47:00.195Z"
   },
   {
    "duration": 59,
    "start_time": "2022-07-29T17:48:30.040Z"
   },
   {
    "duration": 171,
    "start_time": "2022-07-29T17:48:35.840Z"
   },
   {
    "duration": 187,
    "start_time": "2022-07-29T17:48:47.342Z"
   },
   {
    "duration": 183,
    "start_time": "2022-07-29T17:48:51.271Z"
   },
   {
    "duration": 165,
    "start_time": "2022-07-29T17:48:57.075Z"
   },
   {
    "duration": 169,
    "start_time": "2022-07-29T17:49:00.900Z"
   },
   {
    "duration": 164,
    "start_time": "2022-07-29T17:49:14.841Z"
   },
   {
    "duration": 125,
    "start_time": "2022-07-29T17:49:28.040Z"
   },
   {
    "duration": 135,
    "start_time": "2022-07-29T17:49:33.061Z"
   },
   {
    "duration": 111,
    "start_time": "2022-07-29T17:49:45.543Z"
   },
   {
    "duration": 111,
    "start_time": "2022-07-29T17:49:53.827Z"
   },
   {
    "duration": 113,
    "start_time": "2022-07-29T17:49:58.838Z"
   },
   {
    "duration": 103,
    "start_time": "2022-07-29T17:50:44.508Z"
   },
   {
    "duration": 107,
    "start_time": "2022-07-29T17:50:47.645Z"
   },
   {
    "duration": 116,
    "start_time": "2022-07-29T17:50:57.479Z"
   },
   {
    "duration": 101,
    "start_time": "2022-07-29T17:51:09.446Z"
   },
   {
    "duration": 101,
    "start_time": "2022-07-29T17:51:18.407Z"
   },
   {
    "duration": 163,
    "start_time": "2022-07-29T17:51:25.358Z"
   },
   {
    "duration": 101,
    "start_time": "2022-07-29T17:52:07.173Z"
   },
   {
    "duration": 104,
    "start_time": "2022-07-29T17:52:19.889Z"
   },
   {
    "duration": 99,
    "start_time": "2022-07-29T17:52:27.642Z"
   },
   {
    "duration": 99,
    "start_time": "2022-07-29T17:52:49.342Z"
   },
   {
    "duration": 101,
    "start_time": "2022-07-29T17:53:05.567Z"
   },
   {
    "duration": 102,
    "start_time": "2022-07-29T17:54:23.249Z"
   },
   {
    "duration": 111,
    "start_time": "2022-07-29T17:54:39.836Z"
   },
   {
    "duration": 116,
    "start_time": "2022-07-29T17:55:09.899Z"
   },
   {
    "duration": 129,
    "start_time": "2022-07-29T17:57:30.194Z"
   },
   {
    "duration": 115,
    "start_time": "2022-07-29T17:58:43.597Z"
   },
   {
    "duration": 174,
    "start_time": "2022-07-29T18:01:41.486Z"
   },
   {
    "duration": 51,
    "start_time": "2022-07-30T08:26:44.668Z"
   },
   {
    "duration": 1113,
    "start_time": "2022-07-30T08:26:49.452Z"
   },
   {
    "duration": 3,
    "start_time": "2022-07-30T08:26:50.567Z"
   },
   {
    "duration": 1791,
    "start_time": "2022-07-30T08:26:50.571Z"
   },
   {
    "duration": 10,
    "start_time": "2022-07-30T08:26:54.002Z"
   },
   {
    "duration": 21,
    "start_time": "2022-07-30T08:26:55.992Z"
   },
   {
    "duration": 108,
    "start_time": "2022-07-30T08:27:00.995Z"
   },
   {
    "duration": 13,
    "start_time": "2022-07-30T08:27:01.696Z"
   },
   {
    "duration": 1170,
    "start_time": "2022-07-30T08:27:02.376Z"
   },
   {
    "duration": 972,
    "start_time": "2022-07-30T08:27:07.358Z"
   },
   {
    "duration": 123,
    "start_time": "2022-07-30T08:27:11.520Z"
   },
   {
    "duration": 13,
    "start_time": "2022-07-30T08:31:16.180Z"
   },
   {
    "duration": 17,
    "start_time": "2022-07-30T08:31:17.165Z"
   },
   {
    "duration": 349,
    "start_time": "2022-07-30T08:31:26.063Z"
   },
   {
    "duration": 161,
    "start_time": "2022-07-30T08:32:09.387Z"
   },
   {
    "duration": 153,
    "start_time": "2022-07-30T08:32:09.550Z"
   },
   {
    "duration": 231,
    "start_time": "2022-07-30T08:32:09.705Z"
   },
   {
    "duration": 146,
    "start_time": "2022-07-30T08:32:10.664Z"
   },
   {
    "duration": 135,
    "start_time": "2022-07-30T08:32:11.858Z"
   },
   {
    "duration": 135,
    "start_time": "2022-07-30T08:32:13.084Z"
   },
   {
    "duration": 140,
    "start_time": "2022-07-30T08:32:14.315Z"
   },
   {
    "duration": 152,
    "start_time": "2022-07-30T08:32:15.524Z"
   },
   {
    "duration": 118,
    "start_time": "2022-07-30T08:32:16.570Z"
   },
   {
    "duration": 183,
    "start_time": "2022-07-30T08:32:18.454Z"
   },
   {
    "duration": 178,
    "start_time": "2022-07-30T08:32:20.979Z"
   },
   {
    "duration": 170,
    "start_time": "2022-07-30T08:32:22.263Z"
   },
   {
    "duration": 142,
    "start_time": "2022-07-30T08:32:23.561Z"
   },
   {
    "duration": 194,
    "start_time": "2022-07-30T08:32:24.813Z"
   },
   {
    "duration": 217,
    "start_time": "2022-07-30T08:32:34.759Z"
   },
   {
    "duration": 217,
    "start_time": "2022-07-30T08:32:56.459Z"
   },
   {
    "duration": 253,
    "start_time": "2022-07-30T08:33:08.783Z"
   },
   {
    "duration": 201,
    "start_time": "2022-07-30T08:33:28.368Z"
   },
   {
    "duration": 203,
    "start_time": "2022-07-30T08:33:42.559Z"
   },
   {
    "duration": 141,
    "start_time": "2022-07-30T08:45:04.616Z"
   },
   {
    "duration": 234,
    "start_time": "2022-07-30T08:45:08.560Z"
   },
   {
    "duration": 138,
    "start_time": "2022-07-30T08:45:09.869Z"
   },
   {
    "duration": 148,
    "start_time": "2022-07-30T08:45:11.120Z"
   },
   {
    "duration": 6,
    "start_time": "2022-07-30T08:46:47.556Z"
   },
   {
    "duration": 46,
    "start_time": "2022-07-30T08:46:55.714Z"
   },
   {
    "duration": 6,
    "start_time": "2022-07-30T08:47:01.413Z"
   },
   {
    "duration": 137,
    "start_time": "2022-07-30T08:47:26.858Z"
   },
   {
    "duration": 4,
    "start_time": "2022-07-30T08:47:27.750Z"
   },
   {
    "duration": 1747,
    "start_time": "2022-07-30T08:47:29.690Z"
   },
   {
    "duration": 8,
    "start_time": "2022-07-30T08:47:42.376Z"
   },
   {
    "duration": 17,
    "start_time": "2022-07-30T08:47:51.608Z"
   },
   {
    "duration": 83,
    "start_time": "2022-07-30T08:47:57.453Z"
   },
   {
    "duration": 16,
    "start_time": "2022-07-30T08:47:58.126Z"
   },
   {
    "duration": 1342,
    "start_time": "2022-07-30T08:48:00.864Z"
   },
   {
    "duration": 1029,
    "start_time": "2022-07-30T08:48:03.848Z"
   },
   {
    "duration": 19,
    "start_time": "2022-07-30T08:48:25.715Z"
   },
   {
    "duration": 27,
    "start_time": "2022-07-30T08:48:37.223Z"
   },
   {
    "duration": 8,
    "start_time": "2022-07-30T08:49:25.058Z"
   },
   {
    "duration": 17,
    "start_time": "2022-07-30T08:49:33.883Z"
   },
   {
    "duration": 19,
    "start_time": "2022-07-30T08:52:00.382Z"
   },
   {
    "duration": 18,
    "start_time": "2022-07-30T08:53:30.129Z"
   },
   {
    "duration": 8,
    "start_time": "2022-07-30T08:53:35.909Z"
   },
   {
    "duration": 18,
    "start_time": "2022-07-30T08:53:40.710Z"
   },
   {
    "duration": 723,
    "start_time": "2022-07-30T08:53:54.080Z"
   },
   {
    "duration": 733,
    "start_time": "2022-07-30T08:54:06.464Z"
   },
   {
    "duration": 19,
    "start_time": "2022-07-30T08:54:24.060Z"
   },
   {
    "duration": 14,
    "start_time": "2022-07-30T08:59:52.865Z"
   },
   {
    "duration": 80,
    "start_time": "2022-07-30T09:00:17.277Z"
   },
   {
    "duration": 18,
    "start_time": "2022-07-30T09:00:34.755Z"
   },
   {
    "duration": 18,
    "start_time": "2022-07-30T09:01:18.143Z"
   },
   {
    "duration": 1109,
    "start_time": "2022-07-30T09:01:31.647Z"
   },
   {
    "duration": 133,
    "start_time": "2022-07-30T09:01:39.353Z"
   },
   {
    "duration": 4,
    "start_time": "2022-07-30T09:01:40.181Z"
   },
   {
    "duration": 1761,
    "start_time": "2022-07-30T09:01:40.982Z"
   },
   {
    "duration": 8,
    "start_time": "2022-07-30T09:01:47.417Z"
   },
   {
    "duration": 123,
    "start_time": "2022-07-30T09:01:54.206Z"
   },
   {
    "duration": 94,
    "start_time": "2022-07-30T09:01:58.024Z"
   },
   {
    "duration": 14,
    "start_time": "2022-07-30T09:01:58.893Z"
   },
   {
    "duration": 1031,
    "start_time": "2022-07-30T09:02:03.545Z"
   },
   {
    "duration": 988,
    "start_time": "2022-07-30T09:02:06.189Z"
   },
   {
    "duration": 5,
    "start_time": "2022-07-30T09:02:28.043Z"
   },
   {
    "duration": 6,
    "start_time": "2022-07-30T09:02:43.043Z"
   },
   {
    "duration": 4,
    "start_time": "2022-07-30T09:02:58.446Z"
   },
   {
    "duration": 10,
    "start_time": "2022-07-30T09:03:15.242Z"
   },
   {
    "duration": 4,
    "start_time": "2022-07-30T09:03:41.679Z"
   },
   {
    "duration": 4,
    "start_time": "2022-07-30T09:03:48.120Z"
   },
   {
    "duration": 82,
    "start_time": "2022-07-30T09:03:54.622Z"
   },
   {
    "duration": 18,
    "start_time": "2022-07-30T09:04:08.319Z"
   },
   {
    "duration": 20,
    "start_time": "2022-07-30T09:04:48.246Z"
   },
   {
    "duration": 16,
    "start_time": "2022-07-30T09:05:03.606Z"
   },
   {
    "duration": 19,
    "start_time": "2022-07-30T09:05:08.237Z"
   },
   {
    "duration": 37,
    "start_time": "2022-07-30T09:07:53.307Z"
   },
   {
    "duration": 43,
    "start_time": "2022-07-30T09:09:03.325Z"
   },
   {
    "duration": 84,
    "start_time": "2022-07-30T09:10:01.724Z"
   },
   {
    "duration": 84,
    "start_time": "2022-07-30T09:10:37.294Z"
   },
   {
    "duration": 6,
    "start_time": "2022-07-30T09:10:49.946Z"
   },
   {
    "duration": 78,
    "start_time": "2022-07-30T09:11:01.472Z"
   },
   {
    "duration": 7,
    "start_time": "2022-07-30T09:11:05.190Z"
   },
   {
    "duration": 77,
    "start_time": "2022-07-30T09:11:35.221Z"
   },
   {
    "duration": 12,
    "start_time": "2022-07-30T09:11:36.957Z"
   },
   {
    "duration": 12,
    "start_time": "2022-07-30T09:11:37.396Z"
   },
   {
    "duration": 269,
    "start_time": "2022-07-30T09:11:40.577Z"
   },
   {
    "duration": 148,
    "start_time": "2022-07-30T09:11:43.804Z"
   },
   {
    "duration": 147,
    "start_time": "2022-07-30T09:11:46.380Z"
   },
   {
    "duration": 149,
    "start_time": "2022-07-30T09:11:48.782Z"
   },
   {
    "duration": 172,
    "start_time": "2022-07-30T09:11:51.261Z"
   },
   {
    "duration": 171,
    "start_time": "2022-07-30T09:11:52.712Z"
   },
   {
    "duration": 148,
    "start_time": "2022-07-30T09:11:58.488Z"
   },
   {
    "duration": 158,
    "start_time": "2022-07-30T09:12:01.364Z"
   },
   {
    "duration": 163,
    "start_time": "2022-07-30T09:12:02.598Z"
   },
   {
    "duration": 177,
    "start_time": "2022-07-30T09:12:03.703Z"
   },
   {
    "duration": 208,
    "start_time": "2022-07-30T09:12:05.894Z"
   },
   {
    "duration": 180,
    "start_time": "2022-07-30T09:12:06.912Z"
   },
   {
    "duration": 162,
    "start_time": "2022-07-30T09:12:08.158Z"
   },
   {
    "duration": 138,
    "start_time": "2022-07-30T09:12:11.381Z"
   },
   {
    "duration": 126,
    "start_time": "2022-07-30T09:12:11.521Z"
   },
   {
    "duration": 160,
    "start_time": "2022-07-30T09:12:14.387Z"
   },
   {
    "duration": 160,
    "start_time": "2022-07-30T09:12:25.243Z"
   },
   {
    "duration": 150,
    "start_time": "2022-07-30T09:12:27.631Z"
   },
   {
    "duration": 192,
    "start_time": "2022-07-30T09:12:30.864Z"
   },
   {
    "duration": 5,
    "start_time": "2022-07-30T09:12:32.672Z"
   },
   {
    "duration": 166,
    "start_time": "2022-07-30T09:12:33.622Z"
   },
   {
    "duration": 5,
    "start_time": "2022-07-30T09:13:26.320Z"
   },
   {
    "duration": 223,
    "start_time": "2022-07-30T09:13:59.223Z"
   },
   {
    "duration": 145,
    "start_time": "2022-07-30T09:14:00.715Z"
   },
   {
    "duration": 435,
    "start_time": "2022-07-30T09:14:03.372Z"
   },
   {
    "duration": 441,
    "start_time": "2022-07-30T09:14:44.012Z"
   },
   {
    "duration": 136,
    "start_time": "2022-07-30T09:14:56.225Z"
   },
   {
    "duration": 11,
    "start_time": "2022-07-30T09:19:02.354Z"
   },
   {
    "duration": 12,
    "start_time": "2022-07-30T09:19:53.967Z"
   },
   {
    "duration": 6,
    "start_time": "2022-07-30T09:20:59.057Z"
   },
   {
    "duration": 5,
    "start_time": "2022-07-30T09:21:04.271Z"
   },
   {
    "duration": 5,
    "start_time": "2022-07-30T09:21:14.346Z"
   },
   {
    "duration": 6,
    "start_time": "2022-07-30T09:21:21.551Z"
   },
   {
    "duration": 5,
    "start_time": "2022-07-30T09:21:33.343Z"
   },
   {
    "duration": 6,
    "start_time": "2022-07-30T09:21:38.831Z"
   },
   {
    "duration": 7,
    "start_time": "2022-07-30T09:21:51.715Z"
   },
   {
    "duration": 53,
    "start_time": "2022-07-30T09:22:16.745Z"
   },
   {
    "duration": 16,
    "start_time": "2022-07-30T09:22:19.878Z"
   },
   {
    "duration": 8,
    "start_time": "2022-07-30T09:22:29.398Z"
   },
   {
    "duration": 21,
    "start_time": "2022-07-30T09:22:51.366Z"
   },
   {
    "duration": 18,
    "start_time": "2022-07-30T09:23:02.065Z"
   },
   {
    "duration": 47,
    "start_time": "2022-07-30T09:24:57.496Z"
   },
   {
    "duration": 8,
    "start_time": "2022-07-30T09:25:04.816Z"
   },
   {
    "duration": 51,
    "start_time": "2022-07-30T09:25:43.202Z"
   },
   {
    "duration": 24,
    "start_time": "2022-07-30T09:25:52.848Z"
   },
   {
    "duration": 27,
    "start_time": "2022-07-30T09:27:01.023Z"
   },
   {
    "duration": 31,
    "start_time": "2022-07-30T09:29:32.118Z"
   },
   {
    "duration": 901,
    "start_time": "2022-07-30T11:57:41.891Z"
   },
   {
    "duration": 4,
    "start_time": "2022-07-30T11:57:42.793Z"
   },
   {
    "duration": 1832,
    "start_time": "2022-07-30T11:57:42.798Z"
   },
   {
    "duration": 9,
    "start_time": "2022-07-30T11:57:44.632Z"
   },
   {
    "duration": 18,
    "start_time": "2022-07-30T11:57:44.643Z"
   },
   {
    "duration": 98,
    "start_time": "2022-07-30T11:57:44.663Z"
   },
   {
    "duration": 13,
    "start_time": "2022-07-30T11:57:44.763Z"
   },
   {
    "duration": 1114,
    "start_time": "2022-07-30T11:57:44.778Z"
   },
   {
    "duration": 88,
    "start_time": "2022-07-30T11:57:45.894Z"
   },
   {
    "duration": 11,
    "start_time": "2022-07-30T11:57:45.985Z"
   },
   {
    "duration": 12,
    "start_time": "2022-07-30T11:57:45.998Z"
   },
   {
    "duration": 290,
    "start_time": "2022-07-30T11:57:46.011Z"
   },
   {
    "duration": 159,
    "start_time": "2022-07-30T11:57:46.303Z"
   },
   {
    "duration": 157,
    "start_time": "2022-07-30T11:57:46.464Z"
   },
   {
    "duration": 175,
    "start_time": "2022-07-30T11:57:46.622Z"
   },
   {
    "duration": 229,
    "start_time": "2022-07-30T11:57:46.799Z"
   },
   {
    "duration": 151,
    "start_time": "2022-07-30T11:57:47.029Z"
   },
   {
    "duration": 165,
    "start_time": "2022-07-30T11:57:47.182Z"
   },
   {
    "duration": 154,
    "start_time": "2022-07-30T11:57:47.349Z"
   },
   {
    "duration": 137,
    "start_time": "2022-07-30T11:57:47.504Z"
   },
   {
    "duration": 121,
    "start_time": "2022-07-30T11:57:47.643Z"
   },
   {
    "duration": 176,
    "start_time": "2022-07-30T11:57:47.765Z"
   },
   {
    "duration": 178,
    "start_time": "2022-07-30T11:57:47.943Z"
   },
   {
    "duration": 174,
    "start_time": "2022-07-30T11:57:48.122Z"
   },
   {
    "duration": 149,
    "start_time": "2022-07-30T11:57:48.298Z"
   },
   {
    "duration": 123,
    "start_time": "2022-07-30T11:57:48.449Z"
   },
   {
    "duration": 245,
    "start_time": "2022-07-30T11:57:48.574Z"
   },
   {
    "duration": 207,
    "start_time": "2022-07-30T11:57:48.821Z"
   },
   {
    "duration": 196,
    "start_time": "2022-07-30T11:57:49.036Z"
   },
   {
    "duration": 165,
    "start_time": "2022-07-30T11:57:49.237Z"
   },
   {
    "duration": 159,
    "start_time": "2022-07-30T11:57:49.404Z"
   },
   {
    "duration": 138,
    "start_time": "2022-07-30T11:57:49.565Z"
   },
   {
    "duration": 446,
    "start_time": "2022-07-30T11:57:49.705Z"
   },
   {
    "duration": 146,
    "start_time": "2022-07-30T11:57:50.152Z"
   },
   {
    "duration": 37,
    "start_time": "2022-07-30T11:57:50.300Z"
   },
   {
    "duration": 166,
    "start_time": "2022-07-30T11:57:50.339Z"
   },
   {
    "duration": 13,
    "start_time": "2022-07-30T11:59:38.142Z"
   }
  ],
  "kernelspec": {
   "display_name": "Python 3 (ipykernel)",
   "language": "python",
   "name": "python3"
  },
  "language_info": {
   "codemirror_mode": {
    "name": "ipython",
    "version": 3
   },
   "file_extension": ".py",
   "mimetype": "text/x-python",
   "name": "python",
   "nbconvert_exporter": "python",
   "pygments_lexer": "ipython3",
   "version": "3.9.5"
  },
  "toc": {
   "base_numbering": 1,
   "nav_menu": {
    "height": "125px",
    "width": "263px"
   },
   "number_sections": true,
   "sideBar": true,
   "skip_h1_title": true,
   "title_cell": "Table of Contents",
   "title_sidebar": "Contents",
   "toc_cell": false,
   "toc_position": {},
   "toc_section_display": true,
   "toc_window_display": true
  }
 },
 "nbformat": 4,
 "nbformat_minor": 2
}
