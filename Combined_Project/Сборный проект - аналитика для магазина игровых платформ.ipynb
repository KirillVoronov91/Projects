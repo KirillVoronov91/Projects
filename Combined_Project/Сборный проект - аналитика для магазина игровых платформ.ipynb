{
 "cells": [
  {
   "cell_type": "markdown",
   "metadata": {},
   "source": [
    "# Исследование для интернет-магазина \"Стримчик\"\n",
    "\n",
    "**Описание проекта:**  \n",
    "Интернет-магазин «Стримчик», продаёт по всему миру компьютерные игры. Из открытых источников доступны исторические данные о продажах игр, оценки пользователей и экспертов, жанры и платформы (например, Xbox или PlayStation).\n",
    "Изучив данные за представленный год, необходимо спланировать рекламную компанию на следующие 365 дней.\n",
    "\n",
    "**В процессе исследования мы:**  \n",
    "- Ознакомимся с данными\n",
    "- Сделаем предобработку данных - постараемся заполнить пропуски и избавиться от аномальных значений, посчитаем суммарные продажи во всех регионах\n",
    "- Проведем исследовательский анализ данных:\n",
    " - Посмотрим сколько игр выпускалось в разные годы\n",
    " - Посмотрим как менялись продажи по платформам\n",
    " - Определим актуальный период\n",
    " - Выберем потенциально прибыльные платформы\n",
    " - Проанализируем влияние на продажи отзывов пользователей и критиков\n",
    "- Составим портрет пользователя каждого региона:\n",
    " - Определим для каждогого региона самые популярные платформы и жанры\n",
    "- Проверим гипотезы исследования\n",
    " \n",
    " \n",
    "**Цель исследования:**  \n",
    "Необходимо выявить определяющие успешность игры закономерности. Это позволит сделать ставку на потенциально популярный продукт и спланировать рекламные кампании."
   ]
  },
  {
   "cell_type": "markdown",
   "metadata": {},
   "source": [
    "### Изучение общей информации. "
   ]
  },
  {
   "cell_type": "code",
   "execution_count": 1,
   "metadata": {},
   "outputs": [],
   "source": [
    "#импортируем необходимые библиотеки\n",
    "import pandas as pd\n",
    "import numpy as np\n",
    "import matplotlib.pyplot as plt\n",
    "import seaborn as sns\n",
    "from scipy import stats as st"
   ]
  },
  {
   "cell_type": "code",
   "execution_count": 2,
   "metadata": {},
   "outputs": [
    {
     "data": {
      "text/html": [
       "<div>\n",
       "<style scoped>\n",
       "    .dataframe tbody tr th:only-of-type {\n",
       "        vertical-align: middle;\n",
       "    }\n",
       "\n",
       "    .dataframe tbody tr th {\n",
       "        vertical-align: top;\n",
       "    }\n",
       "\n",
       "    .dataframe thead th {\n",
       "        text-align: right;\n",
       "    }\n",
       "</style>\n",
       "<table border=\"1\" class=\"dataframe\">\n",
       "  <thead>\n",
       "    <tr style=\"text-align: right;\">\n",
       "      <th></th>\n",
       "      <th>Name</th>\n",
       "      <th>Platform</th>\n",
       "      <th>Year_of_Release</th>\n",
       "      <th>Genre</th>\n",
       "      <th>NA_sales</th>\n",
       "      <th>EU_sales</th>\n",
       "      <th>JP_sales</th>\n",
       "      <th>Other_sales</th>\n",
       "      <th>Critic_Score</th>\n",
       "      <th>User_Score</th>\n",
       "      <th>Rating</th>\n",
       "    </tr>\n",
       "  </thead>\n",
       "  <tbody>\n",
       "    <tr>\n",
       "      <th>0</th>\n",
       "      <td>Wii Sports</td>\n",
       "      <td>Wii</td>\n",
       "      <td>2006.0</td>\n",
       "      <td>Sports</td>\n",
       "      <td>41.36</td>\n",
       "      <td>28.96</td>\n",
       "      <td>3.77</td>\n",
       "      <td>8.45</td>\n",
       "      <td>76.0</td>\n",
       "      <td>8</td>\n",
       "      <td>E</td>\n",
       "    </tr>\n",
       "    <tr>\n",
       "      <th>1</th>\n",
       "      <td>Super Mario Bros.</td>\n",
       "      <td>NES</td>\n",
       "      <td>1985.0</td>\n",
       "      <td>Platform</td>\n",
       "      <td>29.08</td>\n",
       "      <td>3.58</td>\n",
       "      <td>6.81</td>\n",
       "      <td>0.77</td>\n",
       "      <td>NaN</td>\n",
       "      <td>NaN</td>\n",
       "      <td>NaN</td>\n",
       "    </tr>\n",
       "    <tr>\n",
       "      <th>2</th>\n",
       "      <td>Mario Kart Wii</td>\n",
       "      <td>Wii</td>\n",
       "      <td>2008.0</td>\n",
       "      <td>Racing</td>\n",
       "      <td>15.68</td>\n",
       "      <td>12.76</td>\n",
       "      <td>3.79</td>\n",
       "      <td>3.29</td>\n",
       "      <td>82.0</td>\n",
       "      <td>8.3</td>\n",
       "      <td>E</td>\n",
       "    </tr>\n",
       "    <tr>\n",
       "      <th>3</th>\n",
       "      <td>Wii Sports Resort</td>\n",
       "      <td>Wii</td>\n",
       "      <td>2009.0</td>\n",
       "      <td>Sports</td>\n",
       "      <td>15.61</td>\n",
       "      <td>10.93</td>\n",
       "      <td>3.28</td>\n",
       "      <td>2.95</td>\n",
       "      <td>80.0</td>\n",
       "      <td>8</td>\n",
       "      <td>E</td>\n",
       "    </tr>\n",
       "    <tr>\n",
       "      <th>4</th>\n",
       "      <td>Pokemon Red/Pokemon Blue</td>\n",
       "      <td>GB</td>\n",
       "      <td>1996.0</td>\n",
       "      <td>Role-Playing</td>\n",
       "      <td>11.27</td>\n",
       "      <td>8.89</td>\n",
       "      <td>10.22</td>\n",
       "      <td>1.00</td>\n",
       "      <td>NaN</td>\n",
       "      <td>NaN</td>\n",
       "      <td>NaN</td>\n",
       "    </tr>\n",
       "  </tbody>\n",
       "</table>\n",
       "</div>"
      ],
      "text/plain": [
       "                       Name Platform  Year_of_Release         Genre  NA_sales  \\\n",
       "0                Wii Sports      Wii           2006.0        Sports     41.36   \n",
       "1         Super Mario Bros.      NES           1985.0      Platform     29.08   \n",
       "2            Mario Kart Wii      Wii           2008.0        Racing     15.68   \n",
       "3         Wii Sports Resort      Wii           2009.0        Sports     15.61   \n",
       "4  Pokemon Red/Pokemon Blue       GB           1996.0  Role-Playing     11.27   \n",
       "\n",
       "   EU_sales  JP_sales  Other_sales  Critic_Score User_Score Rating  \n",
       "0     28.96      3.77         8.45          76.0          8      E  \n",
       "1      3.58      6.81         0.77           NaN        NaN    NaN  \n",
       "2     12.76      3.79         3.29          82.0        8.3      E  \n",
       "3     10.93      3.28         2.95          80.0          8      E  \n",
       "4      8.89     10.22         1.00           NaN        NaN    NaN  "
      ]
     },
     "execution_count": 2,
     "metadata": {},
     "output_type": "execute_result"
    }
   ],
   "source": [
    "data = pd.read_csv('/datasets/games.csv')\n",
    "data.head()"
   ]
  },
  {
   "cell_type": "code",
   "execution_count": 3,
   "metadata": {},
   "outputs": [
    {
     "data": {
      "text/html": [
       "<div>\n",
       "<style scoped>\n",
       "    .dataframe tbody tr th:only-of-type {\n",
       "        vertical-align: middle;\n",
       "    }\n",
       "\n",
       "    .dataframe tbody tr th {\n",
       "        vertical-align: top;\n",
       "    }\n",
       "\n",
       "    .dataframe thead th {\n",
       "        text-align: right;\n",
       "    }\n",
       "</style>\n",
       "<table border=\"1\" class=\"dataframe\">\n",
       "  <thead>\n",
       "    <tr style=\"text-align: right;\">\n",
       "      <th></th>\n",
       "      <th>Year_of_Release</th>\n",
       "      <th>NA_sales</th>\n",
       "      <th>EU_sales</th>\n",
       "      <th>JP_sales</th>\n",
       "      <th>Other_sales</th>\n",
       "      <th>Critic_Score</th>\n",
       "    </tr>\n",
       "  </thead>\n",
       "  <tbody>\n",
       "    <tr>\n",
       "      <th>count</th>\n",
       "      <td>16446.000000</td>\n",
       "      <td>16715.000000</td>\n",
       "      <td>16715.000000</td>\n",
       "      <td>16715.000000</td>\n",
       "      <td>16715.000000</td>\n",
       "      <td>8137.000000</td>\n",
       "    </tr>\n",
       "    <tr>\n",
       "      <th>mean</th>\n",
       "      <td>2006.484616</td>\n",
       "      <td>0.263377</td>\n",
       "      <td>0.145060</td>\n",
       "      <td>0.077617</td>\n",
       "      <td>0.047342</td>\n",
       "      <td>68.967679</td>\n",
       "    </tr>\n",
       "    <tr>\n",
       "      <th>std</th>\n",
       "      <td>5.877050</td>\n",
       "      <td>0.813604</td>\n",
       "      <td>0.503339</td>\n",
       "      <td>0.308853</td>\n",
       "      <td>0.186731</td>\n",
       "      <td>13.938165</td>\n",
       "    </tr>\n",
       "    <tr>\n",
       "      <th>min</th>\n",
       "      <td>1980.000000</td>\n",
       "      <td>0.000000</td>\n",
       "      <td>0.000000</td>\n",
       "      <td>0.000000</td>\n",
       "      <td>0.000000</td>\n",
       "      <td>13.000000</td>\n",
       "    </tr>\n",
       "    <tr>\n",
       "      <th>25%</th>\n",
       "      <td>2003.000000</td>\n",
       "      <td>0.000000</td>\n",
       "      <td>0.000000</td>\n",
       "      <td>0.000000</td>\n",
       "      <td>0.000000</td>\n",
       "      <td>60.000000</td>\n",
       "    </tr>\n",
       "    <tr>\n",
       "      <th>50%</th>\n",
       "      <td>2007.000000</td>\n",
       "      <td>0.080000</td>\n",
       "      <td>0.020000</td>\n",
       "      <td>0.000000</td>\n",
       "      <td>0.010000</td>\n",
       "      <td>71.000000</td>\n",
       "    </tr>\n",
       "    <tr>\n",
       "      <th>75%</th>\n",
       "      <td>2010.000000</td>\n",
       "      <td>0.240000</td>\n",
       "      <td>0.110000</td>\n",
       "      <td>0.040000</td>\n",
       "      <td>0.030000</td>\n",
       "      <td>79.000000</td>\n",
       "    </tr>\n",
       "    <tr>\n",
       "      <th>max</th>\n",
       "      <td>2016.000000</td>\n",
       "      <td>41.360000</td>\n",
       "      <td>28.960000</td>\n",
       "      <td>10.220000</td>\n",
       "      <td>10.570000</td>\n",
       "      <td>98.000000</td>\n",
       "    </tr>\n",
       "  </tbody>\n",
       "</table>\n",
       "</div>"
      ],
      "text/plain": [
       "       Year_of_Release      NA_sales      EU_sales      JP_sales  \\\n",
       "count     16446.000000  16715.000000  16715.000000  16715.000000   \n",
       "mean       2006.484616      0.263377      0.145060      0.077617   \n",
       "std           5.877050      0.813604      0.503339      0.308853   \n",
       "min        1980.000000      0.000000      0.000000      0.000000   \n",
       "25%        2003.000000      0.000000      0.000000      0.000000   \n",
       "50%        2007.000000      0.080000      0.020000      0.000000   \n",
       "75%        2010.000000      0.240000      0.110000      0.040000   \n",
       "max        2016.000000     41.360000     28.960000     10.220000   \n",
       "\n",
       "        Other_sales  Critic_Score  \n",
       "count  16715.000000   8137.000000  \n",
       "mean       0.047342     68.967679  \n",
       "std        0.186731     13.938165  \n",
       "min        0.000000     13.000000  \n",
       "25%        0.000000     60.000000  \n",
       "50%        0.010000     71.000000  \n",
       "75%        0.030000     79.000000  \n",
       "max       10.570000     98.000000  "
      ]
     },
     "execution_count": 3,
     "metadata": {},
     "output_type": "execute_result"
    }
   ],
   "source": [
    "data.describe()"
   ]
  },
  {
   "cell_type": "code",
   "execution_count": 4,
   "metadata": {},
   "outputs": [
    {
     "name": "stdout",
     "output_type": "stream",
     "text": [
      "<class 'pandas.core.frame.DataFrame'>\n",
      "RangeIndex: 16715 entries, 0 to 16714\n",
      "Data columns (total 11 columns):\n",
      " #   Column           Non-Null Count  Dtype  \n",
      "---  ------           --------------  -----  \n",
      " 0   Name             16713 non-null  object \n",
      " 1   Platform         16715 non-null  object \n",
      " 2   Year_of_Release  16446 non-null  float64\n",
      " 3   Genre            16713 non-null  object \n",
      " 4   NA_sales         16715 non-null  float64\n",
      " 5   EU_sales         16715 non-null  float64\n",
      " 6   JP_sales         16715 non-null  float64\n",
      " 7   Other_sales      16715 non-null  float64\n",
      " 8   Critic_Score     8137 non-null   float64\n",
      " 9   User_Score       10014 non-null  object \n",
      " 10  Rating           9949 non-null   object \n",
      "dtypes: float64(6), object(5)\n",
      "memory usage: 1.4+ MB\n"
     ]
    }
   ],
   "source": [
    "data.info()"
   ]
  },
  {
   "cell_type": "code",
   "execution_count": 5,
   "metadata": {},
   "outputs": [
    {
     "name": "stdout",
     "output_type": "stream",
     "text": [
      "Количество дубликатов: 0\n"
     ]
    }
   ],
   "source": [
    "print(\"Количество дубликатов:\", data.duplicated().sum())"
   ]
  },
  {
   "cell_type": "markdown",
   "metadata": {},
   "source": [
    "**Что можно сказать, глядя на общую информацию?**  \n",
    "В датасете 11 стобцов, 16715 строк.  \n",
    "Названия столбцов стоит привести к нижнему регистру.  \n",
    "\n",
    "Значительное число пропусков в данных есть в следующих столбцах:  \n",
    "- оценка критиков\n",
    "- оценка пользователей\n",
    "- рейтинг от ассоциации ESRB\n",
    "\n",
    "В некоторых столбцах указан неправильный тип данных:  \n",
    "- Год релиза должен быть целым числом, а не дробным\n",
    "- Оценка пользователя должна быть типа float64\n",
    "\n",
    "Явных дубликатов не обнаружено.\n",
    "\n"
   ]
  },
  {
   "cell_type": "markdown",
   "metadata": {},
   "source": [
    "### Предобработка данных."
   ]
  },
  {
   "cell_type": "code",
   "execution_count": 6,
   "metadata": {},
   "outputs": [],
   "source": [
    "#Приводим названия столбцов к нижнему регистру\n",
    "data.columns = data.columns.str.lower()"
   ]
  },
  {
   "cell_type": "markdown",
   "metadata": {},
   "source": [
    "**Работа с пропусками**"
   ]
  },
  {
   "cell_type": "code",
   "execution_count": 7,
   "metadata": {},
   "outputs": [
    {
     "data": {
      "text/plain": [
       "name                  2\n",
       "platform              0\n",
       "year_of_release     269\n",
       "genre                 2\n",
       "na_sales              0\n",
       "eu_sales              0\n",
       "jp_sales              0\n",
       "other_sales           0\n",
       "critic_score       8578\n",
       "user_score         6701\n",
       "rating             6766\n",
       "dtype: int64"
      ]
     },
     "execution_count": 7,
     "metadata": {},
     "output_type": "execute_result"
    }
   ],
   "source": [
    "data.isna().sum()"
   ]
  },
  {
   "cell_type": "code",
   "execution_count": 8,
   "metadata": {},
   "outputs": [
    {
     "data": {
      "text/plain": [
       "Need for Speed: Most Wanted                  12\n",
       "Ratatouille                                   9\n",
       "Madden NFL 07                                 9\n",
       "LEGO Marvel Super Heroes                      9\n",
       "FIFA 14                                       9\n",
       "                                             ..\n",
       "Phantasy Star Nova                            1\n",
       "Captain Tsubasa J: The Way to World Youth     1\n",
       "Midtown Madness 3                             1\n",
       "Call of Duty: The War Collection              1\n",
       "Busou Renkin: Youkoso Papillon Park e         1\n",
       "Name: name, Length: 11559, dtype: int64"
      ]
     },
     "metadata": {},
     "output_type": "display_data"
    },
    {
     "data": {
      "text/html": [
       "<div>\n",
       "<style scoped>\n",
       "    .dataframe tbody tr th:only-of-type {\n",
       "        vertical-align: middle;\n",
       "    }\n",
       "\n",
       "    .dataframe tbody tr th {\n",
       "        vertical-align: top;\n",
       "    }\n",
       "\n",
       "    .dataframe thead th {\n",
       "        text-align: right;\n",
       "    }\n",
       "</style>\n",
       "<table border=\"1\" class=\"dataframe\">\n",
       "  <thead>\n",
       "    <tr style=\"text-align: right;\">\n",
       "      <th></th>\n",
       "      <th>name</th>\n",
       "      <th>platform</th>\n",
       "      <th>year_of_release</th>\n",
       "      <th>genre</th>\n",
       "      <th>na_sales</th>\n",
       "      <th>eu_sales</th>\n",
       "      <th>jp_sales</th>\n",
       "      <th>other_sales</th>\n",
       "      <th>critic_score</th>\n",
       "      <th>user_score</th>\n",
       "      <th>rating</th>\n",
       "    </tr>\n",
       "  </thead>\n",
       "  <tbody>\n",
       "    <tr>\n",
       "      <th>1598</th>\n",
       "      <td>Ratatouille</td>\n",
       "      <td>DS</td>\n",
       "      <td>2007.0</td>\n",
       "      <td>Action</td>\n",
       "      <td>0.49</td>\n",
       "      <td>0.62</td>\n",
       "      <td>0.0</td>\n",
       "      <td>0.14</td>\n",
       "      <td>NaN</td>\n",
       "      <td>NaN</td>\n",
       "      <td>NaN</td>\n",
       "    </tr>\n",
       "    <tr>\n",
       "      <th>2442</th>\n",
       "      <td>Ratatouille</td>\n",
       "      <td>PS2</td>\n",
       "      <td>2007.0</td>\n",
       "      <td>Action</td>\n",
       "      <td>0.31</td>\n",
       "      <td>0.00</td>\n",
       "      <td>0.0</td>\n",
       "      <td>0.53</td>\n",
       "      <td>65.0</td>\n",
       "      <td>8</td>\n",
       "      <td>E</td>\n",
       "    </tr>\n",
       "    <tr>\n",
       "      <th>3069</th>\n",
       "      <td>Ratatouille</td>\n",
       "      <td>PSP</td>\n",
       "      <td>2007.0</td>\n",
       "      <td>Action</td>\n",
       "      <td>0.22</td>\n",
       "      <td>0.27</td>\n",
       "      <td>0.0</td>\n",
       "      <td>0.16</td>\n",
       "      <td>64.0</td>\n",
       "      <td>7.1</td>\n",
       "      <td>E</td>\n",
       "    </tr>\n",
       "    <tr>\n",
       "      <th>3902</th>\n",
       "      <td>Ratatouille</td>\n",
       "      <td>PS3</td>\n",
       "      <td>2007.0</td>\n",
       "      <td>Action</td>\n",
       "      <td>0.09</td>\n",
       "      <td>0.32</td>\n",
       "      <td>0.0</td>\n",
       "      <td>0.10</td>\n",
       "      <td>55.0</td>\n",
       "      <td>4.8</td>\n",
       "      <td>E</td>\n",
       "    </tr>\n",
       "    <tr>\n",
       "      <th>3948</th>\n",
       "      <td>Ratatouille</td>\n",
       "      <td>Wii</td>\n",
       "      <td>2007.0</td>\n",
       "      <td>Action</td>\n",
       "      <td>0.43</td>\n",
       "      <td>0.03</td>\n",
       "      <td>0.0</td>\n",
       "      <td>0.04</td>\n",
       "      <td>62.0</td>\n",
       "      <td>6.7</td>\n",
       "      <td>E</td>\n",
       "    </tr>\n",
       "    <tr>\n",
       "      <th>6398</th>\n",
       "      <td>Ratatouille</td>\n",
       "      <td>X360</td>\n",
       "      <td>2007.0</td>\n",
       "      <td>Action</td>\n",
       "      <td>0.23</td>\n",
       "      <td>0.02</td>\n",
       "      <td>0.0</td>\n",
       "      <td>0.02</td>\n",
       "      <td>56.0</td>\n",
       "      <td>tbd</td>\n",
       "      <td>E</td>\n",
       "    </tr>\n",
       "    <tr>\n",
       "      <th>7681</th>\n",
       "      <td>Ratatouille</td>\n",
       "      <td>GBA</td>\n",
       "      <td>2007.0</td>\n",
       "      <td>Action</td>\n",
       "      <td>0.14</td>\n",
       "      <td>0.05</td>\n",
       "      <td>0.0</td>\n",
       "      <td>0.00</td>\n",
       "      <td>65.0</td>\n",
       "      <td>tbd</td>\n",
       "      <td>E</td>\n",
       "    </tr>\n",
       "    <tr>\n",
       "      <th>9015</th>\n",
       "      <td>Ratatouille</td>\n",
       "      <td>GC</td>\n",
       "      <td>2007.0</td>\n",
       "      <td>Action</td>\n",
       "      <td>0.11</td>\n",
       "      <td>0.03</td>\n",
       "      <td>0.0</td>\n",
       "      <td>0.00</td>\n",
       "      <td>60.0</td>\n",
       "      <td>5.6</td>\n",
       "      <td>E</td>\n",
       "    </tr>\n",
       "    <tr>\n",
       "      <th>14514</th>\n",
       "      <td>Ratatouille</td>\n",
       "      <td>PC</td>\n",
       "      <td>2007.0</td>\n",
       "      <td>Action</td>\n",
       "      <td>0.01</td>\n",
       "      <td>0.01</td>\n",
       "      <td>0.0</td>\n",
       "      <td>0.00</td>\n",
       "      <td>NaN</td>\n",
       "      <td>7.9</td>\n",
       "      <td>E</td>\n",
       "    </tr>\n",
       "  </tbody>\n",
       "</table>\n",
       "</div>"
      ],
      "text/plain": [
       "              name platform  year_of_release   genre  na_sales  eu_sales  \\\n",
       "1598   Ratatouille       DS           2007.0  Action      0.49      0.62   \n",
       "2442   Ratatouille      PS2           2007.0  Action      0.31      0.00   \n",
       "3069   Ratatouille      PSP           2007.0  Action      0.22      0.27   \n",
       "3902   Ratatouille      PS3           2007.0  Action      0.09      0.32   \n",
       "3948   Ratatouille      Wii           2007.0  Action      0.43      0.03   \n",
       "6398   Ratatouille     X360           2007.0  Action      0.23      0.02   \n",
       "7681   Ratatouille      GBA           2007.0  Action      0.14      0.05   \n",
       "9015   Ratatouille       GC           2007.0  Action      0.11      0.03   \n",
       "14514  Ratatouille       PC           2007.0  Action      0.01      0.01   \n",
       "\n",
       "       jp_sales  other_sales  critic_score user_score rating  \n",
       "1598        0.0         0.14           NaN        NaN    NaN  \n",
       "2442        0.0         0.53          65.0          8      E  \n",
       "3069        0.0         0.16          64.0        7.1      E  \n",
       "3902        0.0         0.10          55.0        4.8      E  \n",
       "3948        0.0         0.04          62.0        6.7      E  \n",
       "6398        0.0         0.02          56.0        tbd      E  \n",
       "7681        0.0         0.00          65.0        tbd      E  \n",
       "9015        0.0         0.00          60.0        5.6      E  \n",
       "14514       0.0         0.00           NaN        7.9      E  "
      ]
     },
     "execution_count": 8,
     "metadata": {},
     "output_type": "execute_result"
    }
   ],
   "source": [
    "#Посмотрим таблицу с пропущенным годом выпуска игры\n",
    "data[data['year_of_release'].isna()]\n",
    "#Посмотрим самые часто встречающиеся игры и проверим, в один ли год они выходят на разных платформах\n",
    "display(data['name'].value_counts())\n",
    "data[data['name'] == 'Need for Speed: Most Wanted']\n",
    "data[data['name'] == 'FIFA 14']\n",
    "data[data['name'] == 'Ratatouille']"
   ]
  },
  {
   "cell_type": "code",
   "execution_count": 9,
   "metadata": {},
   "outputs": [],
   "source": [
    "data[data['genre'].isna()]\n",
    "data[data['name'].isna()]\n",
    "\n",
    "#Посмотрев на строки с пропусками в названии игры и жанра принятно решение эти строки удалить\n",
    "data.dropna(subset=['name'], inplace=True)"
   ]
  },
  {
   "cell_type": "code",
   "execution_count": 10,
   "metadata": {},
   "outputs": [
    {
     "data": {
      "text/plain": [
       "name                  0\n",
       "platform              0\n",
       "year_of_release     269\n",
       "genre                 0\n",
       "na_sales              0\n",
       "eu_sales              0\n",
       "jp_sales              0\n",
       "other_sales           0\n",
       "critic_score       8576\n",
       "user_score         6699\n",
       "rating             6764\n",
       "dtype: int64"
      ]
     },
     "execution_count": 10,
     "metadata": {},
     "output_type": "execute_result"
    }
   ],
   "source": [
    "data.isna().sum()"
   ]
  },
  {
   "cell_type": "code",
   "execution_count": 11,
   "metadata": {},
   "outputs": [
    {
     "data": {
      "text/html": [
       "<div>\n",
       "<style scoped>\n",
       "    .dataframe tbody tr th:only-of-type {\n",
       "        vertical-align: middle;\n",
       "    }\n",
       "\n",
       "    .dataframe tbody tr th {\n",
       "        vertical-align: top;\n",
       "    }\n",
       "\n",
       "    .dataframe thead th {\n",
       "        text-align: right;\n",
       "    }\n",
       "</style>\n",
       "<table border=\"1\" class=\"dataframe\">\n",
       "  <thead>\n",
       "    <tr style=\"text-align: right;\">\n",
       "      <th></th>\n",
       "      <th>name</th>\n",
       "      <th>platform</th>\n",
       "      <th>year_of_release</th>\n",
       "      <th>genre</th>\n",
       "      <th>na_sales</th>\n",
       "      <th>eu_sales</th>\n",
       "      <th>jp_sales</th>\n",
       "      <th>other_sales</th>\n",
       "      <th>critic_score</th>\n",
       "      <th>user_score</th>\n",
       "      <th>rating</th>\n",
       "    </tr>\n",
       "  </thead>\n",
       "  <tbody>\n",
       "    <tr>\n",
       "      <th>119</th>\n",
       "      <td>Zumba Fitness</td>\n",
       "      <td>Wii</td>\n",
       "      <td>2010.0</td>\n",
       "      <td>Sports</td>\n",
       "      <td>3.45</td>\n",
       "      <td>2.59</td>\n",
       "      <td>0.00</td>\n",
       "      <td>0.66</td>\n",
       "      <td>NaN</td>\n",
       "      <td>tbd</td>\n",
       "      <td>E</td>\n",
       "    </tr>\n",
       "    <tr>\n",
       "      <th>301</th>\n",
       "      <td>Namco Museum: 50th Anniversary</td>\n",
       "      <td>PS2</td>\n",
       "      <td>2005.0</td>\n",
       "      <td>Misc</td>\n",
       "      <td>2.08</td>\n",
       "      <td>1.35</td>\n",
       "      <td>0.00</td>\n",
       "      <td>0.54</td>\n",
       "      <td>61.0</td>\n",
       "      <td>tbd</td>\n",
       "      <td>E10+</td>\n",
       "    </tr>\n",
       "    <tr>\n",
       "      <th>520</th>\n",
       "      <td>Zumba Fitness 2</td>\n",
       "      <td>Wii</td>\n",
       "      <td>2011.0</td>\n",
       "      <td>Sports</td>\n",
       "      <td>1.51</td>\n",
       "      <td>1.03</td>\n",
       "      <td>0.00</td>\n",
       "      <td>0.27</td>\n",
       "      <td>NaN</td>\n",
       "      <td>tbd</td>\n",
       "      <td>T</td>\n",
       "    </tr>\n",
       "    <tr>\n",
       "      <th>645</th>\n",
       "      <td>uDraw Studio</td>\n",
       "      <td>Wii</td>\n",
       "      <td>2010.0</td>\n",
       "      <td>Misc</td>\n",
       "      <td>1.65</td>\n",
       "      <td>0.57</td>\n",
       "      <td>0.00</td>\n",
       "      <td>0.20</td>\n",
       "      <td>71.0</td>\n",
       "      <td>tbd</td>\n",
       "      <td>E</td>\n",
       "    </tr>\n",
       "    <tr>\n",
       "      <th>657</th>\n",
       "      <td>Frogger's Adventures: Temple of the Frog</td>\n",
       "      <td>GBA</td>\n",
       "      <td>NaN</td>\n",
       "      <td>Adventure</td>\n",
       "      <td>2.15</td>\n",
       "      <td>0.18</td>\n",
       "      <td>0.00</td>\n",
       "      <td>0.07</td>\n",
       "      <td>73.0</td>\n",
       "      <td>tbd</td>\n",
       "      <td>E</td>\n",
       "    </tr>\n",
       "    <tr>\n",
       "      <th>718</th>\n",
       "      <td>Just Dance Kids</td>\n",
       "      <td>Wii</td>\n",
       "      <td>2010.0</td>\n",
       "      <td>Misc</td>\n",
       "      <td>1.52</td>\n",
       "      <td>0.54</td>\n",
       "      <td>0.00</td>\n",
       "      <td>0.18</td>\n",
       "      <td>NaN</td>\n",
       "      <td>tbd</td>\n",
       "      <td>E</td>\n",
       "    </tr>\n",
       "    <tr>\n",
       "      <th>726</th>\n",
       "      <td>Dance Dance Revolution X2</td>\n",
       "      <td>PS2</td>\n",
       "      <td>2009.0</td>\n",
       "      <td>Simulation</td>\n",
       "      <td>1.09</td>\n",
       "      <td>0.85</td>\n",
       "      <td>0.00</td>\n",
       "      <td>0.28</td>\n",
       "      <td>NaN</td>\n",
       "      <td>tbd</td>\n",
       "      <td>E10+</td>\n",
       "    </tr>\n",
       "    <tr>\n",
       "      <th>821</th>\n",
       "      <td>The Incredibles</td>\n",
       "      <td>GBA</td>\n",
       "      <td>2004.0</td>\n",
       "      <td>Action</td>\n",
       "      <td>1.15</td>\n",
       "      <td>0.77</td>\n",
       "      <td>0.04</td>\n",
       "      <td>0.10</td>\n",
       "      <td>55.0</td>\n",
       "      <td>tbd</td>\n",
       "      <td>E</td>\n",
       "    </tr>\n",
       "    <tr>\n",
       "      <th>881</th>\n",
       "      <td>Who wants to be a millionaire</td>\n",
       "      <td>PC</td>\n",
       "      <td>1999.0</td>\n",
       "      <td>Misc</td>\n",
       "      <td>1.94</td>\n",
       "      <td>0.00</td>\n",
       "      <td>0.00</td>\n",
       "      <td>0.00</td>\n",
       "      <td>NaN</td>\n",
       "      <td>tbd</td>\n",
       "      <td>E</td>\n",
       "    </tr>\n",
       "    <tr>\n",
       "      <th>1047</th>\n",
       "      <td>Tetris Worlds</td>\n",
       "      <td>GBA</td>\n",
       "      <td>2001.0</td>\n",
       "      <td>Puzzle</td>\n",
       "      <td>1.25</td>\n",
       "      <td>0.39</td>\n",
       "      <td>0.00</td>\n",
       "      <td>0.06</td>\n",
       "      <td>65.0</td>\n",
       "      <td>tbd</td>\n",
       "      <td>E</td>\n",
       "    </tr>\n",
       "  </tbody>\n",
       "</table>\n",
       "</div>"
      ],
      "text/plain": [
       "                                          name platform  year_of_release  \\\n",
       "119                              Zumba Fitness      Wii           2010.0   \n",
       "301             Namco Museum: 50th Anniversary      PS2           2005.0   \n",
       "520                            Zumba Fitness 2      Wii           2011.0   \n",
       "645                               uDraw Studio      Wii           2010.0   \n",
       "657   Frogger's Adventures: Temple of the Frog      GBA              NaN   \n",
       "718                            Just Dance Kids      Wii           2010.0   \n",
       "726                  Dance Dance Revolution X2      PS2           2009.0   \n",
       "821                            The Incredibles      GBA           2004.0   \n",
       "881              Who wants to be a millionaire       PC           1999.0   \n",
       "1047                             Tetris Worlds      GBA           2001.0   \n",
       "\n",
       "           genre  na_sales  eu_sales  jp_sales  other_sales  critic_score  \\\n",
       "119       Sports      3.45      2.59      0.00         0.66           NaN   \n",
       "301         Misc      2.08      1.35      0.00         0.54          61.0   \n",
       "520       Sports      1.51      1.03      0.00         0.27           NaN   \n",
       "645         Misc      1.65      0.57      0.00         0.20          71.0   \n",
       "657    Adventure      2.15      0.18      0.00         0.07          73.0   \n",
       "718         Misc      1.52      0.54      0.00         0.18           NaN   \n",
       "726   Simulation      1.09      0.85      0.00         0.28           NaN   \n",
       "821       Action      1.15      0.77      0.04         0.10          55.0   \n",
       "881         Misc      1.94      0.00      0.00         0.00           NaN   \n",
       "1047      Puzzle      1.25      0.39      0.00         0.06          65.0   \n",
       "\n",
       "     user_score rating  \n",
       "119         tbd      E  \n",
       "301         tbd   E10+  \n",
       "520         tbd      T  \n",
       "645         tbd      E  \n",
       "657         tbd      E  \n",
       "718         tbd      E  \n",
       "726         tbd   E10+  \n",
       "821         tbd      E  \n",
       "881         tbd      E  \n",
       "1047        tbd      E  "
      ]
     },
     "execution_count": 11,
     "metadata": {},
     "output_type": "execute_result"
    }
   ],
   "source": [
    "#Рассмотрим значение 'tbd' в столбце с оценкой пользователей\n",
    "data.query('user_score == \"tbd\"').head(10)\n"
   ]
  },
  {
   "cell_type": "markdown",
   "metadata": {},
   "source": [
    "**TBD** - аббревиатура от английского To Be Determined (будет определено) или To Be Decided (будет решено).  \n",
    "Следовательно, такую оценку можно также считать пропуском и заменить на значение NaN:"
   ]
  },
  {
   "cell_type": "code",
   "execution_count": 12,
   "metadata": {},
   "outputs": [],
   "source": [
    "data['user_score'] = data['user_score'].replace('tbd', np.nan, regex=True)"
   ]
  },
  {
   "cell_type": "code",
   "execution_count": 13,
   "metadata": {},
   "outputs": [],
   "source": [
    "#Пропущенные значения в столбце \"рейтинг\" заменим на слово \"неизвестно\". Такая замена уместна, так как тип столбца - object\n",
    "data['rating'] = data['rating'].fillna('unknown')"
   ]
  },
  {
   "cell_type": "markdown",
   "metadata": {},
   "source": [
    "**Пропуски в столбцах с оценками пользователей и критиков**"
   ]
  },
  {
   "cell_type": "markdown",
   "metadata": {},
   "source": [
    "Причины таких пропусков стоит спрашивать у составителей датасета. \n",
    "Какие-то значения в значениях можно заменить, категоризируя соседний столбец и выводя медианные значения. Сделать это стоит при сильной корреляции двух столбцов (оценки критиков и оценки пользователей). В то же время, в большинстве случаев в строках отсутствует и оценка критиков и оценка пользователей.  "
   ]
  },
  {
   "cell_type": "markdown",
   "metadata": {},
   "source": [
    "**Пропуски в столбцах с годом релиза**\n",
    "  \n",
    "Таких пропусков не так много (чуть более 1,5% датасета). Во многих строках с неизвестным годом релиза игры пропущены также важные значения - оценки критиков и пользователей. Принято решение эти строки удалить.  "
   ]
  },
  {
   "cell_type": "code",
   "execution_count": 14,
   "metadata": {},
   "outputs": [],
   "source": [
    "data.dropna(subset=['year_of_release'], inplace=True)"
   ]
  },
  {
   "cell_type": "markdown",
   "metadata": {},
   "source": [
    "**О пропусках**  \n",
    "От определенного количества пропусков мы избавились.  \n",
    "При этом, осталось достаточно много пустых значений.\n",
    "Год релиза менять на медианное или среднее значение будет некорректно.  \n",
    "Была идея заменить год релиза определенной игры на год выхода её же на другой платформе, но многие игры выходят в разное время на разных консолях. Объем пропусков с годом релиза небольшой, принято решение их удалить.\n",
    "Что касается оценкок критиков, пользователей и рейтинге, их также нельзя заменить медианными и средними значениями, как и нулевыми, так как 0 это тоже оценка и рейтинг.  \n",
    "Удалять такой объем данных ни в коем случае нельзя, поэтому оставляем как есть."
   ]
  },
  {
   "cell_type": "markdown",
   "metadata": {},
   "source": [
    "**Замена типов данных**"
   ]
  },
  {
   "cell_type": "code",
   "execution_count": 15,
   "metadata": {},
   "outputs": [],
   "source": [
    "#Поменяем форматы данных в столбцах с  годом выхода и оценками пользователей\n",
    "data['year_of_release'] = data['year_of_release'].astype('Int64')\n",
    "data['user_score'] = data['user_score'].astype('float64')"
   ]
  },
  {
   "cell_type": "code",
   "execution_count": 16,
   "metadata": {},
   "outputs": [
    {
     "name": "stdout",
     "output_type": "stream",
     "text": [
      "<class 'pandas.core.frame.DataFrame'>\n",
      "Int64Index: 16444 entries, 0 to 16714\n",
      "Data columns (total 11 columns):\n",
      " #   Column           Non-Null Count  Dtype  \n",
      "---  ------           --------------  -----  \n",
      " 0   name             16444 non-null  object \n",
      " 1   platform         16444 non-null  object \n",
      " 2   year_of_release  16444 non-null  Int64  \n",
      " 3   genre            16444 non-null  object \n",
      " 4   na_sales         16444 non-null  float64\n",
      " 5   eu_sales         16444 non-null  float64\n",
      " 6   jp_sales         16444 non-null  float64\n",
      " 7   other_sales      16444 non-null  float64\n",
      " 8   critic_score     7983 non-null   float64\n",
      " 9   user_score       7463 non-null   float64\n",
      " 10  rating           16444 non-null  object \n",
      "dtypes: Int64(1), float64(6), object(4)\n",
      "memory usage: 1.5+ MB\n"
     ]
    }
   ],
   "source": [
    "data.info()"
   ]
  },
  {
   "cell_type": "markdown",
   "metadata": {},
   "source": [
    "**Поиск неявных дубликатов**  \n",
    "Неявные дубликаты могут содержаться в столбцах с названием жанра, а также платформы. Проверим:"
   ]
  },
  {
   "cell_type": "code",
   "execution_count": 17,
   "metadata": {
    "scrolled": true
   },
   "outputs": [
    {
     "name": "stdout",
     "output_type": "stream",
     "text": [
      "<class 'pandas.core.frame.DataFrame'>\n",
      "Int64Index: 16444 entries, 0 to 16714\n",
      "Data columns (total 11 columns):\n",
      " #   Column           Non-Null Count  Dtype  \n",
      "---  ------           --------------  -----  \n",
      " 0   name             16444 non-null  object \n",
      " 1   platform         16444 non-null  object \n",
      " 2   year_of_release  16444 non-null  Int64  \n",
      " 3   genre            16444 non-null  object \n",
      " 4   na_sales         16444 non-null  float64\n",
      " 5   eu_sales         16444 non-null  float64\n",
      " 6   jp_sales         16444 non-null  float64\n",
      " 7   other_sales      16444 non-null  float64\n",
      " 8   critic_score     7983 non-null   float64\n",
      " 9   user_score       7463 non-null   float64\n",
      " 10  rating           16444 non-null  object \n",
      "dtypes: Int64(1), float64(6), object(4)\n",
      "memory usage: 1.5+ MB\n"
     ]
    }
   ],
   "source": [
    "sorted(data['genre'].unique())\n",
    "sorted(data['platform'].unique())\n",
    "#Названия многих платформ схожи, но дубликатов нет\n",
    "\n",
    "#Еще раз взглянем на информацию о датасете с заменой типов и обработкой пропусков.\n",
    "data.info()"
   ]
  },
  {
   "cell_type": "markdown",
   "metadata": {},
   "source": [
    "**Подсчёт суммарных продаж во всех регионах и добавление их в отдельный столбец**"
   ]
  },
  {
   "cell_type": "code",
   "execution_count": 18,
   "metadata": {},
   "outputs": [],
   "source": [
    "data.insert(8, \"all_sales\", (data['na_sales'] + data['eu_sales'] + data['jp_sales'] + data['other_sales']))"
   ]
  },
  {
   "cell_type": "code",
   "execution_count": 19,
   "metadata": {},
   "outputs": [
    {
     "data": {
      "text/html": [
       "<div>\n",
       "<style scoped>\n",
       "    .dataframe tbody tr th:only-of-type {\n",
       "        vertical-align: middle;\n",
       "    }\n",
       "\n",
       "    .dataframe tbody tr th {\n",
       "        vertical-align: top;\n",
       "    }\n",
       "\n",
       "    .dataframe thead th {\n",
       "        text-align: right;\n",
       "    }\n",
       "</style>\n",
       "<table border=\"1\" class=\"dataframe\">\n",
       "  <thead>\n",
       "    <tr style=\"text-align: right;\">\n",
       "      <th></th>\n",
       "      <th>name</th>\n",
       "      <th>platform</th>\n",
       "      <th>year_of_release</th>\n",
       "      <th>genre</th>\n",
       "      <th>na_sales</th>\n",
       "      <th>eu_sales</th>\n",
       "      <th>jp_sales</th>\n",
       "      <th>other_sales</th>\n",
       "      <th>all_sales</th>\n",
       "      <th>critic_score</th>\n",
       "      <th>user_score</th>\n",
       "      <th>rating</th>\n",
       "    </tr>\n",
       "  </thead>\n",
       "  <tbody>\n",
       "    <tr>\n",
       "      <th>0</th>\n",
       "      <td>Wii Sports</td>\n",
       "      <td>Wii</td>\n",
       "      <td>2006</td>\n",
       "      <td>Sports</td>\n",
       "      <td>41.36</td>\n",
       "      <td>28.96</td>\n",
       "      <td>3.77</td>\n",
       "      <td>8.45</td>\n",
       "      <td>82.54</td>\n",
       "      <td>76.0</td>\n",
       "      <td>8.0</td>\n",
       "      <td>E</td>\n",
       "    </tr>\n",
       "    <tr>\n",
       "      <th>1</th>\n",
       "      <td>Super Mario Bros.</td>\n",
       "      <td>NES</td>\n",
       "      <td>1985</td>\n",
       "      <td>Platform</td>\n",
       "      <td>29.08</td>\n",
       "      <td>3.58</td>\n",
       "      <td>6.81</td>\n",
       "      <td>0.77</td>\n",
       "      <td>40.24</td>\n",
       "      <td>NaN</td>\n",
       "      <td>NaN</td>\n",
       "      <td>unknown</td>\n",
       "    </tr>\n",
       "    <tr>\n",
       "      <th>2</th>\n",
       "      <td>Mario Kart Wii</td>\n",
       "      <td>Wii</td>\n",
       "      <td>2008</td>\n",
       "      <td>Racing</td>\n",
       "      <td>15.68</td>\n",
       "      <td>12.76</td>\n",
       "      <td>3.79</td>\n",
       "      <td>3.29</td>\n",
       "      <td>35.52</td>\n",
       "      <td>82.0</td>\n",
       "      <td>8.3</td>\n",
       "      <td>E</td>\n",
       "    </tr>\n",
       "    <tr>\n",
       "      <th>3</th>\n",
       "      <td>Wii Sports Resort</td>\n",
       "      <td>Wii</td>\n",
       "      <td>2009</td>\n",
       "      <td>Sports</td>\n",
       "      <td>15.61</td>\n",
       "      <td>10.93</td>\n",
       "      <td>3.28</td>\n",
       "      <td>2.95</td>\n",
       "      <td>32.77</td>\n",
       "      <td>80.0</td>\n",
       "      <td>8.0</td>\n",
       "      <td>E</td>\n",
       "    </tr>\n",
       "    <tr>\n",
       "      <th>4</th>\n",
       "      <td>Pokemon Red/Pokemon Blue</td>\n",
       "      <td>GB</td>\n",
       "      <td>1996</td>\n",
       "      <td>Role-Playing</td>\n",
       "      <td>11.27</td>\n",
       "      <td>8.89</td>\n",
       "      <td>10.22</td>\n",
       "      <td>1.00</td>\n",
       "      <td>31.38</td>\n",
       "      <td>NaN</td>\n",
       "      <td>NaN</td>\n",
       "      <td>unknown</td>\n",
       "    </tr>\n",
       "  </tbody>\n",
       "</table>\n",
       "</div>"
      ],
      "text/plain": [
       "                       name platform  year_of_release         genre  na_sales  \\\n",
       "0                Wii Sports      Wii             2006        Sports     41.36   \n",
       "1         Super Mario Bros.      NES             1985      Platform     29.08   \n",
       "2            Mario Kart Wii      Wii             2008        Racing     15.68   \n",
       "3         Wii Sports Resort      Wii             2009        Sports     15.61   \n",
       "4  Pokemon Red/Pokemon Blue       GB             1996  Role-Playing     11.27   \n",
       "\n",
       "   eu_sales  jp_sales  other_sales  all_sales  critic_score  user_score  \\\n",
       "0     28.96      3.77         8.45      82.54          76.0         8.0   \n",
       "1      3.58      6.81         0.77      40.24           NaN         NaN   \n",
       "2     12.76      3.79         3.29      35.52          82.0         8.3   \n",
       "3     10.93      3.28         2.95      32.77          80.0         8.0   \n",
       "4      8.89     10.22         1.00      31.38           NaN         NaN   \n",
       "\n",
       "    rating  \n",
       "0        E  \n",
       "1  unknown  \n",
       "2        E  \n",
       "3        E  \n",
       "4  unknown  "
      ]
     },
     "execution_count": 19,
     "metadata": {},
     "output_type": "execute_result"
    }
   ],
   "source": [
    "data.head()"
   ]
  },
  {
   "cell_type": "markdown",
   "metadata": {},
   "source": [
    "**Выводы по предобработке данных**  \n",
    "В процессе подготовки данных мы:  \n",
    "- привели названия стоблцов к нижнему регистру\n",
    "- удалили две неинформативные строки\n",
    "- изменили тип данных в столбцах с выходом игры и оценкой пользователей\n",
    "- рассмотрели пропущенные данные:\n",
    " - пропуски есть в столбцах с датой выхода игры, с оценками критиков и пользователей, рейтингом\n",
    " - заменить их медианными или средними значениями будет некорректно\n",
    " - заполнить пропущенный год выхода игры значением для той же игры на другой платформе будет не всегда верно, так как на разных платформах игры выходят в разное время\n",
    " - пропуски в столбцах с рейтингом заменены на значение \"неизвестно\"\n",
    " - пропуски в столбцах с оценками пользователей и критиков можно было бы заменить медианными значениями по категориям в соседнем столбце (при доказанной сильной корреляции), но в подавляющем большинстве случаев менять значения все равно будет нечем, так как значения пропущены в обоих столбцах.\n",
    "- создали отдельный столбец с суммой продаж по всем регионам\n",
    "\n",
    "В итоге, было решено не удалять и менять строки с пропущенными значениями. Дубликатов в датасете не обнаружено, можно приступать к исследовательскому анализу данных."
   ]
  },
  {
   "cell_type": "code",
   "execution_count": 20,
   "metadata": {},
   "outputs": [
    {
     "name": "stdout",
     "output_type": "stream",
     "text": [
      "<class 'pandas.core.frame.DataFrame'>\n",
      "Int64Index: 16444 entries, 0 to 16714\n",
      "Data columns (total 12 columns):\n",
      " #   Column           Non-Null Count  Dtype  \n",
      "---  ------           --------------  -----  \n",
      " 0   name             16444 non-null  object \n",
      " 1   platform         16444 non-null  object \n",
      " 2   year_of_release  16444 non-null  Int64  \n",
      " 3   genre            16444 non-null  object \n",
      " 4   na_sales         16444 non-null  float64\n",
      " 5   eu_sales         16444 non-null  float64\n",
      " 6   jp_sales         16444 non-null  float64\n",
      " 7   other_sales      16444 non-null  float64\n",
      " 8   all_sales        16444 non-null  float64\n",
      " 9   critic_score     7983 non-null   float64\n",
      " 10  user_score       7463 non-null   float64\n",
      " 11  rating           16444 non-null  object \n",
      "dtypes: Int64(1), float64(7), object(4)\n",
      "memory usage: 1.6+ MB\n",
      "None\n",
      "-------------------------\n",
      "name [' Beyblade Burst' ' Fire Emblem Fates' \" Frozen: Olaf's Quest\" ...\n",
      " 'uDraw Studio' 'uDraw Studio: Instant Artist'\n",
      " '¡Shin Chan Flipa en colores!']\n",
      "name : кол-во NaN 0 , процент NaN 0.0 %\n",
      "-------------------------\n",
      "platform ['2600' '3DO' '3DS' 'DC' 'DS' 'GB' 'GBA' 'GC' 'GEN' 'GG' 'N64' 'NES' 'NG'\n",
      " 'PC' 'PCFX' 'PS' 'PS2' 'PS3' 'PS4' 'PSP' 'PSV' 'SAT' 'SCD' 'SNES' 'TG16'\n",
      " 'WS' 'Wii' 'WiiU' 'X360' 'XB' 'XOne']\n",
      "platform : кол-во NaN 0 , процент NaN 0.0 %\n",
      "-------------------------\n",
      "year_of_release <IntegerArray>\n",
      "[1980, 1981, 1982, 1983, 1984, 1985, 1986, 1987, 1988, 1989, 1990, 1991, 1992,\n",
      " 1993, 1994, 1995, 1996, 1997, 1998, 1999, 2000, 2001, 2002, 2003, 2004, 2005,\n",
      " 2006, 2007, 2008, 2009, 2010, 2011, 2012, 2013, 2014, 2015, 2016]\n",
      "Length: 37, dtype: Int64\n",
      "year_of_release : кол-во NaN 0 , процент NaN 0.0 %\n",
      "-------------------------\n",
      "genre ['Action' 'Adventure' 'Fighting' 'Misc' 'Platform' 'Puzzle' 'Racing'\n",
      " 'Role-Playing' 'Shooter' 'Simulation' 'Sports' 'Strategy']\n",
      "genre : кол-во NaN 0 , процент NaN 0.0 %\n",
      "-------------------------\n",
      "critic_score [13. 17. 19. 20. 21. 23. 24. 25. 26. 27. 28. 29. 30. 31. 32. 33. 34. 35.\n",
      " 36. 37. 38. 39. 40. 41. 42. 43. 44. 45. 46. 47. 48. 49. 50. 51. 52. 53.\n",
      " 54. 55. 56. 57. 58. 59. 60. 61. 62. 63. 64. 65. 66. 67. 68. 69. 70. 71.\n",
      " 72. 73. 74. 75. 76. 77. 78. 79. 80. 81. 82. 83. 84. 85. 86. 87. 88. 89.\n",
      " 90. 91. 92. 93. 94. 95. 96. 97. 98. nan]\n",
      "critic_score : кол-во NaN 8461 , процент NaN 51.45 %\n",
      "-------------------------\n",
      "user_score [0.  0.2 0.3 0.5 0.6 0.7 0.9 1.  1.1 1.2 1.3 1.4 1.5 1.6 1.7 1.8 1.9 2.\n",
      " 2.1 2.2 2.3 2.4 2.5 2.6 2.7 2.8 2.9 3.  3.1 3.2 3.3 3.4 3.5 3.6 3.7 3.8\n",
      " 3.9 4.  4.1 4.2 4.3 4.4 4.5 4.6 4.7 4.8 4.9 5.  5.1 5.2 5.3 5.4 5.5 5.6\n",
      " 5.7 5.8 5.9 6.  6.1 6.2 6.3 6.4 6.5 6.6 6.7 6.8 6.9 7.  7.1 7.2 7.3 7.4\n",
      " 7.5 7.6 7.7 7.8 7.9 8.  8.1 8.2 8.3 8.4 8.5 8.6 8.7 8.8 8.9 9.  9.1 9.2\n",
      " 9.3 9.4 9.5 9.6 9.7 nan]\n",
      "user_score : кол-во NaN 8981 , процент NaN 54.62 %\n",
      "-------------------------\n",
      "rating ['AO' 'E' 'E10+' 'EC' 'K-A' 'M' 'RP' 'T' 'unknown']\n",
      "rating : кол-во NaN 0 , процент NaN 0.0 %\n"
     ]
    }
   ],
   "source": [
    "# Посмотрим, что у нас осталось\n",
    "temp = data.copy() \n",
    "list_c = ['name', 'platform', 'year_of_release', 'genre', 'critic_score', 'user_score', 'rating']\n",
    "print(temp.info())\n",
    "for col_l in list_c:\n",
    "  print('-'* 25)\n",
    "  print(col_l, temp[col_l].sort_values().unique())\n",
    "  print(col_l,': кол-во NaN',temp[col_l].isna().sum(),\n",
    "        ', процент NaN', round(temp[col_l].isna().sum()/len(temp)*100, 2),'%')"
   ]
  },
  {
   "cell_type": "markdown",
   "metadata": {},
   "source": [
    "### Исследовательский анализ данных."
   ]
  },
  {
   "cell_type": "markdown",
   "metadata": {},
   "source": [
    "**Количество игр, выпускавшееся в разные годы**"
   ]
  },
  {
   "cell_type": "code",
   "execution_count": 21,
   "metadata": {},
   "outputs": [
    {
     "data": {
      "image/png": "[encoded data removed]",
      "text/plain": [
       "<Figure size 432x288 with 1 Axes>"
      ]
     },
     "metadata": {
      "needs_background": "light"
     },
     "output_type": "display_data"
    }
   ],
   "source": [
    "data['year_of_release'].plot(kind = 'hist',bins = 37)\n",
    "plt.title('Годы выпуска игр')\n",
    "plt.show()"
   ]
  },
  {
   "cell_type": "markdown",
   "metadata": {},
   "source": [
    "Количество игр сильно увеличивалось, начиная с 1990-х годов, достигнув пика в 2008-2009-м. Дальше пошло снижение и значительное.  \n",
    "Возможно, это связано, с тем, что студии-разработчики игр стали больше работать над качеством игр, чем над их количеством.  \n",
    "Игры стали сложнее, увеличился срок разработки, в то же время, в десятые годы появилось больше возможностей зарабатывать на релизах внутри игрового процесса - если раньше студии должны были выпускать больше и больше игр, зарабатывая на продажах их копий, то сейчас в большей степени студии работают над усовершенствованием игры уже после её выпуска, добавлением различных функций, персонажей, патчей.  \n",
    "Кроме того, увеличилось число мобильных игр, что явно отразилось на продажах игр для компьютеров и приставок.  \n",
    "\n",
    "**Важны ли данные за все периоды?**\n",
    "Можно с уверенностью утверждать, что игры, продавшиеся в 1980-х и 1990-х годах имеют мало общего с теми, что продаются в наше время. Как в плане разработки, так и в плане пост-продакшена игры.  \n",
    "До 1995 года отрасль развивалось слабо, поэтому данные до этого периода не имеют большой значимости в прогнозах на будущее.  \n"
   ]
  },
  {
   "cell_type": "markdown",
   "metadata": {},
   "source": [
    "**Суммарные продажи по платформам**"
   ]
  },
  {
   "cell_type": "code",
   "execution_count": 22,
   "metadata": {},
   "outputs": [
    {
     "data": {
      "text/html": [
       "<div>\n",
       "<style scoped>\n",
       "    .dataframe tbody tr th:only-of-type {\n",
       "        vertical-align: middle;\n",
       "    }\n",
       "\n",
       "    .dataframe tbody tr th {\n",
       "        vertical-align: top;\n",
       "    }\n",
       "\n",
       "    .dataframe thead th {\n",
       "        text-align: right;\n",
       "    }\n",
       "</style>\n",
       "<table border=\"1\" class=\"dataframe\">\n",
       "  <thead>\n",
       "    <tr style=\"text-align: right;\">\n",
       "      <th></th>\n",
       "      <th>all_sales</th>\n",
       "    </tr>\n",
       "    <tr>\n",
       "      <th>platform</th>\n",
       "      <th></th>\n",
       "    </tr>\n",
       "  </thead>\n",
       "  <tbody>\n",
       "    <tr>\n",
       "      <th>PS2</th>\n",
       "      <td>1233.56</td>\n",
       "    </tr>\n",
       "    <tr>\n",
       "      <th>X360</th>\n",
       "      <td>961.24</td>\n",
       "    </tr>\n",
       "    <tr>\n",
       "      <th>PS3</th>\n",
       "      <td>931.34</td>\n",
       "    </tr>\n",
       "    <tr>\n",
       "      <th>Wii</th>\n",
       "      <td>891.18</td>\n",
       "    </tr>\n",
       "    <tr>\n",
       "      <th>DS</th>\n",
       "      <td>802.78</td>\n",
       "    </tr>\n",
       "    <tr>\n",
       "      <th>PS</th>\n",
       "      <td>727.58</td>\n",
       "    </tr>\n",
       "    <tr>\n",
       "      <th>PS4</th>\n",
       "      <td>314.14</td>\n",
       "    </tr>\n",
       "    <tr>\n",
       "      <th>GBA</th>\n",
       "      <td>312.88</td>\n",
       "    </tr>\n",
       "    <tr>\n",
       "      <th>PSP</th>\n",
       "      <td>289.53</td>\n",
       "    </tr>\n",
       "    <tr>\n",
       "      <th>3DS</th>\n",
       "      <td>257.81</td>\n",
       "    </tr>\n",
       "    <tr>\n",
       "      <th>PC</th>\n",
       "      <td>255.76</td>\n",
       "    </tr>\n",
       "    <tr>\n",
       "      <th>GB</th>\n",
       "      <td>254.43</td>\n",
       "    </tr>\n",
       "    <tr>\n",
       "      <th>XB</th>\n",
       "      <td>251.57</td>\n",
       "    </tr>\n",
       "    <tr>\n",
       "      <th>NES</th>\n",
       "      <td>251.05</td>\n",
       "    </tr>\n",
       "    <tr>\n",
       "      <th>N64</th>\n",
       "      <td>218.01</td>\n",
       "    </tr>\n",
       "    <tr>\n",
       "      <th>SNES</th>\n",
       "      <td>200.04</td>\n",
       "    </tr>\n",
       "    <tr>\n",
       "      <th>GC</th>\n",
       "      <td>196.73</td>\n",
       "    </tr>\n",
       "    <tr>\n",
       "      <th>XOne</th>\n",
       "      <td>159.32</td>\n",
       "    </tr>\n",
       "    <tr>\n",
       "      <th>2600</th>\n",
       "      <td>86.48</td>\n",
       "    </tr>\n",
       "    <tr>\n",
       "      <th>WiiU</th>\n",
       "      <td>82.19</td>\n",
       "    </tr>\n",
       "    <tr>\n",
       "      <th>PSV</th>\n",
       "      <td>53.81</td>\n",
       "    </tr>\n",
       "    <tr>\n",
       "      <th>SAT</th>\n",
       "      <td>33.59</td>\n",
       "    </tr>\n",
       "    <tr>\n",
       "      <th>GEN</th>\n",
       "      <td>28.35</td>\n",
       "    </tr>\n",
       "    <tr>\n",
       "      <th>DC</th>\n",
       "      <td>15.95</td>\n",
       "    </tr>\n",
       "    <tr>\n",
       "      <th>SCD</th>\n",
       "      <td>1.86</td>\n",
       "    </tr>\n",
       "    <tr>\n",
       "      <th>NG</th>\n",
       "      <td>1.44</td>\n",
       "    </tr>\n",
       "    <tr>\n",
       "      <th>WS</th>\n",
       "      <td>1.42</td>\n",
       "    </tr>\n",
       "    <tr>\n",
       "      <th>TG16</th>\n",
       "      <td>0.16</td>\n",
       "    </tr>\n",
       "    <tr>\n",
       "      <th>3DO</th>\n",
       "      <td>0.10</td>\n",
       "    </tr>\n",
       "    <tr>\n",
       "      <th>GG</th>\n",
       "      <td>0.04</td>\n",
       "    </tr>\n",
       "    <tr>\n",
       "      <th>PCFX</th>\n",
       "      <td>0.03</td>\n",
       "    </tr>\n",
       "  </tbody>\n",
       "</table>\n",
       "</div>"
      ],
      "text/plain": [
       "          all_sales\n",
       "platform           \n",
       "PS2         1233.56\n",
       "X360         961.24\n",
       "PS3          931.34\n",
       "Wii          891.18\n",
       "DS           802.78\n",
       "PS           727.58\n",
       "PS4          314.14\n",
       "GBA          312.88\n",
       "PSP          289.53\n",
       "3DS          257.81\n",
       "PC           255.76\n",
       "GB           254.43\n",
       "XB           251.57\n",
       "NES          251.05\n",
       "N64          218.01\n",
       "SNES         200.04\n",
       "GC           196.73\n",
       "XOne         159.32\n",
       "2600          86.48\n",
       "WiiU          82.19\n",
       "PSV           53.81\n",
       "SAT           33.59\n",
       "GEN           28.35\n",
       "DC            15.95\n",
       "SCD            1.86\n",
       "NG             1.44\n",
       "WS             1.42\n",
       "TG16           0.16\n",
       "3DO            0.10\n",
       "GG             0.04\n",
       "PCFX           0.03"
      ]
     },
     "execution_count": 22,
     "metadata": {},
     "output_type": "execute_result"
    }
   ],
   "source": [
    "sales_by_platforms = data.pivot_table(\n",
    "    index='platform', values='all_sales', aggfunc='sum').sort_values(by='all_sales', ascending=False)\n",
    "sales_by_platforms"
   ]
  },
  {
   "cell_type": "markdown",
   "metadata": {},
   "source": [
    "Возьмем платформы с наибольшими суммарными продажами (первые 6 явно оторвались от остальных) и построим распределение по годам."
   ]
  },
  {
   "cell_type": "code",
   "execution_count": 23,
   "metadata": {},
   "outputs": [
    {
     "data": {
      "image/png": "[encoded data removed]",
      "text/plain": [
       "<Figure size 1080x720 with 6 Axes>"
      ]
     },
     "metadata": {
      "needs_background": "light"
     },
     "output_type": "display_data"
    }
   ],
   "source": [
    "top_platforms = data.query('platform==[\"PS2\",\"X360\",\"PS3\",\"Wii\",\"DS\",\"PS\"]')\n",
    "top_platforms_by_years =top_platforms.pivot_table(\n",
    "                                 index = ['year_of_release'], \\\n",
    "                                 columns = ['platform'],\n",
    "                                 values = ['all_sales'],\n",
    "                                 aggfunc =  ['sum'])\n",
    "top_platforms_by_years.plot(grid=True, subplots=True, figsize = (15,10))\n",
    "plt.show()"
   ]
  },
  {
   "cell_type": "markdown",
   "metadata": {},
   "source": [
    "На графиках мы видим характерные жизненные этапы для 6 самых популярных платформ. Каждая из них в какой-то момент достигает пика и после этого, продажи падают до практически нулевых значений. Срок жизни каждой из платформ - около 10 лет."
   ]
  },
  {
   "cell_type": "markdown",
   "metadata": {},
   "source": [
    "### **Работа с данными за актуальный период**.\n",
    "\n",
    "Исходя из того, что средний срок жизни популярных платформ - около 10 лет, пика своего развития платформа достигает на 4-5 году существования, а игры обновляются довольно часто (например спортивные симуляторы - ежегодно), возьмём достаточно короткий период в 3 года (включая 2016-й)."
   ]
  },
  {
   "cell_type": "code",
   "execution_count": 24,
   "metadata": {},
   "outputs": [
    {
     "data": {
      "text/html": [
       "<div>\n",
       "<style scoped>\n",
       "    .dataframe tbody tr th:only-of-type {\n",
       "        vertical-align: middle;\n",
       "    }\n",
       "\n",
       "    .dataframe tbody tr th {\n",
       "        vertical-align: top;\n",
       "    }\n",
       "\n",
       "    .dataframe thead th {\n",
       "        text-align: right;\n",
       "    }\n",
       "</style>\n",
       "<table border=\"1\" class=\"dataframe\">\n",
       "  <thead>\n",
       "    <tr style=\"text-align: right;\">\n",
       "      <th></th>\n",
       "      <th>name</th>\n",
       "      <th>platform</th>\n",
       "      <th>year_of_release</th>\n",
       "      <th>genre</th>\n",
       "      <th>na_sales</th>\n",
       "      <th>eu_sales</th>\n",
       "      <th>jp_sales</th>\n",
       "      <th>other_sales</th>\n",
       "      <th>all_sales</th>\n",
       "      <th>critic_score</th>\n",
       "      <th>user_score</th>\n",
       "      <th>rating</th>\n",
       "    </tr>\n",
       "  </thead>\n",
       "  <tbody>\n",
       "    <tr>\n",
       "      <th>16</th>\n",
       "      <td>Grand Theft Auto V</td>\n",
       "      <td>PS3</td>\n",
       "      <td>2013</td>\n",
       "      <td>Action</td>\n",
       "      <td>7.02</td>\n",
       "      <td>9.09</td>\n",
       "      <td>0.98</td>\n",
       "      <td>3.96</td>\n",
       "      <td>21.05</td>\n",
       "      <td>97.0</td>\n",
       "      <td>8.2</td>\n",
       "      <td>M</td>\n",
       "    </tr>\n",
       "    <tr>\n",
       "      <th>23</th>\n",
       "      <td>Grand Theft Auto V</td>\n",
       "      <td>X360</td>\n",
       "      <td>2013</td>\n",
       "      <td>Action</td>\n",
       "      <td>9.66</td>\n",
       "      <td>5.14</td>\n",
       "      <td>0.06</td>\n",
       "      <td>1.41</td>\n",
       "      <td>16.27</td>\n",
       "      <td>97.0</td>\n",
       "      <td>8.1</td>\n",
       "      <td>M</td>\n",
       "    </tr>\n",
       "    <tr>\n",
       "      <th>31</th>\n",
       "      <td>Call of Duty: Black Ops 3</td>\n",
       "      <td>PS4</td>\n",
       "      <td>2015</td>\n",
       "      <td>Shooter</td>\n",
       "      <td>6.03</td>\n",
       "      <td>5.86</td>\n",
       "      <td>0.36</td>\n",
       "      <td>2.38</td>\n",
       "      <td>14.63</td>\n",
       "      <td>NaN</td>\n",
       "      <td>NaN</td>\n",
       "      <td>unknown</td>\n",
       "    </tr>\n",
       "    <tr>\n",
       "      <th>33</th>\n",
       "      <td>Pokemon X/Pokemon Y</td>\n",
       "      <td>3DS</td>\n",
       "      <td>2013</td>\n",
       "      <td>Role-Playing</td>\n",
       "      <td>5.28</td>\n",
       "      <td>4.19</td>\n",
       "      <td>4.35</td>\n",
       "      <td>0.78</td>\n",
       "      <td>14.60</td>\n",
       "      <td>NaN</td>\n",
       "      <td>NaN</td>\n",
       "      <td>unknown</td>\n",
       "    </tr>\n",
       "    <tr>\n",
       "      <th>42</th>\n",
       "      <td>Grand Theft Auto V</td>\n",
       "      <td>PS4</td>\n",
       "      <td>2014</td>\n",
       "      <td>Action</td>\n",
       "      <td>3.96</td>\n",
       "      <td>6.31</td>\n",
       "      <td>0.38</td>\n",
       "      <td>1.97</td>\n",
       "      <td>12.62</td>\n",
       "      <td>97.0</td>\n",
       "      <td>8.3</td>\n",
       "      <td>M</td>\n",
       "    </tr>\n",
       "    <tr>\n",
       "      <th>...</th>\n",
       "      <td>...</td>\n",
       "      <td>...</td>\n",
       "      <td>...</td>\n",
       "      <td>...</td>\n",
       "      <td>...</td>\n",
       "      <td>...</td>\n",
       "      <td>...</td>\n",
       "      <td>...</td>\n",
       "      <td>...</td>\n",
       "      <td>...</td>\n",
       "      <td>...</td>\n",
       "      <td>...</td>\n",
       "    </tr>\n",
       "    <tr>\n",
       "      <th>16703</th>\n",
       "      <td>Strawberry Nauts</td>\n",
       "      <td>PSV</td>\n",
       "      <td>2016</td>\n",
       "      <td>Adventure</td>\n",
       "      <td>0.00</td>\n",
       "      <td>0.00</td>\n",
       "      <td>0.01</td>\n",
       "      <td>0.00</td>\n",
       "      <td>0.01</td>\n",
       "      <td>NaN</td>\n",
       "      <td>NaN</td>\n",
       "      <td>unknown</td>\n",
       "    </tr>\n",
       "    <tr>\n",
       "      <th>16707</th>\n",
       "      <td>Aiyoku no Eustia</td>\n",
       "      <td>PSV</td>\n",
       "      <td>2014</td>\n",
       "      <td>Misc</td>\n",
       "      <td>0.00</td>\n",
       "      <td>0.00</td>\n",
       "      <td>0.01</td>\n",
       "      <td>0.00</td>\n",
       "      <td>0.01</td>\n",
       "      <td>NaN</td>\n",
       "      <td>NaN</td>\n",
       "      <td>unknown</td>\n",
       "    </tr>\n",
       "    <tr>\n",
       "      <th>16710</th>\n",
       "      <td>Samurai Warriors: Sanada Maru</td>\n",
       "      <td>PS3</td>\n",
       "      <td>2016</td>\n",
       "      <td>Action</td>\n",
       "      <td>0.00</td>\n",
       "      <td>0.00</td>\n",
       "      <td>0.01</td>\n",
       "      <td>0.00</td>\n",
       "      <td>0.01</td>\n",
       "      <td>NaN</td>\n",
       "      <td>NaN</td>\n",
       "      <td>unknown</td>\n",
       "    </tr>\n",
       "    <tr>\n",
       "      <th>16712</th>\n",
       "      <td>Haitaka no Psychedelica</td>\n",
       "      <td>PSV</td>\n",
       "      <td>2016</td>\n",
       "      <td>Adventure</td>\n",
       "      <td>0.00</td>\n",
       "      <td>0.00</td>\n",
       "      <td>0.01</td>\n",
       "      <td>0.00</td>\n",
       "      <td>0.01</td>\n",
       "      <td>NaN</td>\n",
       "      <td>NaN</td>\n",
       "      <td>unknown</td>\n",
       "    </tr>\n",
       "    <tr>\n",
       "      <th>16714</th>\n",
       "      <td>Winning Post 8 2016</td>\n",
       "      <td>PSV</td>\n",
       "      <td>2016</td>\n",
       "      <td>Simulation</td>\n",
       "      <td>0.00</td>\n",
       "      <td>0.00</td>\n",
       "      <td>0.01</td>\n",
       "      <td>0.00</td>\n",
       "      <td>0.01</td>\n",
       "      <td>NaN</td>\n",
       "      <td>NaN</td>\n",
       "      <td>unknown</td>\n",
       "    </tr>\n",
       "  </tbody>\n",
       "</table>\n",
       "<p>2233 rows × 12 columns</p>\n",
       "</div>"
      ],
      "text/plain": [
       "                                name platform  year_of_release         genre  \\\n",
       "16                Grand Theft Auto V      PS3             2013        Action   \n",
       "23                Grand Theft Auto V     X360             2013        Action   \n",
       "31         Call of Duty: Black Ops 3      PS4             2015       Shooter   \n",
       "33               Pokemon X/Pokemon Y      3DS             2013  Role-Playing   \n",
       "42                Grand Theft Auto V      PS4             2014        Action   \n",
       "...                              ...      ...              ...           ...   \n",
       "16703               Strawberry Nauts      PSV             2016     Adventure   \n",
       "16707               Aiyoku no Eustia      PSV             2014          Misc   \n",
       "16710  Samurai Warriors: Sanada Maru      PS3             2016        Action   \n",
       "16712        Haitaka no Psychedelica      PSV             2016     Adventure   \n",
       "16714            Winning Post 8 2016      PSV             2016    Simulation   \n",
       "\n",
       "       na_sales  eu_sales  jp_sales  other_sales  all_sales  critic_score  \\\n",
       "16         7.02      9.09      0.98         3.96      21.05          97.0   \n",
       "23         9.66      5.14      0.06         1.41      16.27          97.0   \n",
       "31         6.03      5.86      0.36         2.38      14.63           NaN   \n",
       "33         5.28      4.19      4.35         0.78      14.60           NaN   \n",
       "42         3.96      6.31      0.38         1.97      12.62          97.0   \n",
       "...         ...       ...       ...          ...        ...           ...   \n",
       "16703      0.00      0.00      0.01         0.00       0.01           NaN   \n",
       "16707      0.00      0.00      0.01         0.00       0.01           NaN   \n",
       "16710      0.00      0.00      0.01         0.00       0.01           NaN   \n",
       "16712      0.00      0.00      0.01         0.00       0.01           NaN   \n",
       "16714      0.00      0.00      0.01         0.00       0.01           NaN   \n",
       "\n",
       "       user_score   rating  \n",
       "16            8.2        M  \n",
       "23            8.1        M  \n",
       "31            NaN  unknown  \n",
       "33            NaN  unknown  \n",
       "42            8.3        M  \n",
       "...           ...      ...  \n",
       "16703         NaN  unknown  \n",
       "16707         NaN  unknown  \n",
       "16710         NaN  unknown  \n",
       "16712         NaN  unknown  \n",
       "16714         NaN  unknown  \n",
       "\n",
       "[2233 rows x 12 columns]"
      ]
     },
     "execution_count": 24,
     "metadata": {},
     "output_type": "execute_result"
    }
   ],
   "source": [
    "actual_data = data.query('year_of_release >= 2013')\n",
    "actual_data"
   ]
  },
  {
   "cell_type": "markdown",
   "metadata": {},
   "source": [
    "**Какие платформы лидируют по продажам, растут или падают?**"
   ]
  },
  {
   "cell_type": "code",
   "execution_count": 25,
   "metadata": {},
   "outputs": [
    {
     "data": {
      "text/html": [
       "<div>\n",
       "<style scoped>\n",
       "    .dataframe tbody tr th:only-of-type {\n",
       "        vertical-align: middle;\n",
       "    }\n",
       "\n",
       "    .dataframe tbody tr th {\n",
       "        vertical-align: top;\n",
       "    }\n",
       "\n",
       "    .dataframe thead th {\n",
       "        text-align: right;\n",
       "    }\n",
       "</style>\n",
       "<table border=\"1\" class=\"dataframe\">\n",
       "  <thead>\n",
       "    <tr style=\"text-align: right;\">\n",
       "      <th></th>\n",
       "      <th>all_sales</th>\n",
       "    </tr>\n",
       "    <tr>\n",
       "      <th>platform</th>\n",
       "      <th></th>\n",
       "    </tr>\n",
       "  </thead>\n",
       "  <tbody>\n",
       "    <tr>\n",
       "      <th>PS4</th>\n",
       "      <td>314.14</td>\n",
       "    </tr>\n",
       "    <tr>\n",
       "      <th>PS3</th>\n",
       "      <td>181.43</td>\n",
       "    </tr>\n",
       "    <tr>\n",
       "      <th>XOne</th>\n",
       "      <td>159.32</td>\n",
       "    </tr>\n",
       "    <tr>\n",
       "      <th>3DS</th>\n",
       "      <td>143.25</td>\n",
       "    </tr>\n",
       "    <tr>\n",
       "      <th>X360</th>\n",
       "      <td>136.80</td>\n",
       "    </tr>\n",
       "    <tr>\n",
       "      <th>WiiU</th>\n",
       "      <td>64.63</td>\n",
       "    </tr>\n",
       "    <tr>\n",
       "      <th>PC</th>\n",
       "      <td>39.43</td>\n",
       "    </tr>\n",
       "    <tr>\n",
       "      <th>PSV</th>\n",
       "      <td>32.99</td>\n",
       "    </tr>\n",
       "    <tr>\n",
       "      <th>Wii</th>\n",
       "      <td>13.66</td>\n",
       "    </tr>\n",
       "    <tr>\n",
       "      <th>PSP</th>\n",
       "      <td>3.50</td>\n",
       "    </tr>\n",
       "    <tr>\n",
       "      <th>DS</th>\n",
       "      <td>1.54</td>\n",
       "    </tr>\n",
       "  </tbody>\n",
       "</table>\n",
       "</div>"
      ],
      "text/plain": [
       "          all_sales\n",
       "platform           \n",
       "PS4          314.14\n",
       "PS3          181.43\n",
       "XOne         159.32\n",
       "3DS          143.25\n",
       "X360         136.80\n",
       "WiiU          64.63\n",
       "PC            39.43\n",
       "PSV           32.99\n",
       "Wii           13.66\n",
       "PSP            3.50\n",
       "DS             1.54"
      ]
     },
     "execution_count": 25,
     "metadata": {},
     "output_type": "execute_result"
    }
   ],
   "source": [
    "actual_data.pivot_table(\n",
    "    index='platform', values='all_sales', aggfunc='sum').sort_values(by='all_sales', ascending=False)\n"
   ]
  },
  {
   "cell_type": "markdown",
   "metadata": {},
   "source": [
    "Платформ стало гораздо меньше. Лидеры за последние годы поменялись. Взглянем на этапы жизненных циклов всех платформ, чтобы определить потенциально прибыльные.  Для большей наглядности, сделаем это на одном графике"
   ]
  },
  {
   "cell_type": "code",
   "execution_count": 26,
   "metadata": {},
   "outputs": [
    {
     "data": {
      "image/png": "[encoded data removed]",
      "text/plain": [
       "<Figure size 1440x720 with 1 Axes>"
      ]
     },
     "metadata": {
      "needs_background": "light"
     },
     "output_type": "display_data"
    }
   ],
   "source": [
    "actual_platforms =actual_data.pivot_table(\n",
    "                                 index = ['year_of_release'], \\\n",
    "                                 columns = ['platform'],\n",
    "                                 values = ['all_sales'],\n",
    "                                 aggfunc =  ['sum'])\n",
    "actual_platforms.plot(grid=True, figsize = (20,10))\n",
    "plt.locator_params(nbins=4)\n",
    "plt.show()"
   ]
  },
  {
   "cell_type": "markdown",
   "metadata": {},
   "source": [
    "**Основными платформами**, на которые можно делать ставку являются PS4 и XOne - они появились не так давно и еще имеют потенциал к продажам."
   ]
  },
  {
   "cell_type": "markdown",
   "metadata": {},
   "source": [
    "**«Ящик с усами»** по глобальным продажам игр в разбивке по платформам"
   ]
  },
  {
   "cell_type": "code",
   "execution_count": 27,
   "metadata": {
    "scrolled": true
   },
   "outputs": [
    {
     "data": {
      "image/png": "[encoded data removed]",
      "text/plain": [
       "<Figure size 1440x720 with 1 Axes>"
      ]
     },
     "metadata": {
      "needs_background": "light"
     },
     "output_type": "display_data"
    }
   ],
   "source": [
    "actual_data.boxplot(column = ['all_sales'],by = ['platform'],figsize=(20, 10))\n",
    "plt.ylim(0, 5)\n",
    "plt.show()"
   ]
  },
  {
   "cell_type": "code",
   "execution_count": 28,
   "metadata": {},
   "outputs": [
    {
     "data": {
      "image/png": "[encoded data removed]",
      "text/plain": [
       "<Figure size 1440x720 with 1 Axes>"
      ]
     },
     "metadata": {
      "needs_background": "light"
     },
     "output_type": "display_data"
    }
   ],
   "source": [
    "actual_data.boxplot(column = ['all_sales'],by = ['platform'],figsize=(20, 10))\n",
    "plt.ylim(0, 1)\n",
    "plt.xlim(0, 12) \n",
    "plt.show()"
   ]
  },
  {
   "cell_type": "markdown",
   "metadata": {},
   "source": [
    "Медианные значения, а также значения третьего квартиля чуть выше, чем у остальных у платформ WiU, PS4, X360 и XOne"
   ]
  },
  {
   "cell_type": "markdown",
   "metadata": {},
   "source": [
    "**Как влияют на продажи внутри платформы отзывы пользователей и критиков?**"
   ]
  },
  {
   "cell_type": "code",
   "execution_count": 29,
   "metadata": {},
   "outputs": [
    {
     "data": {
      "text/plain": [
       "<AxesSubplot:xlabel='user_score', ylabel='all_sales'>"
      ]
     },
     "execution_count": 29,
     "metadata": {},
     "output_type": "execute_result"
    },
    {
     "data": {
      "image/png": "[encoded data removed]",
      "text/plain": [
       "<Figure size 432x288 with 1 Axes>"
      ]
     },
     "metadata": {
      "needs_background": "light"
     },
     "output_type": "display_data"
    }
   ],
   "source": [
    "#Возьмем платформу XOne, отсортируем по оценке пользователей\n",
    "actual_data.query('platform == \"XOne\"').plot(x='user_score', y='all_sales', kind='scatter', grid=True) "
   ]
  },
  {
   "cell_type": "code",
   "execution_count": 30,
   "metadata": {},
   "outputs": [
    {
     "name": "stdout",
     "output_type": "stream",
     "text": [
      "Корреляция равна: -0.06892505328279414\n"
     ]
    }
   ],
   "source": [
    "print('Корреляция равна:', actual_data.query('platform == \"XOne\"')['user_score'].corr(actual_data.query('platform == \"XOne\"')['all_sales']))"
   ]
  },
  {
   "cell_type": "code",
   "execution_count": 31,
   "metadata": {},
   "outputs": [
    {
     "name": "stdout",
     "output_type": "stream",
     "text": [
      "Корреляция равна: 0.4169983280084017\n"
     ]
    },
    {
     "data": {
      "image/png": "[encoded data removed]",
      "text/plain": [
       "<Figure size 432x288 with 1 Axes>"
      ]
     },
     "metadata": {
      "needs_background": "light"
     },
     "output_type": "display_data"
    }
   ],
   "source": [
    "#Те же операции проделаем, что бы узнать как влияет оценка критиков\n",
    "actual_data.query('platform == \"XOne\"').plot(x='critic_score', y='all_sales', kind='scatter', grid=True) \n",
    "plt.show\n",
    "print('Корреляция равна:', actual_data.query('platform == \"XOne\"')['critic_score'].corr(actual_data.query('platform == \"XOne\"')['all_sales']))"
   ]
  },
  {
   "cell_type": "markdown",
   "metadata": {},
   "source": [
    "**Вывод:**\n",
    "Как видно из графика и как подтвержает корреляция, оценки пользователей и критиков не сильно влияют на продажи. В большей степени это касается оценок пользователей - корреляция их оценок с суммой продаж почти равна нулю. "
   ]
  },
  {
   "cell_type": "code",
   "execution_count": 32,
   "metadata": {},
   "outputs": [
    {
     "data": {
      "text/plain": [
       "<function matplotlib.pyplot.show(close=None, block=None)>"
      ]
     },
     "execution_count": 32,
     "metadata": {},
     "output_type": "execute_result"
    },
    {
     "data": {
      "image/png": "[encoded data removed]",
      "text/plain": [
       "<Figure size 432x288 with 1 Axes>"
      ]
     },
     "metadata": {
      "needs_background": "light"
     },
     "output_type": "display_data"
    },
    {
     "data": {
      "image/png": "[encoded data removed]",
      "text/plain": [
       "<Figure size 432x288 with 1 Axes>"
      ]
     },
     "metadata": {
      "needs_background": "light"
     },
     "output_type": "display_data"
    }
   ],
   "source": [
    "#Посмотрим, есть ли зависимость между оценками и продажами на двух других платформах - PS3 и PS4\n",
    "actual_data.query('platform == \"X360\"').plot(x='user_score', y='all_sales', kind='scatter', grid=True, label='X360') \n",
    "plt.show\n",
    "actual_data.query('platform == \"PS4\"').plot(x='user_score', y='all_sales', kind='scatter', grid=True, label='PS4') \n",
    "plt.show"
   ]
  },
  {
   "cell_type": "code",
   "execution_count": 33,
   "metadata": {},
   "outputs": [
    {
     "data": {
      "text/plain": [
       "<function matplotlib.pyplot.show(close=None, block=None)>"
      ]
     },
     "execution_count": 33,
     "metadata": {},
     "output_type": "execute_result"
    },
    {
     "data": {
      "image/png": "[encoded data removed]",
      "text/plain": [
       "<Figure size 432x288 with 1 Axes>"
      ]
     },
     "metadata": {
      "needs_background": "light"
     },
     "output_type": "display_data"
    },
    {
     "data": {
      "image/png": "[encoded data removed]",
      "text/plain": [
       "<Figure size 432x288 with 1 Axes>"
      ]
     },
     "metadata": {
      "needs_background": "light"
     },
     "output_type": "display_data"
    }
   ],
   "source": [
    "actual_data.query('platform == \"X360\"').plot(x='critic_score', y='all_sales', kind='scatter', grid=True, label='X360') \n",
    "plt.show\n",
    "actual_data.query('platform == \"PS4\"').plot(x='critic_score', y='all_sales', kind='scatter', grid=True, label='PS4') \n",
    "plt.show"
   ]
  },
  {
   "cell_type": "code",
   "execution_count": 34,
   "metadata": {},
   "outputs": [
    {
     "name": "stdout",
     "output_type": "stream",
     "text": [
      "Корреляция оценок пользователей и продаж для X360 равна: -0.011742185147181342\n",
      "Корреляция оценок пользователей и продаж для PS4 равна: -0.031957110204556376\n",
      "Корреляция оценок критиков и продаж для X360 равна: 0.3503445460228664\n",
      "Корреляция оценок критиков и продаж для PS4 равна: 0.40656790206178095\n"
     ]
    }
   ],
   "source": [
    "print('Корреляция оценок пользователей и продаж для X360 равна:', actual_data.query('platform == \"X360\"')\n",
    "      ['user_score'].corr(actual_data.query('platform == \"X360\"')['all_sales']))\n",
    "print('Корреляция оценок пользователей и продаж для PS4 равна:', actual_data.query('platform == \"PS4\"')\n",
    "      ['user_score'].corr(actual_data.query('platform == \"PS4\"')['all_sales']))\n",
    "print('Корреляция оценок критиков и продаж для X360 равна:', actual_data.query('platform == \"X360\"')\n",
    "      ['critic_score'].corr(actual_data.query('platform == \"X360\"')['all_sales']))\n",
    "print('Корреляция оценок критиков и продаж для PS4 равна:', actual_data.query('platform == \"PS4\"')\n",
    "      ['critic_score'].corr(actual_data.query('platform == \"PS4\"')['all_sales']))"
   ]
  },
  {
   "cell_type": "markdown",
   "metadata": {},
   "source": [
    "Итак, **корреляция** оценок пользователей и продаж X360 и PS4 очень слабая, корреляция продаж с оценками критиков - слабая"
   ]
  },
  {
   "cell_type": "markdown",
   "metadata": {},
   "source": [
    "**Общее распределение игр по жанрам. Что можно сказать о самых прибыльных жанрах?  \n",
    "Выделяются ли жанры с высокими и низкими продажами?**"
   ]
  },
  {
   "cell_type": "code",
   "execution_count": 35,
   "metadata": {},
   "outputs": [
    {
     "data": {
      "text/html": [
       "<div>\n",
       "<style scoped>\n",
       "    .dataframe tbody tr th:only-of-type {\n",
       "        vertical-align: middle;\n",
       "    }\n",
       "\n",
       "    .dataframe tbody tr th {\n",
       "        vertical-align: top;\n",
       "    }\n",
       "\n",
       "    .dataframe thead th {\n",
       "        text-align: right;\n",
       "    }\n",
       "</style>\n",
       "<table border=\"1\" class=\"dataframe\">\n",
       "  <thead>\n",
       "    <tr style=\"text-align: right;\">\n",
       "      <th></th>\n",
       "      <th>all_sales</th>\n",
       "      <th>name</th>\n",
       "    </tr>\n",
       "    <tr>\n",
       "      <th>genre</th>\n",
       "      <th></th>\n",
       "      <th></th>\n",
       "    </tr>\n",
       "  </thead>\n",
       "  <tbody>\n",
       "    <tr>\n",
       "      <th>Action</th>\n",
       "      <td>0.110</td>\n",
       "      <td>766</td>\n",
       "    </tr>\n",
       "    <tr>\n",
       "      <th>Role-Playing</th>\n",
       "      <td>0.125</td>\n",
       "      <td>292</td>\n",
       "    </tr>\n",
       "    <tr>\n",
       "      <th>Adventure</th>\n",
       "      <td>0.030</td>\n",
       "      <td>245</td>\n",
       "    </tr>\n",
       "    <tr>\n",
       "      <th>Sports</th>\n",
       "      <td>0.240</td>\n",
       "      <td>214</td>\n",
       "    </tr>\n",
       "    <tr>\n",
       "      <th>Shooter</th>\n",
       "      <td>0.450</td>\n",
       "      <td>187</td>\n",
       "    </tr>\n",
       "    <tr>\n",
       "      <th>Misc</th>\n",
       "      <td>0.100</td>\n",
       "      <td>155</td>\n",
       "    </tr>\n",
       "    <tr>\n",
       "      <th>Racing</th>\n",
       "      <td>0.120</td>\n",
       "      <td>85</td>\n",
       "    </tr>\n",
       "    <tr>\n",
       "      <th>Fighting</th>\n",
       "      <td>0.125</td>\n",
       "      <td>80</td>\n",
       "    </tr>\n",
       "    <tr>\n",
       "      <th>Platform</th>\n",
       "      <td>0.225</td>\n",
       "      <td>74</td>\n",
       "    </tr>\n",
       "    <tr>\n",
       "      <th>Simulation</th>\n",
       "      <td>0.100</td>\n",
       "      <td>62</td>\n",
       "    </tr>\n",
       "    <tr>\n",
       "      <th>Strategy</th>\n",
       "      <td>0.080</td>\n",
       "      <td>56</td>\n",
       "    </tr>\n",
       "    <tr>\n",
       "      <th>Puzzle</th>\n",
       "      <td>0.060</td>\n",
       "      <td>17</td>\n",
       "    </tr>\n",
       "  </tbody>\n",
       "</table>\n",
       "</div>"
      ],
      "text/plain": [
       "              all_sales  name\n",
       "genre                        \n",
       "Action            0.110   766\n",
       "Role-Playing      0.125   292\n",
       "Adventure         0.030   245\n",
       "Sports            0.240   214\n",
       "Shooter           0.450   187\n",
       "Misc              0.100   155\n",
       "Racing            0.120    85\n",
       "Fighting          0.125    80\n",
       "Platform          0.225    74\n",
       "Simulation        0.100    62\n",
       "Strategy          0.080    56\n",
       "Puzzle            0.060    17"
      ]
     },
     "execution_count": 35,
     "metadata": {},
     "output_type": "execute_result"
    }
   ],
   "source": [
    "actual_data.pivot_table(\n",
    "    index='genre', values=['all_sales','name'], aggfunc={'all_sales': np.median, \n",
    "                                                        'name': 'count'}).sort_values(by='name', ascending=False)"
   ]
  },
  {
   "cell_type": "markdown",
   "metadata": {},
   "source": [
    "Самые популярные игры за последние 3 года - экшн (с большим отрывом), аркады, спортивные, ролевые и приключенческие игры.\n",
    "При этом, медианное значение продаж у экшнов не очень большое, гораздо меньше, чем у например шутеров.\n",
    "Для большей наглядности, взглянем на эти жанры при помощи \"ящика с усами\":"
   ]
  },
  {
   "cell_type": "code",
   "execution_count": 36,
   "metadata": {},
   "outputs": [
    {
     "data": {
      "image/png": "[encoded data removed]",
      "text/plain": [
       "<Figure size 1440x720 with 1 Axes>"
      ]
     },
     "metadata": {
      "needs_background": "light"
     },
     "output_type": "display_data"
    }
   ],
   "source": [
    "actual_data.boxplot(column = ['all_sales'],by = ['genre'],figsize=(20, 10))\n",
    "plt.ylim([0, 5])\n",
    "plt.show()"
   ]
  },
  {
   "cell_type": "code",
   "execution_count": 37,
   "metadata": {},
   "outputs": [
    {
     "data": {
      "image/png": "[encoded data removed]",
      "text/plain": [
       "<Figure size 1440x720 with 1 Axes>"
      ]
     },
     "metadata": {
      "needs_background": "light"
     },
     "output_type": "display_data"
    }
   ],
   "source": [
    "actual_data.boxplot(column = ['all_sales'],by = ['genre'],figsize=(20, 10))\n",
    "plt.ylim(0, 2)\n",
    "plt.show()"
   ]
  },
  {
   "cell_type": "markdown",
   "metadata": {},
   "source": [
    "**Вывод:**\n",
    "Жанр \"Action\", хоть и является самым кассовым в сумме, но достигается это за счёт количества продаж. Медианное значение наибольшее у шутеров - возможно на продвижение игр в этом жанре и стоит сделать ставку."
   ]
  },
  {
   "cell_type": "markdown",
   "metadata": {},
   "source": [
    "**Выводы по исследовательскому анализу данных:**\n",
    "- До 1995 года выпускалось не так много игр, серьезный рост пошел в середине 1990-х и достигнул пика к концу нулевых. Начиная с 2010 года число релизов падает, что можно объяснить усложнением их разработки, добавлением новых игровых возможностей в уже существующих играх, а также возросшим числом мобильных приложений, отнимающих аудиторию у разработчиков игр для консолей.  \n",
    "- Средний срок жизни игровой платформы - 10 лет. Пика продаж платформы достигают спустя 4-5 лет после выпуска и постепенно вытесняются более новыми моделями.  \n",
    "- Игры часто перевыпускаются, платформы быстро достигают пика, индустрия очень динамична, в связи с этим актуальным периодом для исследования был выбран временной промежуток в 3 года.\n",
    "- Основными платформами, на которые можно делать ставку являются PS4 и XOne - они появились не так давно и еще имеют потенциал к продажам.\n",
    "- Лучшими по количеству общих продаж и их медианному значению являются консоли WiU, PS4, X360 и XOne.  \n",
    "- Оценки пользователей не влияют на продажи игр. Оценки критиков влияют, но не сильно.\n",
    "- Самые прибыльные жанры - жанры \"action\", спортивные и ролевые игры. Стоит отметить и шутеры - этих игр не так много, но продаются они очень хорошо.\n"
   ]
  },
  {
   "cell_type": "markdown",
   "metadata": {},
   "source": [
    "### Составление портрета пользователя каждого региона."
   ]
  },
  {
   "cell_type": "markdown",
   "metadata": {},
   "source": [
    "**Самые популярные платформы для каждого региона**"
   ]
  },
  {
   "cell_type": "code",
   "execution_count": 38,
   "metadata": {},
   "outputs": [],
   "source": [
    "#Создадим таблицы с продажами топ-5 платформ в различных регионах\n",
    "na_platforms = actual_data.pivot_table(\n",
    "    index='platform', values='na_sales', aggfunc='sum').sort_values(by='na_sales', ascending=False).head()\n",
    "eu_platforms = actual_data.pivot_table(\n",
    "    index='platform', values='eu_sales', aggfunc='sum').sort_values(by='eu_sales', ascending=False).head()\n",
    "jp_platforms = actual_data.pivot_table(\n",
    "    index='platform', values='jp_sales', aggfunc='sum').sort_values(by='jp_sales', ascending=False).head()"
   ]
  },
  {
   "cell_type": "code",
   "execution_count": 39,
   "metadata": {},
   "outputs": [
    {
     "data": {
      "image/png": "[encoded data removed]",
      "text/plain": [
       "<Figure size 432x288 with 1 Axes>"
      ]
     },
     "metadata": {},
     "output_type": "display_data"
    },
    {
     "data": {
      "image/png": "[encoded data removed]",
      "text/plain": [
       "<Figure size 432x288 with 1 Axes>"
      ]
     },
     "metadata": {},
     "output_type": "display_data"
    },
    {
     "data": {
      "image/png": "[encoded data removed]",
      "text/plain": [
       "<Figure size 432x288 with 1 Axes>"
      ]
     },
     "metadata": {},
     "output_type": "display_data"
    }
   ],
   "source": [
    "#Посмторим на доли продаж топ-5 платформ для каждого региона\n",
    "labels = na_platforms.index.tolist()\n",
    "shares = na_platforms['na_sales'].tolist()\n",
    "\n",
    "colors = ( \"orange\", \"cyan\", \"brown\", \n",
    "          \"grey\", 'green') \n",
    "fig1, ax1 = plt.subplots()\n",
    "explode = (0, 0, 0, 0, 0) \n",
    "\n",
    "ax1.pie(shares, colors = colors, explode=explode, labels=labels,autopct='%1.1f%%', shadow=True, startangle=90)\n",
    "patches, texts, auto = ax1.pie(shares, colors=colors, shadow=True, startangle=90,explode=explode, autopct='%1.1f%%' )\n",
    "\n",
    "plt.title('Доля продаж среди топ-5 платформ в Северной Америке (%)')\n",
    "plt.show()\n",
    "\n",
    "labels = eu_platforms.index.tolist()\n",
    "shares = eu_platforms['eu_sales'].tolist()\n",
    "\n",
    "colors = ( \"orange\", \"cyan\", \"brown\", \n",
    "          \"grey\", 'green') \n",
    "fig1, ax1 = plt.subplots()\n",
    "explode = (0, 0, 0, 0, 0) \n",
    "\n",
    "ax1.pie(shares, colors = colors, explode=explode, labels=labels,autopct='%1.1f%%', shadow=True, startangle=90)\n",
    "patches, texts, auto = ax1.pie(shares, colors=colors, shadow=True, startangle=90,explode=explode, autopct='%1.1f%%' )\n",
    "\n",
    "plt.title('Доля продаж среди топ-5 платформ в Европе (%)')\n",
    "plt.show()\n",
    "\n",
    "labels = jp_platforms.index.tolist()\n",
    "shares = jp_platforms['jp_sales'].tolist()\n",
    "\n",
    "colors = ( \"orange\", \"cyan\", \"brown\", \n",
    "          \"grey\", 'green') \n",
    "fig1, ax1 = plt.subplots()\n",
    "explode = (0, 0, 0, 0, 0) \n",
    "\n",
    "ax1.pie(shares, colors = colors, explode=explode, labels=labels,autopct='%1.1f%%', shadow=True, startangle=90)\n",
    "patches, texts, auto = ax1.pie(shares, colors=colors, shadow=True, startangle=90,explode=explode, autopct='%1.1f%%' )\n",
    "\n",
    "plt.title('Доля продаж среди топ-5 платформ в Японии (%)')\n",
    "plt.show()"
   ]
  },
  {
   "cell_type": "markdown",
   "metadata": {},
   "source": [
    "Как видно из диаграмм, в Европе и Северной Америке **топ-5 платформ** схожи. Почти половина продаж в Америке приходится на продукцию XBox, но самая популярная платформа - PS4. В топ-5 также встречается PS3 и 3DS. В Европе явно лидирует Sony, за ней приставки от XBox и 3DS.\n",
    "В Японии ситуация несколько иная. Почти половину продаж от 5-консолей приходится на долю Nintendo 3DS. Также пользуются популярностью PS3 и PS4. Достаточно хорошо продаются и игры для портативной приставки PSV."
   ]
  },
  {
   "cell_type": "markdown",
   "metadata": {},
   "source": [
    "**Самые популярные жанры в каждом регионе**"
   ]
  },
  {
   "cell_type": "code",
   "execution_count": 40,
   "metadata": {},
   "outputs": [],
   "source": [
    "#Создадим таблицы для каждого региона - топ-5 самых популярных жанров (по сумме продаж)\n",
    "na_genres = actual_data.pivot_table(\n",
    "    index='genre', values='na_sales', aggfunc='sum').sort_values(by='na_sales', ascending=False).head()\n",
    "eu_genres = actual_data.pivot_table(\n",
    "    index='genre', values='eu_sales', aggfunc='sum').sort_values(by='eu_sales', ascending=False).head()\n",
    "jp_genres = actual_data.pivot_table(\n",
    "    index='genre', values='jp_sales', aggfunc='sum').sort_values(by='jp_sales', ascending=False).head()"
   ]
  },
  {
   "cell_type": "code",
   "execution_count": 41,
   "metadata": {},
   "outputs": [
    {
     "data": {
      "image/png": "[encoded data removed]",
      "text/plain": [
       "<Figure size 432x288 with 1 Axes>"
      ]
     },
     "metadata": {},
     "output_type": "display_data"
    },
    {
     "data": {
      "image/png": "[encoded data removed]",
      "text/plain": [
       "<Figure size 432x288 with 1 Axes>"
      ]
     },
     "metadata": {},
     "output_type": "display_data"
    },
    {
     "data": {
      "image/png": "[encoded data removed]",
      "text/plain": [
       "<Figure size 432x288 with 1 Axes>"
      ]
     },
     "metadata": {},
     "output_type": "display_data"
    }
   ],
   "source": [
    "#Посмторим на доли продаж топ-5 жанров для каждого региона\n",
    "labels = na_genres.index.tolist()\n",
    "shares = na_genres['na_sales'].tolist()\n",
    "\n",
    "colors = ( \"orange\", \"cyan\", \"brown\", \n",
    "          \"grey\", 'green') \n",
    "fig1, ax1 = plt.subplots()\n",
    "explode = (0, 0, 0, 0, 0) \n",
    "\n",
    "ax1.pie(shares, colors = colors, explode=explode, labels=labels,autopct='%1.1f%%', shadow=True, startangle=90)\n",
    "patches, texts, auto = ax1.pie(shares, colors=colors, shadow=True, startangle=90,explode=explode, autopct='%1.1f%%' )\n",
    "\n",
    "plt.title('Доля продаж среди топ-5 жанров в Северной Америке (%)')\n",
    "plt.show()\n",
    "\n",
    "labels = eu_genres.index.tolist()\n",
    "shares = eu_genres['eu_sales'].tolist()\n",
    "\n",
    "colors = ( \"orange\", \"cyan\", \"brown\", \n",
    "          \"grey\", 'green') \n",
    "fig1, ax1 = plt.subplots()\n",
    "explode = (0, 0, 0, 0, 0) \n",
    "\n",
    "ax1.pie(shares, colors = colors, explode=explode, labels=labels,autopct='%1.1f%%', shadow=True, startangle=90)\n",
    "patches, texts, auto = ax1.pie(shares, colors=colors, shadow=True, startangle=90,explode=explode, autopct='%1.1f%%' )\n",
    "\n",
    "plt.title('Доля продаж среди топ-5 жанров в Европе (%)')\n",
    "plt.show()\n",
    "\n",
    "labels = jp_genres.index.tolist()\n",
    "shares = jp_genres['jp_sales'].tolist()\n",
    "\n",
    "colors = ( \"orange\", \"cyan\", \"brown\", \n",
    "          \"grey\", 'green') \n",
    "fig1, ax1 = plt.subplots()\n",
    "explode = (0, 0, 0, 0, 0) \n",
    "\n",
    "ax1.pie(shares, colors = colors, explode=explode, labels=labels,autopct='%1.1f%%', shadow=True, startangle=90)\n",
    "patches, texts, auto = ax1.pie(shares, colors=colors, shadow=True, startangle=90,explode=explode, autopct='%1.1f%%' )\n",
    "\n",
    "plt.title('Доля продаж среди топ-5 жанров в Японии (%)')\n",
    "plt.show()"
   ]
  },
  {
   "cell_type": "markdown",
   "metadata": {},
   "source": [
    "Ситуация **с самыми популярными жанрами** в Северной Америке и Европе практически одинаковая - самый популярный жанр - Action, затем игры где можно пострелять, далее спортивные игры. 4 место за ролевыми играми, на пятом в США аркады, а в Европе гонки.  \n",
    "В Японии расклад иной. Игры в жанре Action также популярны, но при этом они только на втором месте после ролевых игр. Спортивные игры японцами не очень востребованы, вместо них в топ-5 есть игры жанра \"Fighting\".  Аркады, как и в США набирают около 7-8 процентов, а шутеры занимают скромную пятую позицию.  "
   ]
  },
  {
   "cell_type": "markdown",
   "metadata": {},
   "source": [
    "**Влияет ли рейтинг ESRB на продажи в отдельном регионе?**"
   ]
  },
  {
   "cell_type": "code",
   "execution_count": 42,
   "metadata": {},
   "outputs": [
    {
     "data": {
      "image/png": "[encoded data removed]",
      "text/plain": [
       "<Figure size 432x288 with 1 Axes>"
      ]
     },
     "metadata": {
      "needs_background": "light"
     },
     "output_type": "display_data"
    },
    {
     "data": {
      "image/png": "[encoded data removed]",
      "text/plain": [
       "<Figure size 432x288 with 1 Axes>"
      ]
     },
     "metadata": {
      "needs_background": "light"
     },
     "output_type": "display_data"
    },
    {
     "data": {
      "image/png": "[encoded data removed]",
      "text/plain": [
       "<Figure size 432x288 with 1 Axes>"
      ]
     },
     "metadata": {
      "needs_background": "light"
     },
     "output_type": "display_data"
    }
   ],
   "source": [
    "#Посмотрим на влияние рейтинга ESRB:\n",
    "actual_data.groupby(by='rating').agg({'na_sales':'sum'}).sort_values(by='na_sales', ascending=False).plot(kind='bar', rot = 60, title = 'Влияние рейтинга на продажи в Северной Америке')\n",
    "actual_data.groupby(by='rating').agg({'eu_sales':'sum'}).sort_values(by='eu_sales', ascending=False).plot(kind='bar', rot = 60, title = 'Влияние рейтинга на продажи в Европе')\n",
    "actual_data.groupby(by='rating').agg({'jp_sales':'sum'}).sort_values(by='jp_sales', ascending=False).plot(kind='bar', rot = 60, title = 'Влияние рейтинга на продажи в Японии')\n",
    "plt.show()"
   ]
  },
  {
   "cell_type": "markdown",
   "metadata": {},
   "source": [
    "**Рейтинг влияет** на продажи в каждом из регионов.  \n",
    "Во-первых стоит отметить, что рейтинг ESRB предназначен для маркировки североамериканских игр, поэтому неудивительно большое количество продаж игр без рейтинга в Европе и особенно, в Японии.\n",
    "Вновь видно сходство Северной Америки и Европы. Больше всего денег приносят игры категории M - для взрослых. \n",
    "В Японии на лидирующих позициях игры для подростков (T) и для всех (E).  \n",
    "Игры для детей от 10 лет (E10+) в Европе и Америке находятся на одном уровне с играми для тинейджеров, а вот в Японии они представлены гораздо меньше."
   ]
  },
  {
   "cell_type": "markdown",
   "metadata": {},
   "source": [
    "**Портрет пользователя каждого региона:**  \n",
    "Жители США и Канады схожи с жителями Европы, а вот японские геймеры отличаются от своих западных коллег.  \n",
    "  \n",
    "Итак, выводы по данным из **Северной Америки:**  \n",
    "Самая популярная платформа - PS4. Далее следует X360, XOnePS3, Wii.  \n",
    "Самый популярный жанр - Action. Немного отстают шутеры. Также в топ-5 спортивные и ролевые игры и аркады.  \n",
    "Самый популярный рейтинг - M (для взрослых). Он значительно опережает все остальные игры. \n",
    "\n",
    "  \n",
    "Выводы по данным из **Европы:**  \n",
    "Самая популярная платформа - PS4. За ней следуют PS3, X360, XOne и 3DS \n",
    "Самый популярный жанр - Action. В своих предпочтениях европейцы похожи на североамериканцев, в топ-5 также есть шутеры, спортивные и ролевые игры, а вместо аркад - гонки.  \n",
    "С рейтингом такая же ситуация, как и в Северной Америке. Лидируют игры с рейтингом M (для взрослых). Достаточно большая доля у игр с рейтингом E (для всех), далее идут игры для  детей и подростков.  \n",
    "  \n",
    "Выводы по данным из **Японии:** \n",
    "Портрет среднего японца отличается от портрета среднего европейца или американца.  \n",
    "Самая популярная в Японии консоль - местная Nintendo 3DS. Также большим спросом пользуется PS3. В топ-5 входят PS4, WiiU и PSV. Отметим любовь японцев к портативным консолям (PSV) - такого большого процента продаж игр для этой платформы нет ни в Европе ни в Америке.  \n",
    "Главный игровой жанр для японцев - ролевые игры. На них приходится почти половина от продаж топ-5 жанров. Еще треть на игры в стиле Action. Оставшиеся в топ-5 жанры это аркады, файтинги и шутеры.  \n",
    "Самые популярный рейтинг для игр в Японии - T. Игры только для взрослых здесь пользуются меньшим спросом, чем на Западе, уступая также и играм для всех. Однако, надо сказать, что большинство игр, продающихся в Японии не имеют ESRB рейтинга, поэтому говорить о каких-то возрастных тенденциях с большой долей уверенности трудно. \n"
   ]
  },
  {
   "cell_type": "markdown",
   "metadata": {},
   "source": [
    "### Проверка гипотез."
   ]
  },
  {
   "cell_type": "markdown",
   "metadata": {},
   "source": [
    "**Гипотеза №1.**  \n",
    "\n",
    "**Средние пользовательские рейтинги платформ Xbox One и PC одинаковы**"
   ]
  },
  {
   "cell_type": "markdown",
   "metadata": {},
   "source": [
    "**Сформулируем нулевую и анльтернативную гипотезы:**\n",
    "\n",
    "Нулевая гипотеза будет гласить о том, что средние пользовательские рейтинги для рассматриваемых платформ равны. Альтернативная гипотеза будет утверждать обратное. Итак:  \n",
    "\n",
    "Н0: Средний пользовательский рейтинг платформ Xbox One и PC одинаковый\n",
    "H1: Средний пользовательский рейтинг платформ Xbox One и PC различается\n",
    "\n",
    "Выборки между собой независимы, следовательно можно использовать t-test. Существует специальный метод для проверки гипотезы о равенстве среднего двух генеральных совокупностей по взятым из них выборкам. Его мы и используем"
   ]
  },
  {
   "cell_type": "code",
   "execution_count": 43,
   "metadata": {},
   "outputs": [
    {
     "name": "stdout",
     "output_type": "stream",
     "text": [
      "Средняя оценка пользователей XOne: 6.521428571428572\n",
      "Средняя оценка пользователей PC: 6.269677419354839\n"
     ]
    }
   ],
   "source": [
    "#Введём две переменные, оценки по двум интересующим нас платформам. Заодно посмотрим их среднее значение\n",
    "xone_user_scores = actual_data[(actual_data['platform'] == 'XOne')]['user_score']\n",
    "print(\"Средняя оценка пользователей XOne:\", xone_user_scores.mean())\n",
    "pc_user_scores = actual_data[(actual_data['platform'] == 'PC')]['user_score']\n",
    "print(\"Средняя оценка пользователей PC:\", pc_user_scores.mean())"
   ]
  },
  {
   "cell_type": "code",
   "execution_count": 44,
   "metadata": {},
   "outputs": [
    {
     "data": {
      "text/plain": [
       "6.521428571428572"
      ]
     },
     "execution_count": 44,
     "metadata": {},
     "output_type": "execute_result"
    }
   ],
   "source": [
    "xone_user_scores.mean()"
   ]
  },
  {
   "cell_type": "code",
   "execution_count": 45,
   "metadata": {},
   "outputs": [
    {
     "name": "stdout",
     "output_type": "stream",
     "text": [
      "p-значение: 0.14759594013430463\n",
      "Не получилось отвергнуть нулевую гипотезу\n"
     ]
    }
   ],
   "source": [
    "#задаём пороговый уровень статистической значимости\n",
    "alpha = .05\n",
    "\n",
    "#проведём тест и выведем результат\n",
    "results = st.ttest_ind(xone_user_scores.dropna(), pc_user_scores.dropna(), equal_var = False)\n",
    "print('p-значение:', results.pvalue)\n",
    "if (results.pvalue < alpha):\n",
    "    print(\"Отвергаем нулевую гипотезу\")\n",
    "else:\n",
    "    print(\"Не получилось отвергнуть нулевую гипотезу\")"
   ]
  },
  {
   "cell_type": "markdown",
   "metadata": {},
   "source": [
    "**Вывод:**  \n",
    "P-значение – это вероятность получить значение статистики критерия равное наблюдаемому или более нетипичное по сравнению с наблюдаемым при условии, что нулевая гипотеза верна. В нашем случае эта вероятность равна почти 15 процентам, нулевую гипотезу отвергнуть не удалось.  \n",
    "Таким образом, можно считать, что статистической разницы между оценками пользователей для платформ XOne и PC нет. "
   ]
  },
  {
   "cell_type": "markdown",
   "metadata": {},
   "source": [
    "**Гипотеза №2**  \n",
    "**Средние пользовательские рейтинги жанров Action (англ. «действие», экшен-игры) и Sports (англ. «спортивные соревнования») разные**\n",
    "\n",
    "Сформулируем нулевую и альтернативную гипотезы, пользуясь той же логикой, что и в предыдущем пункте. \n",
    "\n",
    "H0: Средние пользовательские рейтинги жанров Action и Sports равны.  \n",
    "H1: Средние пользовательские рейтинги жанров Action и Sports различаются"
   ]
  },
  {
   "cell_type": "code",
   "execution_count": 46,
   "metadata": {},
   "outputs": [
    {
     "name": "stdout",
     "output_type": "stream",
     "text": [
      "Средняя оценка пользователей для игр жанра Action: 6.837532133676093\n",
      "Средняя оценка пользователей для игр жанра Sports: 5.238124999999999\n"
     ]
    }
   ],
   "source": [
    "#Введём две переменные, оценки по двум интересующим нас жанрам. Заодно посмотрим их среднее значение\n",
    "xone_user_scores = actual_data[(actual_data['platform'] == 'XOne')]['user_score']\n",
    "action_user_scores = actual_data[(actual_data['genre'] == 'Action')]['user_score']\n",
    "print(\"Средняя оценка пользователей для игр жанра Action:\", action_user_scores.mean())\n",
    "sports_user_scores = actual_data[(actual_data['genre'] == 'Sports')]['user_score']\n",
    "print(\"Средняя оценка пользователей для игр жанра Sports:\", sports_user_scores.mean())"
   ]
  },
  {
   "cell_type": "code",
   "execution_count": 47,
   "metadata": {},
   "outputs": [
    {
     "name": "stdout",
     "output_type": "stream",
     "text": [
      "p-значение: 1.4460039700704315e-20\n",
      "Отвергаем нулевую гипотезу\n"
     ]
    }
   ],
   "source": [
    "#Применим тот же тест, что и в первой гипотезе\n",
    "alpha = .05\n",
    "results = st.ttest_ind(action_user_scores.dropna(), sports_user_scores.dropna(), equal_var = False)\n",
    "print('p-значение:', results.pvalue)\n",
    "if (results.pvalue < alpha):\n",
    "    print(\"Отвергаем нулевую гипотезу\")\n",
    "else:\n",
    "    print(\"Не получилось отвергнуть нулевую гипотезу\")"
   ]
  },
  {
   "cell_type": "markdown",
   "metadata": {},
   "source": [
    "**Вывод:**  \n",
    "Нулевая гипотеза отвергнута, следовательно принимаем альтернативную - средние пользовательские рейтинги жанров Action и Sports различаются."
   ]
  },
  {
   "cell_type": "markdown",
   "metadata": {},
   "source": [
    "### Общий вывод"
   ]
  },
  {
   "cell_type": "markdown",
   "metadata": {},
   "source": [
    "Перед тем, как приступить к анализу данных была проведена их **предобработка:**  \n",
    "- названия стоблцов приведены к нижнему регистру\n",
    "- удалены две неинформативные строки\n",
    "- изменен тип данных в столбцах с выходом игры и оценкой пользователей\n",
    "- рассмотрели пропущенные данные:\n",
    "- пропуски в столбцах с рейтингом заменены на значение \"неизвестно\"\n",
    "- пропуски в столбцах с оценками пользователей и критиков оставлены без изменений\n",
    "- создан отдельный столбец с суммой продаж по всем регионам\n",
    "\n",
    "**Выводы по исследовательскому анализу данных:**\n",
    "- Средний срок жизни игровой платформы - 10 лет. Пика продаж платформы достигают спустя 4-5 лет после выпуска и постепенно вытесняются более новыми моделями.  \n",
    "- В связи с этим, актуальным периодом для исследования был выбран временной промежуток в 3 года.\n",
    "- Основными платформами, на которые можно делать ставку являются PS4 и XOne - они появились не так давно и еще имеют потенциал к продажам.\n",
    "- Лучшими по количеству общих продаж и их медианному значению являются консоли PS4, X360, XOne, WiiU.  \n",
    "- Оценки пользователей не влияют на продажи игр. Оценки критиков влияют, но не сильно.\n",
    "- Самые прибыльные жанры - жанры \"action\", спортивные и ролевые игры. Стоит отметить и шутеры - этих игр не так много, но продаются они очень хорошо.\n",
    "\n",
    "В ходе исследованния был составлен **портрет пользователей каждого региона:**\n",
    "- Предпочтения Европейцев и Североамериканцев схожи: самые популярные консоли в этих регионах - PS4, XOne и PS3, самые популярные жанры - Action и Shooter. Лучше всего продаются игры с рейтингом M (только для взрослых)\n",
    "- В Японии ситуация иная. Самая популярная платформа - Nintendo 3DS, жанр - ролевая игра, рейтинг - T (для тинейджеров).\n",
    "\n",
    "В тоже время, в каждом из регионов достаточно большая доля продаж приходится на игры без рейтинга - на них стоит обращать повышенное внимание.  \n",
    "\n",
    "**В рамках проекта были проверены гипотезы:**\n",
    "- Средние пользовательские рейтинги платформ Xbox One и PC одинаковы\n",
    "- Средние пользовательские рейтинги жанров Action (англ. «действие», экшен-игры) и Sports (англ. «спортивные соревнования») разные\n",
    "\n",
    "В первом случае с утверждением можно согласиться: значительных статистических отличий между средними оценками у этих двух платформ нет.  \n",
    "Второе утверждение также кажется верным - средние оценки для этих двух жанров не равны.  \n",
    "\n",
    "Итак, опираясь на данные исследования можно отметить:  \n",
    "- В данный момент наиболее перспективными платформами являются Sony Playstation 4 и Xbox One. Это консоли имеют ещё несколько лет \"жизни\".\n",
    "- Самый перспективный жанр - Shooter. Игр этого жанра не так много, но среднее их продаж на порядок выше, чем у наиболее распространенных Action.\n",
    "\n",
    "**Рекомендации для рекламного отдела:**\n",
    "- Рекламу необходимо таргетировать по регионам:\n",
    "-  Для Европы, США и Канады стоит сделать ставку на современные платформы от XBox и Sony, игры в жанре Shooter и Action с рейтингом M.\n",
    "- Для Японии наиболее актуальны консоли от Nintendo, предпочтение стоит отдать ролевым играм без возрастных ограничений.\n",
    "- Игры без рейтинга от ESRB хорошо продаются во всех регионах, на них также стоит обратить внимание\n",
    "\n",
    "- Конкретные предложения по рекламным компаниям:\n",
    "- Для США и Европы: шутеры, выпускаемые на PS4, без рейтинга или с рейтингом M\n",
    "- Для Японии: ролевые игры на Nintendo 3DS, без рейтинга или с рейтингом E"
   ]
  }
 ],
 "metadata": {
  "ExecuteTimeLog": [
   {
    "duration": 0,
    "start_time": "2022-08-22T09:29:05.864Z"
   },
   {
    "duration": 0,
    "start_time": "2022-08-22T09:29:05.866Z"
   },
   {
    "duration": 46,
    "start_time": "2022-08-22T09:29:06.469Z"
   },
   {
    "duration": 48,
    "start_time": "2022-08-22T09:29:08.933Z"
   },
   {
    "duration": 6,
    "start_time": "2022-08-22T09:29:09.733Z"
   },
   {
    "duration": 419,
    "start_time": "2022-08-22T09:29:20.358Z"
   },
   {
    "duration": 55,
    "start_time": "2022-08-22T09:29:28.533Z"
   },
   {
    "duration": 15,
    "start_time": "2022-08-22T09:29:46.518Z"
   },
   {
    "duration": 13,
    "start_time": "2022-08-22T09:29:53.711Z"
   },
   {
    "duration": 73,
    "start_time": "2022-08-22T09:30:04.262Z"
   },
   {
    "duration": 1468,
    "start_time": "2022-08-23T07:20:55.348Z"
   },
   {
    "duration": 484,
    "start_time": "2022-08-23T07:22:03.442Z"
   },
   {
    "duration": 18,
    "start_time": "2022-08-23T07:22:26.898Z"
   },
   {
    "duration": 152,
    "start_time": "2022-08-23T07:27:53.053Z"
   },
   {
    "duration": 83,
    "start_time": "2022-08-23T07:28:02.012Z"
   },
   {
    "duration": 65,
    "start_time": "2022-08-23T07:28:44.092Z"
   },
   {
    "duration": 40,
    "start_time": "2022-08-23T07:28:58.204Z"
   },
   {
    "duration": 4,
    "start_time": "2022-08-23T07:31:06.837Z"
   },
   {
    "duration": 66,
    "start_time": "2022-08-23T07:31:07.174Z"
   },
   {
    "duration": 32,
    "start_time": "2022-08-23T07:31:07.782Z"
   },
   {
    "duration": 30,
    "start_time": "2022-08-23T07:32:10.790Z"
   },
   {
    "duration": 296,
    "start_time": "2022-08-23T07:32:29.671Z"
   },
   {
    "duration": 446,
    "start_time": "2022-08-23T07:32:35.695Z"
   },
   {
    "duration": 15,
    "start_time": "2022-08-23T07:32:53.919Z"
   },
   {
    "duration": 11,
    "start_time": "2022-08-23T07:38:39.033Z"
   },
   {
    "duration": 20,
    "start_time": "2022-08-23T07:39:35.842Z"
   },
   {
    "duration": 4,
    "start_time": "2022-08-23T07:40:39.962Z"
   },
   {
    "duration": 4,
    "start_time": "2022-08-23T07:45:00.002Z"
   },
   {
    "duration": 5,
    "start_time": "2022-08-23T07:47:26.364Z"
   },
   {
    "duration": 12,
    "start_time": "2022-08-23T07:48:20.572Z"
   },
   {
    "duration": 10,
    "start_time": "2022-08-23T07:49:51.468Z"
   },
   {
    "duration": 25,
    "start_time": "2022-08-23T07:50:00.420Z"
   },
   {
    "duration": 9,
    "start_time": "2022-08-23T07:52:49.917Z"
   },
   {
    "duration": 12,
    "start_time": "2022-08-23T07:52:58.725Z"
   },
   {
    "duration": 28,
    "start_time": "2022-08-23T07:54:06.798Z"
   },
   {
    "duration": 21,
    "start_time": "2022-08-23T07:54:21.102Z"
   },
   {
    "duration": 19,
    "start_time": "2022-08-23T07:54:32.573Z"
   },
   {
    "duration": 19,
    "start_time": "2022-08-23T07:54:42.446Z"
   },
   {
    "duration": 19,
    "start_time": "2022-08-23T07:55:48.006Z"
   },
   {
    "duration": 37,
    "start_time": "2022-08-23T07:57:02.016Z"
   },
   {
    "duration": 14,
    "start_time": "2022-08-23T07:57:45.967Z"
   },
   {
    "duration": 1290,
    "start_time": "2022-08-23T07:57:57.159Z"
   },
   {
    "duration": 16,
    "start_time": "2022-08-23T07:58:41.135Z"
   },
   {
    "duration": 5,
    "start_time": "2022-08-23T07:59:07.774Z"
   },
   {
    "duration": 24,
    "start_time": "2022-08-23T07:59:19.534Z"
   },
   {
    "duration": 29,
    "start_time": "2022-08-23T08:06:24.519Z"
   },
   {
    "duration": 25,
    "start_time": "2022-08-23T08:06:59.605Z"
   },
   {
    "duration": 32,
    "start_time": "2022-08-23T08:11:59.037Z"
   },
   {
    "duration": 45,
    "start_time": "2022-08-23T08:12:18.630Z"
   },
   {
    "duration": 33,
    "start_time": "2022-08-23T08:12:41.245Z"
   },
   {
    "duration": 45,
    "start_time": "2022-08-23T08:12:49.687Z"
   },
   {
    "duration": 33,
    "start_time": "2022-08-23T08:13:17.622Z"
   },
   {
    "duration": 42,
    "start_time": "2022-08-23T08:13:32.870Z"
   },
   {
    "duration": 48,
    "start_time": "2022-08-23T08:13:52.190Z"
   },
   {
    "duration": 46,
    "start_time": "2022-08-23T08:13:59.950Z"
   },
   {
    "duration": 2,
    "start_time": "2022-08-23T08:14:53.548Z"
   },
   {
    "duration": 21,
    "start_time": "2022-08-23T08:17:47.677Z"
   },
   {
    "duration": 76,
    "start_time": "2022-08-23T08:18:11.005Z"
   },
   {
    "duration": 380,
    "start_time": "2022-08-23T08:18:25.076Z"
   },
   {
    "duration": 36,
    "start_time": "2022-08-23T08:18:41.580Z"
   },
   {
    "duration": 245,
    "start_time": "2022-08-23T08:18:42.133Z"
   },
   {
    "duration": 10,
    "start_time": "2022-08-23T08:18:42.844Z"
   },
   {
    "duration": 220,
    "start_time": "2022-08-23T08:22:00.685Z"
   },
   {
    "duration": 11,
    "start_time": "2022-08-23T08:22:01.709Z"
   },
   {
    "duration": 191,
    "start_time": "2022-08-23T08:22:08.000Z"
   },
   {
    "duration": 6,
    "start_time": "2022-08-23T08:22:13.389Z"
   },
   {
    "duration": 5,
    "start_time": "2022-08-23T08:23:17.308Z"
   },
   {
    "duration": 30,
    "start_time": "2022-08-23T08:23:49.476Z"
   },
   {
    "duration": 15,
    "start_time": "2022-08-23T08:24:05.708Z"
   },
   {
    "duration": 12,
    "start_time": "2022-08-23T08:25:12.997Z"
   },
   {
    "duration": 12,
    "start_time": "2022-08-23T08:25:19.773Z"
   },
   {
    "duration": 11,
    "start_time": "2022-08-23T08:25:29.579Z"
   },
   {
    "duration": 33,
    "start_time": "2022-08-23T08:34:25.879Z"
   },
   {
    "duration": 34,
    "start_time": "2022-08-23T08:36:55.374Z"
   },
   {
    "duration": 33,
    "start_time": "2022-08-23T08:37:49.790Z"
   },
   {
    "duration": 31,
    "start_time": "2022-08-23T08:37:57.343Z"
   },
   {
    "duration": 10,
    "start_time": "2022-08-23T08:48:17.855Z"
   },
   {
    "duration": 18,
    "start_time": "2022-08-23T08:48:26.487Z"
   },
   {
    "duration": 20,
    "start_time": "2022-08-23T08:48:32.886Z"
   },
   {
    "duration": 3,
    "start_time": "2022-08-23T08:51:16.431Z"
   },
   {
    "duration": 5,
    "start_time": "2022-08-23T08:51:17.271Z"
   },
   {
    "duration": 1668,
    "start_time": "2022-08-23T08:52:35.063Z"
   },
   {
    "duration": 9,
    "start_time": "2022-08-23T08:52:46.792Z"
   },
   {
    "duration": 15,
    "start_time": "2022-08-23T08:52:53.439Z"
   },
   {
    "duration": 8,
    "start_time": "2022-08-23T08:55:30.384Z"
   },
   {
    "duration": 6,
    "start_time": "2022-08-23T08:55:50.439Z"
   },
   {
    "duration": 6,
    "start_time": "2022-08-23T08:58:19.432Z"
   },
   {
    "duration": 6,
    "start_time": "2022-08-23T08:59:00.728Z"
   },
   {
    "duration": 5,
    "start_time": "2022-08-23T08:59:01.560Z"
   },
   {
    "duration": 20,
    "start_time": "2022-08-23T08:59:02.222Z"
   },
   {
    "duration": 7,
    "start_time": "2022-08-23T09:01:04.761Z"
   },
   {
    "duration": 11,
    "start_time": "2022-08-23T09:02:24.136Z"
   },
   {
    "duration": 7,
    "start_time": "2022-08-23T09:02:30.889Z"
   },
   {
    "duration": 14,
    "start_time": "2022-08-23T09:02:46.880Z"
   },
   {
    "duration": 11,
    "start_time": "2022-08-23T09:03:16.641Z"
   },
   {
    "duration": 8,
    "start_time": "2022-08-23T09:03:43.528Z"
   },
   {
    "duration": 13,
    "start_time": "2022-08-23T09:05:22.433Z"
   },
   {
    "duration": 7,
    "start_time": "2022-08-23T09:05:28.344Z"
   },
   {
    "duration": 15,
    "start_time": "2022-08-23T09:06:17.561Z"
   },
   {
    "duration": 18,
    "start_time": "2022-08-23T09:07:29.168Z"
   },
   {
    "duration": 13,
    "start_time": "2022-08-23T09:08:06.769Z"
   },
   {
    "duration": 16,
    "start_time": "2022-08-23T09:08:42.345Z"
   },
   {
    "duration": 14,
    "start_time": "2022-08-23T09:08:52.281Z"
   },
   {
    "duration": 8,
    "start_time": "2022-08-23T09:09:41.379Z"
   },
   {
    "duration": 17,
    "start_time": "2022-08-23T09:10:03.561Z"
   },
   {
    "duration": 11,
    "start_time": "2022-08-23T09:10:22.153Z"
   },
   {
    "duration": 7,
    "start_time": "2022-08-23T09:10:41.273Z"
   },
   {
    "duration": 7,
    "start_time": "2022-08-23T09:11:35.914Z"
   },
   {
    "duration": 17,
    "start_time": "2022-08-23T09:11:58.089Z"
   },
   {
    "duration": 78,
    "start_time": "2022-08-23T09:15:46.075Z"
   },
   {
    "duration": 4,
    "start_time": "2022-08-23T09:15:53.091Z"
   },
   {
    "duration": 16,
    "start_time": "2022-08-23T09:16:00.043Z"
   },
   {
    "duration": 16,
    "start_time": "2022-08-23T09:16:07.362Z"
   },
   {
    "duration": 8,
    "start_time": "2022-08-23T09:17:10.650Z"
   },
   {
    "duration": 29,
    "start_time": "2022-08-23T09:17:11.882Z"
   },
   {
    "duration": 17,
    "start_time": "2022-08-23T09:17:19.091Z"
   },
   {
    "duration": 20,
    "start_time": "2022-08-23T09:17:19.618Z"
   },
   {
    "duration": 19,
    "start_time": "2022-08-23T09:17:35.458Z"
   },
   {
    "duration": 4,
    "start_time": "2022-08-23T09:17:49.250Z"
   },
   {
    "duration": 70,
    "start_time": "2022-08-23T09:17:49.434Z"
   },
   {
    "duration": 41,
    "start_time": "2022-08-23T09:17:49.603Z"
   },
   {
    "duration": 17,
    "start_time": "2022-08-23T09:17:49.778Z"
   },
   {
    "duration": 24,
    "start_time": "2022-08-23T09:17:49.955Z"
   },
   {
    "duration": 4,
    "start_time": "2022-08-23T09:17:50.515Z"
   },
   {
    "duration": 11,
    "start_time": "2022-08-23T09:17:50.906Z"
   },
   {
    "duration": 34,
    "start_time": "2022-08-23T09:17:51.099Z"
   },
   {
    "duration": 553,
    "start_time": "2022-08-23T09:17:51.291Z"
   },
   {
    "duration": 15,
    "start_time": "2022-08-23T09:17:51.847Z"
   },
   {
    "duration": 26,
    "start_time": "2022-08-23T09:17:51.864Z"
   },
   {
    "duration": 29,
    "start_time": "2022-08-23T09:17:52.076Z"
   },
   {
    "duration": 348,
    "start_time": "2022-08-23T09:18:04.643Z"
   },
   {
    "duration": 15,
    "start_time": "2022-08-23T09:18:23.947Z"
   },
   {
    "duration": 12,
    "start_time": "2022-08-23T09:18:24.131Z"
   },
   {
    "duration": 23,
    "start_time": "2022-08-23T09:18:24.500Z"
   },
   {
    "duration": 17,
    "start_time": "2022-08-23T09:18:24.915Z"
   },
   {
    "duration": 5,
    "start_time": "2022-08-23T09:18:25.203Z"
   },
   {
    "duration": 9,
    "start_time": "2022-08-23T09:18:26.259Z"
   },
   {
    "duration": 21,
    "start_time": "2022-08-23T09:18:26.651Z"
   },
   {
    "duration": 15,
    "start_time": "2022-08-23T09:18:27.243Z"
   },
   {
    "duration": 6,
    "start_time": "2022-08-23T09:18:32.860Z"
   },
   {
    "duration": 15,
    "start_time": "2022-08-23T09:18:42.227Z"
   },
   {
    "duration": 13,
    "start_time": "2022-08-23T09:18:53.659Z"
   },
   {
    "duration": 24,
    "start_time": "2022-08-23T09:19:02.882Z"
   },
   {
    "duration": 12,
    "start_time": "2022-08-23T09:19:04.179Z"
   },
   {
    "duration": 15,
    "start_time": "2022-08-23T09:19:14.507Z"
   },
   {
    "duration": 30,
    "start_time": "2022-08-23T09:19:17.202Z"
   },
   {
    "duration": 3,
    "start_time": "2022-08-23T09:20:16.203Z"
   },
   {
    "duration": 67,
    "start_time": "2022-08-23T09:20:16.379Z"
   },
   {
    "duration": 33,
    "start_time": "2022-08-23T09:20:16.578Z"
   },
   {
    "duration": 16,
    "start_time": "2022-08-23T09:20:16.778Z"
   },
   {
    "duration": 18,
    "start_time": "2022-08-23T09:20:16.978Z"
   },
   {
    "duration": 4,
    "start_time": "2022-08-23T09:20:18.090Z"
   },
   {
    "duration": 12,
    "start_time": "2022-08-23T09:20:19.066Z"
   },
   {
    "duration": 45,
    "start_time": "2022-08-23T09:20:19.492Z"
   },
   {
    "duration": 12,
    "start_time": "2022-08-23T09:20:28.434Z"
   },
   {
    "duration": 11,
    "start_time": "2022-08-23T09:20:29.834Z"
   },
   {
    "duration": 31,
    "start_time": "2022-08-23T09:23:52.859Z"
   },
   {
    "duration": 27,
    "start_time": "2022-08-23T09:24:08.828Z"
   },
   {
    "duration": 6,
    "start_time": "2022-08-23T09:24:10.156Z"
   },
   {
    "duration": 7,
    "start_time": "2022-08-23T09:24:12.531Z"
   },
   {
    "duration": 18,
    "start_time": "2022-08-23T09:24:14.188Z"
   },
   {
    "duration": 24,
    "start_time": "2022-08-23T09:24:20.411Z"
   },
   {
    "duration": 6,
    "start_time": "2022-08-23T09:24:26.716Z"
   },
   {
    "duration": 22,
    "start_time": "2022-08-23T09:24:29.012Z"
   },
   {
    "duration": 13,
    "start_time": "2022-08-23T09:25:25.347Z"
   },
   {
    "duration": 15,
    "start_time": "2022-08-23T09:25:34.868Z"
   },
   {
    "duration": 4,
    "start_time": "2022-08-23T09:26:09.500Z"
   },
   {
    "duration": 78,
    "start_time": "2022-08-23T09:26:09.668Z"
   },
   {
    "duration": 33,
    "start_time": "2022-08-23T09:26:09.844Z"
   },
   {
    "duration": 16,
    "start_time": "2022-08-23T09:26:10.012Z"
   },
   {
    "duration": 19,
    "start_time": "2022-08-23T09:26:10.180Z"
   },
   {
    "duration": 4,
    "start_time": "2022-08-23T09:26:10.691Z"
   },
   {
    "duration": 11,
    "start_time": "2022-08-23T09:26:11.019Z"
   },
   {
    "duration": 34,
    "start_time": "2022-08-23T09:26:11.212Z"
   },
   {
    "duration": 12,
    "start_time": "2022-08-23T09:26:11.387Z"
   },
   {
    "duration": 10,
    "start_time": "2022-08-23T09:26:11.564Z"
   },
   {
    "duration": 29,
    "start_time": "2022-08-23T09:26:11.932Z"
   },
   {
    "duration": 18,
    "start_time": "2022-08-23T09:26:12.307Z"
   },
   {
    "duration": 5,
    "start_time": "2022-08-23T09:26:12.507Z"
   },
   {
    "duration": 8,
    "start_time": "2022-08-23T09:26:12.883Z"
   },
   {
    "duration": 15,
    "start_time": "2022-08-23T09:26:13.092Z"
   },
   {
    "duration": 17,
    "start_time": "2022-08-23T09:26:13.476Z"
   },
   {
    "duration": 6,
    "start_time": "2022-08-23T09:26:13.892Z"
   },
   {
    "duration": 17,
    "start_time": "2022-08-23T09:26:14.099Z"
   },
   {
    "duration": 6,
    "start_time": "2022-08-23T09:41:57.854Z"
   },
   {
    "duration": 20,
    "start_time": "2022-08-23T09:43:23.093Z"
   },
   {
    "duration": 37,
    "start_time": "2022-08-23T09:43:47.861Z"
   },
   {
    "duration": 38,
    "start_time": "2022-08-23T09:44:03.382Z"
   },
   {
    "duration": 244,
    "start_time": "2022-08-23T11:10:49.901Z"
   },
   {
    "duration": 357,
    "start_time": "2022-08-23T11:11:40.172Z"
   },
   {
    "duration": 199,
    "start_time": "2022-08-23T11:11:55.165Z"
   },
   {
    "duration": 211,
    "start_time": "2022-08-23T11:12:03.485Z"
   },
   {
    "duration": 205,
    "start_time": "2022-08-23T11:12:12.812Z"
   },
   {
    "duration": 206,
    "start_time": "2022-08-23T11:12:18.645Z"
   },
   {
    "duration": 286,
    "start_time": "2022-08-23T11:12:24.381Z"
   },
   {
    "duration": 248,
    "start_time": "2022-08-23T11:12:54.550Z"
   },
   {
    "duration": 215,
    "start_time": "2022-08-23T11:13:09.869Z"
   },
   {
    "duration": 434,
    "start_time": "2022-08-23T11:13:36.621Z"
   },
   {
    "duration": 378,
    "start_time": "2022-08-23T11:14:11.764Z"
   },
   {
    "duration": 331,
    "start_time": "2022-08-23T11:14:40.381Z"
   },
   {
    "duration": 7,
    "start_time": "2022-08-23T11:14:45.364Z"
   },
   {
    "duration": 6,
    "start_time": "2022-08-23T11:15:06.796Z"
   },
   {
    "duration": 1306,
    "start_time": "2022-08-23T11:15:25.301Z"
   },
   {
    "duration": 1262,
    "start_time": "2022-08-23T11:15:39.693Z"
   },
   {
    "duration": 10,
    "start_time": "2022-08-23T11:16:00.869Z"
   },
   {
    "duration": 9,
    "start_time": "2022-08-23T11:16:23.524Z"
   },
   {
    "duration": 913,
    "start_time": "2022-08-23T11:16:53.373Z"
   },
   {
    "duration": 12,
    "start_time": "2022-08-23T11:17:08.005Z"
   },
   {
    "duration": 215,
    "start_time": "2022-08-23T11:18:22.855Z"
   },
   {
    "duration": 10,
    "start_time": "2022-08-23T11:18:59.558Z"
   },
   {
    "duration": 7,
    "start_time": "2022-08-23T11:19:04.765Z"
   },
   {
    "duration": 13,
    "start_time": "2022-08-23T11:38:50.375Z"
   },
   {
    "duration": 11,
    "start_time": "2022-08-23T11:39:07.520Z"
   },
   {
    "duration": 22,
    "start_time": "2022-08-23T11:39:27.135Z"
   },
   {
    "duration": 4,
    "start_time": "2022-08-23T11:44:25.656Z"
   },
   {
    "duration": 102,
    "start_time": "2022-08-23T11:44:49.376Z"
   },
   {
    "duration": 12,
    "start_time": "2022-08-23T11:44:56.799Z"
   },
   {
    "duration": 3,
    "start_time": "2022-08-23T11:45:09.264Z"
   },
   {
    "duration": 10,
    "start_time": "2022-08-23T11:45:16.184Z"
   },
   {
    "duration": 9,
    "start_time": "2022-08-23T11:45:25.832Z"
   },
   {
    "duration": 10,
    "start_time": "2022-08-23T11:45:31.960Z"
   },
   {
    "duration": 11,
    "start_time": "2022-08-23T11:47:18.655Z"
   },
   {
    "duration": 11,
    "start_time": "2022-08-23T11:47:33.320Z"
   },
   {
    "duration": 36,
    "start_time": "2022-08-23T11:47:54.417Z"
   },
   {
    "duration": 15,
    "start_time": "2022-08-23T11:48:23.120Z"
   },
   {
    "duration": 343,
    "start_time": "2022-08-23T11:48:29.752Z"
   },
   {
    "duration": 138,
    "start_time": "2022-08-23T11:48:55.337Z"
   },
   {
    "duration": 1646,
    "start_time": "2022-08-23T11:52:06.161Z"
   },
   {
    "duration": 1304,
    "start_time": "2022-08-23T11:55:52.423Z"
   },
   {
    "duration": 101,
    "start_time": "2022-08-23T11:55:53.730Z"
   },
   {
    "duration": 36,
    "start_time": "2022-08-23T11:55:53.833Z"
   },
   {
    "duration": 26,
    "start_time": "2022-08-23T11:55:53.871Z"
   },
   {
    "duration": 24,
    "start_time": "2022-08-23T11:55:53.899Z"
   },
   {
    "duration": 4,
    "start_time": "2022-08-23T11:55:53.925Z"
   },
   {
    "duration": 12,
    "start_time": "2022-08-23T11:55:53.931Z"
   },
   {
    "duration": 88,
    "start_time": "2022-08-23T11:55:53.945Z"
   },
   {
    "duration": 15,
    "start_time": "2022-08-23T11:55:54.035Z"
   },
   {
    "duration": 10,
    "start_time": "2022-08-23T11:55:54.053Z"
   },
   {
    "duration": 37,
    "start_time": "2022-08-23T11:55:54.065Z"
   },
   {
    "duration": 19,
    "start_time": "2022-08-23T11:55:54.104Z"
   },
   {
    "duration": 13,
    "start_time": "2022-08-23T11:55:54.125Z"
   },
   {
    "duration": 10,
    "start_time": "2022-08-23T11:55:54.140Z"
   },
   {
    "duration": 15,
    "start_time": "2022-08-23T11:55:54.152Z"
   },
   {
    "duration": 17,
    "start_time": "2022-08-23T11:55:54.192Z"
   },
   {
    "duration": 6,
    "start_time": "2022-08-23T11:55:54.211Z"
   },
   {
    "duration": 21,
    "start_time": "2022-08-23T11:55:54.219Z"
   },
   {
    "duration": 254,
    "start_time": "2022-08-23T11:55:54.241Z"
   },
   {
    "duration": 20,
    "start_time": "2022-08-23T11:55:54.497Z"
   },
   {
    "duration": 0,
    "start_time": "2022-08-23T11:58:23.862Z"
   },
   {
    "duration": 0,
    "start_time": "2022-08-23T11:58:23.863Z"
   },
   {
    "duration": 0,
    "start_time": "2022-08-23T11:58:23.864Z"
   },
   {
    "duration": 21,
    "start_time": "2022-08-23T12:01:53.074Z"
   },
   {
    "duration": 53,
    "start_time": "2022-08-23T12:03:39.025Z"
   },
   {
    "duration": 1240,
    "start_time": "2022-08-23T12:03:45.757Z"
   },
   {
    "duration": 100,
    "start_time": "2022-08-23T12:03:47.001Z"
   },
   {
    "duration": 34,
    "start_time": "2022-08-23T12:03:47.103Z"
   },
   {
    "duration": 17,
    "start_time": "2022-08-23T12:03:47.140Z"
   },
   {
    "duration": 51,
    "start_time": "2022-08-23T12:03:47.160Z"
   },
   {
    "duration": 3,
    "start_time": "2022-08-23T12:03:47.213Z"
   },
   {
    "duration": 14,
    "start_time": "2022-08-23T12:03:47.219Z"
   },
   {
    "duration": 37,
    "start_time": "2022-08-23T12:03:47.235Z"
   },
   {
    "duration": 41,
    "start_time": "2022-08-23T12:03:47.274Z"
   },
   {
    "duration": 14,
    "start_time": "2022-08-23T12:03:47.319Z"
   },
   {
    "duration": 31,
    "start_time": "2022-08-23T12:03:47.335Z"
   },
   {
    "duration": 44,
    "start_time": "2022-08-23T12:03:47.368Z"
   },
   {
    "duration": 5,
    "start_time": "2022-08-23T12:03:47.414Z"
   },
   {
    "duration": 8,
    "start_time": "2022-08-23T12:03:47.421Z"
   },
   {
    "duration": 15,
    "start_time": "2022-08-23T12:03:47.431Z"
   },
   {
    "duration": 17,
    "start_time": "2022-08-23T12:03:47.448Z"
   },
   {
    "duration": 6,
    "start_time": "2022-08-23T12:03:47.492Z"
   },
   {
    "duration": 38,
    "start_time": "2022-08-23T12:03:47.499Z"
   },
   {
    "duration": 231,
    "start_time": "2022-08-23T12:03:47.539Z"
   },
   {
    "duration": 36,
    "start_time": "2022-08-23T12:03:47.772Z"
   },
   {
    "duration": 122,
    "start_time": "2022-08-23T12:03:47.811Z"
   },
   {
    "duration": 0,
    "start_time": "2022-08-23T12:03:47.935Z"
   },
   {
    "duration": 1275,
    "start_time": "2022-08-23T12:06:04.491Z"
   },
   {
    "duration": 84,
    "start_time": "2022-08-23T12:06:05.768Z"
   },
   {
    "duration": 31,
    "start_time": "2022-08-23T12:06:05.854Z"
   },
   {
    "duration": 24,
    "start_time": "2022-08-23T12:06:05.888Z"
   },
   {
    "duration": 17,
    "start_time": "2022-08-23T12:06:05.914Z"
   },
   {
    "duration": 4,
    "start_time": "2022-08-23T12:06:05.932Z"
   },
   {
    "duration": 15,
    "start_time": "2022-08-23T12:06:05.937Z"
   },
   {
    "duration": 74,
    "start_time": "2022-08-23T12:06:05.954Z"
   },
   {
    "duration": 13,
    "start_time": "2022-08-23T12:06:06.030Z"
   },
   {
    "duration": 14,
    "start_time": "2022-08-23T12:06:06.046Z"
   },
   {
    "duration": 46,
    "start_time": "2022-08-23T12:06:06.062Z"
   },
   {
    "duration": 27,
    "start_time": "2022-08-23T12:06:06.110Z"
   },
   {
    "duration": 16,
    "start_time": "2022-08-23T12:06:06.139Z"
   },
   {
    "duration": 12,
    "start_time": "2022-08-23T12:06:06.157Z"
   },
   {
    "duration": 30,
    "start_time": "2022-08-23T12:06:06.171Z"
   },
   {
    "duration": 20,
    "start_time": "2022-08-23T12:06:06.203Z"
   },
   {
    "duration": 5,
    "start_time": "2022-08-23T12:06:06.225Z"
   },
   {
    "duration": 28,
    "start_time": "2022-08-23T12:06:06.231Z"
   },
   {
    "duration": 273,
    "start_time": "2022-08-23T12:06:06.260Z"
   },
   {
    "duration": 24,
    "start_time": "2022-08-23T12:06:06.535Z"
   },
   {
    "duration": 48,
    "start_time": "2022-08-23T12:06:06.562Z"
   },
   {
    "duration": 139,
    "start_time": "2022-08-23T12:06:06.612Z"
   },
   {
    "duration": 4,
    "start_time": "2022-08-23T12:06:18.525Z"
   },
   {
    "duration": 352,
    "start_time": "2022-08-23T12:07:47.319Z"
   },
   {
    "duration": 328,
    "start_time": "2022-08-23T12:08:52.774Z"
   },
   {
    "duration": 299,
    "start_time": "2022-08-23T12:10:39.743Z"
   },
   {
    "duration": 760,
    "start_time": "2022-08-23T12:14:09.344Z"
   },
   {
    "duration": 785,
    "start_time": "2022-08-23T12:14:33.176Z"
   },
   {
    "duration": 737,
    "start_time": "2022-08-23T12:14:47.991Z"
   },
   {
    "duration": 21,
    "start_time": "2022-08-23T12:27:07.024Z"
   },
   {
    "duration": 14,
    "start_time": "2022-08-23T12:27:36.873Z"
   },
   {
    "duration": 19,
    "start_time": "2022-08-23T12:27:43.514Z"
   },
   {
    "duration": 24,
    "start_time": "2022-08-23T12:27:58.953Z"
   },
   {
    "duration": 22,
    "start_time": "2022-08-23T12:30:11.849Z"
   },
   {
    "duration": 16,
    "start_time": "2022-08-23T12:30:23.314Z"
   },
   {
    "duration": 679,
    "start_time": "2022-08-23T12:35:18.137Z"
   },
   {
    "duration": 1430,
    "start_time": "2022-08-23T12:35:37.394Z"
   },
   {
    "duration": 1582,
    "start_time": "2022-08-23T12:35:56.891Z"
   },
   {
    "duration": 1407,
    "start_time": "2022-08-23T12:36:06.634Z"
   },
   {
    "duration": 1281,
    "start_time": "2022-08-23T12:36:15.522Z"
   },
   {
    "duration": 1280,
    "start_time": "2022-08-23T12:38:03.690Z"
   },
   {
    "duration": 5,
    "start_time": "2022-08-23T12:38:18.802Z"
   },
   {
    "duration": 116,
    "start_time": "2022-08-23T12:39:45.114Z"
   },
   {
    "duration": 136,
    "start_time": "2022-08-23T12:39:53.466Z"
   },
   {
    "duration": 7,
    "start_time": "2022-08-23T12:40:34.211Z"
   },
   {
    "duration": 82,
    "start_time": "2022-08-23T12:41:08.906Z"
   },
   {
    "duration": 830,
    "start_time": "2022-08-23T12:42:21.731Z"
   },
   {
    "duration": 1623,
    "start_time": "2022-08-23T12:42:46.227Z"
   },
   {
    "duration": 1690,
    "start_time": "2022-08-23T12:44:38.980Z"
   },
   {
    "duration": 1920,
    "start_time": "2022-08-23T12:44:45.435Z"
   },
   {
    "duration": 14,
    "start_time": "2022-08-23T12:47:05.076Z"
   },
   {
    "duration": 474,
    "start_time": "2022-08-23T12:47:11.869Z"
   },
   {
    "duration": 29,
    "start_time": "2022-08-23T12:51:52.964Z"
   },
   {
    "duration": 377,
    "start_time": "2022-08-23T12:53:35.444Z"
   },
   {
    "duration": 416,
    "start_time": "2022-08-23T12:59:53.661Z"
   },
   {
    "duration": 373,
    "start_time": "2022-08-23T13:00:01.304Z"
   },
   {
    "duration": 479,
    "start_time": "2022-08-23T13:00:09.500Z"
   },
   {
    "duration": 392,
    "start_time": "2022-08-23T13:00:21.628Z"
   },
   {
    "duration": 365,
    "start_time": "2022-08-23T13:00:54.781Z"
   },
   {
    "duration": 49,
    "start_time": "2022-08-23T13:01:31.485Z"
   },
   {
    "duration": 8,
    "start_time": "2022-08-23T13:03:46.845Z"
   },
   {
    "duration": 5,
    "start_time": "2022-08-23T13:03:52.781Z"
   },
   {
    "duration": 6,
    "start_time": "2022-08-23T13:04:03.349Z"
   },
   {
    "duration": 376,
    "start_time": "2022-08-23T13:08:15.990Z"
   },
   {
    "duration": 355,
    "start_time": "2022-08-23T13:08:24.597Z"
   },
   {
    "duration": 501,
    "start_time": "2022-08-23T13:08:31.118Z"
   },
   {
    "duration": 382,
    "start_time": "2022-08-23T13:08:37.550Z"
   },
   {
    "duration": 8,
    "start_time": "2022-08-23T13:13:11.655Z"
   },
   {
    "duration": 37,
    "start_time": "2022-08-23T13:13:16.199Z"
   },
   {
    "duration": 7,
    "start_time": "2022-08-23T13:13:39.239Z"
   },
   {
    "duration": 28,
    "start_time": "2022-08-23T13:17:13.663Z"
   },
   {
    "duration": 162,
    "start_time": "2022-08-23T13:17:38.535Z"
   },
   {
    "duration": 183,
    "start_time": "2022-08-23T13:17:50.966Z"
   },
   {
    "duration": 4,
    "start_time": "2022-08-23T13:20:23.686Z"
   },
   {
    "duration": 11,
    "start_time": "2022-08-23T13:20:27.902Z"
   },
   {
    "duration": 11,
    "start_time": "2022-08-23T13:20:33.246Z"
   },
   {
    "duration": 6,
    "start_time": "2022-08-23T13:20:41.173Z"
   },
   {
    "duration": 81,
    "start_time": "2022-08-23T13:23:42.775Z"
   },
   {
    "duration": 12,
    "start_time": "2022-08-23T13:24:03.271Z"
   },
   {
    "duration": 8,
    "start_time": "2022-08-23T13:24:19.847Z"
   },
   {
    "duration": 77,
    "start_time": "2022-08-23T13:24:28.767Z"
   },
   {
    "duration": 5,
    "start_time": "2022-08-23T13:24:37.887Z"
   },
   {
    "duration": 168,
    "start_time": "2022-08-23T13:25:12.767Z"
   },
   {
    "duration": 161,
    "start_time": "2022-08-23T13:28:13.768Z"
   },
   {
    "duration": 167,
    "start_time": "2022-08-23T13:28:24.431Z"
   },
   {
    "duration": 314,
    "start_time": "2022-08-23T13:28:50.016Z"
   },
   {
    "duration": 343,
    "start_time": "2022-08-23T13:29:46.368Z"
   },
   {
    "duration": 17,
    "start_time": "2022-08-23T13:30:32.480Z"
   },
   {
    "duration": 14,
    "start_time": "2022-08-23T13:30:56.136Z"
   },
   {
    "duration": 29,
    "start_time": "2022-08-23T13:32:28.880Z"
   },
   {
    "duration": 375,
    "start_time": "2022-08-23T13:32:56.776Z"
   },
   {
    "duration": 105,
    "start_time": "2022-08-23T13:36:19.553Z"
   },
   {
    "duration": 82,
    "start_time": "2022-08-23T13:36:38.216Z"
   },
   {
    "duration": 19,
    "start_time": "2022-08-23T13:37:11.993Z"
   },
   {
    "duration": 17,
    "start_time": "2022-08-23T13:37:24.170Z"
   },
   {
    "duration": 3,
    "start_time": "2022-08-23T13:38:30.360Z"
   },
   {
    "duration": 252,
    "start_time": "2022-08-23T13:38:35.424Z"
   },
   {
    "duration": 15,
    "start_time": "2022-08-23T13:39:01.458Z"
   },
   {
    "duration": 173,
    "start_time": "2022-08-23T13:39:19.651Z"
   },
   {
    "duration": 5,
    "start_time": "2022-08-23T13:39:46.249Z"
   },
   {
    "duration": 351,
    "start_time": "2022-08-23T13:44:20.912Z"
   },
   {
    "duration": 20,
    "start_time": "2022-08-23T13:46:00.098Z"
   },
   {
    "duration": 20,
    "start_time": "2022-08-23T13:46:10.745Z"
   },
   {
    "duration": 18,
    "start_time": "2022-08-23T13:46:25.746Z"
   },
   {
    "duration": 74,
    "start_time": "2022-08-23T13:46:47.652Z"
   },
   {
    "duration": 79,
    "start_time": "2022-08-23T13:47:08.434Z"
   },
   {
    "duration": 14,
    "start_time": "2022-08-23T13:47:25.058Z"
   },
   {
    "duration": 10,
    "start_time": "2022-08-23T13:48:24.914Z"
   },
   {
    "duration": 10,
    "start_time": "2022-08-23T13:48:34.482Z"
   },
   {
    "duration": 4,
    "start_time": "2022-08-23T13:48:48.242Z"
   },
   {
    "duration": 17,
    "start_time": "2022-08-23T13:48:51.610Z"
   },
   {
    "duration": 4,
    "start_time": "2022-08-23T13:49:11.082Z"
   },
   {
    "duration": 24,
    "start_time": "2022-08-23T13:49:17.526Z"
   },
   {
    "duration": 78,
    "start_time": "2022-08-23T13:49:33.578Z"
   },
   {
    "duration": 20,
    "start_time": "2022-08-23T13:49:37.250Z"
   },
   {
    "duration": 20,
    "start_time": "2022-08-23T13:51:32.707Z"
   },
   {
    "duration": 15,
    "start_time": "2022-08-23T13:51:39.122Z"
   },
   {
    "duration": 13,
    "start_time": "2022-08-23T13:55:27.947Z"
   },
   {
    "duration": 20,
    "start_time": "2022-08-23T13:56:20.852Z"
   },
   {
    "duration": 5,
    "start_time": "2022-08-23T13:57:35.053Z"
   },
   {
    "duration": 11,
    "start_time": "2022-08-23T13:57:43.299Z"
   },
   {
    "duration": 20,
    "start_time": "2022-08-23T13:57:52.579Z"
   },
   {
    "duration": 20,
    "start_time": "2022-08-23T13:58:14.652Z"
   },
   {
    "duration": 19,
    "start_time": "2022-08-23T13:58:35.027Z"
   },
   {
    "duration": 20,
    "start_time": "2022-08-23T13:58:59.851Z"
   },
   {
    "duration": 1498,
    "start_time": "2022-08-24T07:40:23.440Z"
   },
   {
    "duration": 222,
    "start_time": "2022-08-24T07:40:24.941Z"
   },
   {
    "duration": 48,
    "start_time": "2022-08-24T07:40:25.165Z"
   },
   {
    "duration": 16,
    "start_time": "2022-08-24T07:40:25.219Z"
   },
   {
    "duration": 35,
    "start_time": "2022-08-24T07:40:25.238Z"
   },
   {
    "duration": 11,
    "start_time": "2022-08-24T07:40:25.275Z"
   },
   {
    "duration": 27,
    "start_time": "2022-08-24T07:40:25.288Z"
   },
   {
    "duration": 43,
    "start_time": "2022-08-24T07:40:25.317Z"
   },
   {
    "duration": 11,
    "start_time": "2022-08-24T07:40:25.361Z"
   },
   {
    "duration": 27,
    "start_time": "2022-08-24T07:40:25.375Z"
   },
   {
    "duration": 52,
    "start_time": "2022-08-24T07:40:25.404Z"
   },
   {
    "duration": 40,
    "start_time": "2022-08-24T07:40:25.458Z"
   },
   {
    "duration": 20,
    "start_time": "2022-08-24T07:40:25.500Z"
   },
   {
    "duration": 32,
    "start_time": "2022-08-24T07:40:25.523Z"
   },
   {
    "duration": 51,
    "start_time": "2022-08-24T07:40:25.557Z"
   },
   {
    "duration": 23,
    "start_time": "2022-08-24T07:40:25.611Z"
   },
   {
    "duration": 5,
    "start_time": "2022-08-24T07:40:25.637Z"
   },
   {
    "duration": 20,
    "start_time": "2022-08-24T07:40:25.643Z"
   },
   {
    "duration": 219,
    "start_time": "2022-08-24T07:40:25.667Z"
   },
   {
    "duration": 18,
    "start_time": "2022-08-24T07:40:25.889Z"
   },
   {
    "duration": 718,
    "start_time": "2022-08-24T07:40:25.909Z"
   },
   {
    "duration": 55,
    "start_time": "2022-08-24T07:40:26.630Z"
   },
   {
    "duration": 20,
    "start_time": "2022-08-24T07:40:26.687Z"
   },
   {
    "duration": 492,
    "start_time": "2022-08-24T07:40:26.709Z"
   },
   {
    "duration": 9,
    "start_time": "2022-08-24T07:40:27.205Z"
   },
   {
    "duration": 44,
    "start_time": "2022-08-24T07:40:27.216Z"
   },
   {
    "duration": 353,
    "start_time": "2022-08-24T07:40:27.262Z"
   },
   {
    "duration": 3,
    "start_time": "2022-08-24T07:40:27.619Z"
   },
   {
    "duration": 181,
    "start_time": "2022-08-24T07:40:27.624Z"
   },
   {
    "duration": 11,
    "start_time": "2022-08-24T07:40:27.808Z"
   },
   {
    "duration": 286,
    "start_time": "2022-08-24T07:40:27.821Z"
   },
   {
    "duration": 363,
    "start_time": "2022-08-24T07:40:28.109Z"
   },
   {
    "duration": 350,
    "start_time": "2022-08-24T07:40:28.474Z"
   },
   {
    "duration": 25,
    "start_time": "2022-08-24T07:40:28.826Z"
   },
   {
    "duration": 26,
    "start_time": "2022-08-24T07:40:28.853Z"
   },
   {
    "duration": 19,
    "start_time": "2022-08-24T07:40:28.881Z"
   },
   {
    "duration": 360,
    "start_time": "2022-08-24T07:40:28.901Z"
   },
   {
    "duration": 16,
    "start_time": "2022-08-24T07:44:09.131Z"
   },
   {
    "duration": 12,
    "start_time": "2022-08-24T07:46:20.226Z"
   },
   {
    "duration": 12,
    "start_time": "2022-08-24T07:46:35.003Z"
   },
   {
    "duration": 9,
    "start_time": "2022-08-24T07:46:50.132Z"
   },
   {
    "duration": 105,
    "start_time": "2022-08-24T07:48:46.221Z"
   },
   {
    "duration": 352,
    "start_time": "2022-08-24T07:49:01.412Z"
   },
   {
    "duration": 189,
    "start_time": "2022-08-24T07:49:17.308Z"
   },
   {
    "duration": 183,
    "start_time": "2022-08-24T07:49:57.220Z"
   },
   {
    "duration": 103,
    "start_time": "2022-08-24T07:51:04.053Z"
   },
   {
    "duration": 189,
    "start_time": "2022-08-24T07:52:39.821Z"
   },
   {
    "duration": 109,
    "start_time": "2022-08-24T07:55:00.382Z"
   },
   {
    "duration": 192,
    "start_time": "2022-08-24T07:55:05.158Z"
   },
   {
    "duration": 275,
    "start_time": "2022-08-24T07:55:33.638Z"
   },
   {
    "duration": 204,
    "start_time": "2022-08-24T07:58:08.829Z"
   },
   {
    "duration": 230,
    "start_time": "2022-08-24T07:58:40.752Z"
   },
   {
    "duration": 343,
    "start_time": "2022-08-24T07:58:44.774Z"
   },
   {
    "duration": 215,
    "start_time": "2022-08-24T07:58:53.702Z"
   },
   {
    "duration": 258,
    "start_time": "2022-08-24T08:00:46.672Z"
   },
   {
    "duration": 216,
    "start_time": "2022-08-24T08:05:21.200Z"
   },
   {
    "duration": 246,
    "start_time": "2022-08-24T08:06:28.560Z"
   },
   {
    "duration": 16,
    "start_time": "2022-08-24T08:09:22.014Z"
   },
   {
    "duration": 40,
    "start_time": "2022-08-24T08:10:46.553Z"
   },
   {
    "duration": 230,
    "start_time": "2022-08-24T08:10:47.577Z"
   },
   {
    "duration": 602,
    "start_time": "2022-08-24T08:11:49.130Z"
   },
   {
    "duration": 259,
    "start_time": "2022-08-24T08:13:25.098Z"
   },
   {
    "duration": 225,
    "start_time": "2022-08-24T08:13:29.009Z"
   },
   {
    "duration": 184,
    "start_time": "2022-08-24T08:13:32.409Z"
   },
   {
    "duration": 222,
    "start_time": "2022-08-24T08:13:37.472Z"
   },
   {
    "duration": 127,
    "start_time": "2022-08-24T08:15:04.681Z"
   },
   {
    "duration": 130,
    "start_time": "2022-08-24T08:15:54.130Z"
   },
   {
    "duration": 190,
    "start_time": "2022-08-24T08:16:28.881Z"
   },
   {
    "duration": 1793,
    "start_time": "2022-08-24T08:26:00.252Z"
   },
   {
    "duration": 2262,
    "start_time": "2022-08-24T08:26:24.132Z"
   },
   {
    "duration": 369,
    "start_time": "2022-08-24T08:26:35.732Z"
   },
   {
    "duration": 351,
    "start_time": "2022-08-24T08:26:40.979Z"
   },
   {
    "duration": 24,
    "start_time": "2022-08-24T08:27:28.419Z"
   },
   {
    "duration": 413,
    "start_time": "2022-08-24T08:27:30.755Z"
   },
   {
    "duration": 121,
    "start_time": "2022-08-24T08:28:29.438Z"
   },
   {
    "duration": 122,
    "start_time": "2022-08-24T08:28:43.842Z"
   },
   {
    "duration": 405,
    "start_time": "2022-08-24T08:28:53.706Z"
   },
   {
    "duration": 520,
    "start_time": "2022-08-24T08:29:11.812Z"
   },
   {
    "duration": 578,
    "start_time": "2022-08-24T08:31:00.651Z"
   },
   {
    "duration": 391,
    "start_time": "2022-08-24T08:31:17.285Z"
   },
   {
    "duration": 10,
    "start_time": "2022-08-24T08:33:00.597Z"
   },
   {
    "duration": 0,
    "start_time": "2022-08-24T08:33:38.486Z"
   },
   {
    "duration": 8636,
    "start_time": "2022-08-24T08:33:44.763Z"
   },
   {
    "duration": 1677,
    "start_time": "2022-08-24T08:34:15.659Z"
   },
   {
    "duration": 1736,
    "start_time": "2022-08-24T08:34:28.229Z"
   },
   {
    "duration": 2523,
    "start_time": "2022-08-24T08:34:40.139Z"
   },
   {
    "duration": 2760,
    "start_time": "2022-08-24T08:34:50.484Z"
   },
   {
    "duration": 10,
    "start_time": "2022-08-24T08:36:52.797Z"
   },
   {
    "duration": 1622,
    "start_time": "2022-08-24T08:36:57.628Z"
   },
   {
    "duration": 5,
    "start_time": "2022-08-24T08:37:26.549Z"
   },
   {
    "duration": 5,
    "start_time": "2022-08-24T08:38:48.789Z"
   },
   {
    "duration": 453,
    "start_time": "2022-08-24T08:39:50.323Z"
   },
   {
    "duration": 453,
    "start_time": "2022-08-24T08:40:03.542Z"
   },
   {
    "duration": 421,
    "start_time": "2022-08-24T08:40:12.071Z"
   },
   {
    "duration": 185,
    "start_time": "2022-08-24T08:41:15.621Z"
   },
   {
    "duration": 199,
    "start_time": "2022-08-24T08:41:39.783Z"
   },
   {
    "duration": 710,
    "start_time": "2022-08-24T08:43:13.487Z"
   },
   {
    "duration": 575,
    "start_time": "2022-08-24T08:43:42.578Z"
   },
   {
    "duration": 10,
    "start_time": "2022-08-24T08:53:21.238Z"
   },
   {
    "duration": 9,
    "start_time": "2022-08-24T08:53:26.470Z"
   },
   {
    "duration": 23,
    "start_time": "2022-08-24T08:54:22.782Z"
   },
   {
    "duration": 7,
    "start_time": "2022-08-24T08:54:29.060Z"
   },
   {
    "duration": 539,
    "start_time": "2022-08-24T08:57:17.414Z"
   },
   {
    "duration": 41,
    "start_time": "2022-08-24T09:04:57.895Z"
   },
   {
    "duration": 82,
    "start_time": "2022-08-24T09:05:06.590Z"
   },
   {
    "duration": 44,
    "start_time": "2022-08-24T09:05:32.505Z"
   },
   {
    "duration": 24,
    "start_time": "2022-08-24T09:05:53.014Z"
   },
   {
    "duration": 18,
    "start_time": "2022-08-24T09:08:42.457Z"
   },
   {
    "duration": 9,
    "start_time": "2022-08-24T09:12:39.384Z"
   },
   {
    "duration": 12,
    "start_time": "2022-08-24T09:12:51.208Z"
   },
   {
    "duration": 6,
    "start_time": "2022-08-24T09:13:14.016Z"
   },
   {
    "duration": 26,
    "start_time": "2022-08-24T09:13:33.360Z"
   },
   {
    "duration": 26,
    "start_time": "2022-08-24T09:13:44.263Z"
   },
   {
    "duration": 336,
    "start_time": "2022-08-24T09:14:12.480Z"
   },
   {
    "duration": 1622,
    "start_time": "2022-08-24T09:16:26.633Z"
   },
   {
    "duration": 149,
    "start_time": "2022-08-24T09:16:38.057Z"
   },
   {
    "duration": 5,
    "start_time": "2022-08-24T09:17:14.240Z"
   },
   {
    "duration": 155,
    "start_time": "2022-08-24T09:18:57.681Z"
   },
   {
    "duration": 71,
    "start_time": "2022-08-24T09:19:19.520Z"
   },
   {
    "duration": 109,
    "start_time": "2022-08-24T09:19:33.858Z"
   },
   {
    "duration": 168,
    "start_time": "2022-08-24T09:19:59.874Z"
   },
   {
    "duration": 42173,
    "start_time": "2022-08-24T09:21:42.977Z"
   },
   {
    "duration": 96237,
    "start_time": "2022-08-24T09:22:33.625Z"
   },
   {
    "duration": 88,
    "start_time": "2022-08-24T09:25:38.002Z"
   },
   {
    "duration": 6,
    "start_time": "2022-08-24T09:26:02.827Z"
   },
   {
    "duration": 516,
    "start_time": "2022-08-24T09:27:45.935Z"
   },
   {
    "duration": 439,
    "start_time": "2022-08-24T09:27:55.746Z"
   },
   {
    "duration": 142,
    "start_time": "2022-08-24T09:29:14.507Z"
   },
   {
    "duration": 77,
    "start_time": "2022-08-24T09:30:43.531Z"
   },
   {
    "duration": 445,
    "start_time": "2022-08-24T09:31:37.139Z"
   },
   {
    "duration": 459,
    "start_time": "2022-08-24T09:31:53.667Z"
   },
   {
    "duration": 452,
    "start_time": "2022-08-24T09:32:01.235Z"
   },
   {
    "duration": 444,
    "start_time": "2022-08-24T09:32:06.794Z"
   },
   {
    "duration": 432,
    "start_time": "2022-08-24T09:32:12.627Z"
   },
   {
    "duration": 444,
    "start_time": "2022-08-24T09:32:19.151Z"
   },
   {
    "duration": 456,
    "start_time": "2022-08-24T09:32:26.051Z"
   },
   {
    "duration": 446,
    "start_time": "2022-08-24T09:32:30.970Z"
   },
   {
    "duration": 446,
    "start_time": "2022-08-24T09:32:35.290Z"
   },
   {
    "duration": 134,
    "start_time": "2022-08-24T09:32:51.468Z"
   },
   {
    "duration": 134,
    "start_time": "2022-08-24T09:33:19.882Z"
   },
   {
    "duration": 447,
    "start_time": "2022-08-24T09:33:38.558Z"
   },
   {
    "duration": 454,
    "start_time": "2022-08-24T09:34:15.966Z"
   },
   {
    "duration": 118,
    "start_time": "2022-08-24T09:40:23.053Z"
   },
   {
    "duration": 14,
    "start_time": "2022-08-24T11:53:35.287Z"
   },
   {
    "duration": 10,
    "start_time": "2022-08-24T11:53:41.982Z"
   },
   {
    "duration": 4,
    "start_time": "2022-08-24T11:55:18.215Z"
   },
   {
    "duration": 8,
    "start_time": "2022-08-24T11:55:23.590Z"
   },
   {
    "duration": 7,
    "start_time": "2022-08-24T11:55:33.366Z"
   },
   {
    "duration": 8,
    "start_time": "2022-08-24T11:56:28.174Z"
   },
   {
    "duration": 7,
    "start_time": "2022-08-24T11:56:47.582Z"
   },
   {
    "duration": 15,
    "start_time": "2022-08-24T11:57:48.230Z"
   },
   {
    "duration": 10,
    "start_time": "2022-08-24T11:57:55.375Z"
   },
   {
    "duration": 11,
    "start_time": "2022-08-24T11:58:33.534Z"
   },
   {
    "duration": 10,
    "start_time": "2022-08-24T12:01:40.383Z"
   },
   {
    "duration": 10,
    "start_time": "2022-08-24T12:04:23.983Z"
   },
   {
    "duration": 12,
    "start_time": "2022-08-24T12:04:42.128Z"
   },
   {
    "duration": 8,
    "start_time": "2022-08-24T12:06:41.992Z"
   },
   {
    "duration": 8,
    "start_time": "2022-08-24T12:15:28.260Z"
   },
   {
    "duration": 8,
    "start_time": "2022-08-24T12:16:09.724Z"
   },
   {
    "duration": 8,
    "start_time": "2022-08-24T12:16:38.132Z"
   },
   {
    "duration": 7,
    "start_time": "2022-08-24T12:16:51.906Z"
   },
   {
    "duration": 6,
    "start_time": "2022-08-24T12:17:00.203Z"
   },
   {
    "duration": 4,
    "start_time": "2022-08-24T12:17:11.748Z"
   },
   {
    "duration": 9,
    "start_time": "2022-08-24T12:17:50.164Z"
   },
   {
    "duration": 6,
    "start_time": "2022-08-24T12:17:51.269Z"
   },
   {
    "duration": 8,
    "start_time": "2022-08-24T12:19:26.837Z"
   },
   {
    "duration": 1199,
    "start_time": "2022-08-24T13:55:18.469Z"
   },
   {
    "duration": 73,
    "start_time": "2022-08-24T13:55:19.670Z"
   },
   {
    "duration": 32,
    "start_time": "2022-08-24T13:55:19.745Z"
   },
   {
    "duration": 13,
    "start_time": "2022-08-24T13:55:19.779Z"
   },
   {
    "duration": 15,
    "start_time": "2022-08-24T13:55:19.793Z"
   },
   {
    "duration": 4,
    "start_time": "2022-08-24T13:55:19.809Z"
   },
   {
    "duration": 13,
    "start_time": "2022-08-24T13:55:19.814Z"
   },
   {
    "duration": 61,
    "start_time": "2022-08-24T13:55:19.828Z"
   },
   {
    "duration": 11,
    "start_time": "2022-08-24T13:55:19.890Z"
   },
   {
    "duration": 10,
    "start_time": "2022-08-24T13:55:19.904Z"
   },
   {
    "duration": 23,
    "start_time": "2022-08-24T13:55:19.916Z"
   },
   {
    "duration": 37,
    "start_time": "2022-08-24T13:55:19.940Z"
   },
   {
    "duration": 10,
    "start_time": "2022-08-24T13:55:19.978Z"
   },
   {
    "duration": 12,
    "start_time": "2022-08-24T13:55:19.990Z"
   },
   {
    "duration": 21,
    "start_time": "2022-08-24T13:55:20.003Z"
   },
   {
    "duration": 16,
    "start_time": "2022-08-24T13:55:20.025Z"
   },
   {
    "duration": 4,
    "start_time": "2022-08-24T13:55:20.043Z"
   },
   {
    "duration": 33,
    "start_time": "2022-08-24T13:55:20.049Z"
   },
   {
    "duration": 217,
    "start_time": "2022-08-24T13:55:20.083Z"
   },
   {
    "duration": 17,
    "start_time": "2022-08-24T13:55:20.302Z"
   },
   {
    "duration": 669,
    "start_time": "2022-08-24T13:55:20.320Z"
   },
   {
    "duration": 25,
    "start_time": "2022-08-24T13:55:20.991Z"
   },
   {
    "duration": 15,
    "start_time": "2022-08-24T13:55:21.018Z"
   },
   {
    "duration": 400,
    "start_time": "2022-08-24T13:55:21.034Z"
   },
   {
    "duration": 6,
    "start_time": "2022-08-24T13:55:21.436Z"
   },
   {
    "duration": 53,
    "start_time": "2022-08-24T13:55:21.444Z"
   },
   {
    "duration": 356,
    "start_time": "2022-08-24T13:55:21.499Z"
   },
   {
    "duration": 157,
    "start_time": "2022-08-24T13:55:21.859Z"
   },
   {
    "duration": 9,
    "start_time": "2022-08-24T13:55:22.018Z"
   },
   {
    "duration": 252,
    "start_time": "2022-08-24T13:55:22.029Z"
   },
   {
    "duration": 332,
    "start_time": "2022-08-24T13:55:22.283Z"
   },
   {
    "duration": 346,
    "start_time": "2022-08-24T13:55:22.616Z"
   },
   {
    "duration": 37,
    "start_time": "2022-08-24T13:55:22.968Z"
   },
   {
    "duration": 22,
    "start_time": "2022-08-24T13:55:23.008Z"
   },
   {
    "duration": 369,
    "start_time": "2022-08-24T13:55:23.033Z"
   },
   {
    "duration": 23,
    "start_time": "2022-08-24T13:55:23.403Z"
   },
   {
    "duration": 545,
    "start_time": "2022-08-24T13:55:23.429Z"
   },
   {
    "duration": 23,
    "start_time": "2022-08-24T13:55:23.976Z"
   },
   {
    "duration": 569,
    "start_time": "2022-08-24T13:55:24.001Z"
   },
   {
    "duration": 557,
    "start_time": "2022-08-24T13:55:24.572Z"
   },
   {
    "duration": 8,
    "start_time": "2022-08-24T13:55:25.131Z"
   },
   {
    "duration": 9,
    "start_time": "2022-08-24T13:55:25.140Z"
   },
   {
    "duration": 23,
    "start_time": "2022-08-24T13:55:25.150Z"
   },
   {
    "duration": 15,
    "start_time": "2022-08-24T13:55:25.174Z"
   },
   {
    "duration": 5,
    "start_time": "2022-08-24T13:55:25.191Z"
   },
   {
    "duration": 1267,
    "start_time": "2022-08-24T13:59:59.537Z"
   },
   {
    "duration": 73,
    "start_time": "2022-08-24T14:00:00.806Z"
   },
   {
    "duration": 32,
    "start_time": "2022-08-24T14:00:00.880Z"
   },
   {
    "duration": 14,
    "start_time": "2022-08-24T14:00:00.914Z"
   },
   {
    "duration": 23,
    "start_time": "2022-08-24T14:00:00.930Z"
   },
   {
    "duration": 4,
    "start_time": "2022-08-24T14:00:00.968Z"
   },
   {
    "duration": 34,
    "start_time": "2022-08-24T14:00:00.974Z"
   },
   {
    "duration": 41,
    "start_time": "2022-08-24T14:00:01.010Z"
   },
   {
    "duration": 12,
    "start_time": "2022-08-24T14:00:01.052Z"
   },
   {
    "duration": 26,
    "start_time": "2022-08-24T14:00:01.068Z"
   },
   {
    "duration": 77,
    "start_time": "2022-08-24T14:00:01.096Z"
   },
   {
    "duration": 39,
    "start_time": "2022-08-24T14:00:01.175Z"
   },
   {
    "duration": 37,
    "start_time": "2022-08-24T14:00:01.216Z"
   },
   {
    "duration": 39,
    "start_time": "2022-08-24T14:00:01.256Z"
   },
   {
    "duration": 32,
    "start_time": "2022-08-24T14:00:01.297Z"
   },
   {
    "duration": 22,
    "start_time": "2022-08-24T14:00:01.332Z"
   },
   {
    "duration": 40,
    "start_time": "2022-08-24T14:00:01.357Z"
   },
   {
    "duration": 86,
    "start_time": "2022-08-24T14:00:01.399Z"
   },
   {
    "duration": 304,
    "start_time": "2022-08-24T14:00:01.487Z"
   },
   {
    "duration": 18,
    "start_time": "2022-08-24T14:00:01.793Z"
   },
   {
    "duration": 784,
    "start_time": "2022-08-24T14:00:01.813Z"
   },
   {
    "duration": 26,
    "start_time": "2022-08-24T14:00:02.600Z"
   },
   {
    "duration": 34,
    "start_time": "2022-08-24T14:00:02.628Z"
   },
   {
    "duration": 413,
    "start_time": "2022-08-24T14:00:02.668Z"
   },
   {
    "duration": 363,
    "start_time": "2022-08-24T14:00:03.083Z"
   },
   {
    "duration": 178,
    "start_time": "2022-08-24T14:00:03.448Z"
   },
   {
    "duration": 10,
    "start_time": "2022-08-24T14:00:03.628Z"
   },
   {
    "duration": 263,
    "start_time": "2022-08-24T14:00:03.642Z"
   },
   {
    "duration": 354,
    "start_time": "2022-08-24T14:00:03.907Z"
   },
   {
    "duration": 377,
    "start_time": "2022-08-24T14:00:04.263Z"
   },
   {
    "duration": 48,
    "start_time": "2022-08-24T14:00:04.642Z"
   },
   {
    "duration": 31,
    "start_time": "2022-08-24T14:00:04.692Z"
   },
   {
    "duration": 329,
    "start_time": "2022-08-24T14:00:04.725Z"
   },
   {
    "duration": 29,
    "start_time": "2022-08-24T14:00:05.056Z"
   },
   {
    "duration": 571,
    "start_time": "2022-08-24T14:00:05.087Z"
   },
   {
    "duration": 28,
    "start_time": "2022-08-24T14:00:05.660Z"
   },
   {
    "duration": 577,
    "start_time": "2022-08-24T14:00:05.690Z"
   },
   {
    "duration": 638,
    "start_time": "2022-08-24T14:00:06.269Z"
   },
   {
    "duration": 7,
    "start_time": "2022-08-24T14:00:06.909Z"
   },
   {
    "duration": 13,
    "start_time": "2022-08-24T14:00:06.918Z"
   },
   {
    "duration": 11,
    "start_time": "2022-08-24T14:00:06.933Z"
   },
   {
    "duration": 22,
    "start_time": "2022-08-24T14:00:06.946Z"
   },
   {
    "duration": 6,
    "start_time": "2022-08-24T14:00:06.970Z"
   },
   {
    "duration": 1059,
    "start_time": "2022-08-24T15:40:33.317Z"
   },
   {
    "duration": 66,
    "start_time": "2022-08-24T15:40:34.379Z"
   },
   {
    "duration": 27,
    "start_time": "2022-08-24T15:40:34.446Z"
   },
   {
    "duration": 11,
    "start_time": "2022-08-24T15:40:34.474Z"
   },
   {
    "duration": 30,
    "start_time": "2022-08-24T15:40:34.487Z"
   },
   {
    "duration": 2,
    "start_time": "2022-08-24T15:40:34.519Z"
   },
   {
    "duration": 10,
    "start_time": "2022-08-24T15:40:34.523Z"
   },
   {
    "duration": 25,
    "start_time": "2022-08-24T15:40:34.534Z"
   },
   {
    "duration": 9,
    "start_time": "2022-08-24T15:40:34.560Z"
   },
   {
    "duration": 11,
    "start_time": "2022-08-24T15:40:34.571Z"
   },
   {
    "duration": 42,
    "start_time": "2022-08-24T15:40:34.584Z"
   },
   {
    "duration": 15,
    "start_time": "2022-08-24T15:40:34.628Z"
   },
   {
    "duration": 8,
    "start_time": "2022-08-24T15:40:34.644Z"
   },
   {
    "duration": 9,
    "start_time": "2022-08-24T15:40:34.655Z"
   },
   {
    "duration": 15,
    "start_time": "2022-08-24T15:40:34.665Z"
   },
   {
    "duration": 12,
    "start_time": "2022-08-24T15:40:34.681Z"
   },
   {
    "duration": 4,
    "start_time": "2022-08-24T15:40:34.711Z"
   },
   {
    "duration": 15,
    "start_time": "2022-08-24T15:40:34.716Z"
   },
   {
    "duration": 198,
    "start_time": "2022-08-24T15:40:34.732Z"
   },
   {
    "duration": 14,
    "start_time": "2022-08-24T15:40:34.932Z"
   },
   {
    "duration": 584,
    "start_time": "2022-08-24T15:40:34.948Z"
   },
   {
    "duration": 21,
    "start_time": "2022-08-24T15:40:35.534Z"
   },
   {
    "duration": 12,
    "start_time": "2022-08-24T15:40:35.556Z"
   },
   {
    "duration": 342,
    "start_time": "2022-08-24T15:40:35.570Z"
   },
   {
    "duration": 289,
    "start_time": "2022-08-24T15:40:35.913Z"
   },
   {
    "duration": 139,
    "start_time": "2022-08-24T15:40:36.204Z"
   },
   {
    "duration": 9,
    "start_time": "2022-08-24T15:40:36.345Z"
   },
   {
    "duration": 194,
    "start_time": "2022-08-24T15:40:36.356Z"
   },
   {
    "duration": 283,
    "start_time": "2022-08-24T15:40:36.552Z"
   },
   {
    "duration": 288,
    "start_time": "2022-08-24T15:40:36.837Z"
   },
   {
    "duration": 22,
    "start_time": "2022-08-24T15:40:37.127Z"
   },
   {
    "duration": 16,
    "start_time": "2022-08-24T15:40:37.151Z"
   },
   {
    "duration": 309,
    "start_time": "2022-08-24T15:40:37.169Z"
   },
   {
    "duration": 19,
    "start_time": "2022-08-24T15:40:37.479Z"
   },
   {
    "duration": 429,
    "start_time": "2022-08-24T15:40:37.499Z"
   },
   {
    "duration": 18,
    "start_time": "2022-08-24T15:40:37.930Z"
   },
   {
    "duration": 442,
    "start_time": "2022-08-24T15:40:37.950Z"
   },
   {
    "duration": 439,
    "start_time": "2022-08-24T15:40:38.394Z"
   },
   {
    "duration": 7,
    "start_time": "2022-08-24T15:40:38.835Z"
   },
   {
    "duration": 5,
    "start_time": "2022-08-24T15:40:38.843Z"
   },
   {
    "duration": 5,
    "start_time": "2022-08-24T15:40:38.852Z"
   },
   {
    "duration": 9,
    "start_time": "2022-08-24T15:40:38.858Z"
   },
   {
    "duration": 5,
    "start_time": "2022-08-24T15:40:38.869Z"
   },
   {
    "duration": 68,
    "start_time": "2022-08-24T15:45:52.006Z"
   },
   {
    "duration": 51,
    "start_time": "2022-08-25T09:22:21.939Z"
   },
   {
    "duration": 1237,
    "start_time": "2022-08-25T09:22:28.531Z"
   },
   {
    "duration": 118,
    "start_time": "2022-08-25T09:22:29.770Z"
   },
   {
    "duration": 26,
    "start_time": "2022-08-25T09:22:29.889Z"
   },
   {
    "duration": 13,
    "start_time": "2022-08-25T09:22:29.917Z"
   },
   {
    "duration": 14,
    "start_time": "2022-08-25T09:22:30.500Z"
   },
   {
    "duration": 3,
    "start_time": "2022-08-25T09:22:33.075Z"
   },
   {
    "duration": 12,
    "start_time": "2022-08-25T09:22:35.027Z"
   },
   {
    "duration": 27,
    "start_time": "2022-08-25T09:22:35.651Z"
   },
   {
    "duration": 10,
    "start_time": "2022-08-25T09:22:36.395Z"
   },
   {
    "duration": 9,
    "start_time": "2022-08-25T09:22:38.979Z"
   },
   {
    "duration": 19,
    "start_time": "2022-08-25T09:22:39.971Z"
   },
   {
    "duration": 26,
    "start_time": "2022-08-25T09:22:41.195Z"
   },
   {
    "duration": 5,
    "start_time": "2022-08-25T09:22:43.794Z"
   },
   {
    "duration": 7,
    "start_time": "2022-08-25T09:22:54.339Z"
   },
   {
    "duration": 16,
    "start_time": "2022-08-25T09:22:55.491Z"
   },
   {
    "duration": 13,
    "start_time": "2022-08-25T09:22:59.715Z"
   },
   {
    "duration": 5,
    "start_time": "2022-08-25T09:23:04.827Z"
   },
   {
    "duration": 14,
    "start_time": "2022-08-25T09:23:05.259Z"
   },
   {
    "duration": 70,
    "start_time": "2022-08-25T09:23:06.403Z"
   },
   {
    "duration": 71,
    "start_time": "2022-08-25T09:23:11.347Z"
   },
   {
    "duration": 8,
    "start_time": "2022-08-25T09:23:15.715Z"
   },
   {
    "duration": 5,
    "start_time": "2022-08-25T09:24:37.660Z"
   },
   {
    "duration": 9,
    "start_time": "2022-08-25T09:24:49.396Z"
   },
   {
    "duration": 8,
    "start_time": "2022-08-25T09:25:02.157Z"
   },
   {
    "duration": 8,
    "start_time": "2022-08-25T09:25:51.669Z"
   },
   {
    "duration": 3,
    "start_time": "2022-08-25T09:26:00.868Z"
   },
   {
    "duration": 60,
    "start_time": "2022-08-25T09:26:01.204Z"
   },
   {
    "duration": 25,
    "start_time": "2022-08-25T09:26:01.380Z"
   },
   {
    "duration": 12,
    "start_time": "2022-08-25T09:26:01.555Z"
   },
   {
    "duration": 13,
    "start_time": "2022-08-25T09:26:01.715Z"
   },
   {
    "duration": 3,
    "start_time": "2022-08-25T09:26:02.739Z"
   },
   {
    "duration": 8,
    "start_time": "2022-08-25T09:26:04.347Z"
   },
   {
    "duration": 27,
    "start_time": "2022-08-25T09:26:05.764Z"
   },
   {
    "duration": 9,
    "start_time": "2022-08-25T09:26:06.243Z"
   },
   {
    "duration": 9,
    "start_time": "2022-08-25T09:26:07.643Z"
   },
   {
    "duration": 17,
    "start_time": "2022-08-25T09:26:09.219Z"
   },
   {
    "duration": 17,
    "start_time": "2022-08-25T09:26:10.881Z"
   },
   {
    "duration": 4,
    "start_time": "2022-08-25T09:26:12.819Z"
   },
   {
    "duration": 17,
    "start_time": "2022-08-25T09:26:17.061Z"
   },
   {
    "duration": 12,
    "start_time": "2022-08-25T09:26:29.252Z"
   },
   {
    "duration": 18,
    "start_time": "2022-08-25T09:26:43.116Z"
   },
   {
    "duration": 6,
    "start_time": "2022-08-25T09:28:55.365Z"
   },
   {
    "duration": 6,
    "start_time": "2022-08-25T09:30:23.860Z"
   },
   {
    "duration": 12,
    "start_time": "2022-08-25T09:30:26.683Z"
   },
   {
    "duration": 14,
    "start_time": "2022-08-25T09:30:28.628Z"
   },
   {
    "duration": 4,
    "start_time": "2022-08-25T09:30:31.412Z"
   },
   {
    "duration": 13,
    "start_time": "2022-08-25T09:30:32.924Z"
   },
   {
    "duration": 67,
    "start_time": "2022-08-25T09:30:37.740Z"
   },
   {
    "duration": 169,
    "start_time": "2022-08-25T09:33:59.149Z"
   },
   {
    "duration": 15,
    "start_time": "2022-08-25T09:34:06.187Z"
   },
   {
    "duration": 559,
    "start_time": "2022-08-25T09:34:09.037Z"
   },
   {
    "duration": 21,
    "start_time": "2022-08-25T09:40:11.803Z"
   },
   {
    "duration": 20,
    "start_time": "2022-08-25T09:40:18.883Z"
   },
   {
    "duration": 20,
    "start_time": "2022-08-25T09:40:22.078Z"
   },
   {
    "duration": 13,
    "start_time": "2022-08-25T09:40:26.494Z"
   },
   {
    "duration": 363,
    "start_time": "2022-08-25T09:40:34.902Z"
   },
   {
    "duration": 172,
    "start_time": "2022-08-25T09:40:59.141Z"
   },
   {
    "duration": 317,
    "start_time": "2022-08-25T09:41:12.254Z"
   },
   {
    "duration": 177,
    "start_time": "2022-08-25T09:43:04.238Z"
   },
   {
    "duration": 373,
    "start_time": "2022-08-25T09:43:10.231Z"
   },
   {
    "duration": 162,
    "start_time": "2022-08-25T09:43:49.238Z"
   },
   {
    "duration": 299,
    "start_time": "2022-08-25T09:44:39.912Z"
   },
   {
    "duration": 20,
    "start_time": "2022-08-25T09:46:01.030Z"
   },
   {
    "duration": 14,
    "start_time": "2022-08-25T09:46:01.582Z"
   },
   {
    "duration": 304,
    "start_time": "2022-08-25T09:46:02.550Z"
   },
   {
    "duration": 270,
    "start_time": "2022-08-25T09:46:05.126Z"
   },
   {
    "duration": 324,
    "start_time": "2022-08-25T11:10:14.440Z"
   },
   {
    "duration": 313,
    "start_time": "2022-08-25T11:10:24.315Z"
   },
   {
    "duration": 306,
    "start_time": "2022-08-25T11:10:33.351Z"
   },
   {
    "duration": 301,
    "start_time": "2022-08-25T11:10:37.327Z"
   },
   {
    "duration": 256,
    "start_time": "2022-08-25T11:10:51.327Z"
   },
   {
    "duration": 262,
    "start_time": "2022-08-25T11:20:43.585Z"
   },
   {
    "duration": 262,
    "start_time": "2022-08-25T11:21:35.905Z"
   },
   {
    "duration": 259,
    "start_time": "2022-08-25T11:21:47.648Z"
   },
   {
    "duration": 209,
    "start_time": "2022-08-25T11:22:14.769Z"
   },
   {
    "duration": 8,
    "start_time": "2022-08-25T11:22:18.105Z"
   },
   {
    "duration": 129,
    "start_time": "2022-08-25T11:22:20.138Z"
   },
   {
    "duration": 256,
    "start_time": "2022-08-25T11:22:21.624Z"
   },
   {
    "duration": 264,
    "start_time": "2022-08-25T11:22:23.313Z"
   },
   {
    "duration": 23,
    "start_time": "2022-08-25T11:22:27.752Z"
   },
   {
    "duration": 17,
    "start_time": "2022-08-25T11:24:27.113Z"
   },
   {
    "duration": 292,
    "start_time": "2022-08-25T11:26:03.674Z"
   },
   {
    "duration": 19,
    "start_time": "2022-08-25T11:27:17.130Z"
   },
   {
    "duration": 425,
    "start_time": "2022-08-25T11:27:18.482Z"
   },
   {
    "duration": 295,
    "start_time": "2022-08-25T11:32:40.827Z"
   },
   {
    "duration": 297,
    "start_time": "2022-08-25T11:32:53.675Z"
   },
   {
    "duration": 348,
    "start_time": "2022-08-25T11:33:03.971Z"
   },
   {
    "duration": 25,
    "start_time": "2022-08-25T11:33:33.611Z"
   },
   {
    "duration": 16,
    "start_time": "2022-08-25T11:34:02.810Z"
   },
   {
    "duration": 282,
    "start_time": "2022-08-25T11:34:05.570Z"
   },
   {
    "duration": 296,
    "start_time": "2022-08-25T11:34:06.111Z"
   },
   {
    "duration": 24,
    "start_time": "2022-08-25T11:34:39.995Z"
   },
   {
    "duration": 420,
    "start_time": "2022-08-25T11:34:42.267Z"
   },
   {
    "duration": 25,
    "start_time": "2022-08-25T12:34:44.430Z"
   },
   {
    "duration": 447,
    "start_time": "2022-08-25T12:34:45.038Z"
   },
   {
    "duration": 15,
    "start_time": "2022-08-25T12:38:48.360Z"
   },
   {
    "duration": 468,
    "start_time": "2022-08-25T12:39:05.932Z"
   },
   {
    "duration": 6,
    "start_time": "2022-08-25T12:54:39.490Z"
   },
   {
    "duration": 4,
    "start_time": "2022-08-25T12:54:40.314Z"
   },
   {
    "duration": 5,
    "start_time": "2022-08-25T12:54:41.450Z"
   },
   {
    "duration": 8,
    "start_time": "2022-08-25T12:54:51.674Z"
   },
   {
    "duration": 5,
    "start_time": "2022-08-25T12:54:53.890Z"
   },
   {
    "duration": 9,
    "start_time": "2022-08-25T12:55:26.594Z"
   },
   {
    "duration": 5,
    "start_time": "2022-08-25T12:55:33.170Z"
   },
   {
    "duration": 1075,
    "start_time": "2022-08-25T20:20:44.053Z"
   },
   {
    "duration": 67,
    "start_time": "2022-08-25T20:20:45.130Z"
   },
   {
    "duration": 27,
    "start_time": "2022-08-25T20:20:45.199Z"
   },
   {
    "duration": 13,
    "start_time": "2022-08-25T20:20:45.227Z"
   },
   {
    "duration": 17,
    "start_time": "2022-08-25T20:20:45.242Z"
   },
   {
    "duration": 8,
    "start_time": "2022-08-25T20:20:45.260Z"
   },
   {
    "duration": 24,
    "start_time": "2022-08-25T20:20:45.269Z"
   },
   {
    "duration": 40,
    "start_time": "2022-08-25T20:20:45.294Z"
   },
   {
    "duration": 10,
    "start_time": "2022-08-25T20:20:45.336Z"
   },
   {
    "duration": 16,
    "start_time": "2022-08-25T20:20:45.347Z"
   },
   {
    "duration": 26,
    "start_time": "2022-08-25T20:20:45.365Z"
   },
   {
    "duration": 23,
    "start_time": "2022-08-25T20:20:45.393Z"
   },
   {
    "duration": 11,
    "start_time": "2022-08-25T20:20:45.418Z"
   },
   {
    "duration": 18,
    "start_time": "2022-08-25T20:20:45.433Z"
   },
   {
    "duration": 13,
    "start_time": "2022-08-25T20:20:45.453Z"
   },
   {
    "duration": 32,
    "start_time": "2022-08-25T20:20:45.467Z"
   },
   {
    "duration": 20,
    "start_time": "2022-08-25T20:20:45.501Z"
   },
   {
    "duration": 6,
    "start_time": "2022-08-25T20:20:45.522Z"
   },
   {
    "duration": 31,
    "start_time": "2022-08-25T20:20:45.529Z"
   },
   {
    "duration": 76,
    "start_time": "2022-08-25T20:20:45.562Z"
   },
   {
    "duration": 209,
    "start_time": "2022-08-25T20:20:45.639Z"
   },
   {
    "duration": 17,
    "start_time": "2022-08-25T20:20:45.850Z"
   },
   {
    "duration": 632,
    "start_time": "2022-08-25T20:20:45.869Z"
   },
   {
    "duration": 26,
    "start_time": "2022-08-25T20:20:46.503Z"
   },
   {
    "duration": 21,
    "start_time": "2022-08-25T20:20:46.531Z"
   },
   {
    "duration": 317,
    "start_time": "2022-08-25T20:20:46.553Z"
   },
   {
    "duration": 279,
    "start_time": "2022-08-25T20:20:46.871Z"
   },
   {
    "duration": 407,
    "start_time": "2022-08-25T20:20:47.151Z"
   },
   {
    "duration": 150,
    "start_time": "2022-08-25T20:20:47.559Z"
   },
   {
    "duration": 10,
    "start_time": "2022-08-25T20:20:47.710Z"
   },
   {
    "duration": 156,
    "start_time": "2022-08-25T20:20:47.722Z"
   },
   {
    "duration": 321,
    "start_time": "2022-08-25T20:20:47.879Z"
   },
   {
    "duration": 311,
    "start_time": "2022-08-25T20:20:48.202Z"
   },
   {
    "duration": 21,
    "start_time": "2022-08-25T20:20:48.514Z"
   },
   {
    "duration": 14,
    "start_time": "2022-08-25T20:20:48.537Z"
   },
   {
    "duration": 302,
    "start_time": "2022-08-25T20:20:48.552Z"
   },
   {
    "duration": 301,
    "start_time": "2022-08-25T20:20:48.856Z"
   },
   {
    "duration": 21,
    "start_time": "2022-08-25T20:20:49.159Z"
   },
   {
    "duration": 551,
    "start_time": "2022-08-25T20:20:49.181Z"
   },
   {
    "duration": 20,
    "start_time": "2022-08-25T20:20:49.733Z"
   },
   {
    "duration": 488,
    "start_time": "2022-08-25T20:20:49.756Z"
   },
   {
    "duration": 398,
    "start_time": "2022-08-25T20:20:50.246Z"
   },
   {
    "duration": 7,
    "start_time": "2022-08-25T20:20:50.646Z"
   },
   {
    "duration": 13,
    "start_time": "2022-08-25T20:20:50.655Z"
   },
   {
    "duration": 8,
    "start_time": "2022-08-25T20:20:50.669Z"
   },
   {
    "duration": 11,
    "start_time": "2022-08-25T20:20:50.679Z"
   },
   {
    "duration": 22,
    "start_time": "2022-08-25T20:20:50.692Z"
   }
  ],
  "kernelspec": {
   "display_name": "Python 3 (ipykernel)",
   "language": "python",
   "name": "python3"
  },
  "language_info": {
   "codemirror_mode": {
    "name": "ipython",
    "version": 3
   },
   "file_extension": ".py",
   "mimetype": "text/x-python",
   "name": "python",
   "nbconvert_exporter": "python",
   "pygments_lexer": "ipython3",
   "version": "3.9.12"
  },
  "toc": {
   "base_numbering": 1,
   "nav_menu": {
    "height": "116px",
    "width": "290px"
   },
   "number_sections": true,
   "sideBar": true,
   "skip_h1_title": true,
   "title_cell": "Table of Contents",
   "title_sidebar": "Contents",
   "toc_cell": false,
   "toc_position": {
    "height": "calc(100% - 180px)",
    "left": "10px",
    "top": "150px",
    "width": "212.83px"
   },
   "toc_section_display": true,
   "toc_window_display": true
  }
 },
 "nbformat": 4,
 "nbformat_minor": 2
}
